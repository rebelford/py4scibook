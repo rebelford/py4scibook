{
 "cells": [
  {
   "cell_type": "markdown",
   "id": "8ac7508a-9d71-4e35-9f05-3259183e907c",
   "metadata": {},
   "source": [
    "(module1-setup/01-2-jynbgettingstarted)=\n",
    "\n",
    "# 2: Runnng and Creating Jupyter Notebooks "
   ]
  },
  {
   "cell_type": "markdown",
   "id": "a74c3072-3f8b-498e-ac83-3b97c0c97281",
   "metadata": {},
   "source": [
    "## Learning Objectives:\n",
    "In this class you will be creating and using Jupyter Notebooks. You will be writing or modifying code in jupyter notebooks and then using Markdown language to describe the code. You will also be using an AI tutor that generates responses in markdown language, and so the goal of this chapter is to introduce you to running code and provide a reference for writing content in markdown cells.\n",
    "### Topics Covered\n",
    "  1. Types of Cells\n",
    "  2. Keyboard Shortcuts\n",
    "  3. Running Multiple Notebooks\n",
    "  4. Code Cells\n",
    "  5. Markdown Cells\n",
    "  6. Unicode\n",
    "  7. LaTex"
   ]
  },
  {
   "attachments": {},
   "cell_type": "markdown",
   "id": "0d571d0e-458e-46ea-a7e4-809a6d8bcc72",
   "metadata": {},
   "source": [
    "# 1. Starting Jupyter Lab\n",
    "Jupyter Lab is actually a web application that runs on your browser. Jupyter Lab allows you to run multiple Jupyter notebooks concurrently.\n",
    "\n",
    "1.  `Jupyter Lab` - starts the Jupyter Lab server, which is a Python application. This will provide you with a url on your local host that starts with something like http://localhost:8888/lab/tree...\n",
    "2. Paste the URL into the address bar of your browser and open the page.\n",
    "3. If this is the first time it will ask you to pick a kernel. When you pick the kernel:\n",
    "   - Jupyter starts a new Python process (interpreter) in the background.\n",
    "   - This interpreter is initialized with the specific environment you selected.\n",
    "   - The kernel acts as a bridge between this Python interpreter and your Jupyter notebook.\n",
    "**Note: the kernel shows in the upper right corner of your notebook. If it is not the kernel you wish to use you should click on it and choose the one you want\n",
    "\n",
    "![image.png](images/c4700623-21b3-4ed3-a44f-4fcc1f58e4eb.png)\n",
    "picking a new kernel if the default one is not the one you want. Note, in this image of a Jupyter Lab there are 5 notebooks running, one in each tab.  You can actually run different notebooks in the same lab on different kernels, and you need to be sure the kernel you are running has the packages you need."
   ]
  },
  {
   "cell_type": "markdown",
   "id": "a249720e-7232-4fe7-b5d0-c62e8957d350",
   "metadata": {},
   "source": [
    "# 1. Types of Cells\n",
    "A Jupyter notebook has three types of cells and we will be using the first two types\n",
    "* **Code Cells:** (can run python or multiple other scripts)\n",
    "* **Markdown Cells** (a text formatting language we will use)\n",
    "* Raw Cells (these can contain code that is not executed, and are involved in converting notebooks to other types.  Unless you get into advanced documentation you will probably not use these during this class)"
   ]
  },
  {
   "cell_type": "markdown",
   "id": "4f7fb9fc-fa88-47eb-8a37-5cb0bb5aa3a0",
   "metadata": {},
   "source": [
    "# 2. Keyboard Shortcuts\n",
    "The easiest way to run a Jupyter notebook is to use a keyboard shortcut.  Here are several useful keyboard shortcuts\n",
    "\n",
    "  * `shift-enter` run cell and move to next cell (creates one if there is none below it)\n",
    "  * `ctrl-enter` run cell and stay in same cell\n",
    "  * `alt-enter` run cell and create new cell below it\n",
    "  * `esc-m` convert cell to **markdown**\n",
    "  * `esc-y` convert cell to **code**\n",
    "\n"
   ]
  },
  {
   "attachments": {},
   "cell_type": "markdown",
   "id": "edfacfc5-ef9c-45a7-8c6b-7c7bd21c73c4",
   "metadata": {},
   "source": [
    "# 3. Running Multiple Notebooks\n",
    "It is easy to open multiple notebooks, simply\n",
    "- locate the notebook you want in the \"File Browser\" of any notebook (top icon of left frame)\n",
    "- right click and choose **Copy Shareable Link**\n",
    "- Paste link into new browser window.\n",
    "\n",
    "  ![image.png](images/9d5d999b-ff2d-40ae-99e2-de967179c31c.png)\n",
    "\n",
    "\n",
    "**Warning** be careful not to have the same notebook open at the same time in different windows.  If you do, Jupyter will give you a warning if you try and save a file that has been altered in the other browser.\n",
    "![image.png](images/4e2fe4f7-9729-4b96-b6f4-1ba9fe4deb02.png)\n"
   ]
  },
  {
   "attachments": {},
   "cell_type": "markdown",
   "id": "23dcd56d-b2ad-45c1-87e3-43c6553fab16",
   "metadata": {},
   "source": [
    "# 4. Code Cells\n",
    "These allow you to run code in your notebook. In this class we will be running python, but there are other options.  If you look at the upper right corner of the notebook you can see the python kernel that is being run\n",
    "\n",
    "![image.png](images/2cdfddd1-5c79-45c9-8175-945f5757fc19.png)\n",
    "\n",
    "## Show Line Numbers\n",
    "The easiest way to show line numbers is go to the main menu and choose **View > Show Line Numbers** , and this will toggle them on or off.\n",
    "\n",
    "The following cell is a code cell, and when you press `shift enter` it will execute the code and move to the next cell.  This will be the most common way we will run cells. In this cell we are printing a string of words (the material in parenthesis of the print function), and performing an arithmetic operation twice.  Note, a Jupyter notebook automatically outputs the last expression in a cell, and so 2_3 was output, while 2+2 was not.  If we want to output the 2+2 we need to print it, as is done in the subsequent cell."
   ]
  },
  {
   "cell_type": "code",
   "execution_count": 1,
   "id": "68e593df-25ca-45f1-8649-fd3028384d56",
   "metadata": {},
   "outputs": [
    {
     "name": "stdout",
     "output_type": "stream",
     "text": [
      "Hello World\n"
     ]
    },
    {
     "data": {
      "text/plain": [
       "5"
      ]
     },
     "execution_count": 1,
     "metadata": {},
     "output_type": "execute_result"
    }
   ],
   "source": [
    "# A \"#\" makes a line a comment line and is not executed\n",
    "print(\"Hello World\") # We will discuss the print function when we get to the python chapter.\n",
    "2+2\n",
    "2+3"
   ]
  },
  {
   "cell_type": "code",
   "execution_count": 2,
   "id": "6c335042-1f01-408a-b246-c35efbe56ffd",
   "metadata": {},
   "outputs": [
    {
     "name": "stdout",
     "output_type": "stream",
     "text": [
      "Hello World\n",
      "4\n"
     ]
    },
    {
     "data": {
      "text/plain": [
       "5"
      ]
     },
     "execution_count": 2,
     "metadata": {},
     "output_type": "execute_result"
    }
   ],
   "source": [
    "# A \"#\" makes a line a comment line and is not executed\n",
    "print(\"Hello World\")\n",
    "print(2+2)\n",
    "2+3"
   ]
  },
  {
   "cell_type": "markdown",
   "id": "843c12fe-4334-4b47-b83a-2cd688aed2a5",
   "metadata": {},
   "source": [
    "# 5. Markdown Cells\n",
    "## Markdown Formatting\n",
    "### Use of backticks (`)\n",
    "Tips about backticks (below the tilde on your keyboard) in Jupyter notebooks and markdown in general:\n",
    "1. Single backticks (`code`) are used for inline code snippets within text.\n",
    "2. Triple backticks (```) are used for code blocks, allowing you to display multiple lines of code.\n",
    "\n",
    "### Headings\n",
    "Use `#` symbol followed by a space\n",
    "```\n",
    "# Heading 1\n",
    "## Heading 2\n",
    "### Heading 3\n",
    "```\n",
    "(note, if you look at the above code you will see that backticks were used to prevent the `#` from turning into a heading)\n",
    "### Links\n",
    "`[text to show](http:// the link)`"
   ]
  },
  {
   "cell_type": "markdown",
   "id": "c8762e11-ef47-4feb-b08c-85f29650a6ab",
   "metadata": {},
   "source": [
    "### Unordered lists\n",
    "Use symbols `-`, `*` or `+` followed by a space, I tend to use `-` all the time\n",
    "```\n",
    "* item 1 \n",
    "* item 2\n",
    "    - indent 1\n",
    "    - indent 2\n",
    "+ item 3\n",
    "```\n",
    "gives the following, and it makes no difference which symbol is used.\n",
    "\n",
    "* item 1 \n",
    "* item 2\n",
    "    - indent 1\n",
    "    - indent 2\n",
    "+ item 3\n",
    "### Enumerated (ordered) Lists\n",
    "Simply use a number followed by a space.\n",
    "```\n",
    "1. First item\n",
    "2. Second item\n",
    "   1. indent\n",
    "   2. indent\n",
    "      1. second indent\n",
    "      2. second indent  \n",
    "3. Third item\n",
    "```\n",
    "The above code gives the following output\n",
    "1. First item\n",
    "2. Second item\n",
    "   1. indent\n",
    "   2. indent\n",
    "      1. second indent\n",
    "      2. second indent\n",
    "3. Third item\n"
   ]
  },
  {
   "cell_type": "markdown",
   "id": "8c1a2df3-6d5a-49bf-9304-8b717aa4e28b",
   "metadata": {},
   "source": [
    "### Tables"
   ]
  },
  {
   "cell_type": "markdown",
   "id": "cc71a3ed-1c73-4ace-8561-40766813dcfd",
   "metadata": {},
   "source": [
    "### Images\n",
    "*paste image in (ctrl-v), the text will look like:\n",
    "\n",
    "`![image.png](attachment:image.png)`\n",
    "\n",
    "**note: Images are not stored as separate file but embedded directly  within the notebook file\". This means you can not move images from one notebook to another, but have to make a new copy of them, and paste that new copy.\n"
   ]
  },
  {
   "cell_type": "markdown",
   "id": "cc4b7843-d2c6-4177-bb22-14c9c3359519",
   "metadata": {},
   "source": [
    "# 6. Unicode\n",
    "**Unicode characters work in code cells. You can copy the character and use it in either code or markdown cells**\n",
    "## Table of unicode subscript and superscript characters\n",
    "| Character | Subscript | Subscript Unicode | Superscript | Superscript Unicode |\n",
    "|-----------|-----------|-------------------|-------------|---------------------|\n",
    "| 0 | ₀ | `\\u2080` | ⁰ | `\\u2070` |\n",
    "| 1 | ₁ | `\\u2081` | ¹ | `\\u00B9` |\n",
    "| 2 | ₂ | `\\u2082` | ² | `\\u00B2` |\n",
    "| 3 | ₃ | `\\u2083` | ³ | `\\u00B3` |\n",
    "| 4 | ₄ | `\\u2084` | ⁴ | `\\u2074` |\n",
    "| 5 | ₅ | `\\u2085` | ⁵ | `\\u2075` |\n",
    "| 6 | ₆ | `\\u2086` | ⁶ | `\\u2076` |\n",
    "| 7 | ₇ | `\\u2087` | ⁷ | `\\u2077` |\n",
    "| 8 | ₈ | `\\u2088` | ⁸ | `\\u2078` |\n",
    "| 9 | ₉ | `\\u2089` | ⁹ | `\\u2079` |\n",
    "| + | ₊ | `\\u208A` | ⁺ | `\\u207A` |\n",
    "| - | ₋ | `\\u208B` | ⁻ | `\\u207B` |\n",
    "| = | ₌ | `\\u208C` | ⁼ | `\\u207C` |\n",
    "| ( | ₍ | `\\u208D` | ⁽ | `\\u207D` |\n",
    "| ) | ₎ | `\\u208E` | ⁾ | `\\u207E` |"
   ]
  },
  {
   "cell_type": "code",
   "execution_count": 3,
   "id": "7f217a89-917c-4878-9fcd-f73d86abfe15",
   "metadata": {},
   "outputs": [
    {
     "name": "stdout",
     "output_type": "stream",
     "text": [
      "CH₃(CH₂)(CH₂)(CH₂)(CH₂)NH₄⁺\n",
      "CH₃(CH₂)(CH₂)(CH₂)(CH₂)NH₄⁺\n"
     ]
    }
   ],
   "source": [
    "print(\"CH\\u2083\"+4*\"(CH\\u2082)\"+\"NH\\u2084\\u207A\")  # Using unicode character\n",
    "print(\"CH₃\"+4*\"(CH₂)\"+\"NH₄⁺\")  # Copying text that was already subscripted"
   ]
  },
  {
   "cell_type": "markdown",
   "id": "7261e28f-b31c-44e3-8622-d85b338c65c4",
   "metadata": {},
   "source": [
    "##  Table of unicode greek characters\n",
    "\n",
    "| Greek Symbol | Lowercase Unicode | Uppercase Unicode |\n",
    "|--------------|-------------------|-------------------|\n",
    "| α (alpha)    | `'\\u03B1'`        | `'\\u0391'`        |\n",
    "| β (beta)     | `'\\u03B2'`        | `'\\u0392'`        |\n",
    "| γ (gamma)    | `'\\u03B3'`        | `'\\u0393'`        |\n",
    "| δ (delta)    | `'\\u03B4'`        | `'\\u0394'`        |\n",
    "| ε (epsilon)  | `'\\u03B5'`        | `'\\u0395'`        |\n",
    "| ζ (zeta)     | `'\\u03B6'`        | `'\\u0396'`        |\n",
    "| η (eta)      | `'\\u03B7'`        | `'\\u0397'`        |\n",
    "| θ (theta)    | `'\\u03B8'`        | `'\\u0398'`        |\n",
    "| ι (iota)     | `'\\u03B9'`        | `'\\u0399'`        |\n",
    "| κ (kappa)    | `'\\u03BA'`        | `'\\u039A'`        |\n",
    "| λ (lambda)   | `'\\u03BB'`        | `'\\u039B'`        |\n",
    "| μ (mu)       | `'\\u03BC'`        | `'\\u039C'`        |\n",
    "| ν (nu)       | `'\\u03BD'`        | `'\\u039D'`        |\n",
    "| ξ (xi)       | `'\\u03BE'`        | `'\\u039E'`        |\n",
    "| ο (omicron)  | `'\\u03BF'`        | `'\\u039F'`        |\n",
    "| π (pi)       | `'\\u03C0'`        | `'\\u03A0'`        |\n",
    "| ρ (rho)      | `'\\u03C1'`        | `'\\u03A1'`        |\n",
    "| σ (sigma)    | `'\\u03C3'`        | `'\\u03A3'`        |\n",
    "| τ (tau)      | `'\\u03C4'`        | `'\\u03A4'`        |\n",
    "| υ (upsilon)  | `'\\u03C5'`        | `'\\u03A5'`        |\n",
    "| φ (phi)      | `'\\u03C6'`        | `'\\u03A6'`        |\n",
    "| χ (chi)      | `'\\u03C7'`        | `'\\u03A7'`        |\n",
    "| ψ (psi)      | `'\\u03C8'`        | `'\\u03A8'`        |\n",
    "| ω (omega)    | `'\\u03C9'`        | `'\\u03A9'`        |\n"
   ]
  },
  {
   "cell_type": "code",
   "execution_count": 4,
   "id": "a57454dc-a4f9-46f0-81bf-3cc287497bc1",
   "metadata": {},
   "outputs": [
    {
     "data": {
      "text/plain": [
       "'λ'"
      ]
     },
     "execution_count": 4,
     "metadata": {},
     "output_type": "execute_result"
    }
   ],
   "source": [
    "'\\u03BB'\n"
   ]
  },
  {
   "cell_type": "markdown",
   "id": "bfc14555-8895-445a-a6a9-48cd84c5b642",
   "metadata": {},
   "source": [
    "**Note you can not assign the unicode in a variable assignment** (the following code gives an error), but you can copy the symbol from either a code or markdown cell and use that as your variable."
   ]
  },
  {
   "cell_type": "code",
   "execution_count": 5,
   "id": "02e998b9-0063-4eb4-a9bb-ef4964ba7d69",
   "metadata": {},
   "outputs": [],
   "source": [
    "# uncomment the following line and you will see an error when you run it\n",
    "#'\\u03BB' = 560 # nm"
   ]
  },
  {
   "cell_type": "code",
   "execution_count": 6,
   "id": "1ed87197-da36-4a27-a57f-ce6581e41a0d",
   "metadata": {},
   "outputs": [
    {
     "name": "stdout",
     "output_type": "stream",
     "text": [
      "λ is 560.\n",
      "λ is 560. \n",
      "h = λν\n"
     ]
    }
   ],
   "source": [
    "λ = 560 # nm \n",
    "print(f'λ is {λ}.') \n",
    "print(f'\\u03BB is {λ}. ') # this is using f-string formatting that we will cover later\n",
    "print('h = λν')"
   ]
  },
  {
   "cell_type": "markdown",
   "id": "5d24b89b-fc8c-4497-8c7e-1a97f31e49dc",
   "metadata": {},
   "source": [
    "# 7. Latex (markdown cells)\n",
    "LaTeX is a common typesetting system used in scientific and mathematical documents that allows you to put equations in the line of text, or on a unique line.  A latex command is preceded by a \\ (forward slash).  In Jupyter notebooks a the latex command with the forward slash is surrounded by dollar signs.  A single dollar sign puts the output in the line of text where it occurs, while double dollar signs put it on its own line.\n",
    "* \\\\$\\lamda\\\\$  - puts $\\lambda$ in line of text\n",
    "* \\\\$\\\\$\\lambda\\\\$\\\\$ puts $$\\lambda$$ on its own line\n",
    "\n",
    "**Note: if you look at the code you will see two forward slashes in front of the dollar signs, which is an escape sequence, and tells Jupyter not to process the dollar sign**\n",
    "\n",
    "Although there are ways you can use LaTex in the code cells you should avoid this because of code portability issues to standard IDEs (Interactive Development Environments).  That is, if you use a \"Magic Command\" like %%latex in a code cell, you can use LaTex in that cell, but it will not work in many other coding environments."
   ]
  },
  {
   "cell_type": "markdown",
   "id": "d9478260-0108-4d62-9220-ffc776d791a2",
   "metadata": {},
   "source": [
    "## Tables of common LaTex Commands\n",
    "### Math Operators\n",
    "\n",
    "| LaTeX | Symbol | Feature |\n",
    "|-------|--------|---------|\n",
    "| \\pm | ± | Plus-minus |\n",
    "| \\times | × | Times |\n",
    "| \\div | ÷ | Division |\n",
    "| \\neq | ≠ | Not equal |\n",
    "| \\approx | ≈ | Approximate |\n",
    "| \\equiv | ≡ | Equivalent |\n",
    "| \\not\\equiv | ≢ | Not equivalent |\n",
    "| \\geq | ≥ | Greater than or equal |\n",
    "| \\leq | ≤ | Less than or equal |\n",
    "| \\sim | ∼ | Similar |\n",
    "\n",
    "### Root Operators\n",
    "| LaTeX | Symbol | Description |\n",
    "|-------|--------|-------------|\n",
    "| \\sqrt{x} | √x | Square root |\n",
    "| \\sqrt[n]{x} | ∛x | nth root |\n",
    "| \\surd | √ | Square root symbol |\n",
    "| \\cuberoot{x} | ∛x | Cube root (requires amsmath package) |\n",
    "| \\fourthroot{x} | ∜x | Fourth root (requires amsmath package) |\n",
    "\n",
    "### Calculus Operators\n",
    "| LaTeX | Symbol | Description |\n",
    "|-------|--------|-------------|\n",
    "| \\int | ∫ | Integral |\n",
    "| \\iint | ∬ | Double integral |\n",
    "| \\iiint | ∭ | Triple integral |\n",
    "| \\oint | ∮ | Contour integral |\n",
    "| \\partial | ∂ | Partial derivative |\n",
    "| \\nabla | ∇ | Nabla (del) operator |\n",
    "| \\lim | lim | Limit |\n",
    "| \\sum | ∑ | Summation |\n",
    "| \\prod | ∏ | Product |\n",
    "| \\frac{d}{dx} | d/dx | Derivative |\n",
    "| \\infty | ∞ | Infinity |\n",
    "\n",
    "### Frations and Matrices\n",
    "| LaTeX | Description | Rendered Example |\n",
    "|-------|-------------|------------------|\n",
    "| \\frac{a}{b} | Simple fraction | $$\\frac{a}{b}$$ |\n",
    "| \\dfrac{a}{b} | Display fraction | $$\\dfrac{a}{b}$$ |\n",
    "| \\cfrac{a}{b} | Continued fraction | $$\\cfrac{a}{b + \\cfrac{c}{d}}$$ |\n",
    "| \\binom{n}{k} | Binomial coefficient | $$\\binom{n}{k}$$ |\n",
    "| \\begin{pmatrix} a & b \\\\ c & d \\end{pmatrix} | Parenthesis matrix | $$\\begin{pmatrix} a & b \\\\ c & d \\end{pmatrix}$$ |\n",
    "| \\begin{bmatrix} a & b \\\\ c & d \\end{bmatrix} | Bracket matrix | $$\\begin{bmatrix} a & b \\\\ c & d \\end{bmatrix}$$ |\n",
    "| \\begin{vmatrix} a & b \\\\ c & d \\end{vmatrix} | Vertical bar matrix | $$\\begin{vmatrix} a & b \\\\ c & d \\end{vmatrix}$$ |\n",
    "| \\begin{Vmatrix} a & b \\\\ c & d \\end{Vmatrix} | Double vertical bar matrix | $$\\begin{Vmatrix} a & b \\\\ c & d \\end{Vmatrix}$$ |\n",
    "\n",
    "## Code Portability Considerations\n",
    "I principle you should avoid using LaTeX in code cells, and only use it in markdown cells, or else it may not be portable to standard python IDEs\n"
   ]
  },
  {
   "cell_type": "markdown",
   "id": "ce179a53-a5c2-4c3c-a58f-6e19b772e4d9",
   "metadata": {},
   "source": [
    "# Acknowledgements\n",
    "This content was developed with assistance from [Perplexity AI](https://www.perplexity.ai/) and [Chat GPT](https://chatgpt.com/). Multiple queries were made during the Fall 2024 and the Spring 2025."
   ]
  }
 ],
 "metadata": {
  "kernelspec": {
   "display_name": "Python (py4sci)",
   "language": "python",
   "name": "py4sci"
  },
  "language_info": {
   "codemirror_mode": {
    "name": "ipython",
    "version": 3
   },
   "file_extension": ".py",
   "mimetype": "text/x-python",
   "name": "python",
   "nbconvert_exporter": "python",
   "pygments_lexer": "ipython3",
   "version": "3.10.17"
  }
 },
 "nbformat": 4,
 "nbformat_minor": 5
}
