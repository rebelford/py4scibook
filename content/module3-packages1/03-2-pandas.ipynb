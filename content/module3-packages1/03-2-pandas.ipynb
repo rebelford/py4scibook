{
 "cells": [
  {
   "cell_type": "markdown",
   "id": "cfa0f26d-b8ec-4cfa-bb14-f14ecd9defef",
   "metadata": {},
   "source": [
    "(module3-packages1/03-2-pandas)=\n",
    "# 2. Pandas"
   ]
  },
  {
   "cell_type": "markdown",
   "id": "af83b5f7-df26-4be8-97d2-b60ca2040535",
   "metadata": {},
   "source": [
    "# 1. Introduction\n",
    "**Pandas** stands for **Pan**el **da**ta, which is an economics term for multi-dimensional datasets. Pandas is built on top of Numpy and has two primary data structures\n",
    "   1. Series (1D data structure)\n",
    "   2. Dataframe (2D data structure)\n",
    "\n",
    "If you want higher dimensional data structures you should use the [xrray package](https://pypi.org/project/xarray/).\n",
    "\n",
    "Pandas series and dataframes are typically easier to work with than Numpy\n",
    "arrays because they can use labels as index numbers. That is, you can give a row or a column a heading label and then using the label to obtain the data value, whereas in numpy you need to use the index numbers. Pandas can also contain multiple data types while numpy arrays can only have one data type. \n",
    "\n",
    "## Pandas DataFrames vs. Numpy Arrays\n",
    "<br>\n",
    "\n",
    "| Feature | **Pandas DataFrame** | **NumPy Array** |\n",
    "|---------|----------------------|-----------------|\n",
    "| Type | 2D table with labeled rows & columns | N-dimensional homogeneous array |\n",
    "| Supports multiple data types? |Yes (e.g., strings & numbers in one column) |No (all elements must be the same type) |\n",
    "| Supports heterogeneous data? |Yes (each column can have different types) |No (all elements must be the same `dtype`) |\n",
    "| Row & column labels |Yes (uses `Index` and column names) |No (only positional indexing) |\n",
    "| Access by labels? |Yes (`df.loc[\"row_label\", \"column_label\"]`) |No (only by index position) |\n",
    "| Access by index position? |Yes (`df.iloc[1, 2]`) |Yes (`arr[1, 2]`) |\n",
    "| Supports missing values? |Yes (`NaN`) |No (must use masked arrays or `np.nan`) |\n",
    "| Built-in functions for missing data? |Yes (`df.fillna()`, `df.dropna()`) |No (requires workarounds) |\n",
    "| Supports row/column operations? |Yes (`df.mean(axis=0)`, `df.sum(axis=1)`) |Yes (`arr.mean(axis=0)`, `arr.sum(axis=1)`) |\n",
    "| Supports grouping & aggregation? |Yes (`df.groupby()`, `df.agg()`) |No |\n",
    "| Supports reshaping? |Yes (`df.pivot()`, `df.melt()`) |Yes (`arr.reshape()`) |\n",
    "| Supports merging/joining? |Yes (`df.merge()`, `df.join()`) |No |\n",
    "| Mutable |Yes (you can modify/add/delete columns, rows or elements)|Partially (you can modify elements but not change shape)|\n",
    "| Read/Write CSV? |Yes (`df.to_csv()`, `pd.read_csv()`) |No (must use Pandas or `np.savetxt()`) |\n",
    "| Read/Write JSON? |Yes (`df.to_json()`, `pd.read_json()`) |No |\n",
    "| Read/Write Excel? |Yes (`df.to_excel()`, `pd.read_excel()`) |No |\n",
    "| Save/Load Binary Format? |Yes (`df.to_pickle()`) |Yes (`np.save()`, `np.load()`) |\n",
    "\n",
    "If you have not installed pandas you need to activate your conda virtual environment and install it using your terminal\n",
    "```bash\n",
    "conda activate NameOfEnvironment\n",
    "conda install -c conda-forge pandas\n",
    "```\n",
    "Now check the version that is installed"
   ]
  },
  {
   "cell_type": "code",
   "execution_count": 1,
   "id": "c07f0e3c-da75-41ed-9527-81b59b11f0e3",
   "metadata": {},
   "outputs": [
    {
     "name": "stdout",
     "output_type": "stream",
     "text": [
      "2.2.3\n"
     ]
    }
   ],
   "source": [
    "import pandas as pd\n",
    "print(pd.__version__)"
   ]
  },
  {
   "cell_type": "markdown",
   "id": "077b3f49-14b8-4bd5-8b26-73a336a6d71c",
   "metadata": {},
   "source": [
    "# 2. Pandas Object Overview\n",
    "## 2.1: Functions\n",
    "### Series Functions (series only)\n",
    "| Function | Syntax | Parameters | Description |\n",
    "|----------|--------|------------|-------------|\n",
    "| `str` | `series.str.method()` | String-specific method | Enables vectorized string operations. |\n",
    "| `dt` | `series.dt.method()` | Datetime-specific method | Enables date/time manipulations. |\n",
    "| `map()` | `series.map(func)` | `func`: Function to apply | Maps function to each value in the Series. |\n",
    "| `unique()` | `series.unique()` | No parameters | Returns unique values in the Series. |\n",
    "| `nunique()` | `series.nunique()` | No parameters | Returns the number of unique values. |\n",
    "| `value_counts()` | `series.value_counts()` | `normalize`, `sort`, `ascending`, `bins` | Returns frequency counts of unique values. |\n",
    "| `idxmax()` | `series.idxmax()` | No parameters | Returns index of the maximum value. |\n",
    "| `idxmin()` | `series.idxmin()` | No parameters | Returns index of the minimum value. |\n",
    "| `cumsum()` | `series.cumsum()` | No parameters | Computes the cumulative sum. |\n",
    "| `cumprod()` | `series.cumprod()` | No parameters | Computes the cumulative product. |\n",
    "| `cummax()` | `series.cummax()` | No parameters | Computes the cumulative max. |\n",
    "| `cummin()` | `series.cummin()` | No parameters | Computes the cumulative min. |\n",
    "| `shift()` | `series.shift(periods=1)` | `periods` (int, default=1) | Shifts values up or down. |\n",
    "| `diff()` | `series.diff(periods=1)` | `periods` (int, default=1) | Computes the difference between elements. |\n",
    "| `rank()` | `series.rank(method='average')` | `method`: Ranking method | Computes ranks of elements. |\n"
   ]
  },
  {
   "cell_type": "markdown",
   "id": "c9c063bb-c62e-49ca-ad31-372b1a103992",
   "metadata": {},
   "source": [
    "### Dataframe functions (df only)\n",
    "| Function | Syntax | Parameters | Description |\n",
    "|----------|--------|------------|-------------|\n",
    "| `groupby()` | `df.groupby(by)` | `by`: Column(s) to group by | Groups data and applies aggregation. |\n",
    "| `pivot()` | `df.pivot(index, columns, values)` | `index`, `columns`, `values` | Reshapes data by pivoting columns. |\n",
    "| `pivot_table()` | `df.pivot_table(values, index, columns)` | `values`, `index`, `columns`, `aggfunc` | Similar to `pivot()`, but allows aggregation. |\n",
    "| `melt()` | `df.melt(id_vars, value_vars)` | `id_vars`, `value_vars` | Converts wide format to long format. |\n",
    "| `merge()` | `df.merge(df2, on, how)` | `on`: Key column, `how`: Join type | Merges two DataFrames on a key. |\n",
    "| `join()` | `df.join(df2, on)` | `on`: Key column | Joins two DataFrames based on index. |\n",
    "| `concat()` | `pd.concat([df1, df2], axis=0)` | `axis`: 0 for rows, 1 for columns | Concatenates multiple DataFrames. |\n",
    "| `stack()` | `df.stack()` | No parameters | Converts columns into rows (long format). |\n",
    "| `unstack()` | `df.unstack()` | No parameters | Converts rows into columns (wide format). |\n",
    "| `explode()` | `df.explode(column)` | `column`: Column to explode | Expands list-like column values into rows. |\n",
    "| `T` | `df.T` | No parameters | Transposes rows and columns. |\n",
    "| `corr()` | `df.corr()` | No parameters | Computes correlation between columns. |\n",
    "| `cov()` | `df.cov()` | No parameters | Computes covariance between columns. |\n",
    "| `duplicated()` | `df.duplicated(subset, keep='first')` | `subset`: Columns to check | Identifies duplicate rows. |\n",
    "| `drop_duplicates()` | `df.drop_duplicates(subset, keep='first')` | `subset`: Columns to check | Removes duplicate rows. |\n",
    "| `sample()` | `df.sample(n=5, frac=None)` | `n`: Number of samples, `frac`: Fraction | Returns a random sample. |\n",
    "| `nlargest()` | `df.nlargest(n, columns)` | `n`: Number of rows, `columns`: Sort column | Returns top `n` largest values in a column. |\n",
    "| `nsmallest()` | `df.nsmallest(n, columns)` | `n`: Number of rows, `columns`: Sort column | Returns top `n` smallest values in a column. |\n",
    "| `fillna()` | `df.fillna(value)` | `value`: Value to fill missing data | Fills missing values. |\n",
    "| `dropna()` | `df.dropna(axis=0)` | `axis`: 0 (rows), 1 (columns) | Drops missing values. |\n",
    "| `replace()` | `df.replace(to_replace, value)` | `to_replace`, `value` | Replaces specific values. |\n"
   ]
  },
  {
   "cell_type": "markdown",
   "id": "537b2f47-7e90-4467-91da-a101c55cb561",
   "metadata": {},
   "source": [
    "### Series and dataframe functions\n",
    "| Function | Syntax | Parameters | Description |\n",
    "|----------|--------|------------|-------------|\n",
    "| `head()` | `df.head(n)` | `n` (int, default=5): Number of rows to return | Returns the first `n` rows. |\n",
    "| `tail()` | `df.tail(n)` | `n` (int, default=5): Number of rows to return | Returns the last `n` rows. |\n",
    "| `describe()` | `df.describe()` | `percentiles`, `include`, `exclude` | Generates summary statistics for numerical data. |\n",
    "| `count()` | `df.count()` | `axis=0` (count rows) or `axis=1` (count columns) | Counts non-null values. |\n",
    "| `sum()` | `df.sum(axis=0)` | `axis=0` (column-wise) or `axis=1` (row-wise) | Computes sum of values. |\n",
    "| `mean()` | `df.mean(axis=0)` | `axis=0` (default, column-wise) | Computes mean of values. |\n",
    "| `min()` | `df.min(axis=0)` | `axis=0` (default, column-wise) | Returns the minimum value. |\n",
    "| `max()` | `df.max(axis=0)` | `axis=0` (default, column-wise) | Returns the maximum value. |\n",
    "| `std()` | `df.std(axis=0)` | `axis=0` (default, column-wise) | Computes standard deviation. |\n",
    "| `var()` | `df.var(axis=0)` | `axis=0` (default, column-wise) | Computes variance. |\n",
    "| `median()` | `df.median(axis=0)` | `axis=0` (default, column-wise) | Computes the median value. |\n",
    "| `mode()` | `df.mode()` | No parameters | Returns the most frequent value(s). |\n",
    "| `abs()` | `df.abs()` | No parameters | Returns absolute values. |\n",
    "| `clip()` | `df.clip(lower, upper)` | `lower`, `upper`: Clip values to limits | Clips values to a range. |\n",
    "| `apply()` | `df.apply(func, axis=0)` | `func`: Function to apply, `axis` | Applies a function element-wise. |\n",
    "| `map()` | `df.map(func)` | `func`: Function to apply | Applies function to each element (Series only). |\n",
    "| `astype()` | `df.astype(dtype)` | `dtype`: Target data type | Converts data type of elements. |\n"
   ]
  },
  {
   "cell_type": "markdown",
   "id": "f0a76b3c-dd56-42c6-b264-4e00db7c0cc3",
   "metadata": {},
   "source": [
    "## 2.2 Attributes"
   ]
  },
  {
   "cell_type": "markdown",
   "id": "c6de649d-058d-4f88-943d-7bfe62f76918",
   "metadata": {},
   "source": [
    "## Series Attributes\n",
    "| Attribute | Syntax | Description |\n",
    "|-----------|--------|-------------|\n",
    "| `name` | `series.name` | Returns or sets the name of the Series. |\n",
    "| `dtype` | `series.dtype` | Returns the data type of the Series. |\n",
    "| `nbytes` | `series.nbytes` | Returns the total memory usage of the Series (in bytes). |\n",
    "| `T` | `series.T` | Returns the Series itself (useful for compatibility with DataFrames). |\n",
    "| `hasnans` | `series.hasnans` | Returns `True` if the Series contains `NaN` values. |\n",
    "| `is_unique` | `series.is_unique` | Returns `True` if all values in the Series are unique. |\n"
   ]
  },
  {
   "cell_type": "markdown",
   "id": "0a7d4629-26d3-4e13-8f22-11580a00bc1f",
   "metadata": {},
   "source": [
    "## Dataframe Attributes\n",
    "| Attribute | Syntax | Description |\n",
    "|-----------|--------|-------------|\n",
    "| `columns` | `df.columns` | Returns column labels of the DataFrame. |\n",
    "| `axes` | `df.axes` | Returns a list of row and column index labels. |\n",
    "| `T` | `df.T` | Returns the transposed DataFrame (swaps rows and columns). |\n",
    "| `info()` | `df.info()` | Displays a summary of the DataFrame (index, dtypes, memory usage). |\n",
    "| `memory_usage()` | `df.memory_usage()` | Returns the memory usage of each column. |\n",
    "| `select_dtypes()` | `df.select_dtypes(include=[...])` | Selects columns of a specific dtype. |\n",
    "| `nbytes` | `df.nbytes` | Returns the total memory usage of the DataFrame (in bytes). |\n"
   ]
  },
  {
   "cell_type": "markdown",
   "id": "43c66eaa-8c54-4902-8744-2d86963f53aa",
   "metadata": {},
   "source": [
    "## Series and Dataframe Attributes\n",
    "These work on both\n",
    "| Attribute | Syntax | Description |\n",
    "|-----------|--------|-------------|\n",
    "| `index` | `df.index` | Returns the row index labels. |\n",
    "| `columns` | `df.columns` | Returns the column labels (DataFrame only). |\n",
    "| `shape` | `df.shape` | Returns the dimensions (rows, columns). |\n",
    "| `size` | `df.size` | Returns the total number of elements (rows × columns). |\n",
    "| `ndim` | `df.ndim` | Returns the number of dimensions (1D for Series, 2D for DataFrame). |\n",
    "| `values` | `df.values` | Returns data as a NumPy array. |\n",
    "| `dtypes` | `df.dtypes` | Returns the data type of each column. |\n",
    "| `empty` | `df.empty` | Returns `True` if the object is empty. |\n"
   ]
  },
  {
   "cell_type": "markdown",
   "id": "8bde35a4-28e1-45bc-a653-6586337c355d",
   "metadata": {},
   "source": [
    "# 3. Pandas Series\n",
    "## 3.2 Creating Series \n",
    "### pd.Series() constructor\n",
    "General syntax for the **pd.Series() Constructor:**\n",
    "```python\n",
    "pd.Series(data=None, index=None, dtype=None, name=None, copy=False)\n",
    "```\n",
    "| Parameter | Description |\n",
    "|-----------|-------------|\n",
    "| `data` | The main data (can be list, dict, array, scalar, etc.) |\n",
    "| `index` | Labels for the Series elements (default: auto-generated integers) |\n",
    "| `dtype` | The data type (e.g., `float`, `int`, `str`) |\n",
    "| `name` | Optional name for the Series |\n",
    "| `copy` | If `True`, makes a copy of the data |\n",
    "\n",
    "#### From Lists\n",
    "- Index can be manually assigned or autogenerated (0,1,2,...)\n",
    "- By default produces a view if possible"
   ]
  },
  {
   "cell_type": "code",
   "execution_count": 2,
   "id": "f6103cd9-bc5e-47e2-9e0e-03b9b852a093",
   "metadata": {},
   "outputs": [
    {
     "name": "stdout",
     "output_type": "stream",
     "text": [
      "F    -188.1\n",
      "Cl    -34.0\n",
      "Br     59.5\n",
      "I     184.4\n",
      "At    336.8\n",
      "Name: Boiling Point (°C), dtype: float64\n",
      "\n",
      "Highest Boiling Point: 336.8\n",
      "\n",
      "Sorted Boiling Points:\n",
      " F    -188.1\n",
      "Cl    -34.0\n",
      "Br     59.5\n",
      "I     184.4\n",
      "At    336.8\n",
      "Name: Boiling Point (°C), dtype: float64\n",
      "\n",
      "Ranked Boiling Points:\n",
      " F     1.0\n",
      "Cl    2.0\n",
      "Br    3.0\n",
      "I     4.0\n",
      "At    5.0\n",
      "Name: Boiling Point (°C), dtype: float64\n"
     ]
    }
   ],
   "source": [
    "import pandas as pd\n",
    "\n",
    "# Creating a Series: Boiling points (in °C) of halogens\n",
    "boiling_points = pd.Series(\n",
    "    [-188.1, -34.0, 59.5, 184.4, 336.8],  # Values\n",
    "    index=[\"F\", \"Cl\", \"Br\", \"I\", \"At\"],  # Element symbols as labels\n",
    "    name=\"Boiling Point (°C)\"\n",
    "    )\n",
    "\n",
    "\n",
    "# Display the Series\n",
    "print(boiling_points)\n",
    "\n",
    "# Example Operations\n",
    "print(\"\\nHighest Boiling Point:\", boiling_points.max())  # Get the highest boiling point\n",
    "print(\"\\nSorted Boiling Points:\\n\", boiling_points.sort_values())  # Sort in ascending order\n",
    "print(\"\\nRanked Boiling Points:\\n\", boiling_points.rank())  # Rank the elements\n"
   ]
  },
  {
   "cell_type": "markdown",
   "id": "95f20b79-7ac0-4663-8c9b-da8eced82cf4",
   "metadata": {},
   "source": [
    "#### From Numpy Arrays"
   ]
  },
  {
   "cell_type": "code",
   "execution_count": 3,
   "id": "c27a61ca-4011-41d9-8467-9ead930cbb66",
   "metadata": {},
   "outputs": [
    {
     "name": "stdout",
     "output_type": "stream",
     "text": [
      "H     1\n",
      "He    2\n",
      "Li    3\n",
      "Be    4\n",
      "dtype: int64\n"
     ]
    }
   ],
   "source": [
    "import numpy as np\n",
    "import pandas as pd\n",
    "arr = np.array([1,2,3,4])\n",
    "s=pd.Series(arr, index=(['H','He', 'Li', 'Be']))\n",
    "print(s)"
   ]
  },
  {
   "cell_type": "markdown",
   "id": "aa0b3677-aac4-4afe-a2fc-4da8bbe20a78",
   "metadata": {},
   "source": [
    "#### From Dictionary"
   ]
  },
  {
   "cell_type": "code",
   "execution_count": 4,
   "id": "9a206e32-7118-4ccf-82fb-1b6075652e9d",
   "metadata": {},
   "outputs": [
    {
     "name": "stdout",
     "output_type": "stream",
     "text": [
      "H     1.0080\n",
      "He    4.0026\n",
      "Li    6.9400\n",
      "Be    9.0122\n",
      "Name: Atomic Mass (g/mol), dtype: float64\n"
     ]
    }
   ],
   "source": [
    "# Creating a Series from a dictionary (keys become the index)\n",
    "data = {\"H\": 1.008, \"He\": 4.0026, \"Li\": 6.94, \"Be\": 9.0122}\n",
    "s = pd.Series(data, name=\"Atomic Mass (g/mol)\")\n",
    "print(s)"
   ]
  },
  {
   "cell_type": "markdown",
   "id": "bb5af30b-73d2-4dbd-be8d-c4b70e1ababc",
   "metadata": {},
   "source": [
    "#### From Scalar Value\n",
    "-useful for initializing placeholders"
   ]
  },
  {
   "cell_type": "code",
   "execution_count": 5,
   "id": "325ec899-af9f-497f-98fd-e1bb1aa4fd40",
   "metadata": {},
   "outputs": [
    {
     "name": "stdout",
     "output_type": "stream",
     "text": [
      "A    1\n",
      "B    1\n",
      "C    1\n",
      "D    1\n",
      "dtype: int64\n"
     ]
    }
   ],
   "source": [
    "s = pd.Series(1, index=[\"A\", \"B\", \"C\", \"D\"])\n",
    "print(s)"
   ]
  },
  {
   "cell_type": "markdown",
   "id": "7d74ddc4-cc0d-41f3-a82c-ff751e48a880",
   "metadata": {},
   "source": [
    "s = pd.Series(1, index=[\"A\", \"B\", \"C\", \"D\"])\n",
    "print(s)"
   ]
  },
  {
   "cell_type": "markdown",
   "id": "0ac44f86-f42c-4b2f-a0b3-53ae8a0d55a8",
   "metadata": {},
   "source": [
    "### Indirect Methods\n",
    "#### From DataFrame Column"
   ]
  },
  {
   "cell_type": "code",
   "execution_count": 6,
   "id": "1a168079-e59c-4f94-9ec5-4ca64357de73",
   "metadata": {},
   "outputs": [
    {
     "name": "stdout",
     "output_type": "stream",
     "text": [
      "<class 'pandas.core.series.Series'>\n",
      "0    1.0080\n",
      "1    4.0026\n",
      "2    6.9400\n",
      "Name: Atomic Mass, dtype: float64\n"
     ]
    }
   ],
   "source": [
    "import pandas as pd\n",
    "\n",
    "# Creating a DataFrame\n",
    "df = pd.DataFrame({\"Element\": [\"H\", \"He\", \"Li\"], \"Atomic Mass\": [1.008, 4.0026, 6.94]})\n",
    "\n",
    "# Extracting a single column as a Series\n",
    "atomic_mass_series = df[\"Atomic Mass\"]\n",
    "print(type(atomic_mass_series))  # <class 'pandas.core.series.Series'>\n",
    "print(atomic_mass_series)"
   ]
  },
  {
   "cell_type": "markdown",
   "id": "58710aa6-c857-4257-a4f8-f7e4298d4267",
   "metadata": {},
   "source": [
    "#### Using apply() on dataframe column"
   ]
  },
  {
   "cell_type": "code",
   "execution_count": 7,
   "id": "72ecd72c-5809-4d12-9323-6117c24dc541",
   "metadata": {},
   "outputs": [
    {
     "name": "stdout",
     "output_type": "stream",
     "text": [
      "<class 'pandas.core.series.Series'>\n",
      "0     1.016064\n",
      "1    16.020807\n",
      "2    48.163600\n",
      "Name: Atomic Mass Squared, dtype: float64\n"
     ]
    }
   ],
   "source": [
    "df[\"Atomic Mass Squared\"] = df[\"Atomic Mass\"].apply(lambda x: x ** 2)\n",
    "print(type(df[\"Atomic Mass Squared\"]))  # <class 'pandas.core.series.Series'>\n",
    "print(df[\"Atomic Mass Squared\"])"
   ]
  },
  {
   "cell_type": "markdown",
   "id": "372df53b-7968-44e4-bff1-d7ebafb0a13b",
   "metadata": {},
   "source": [
    "#### Using map() to a dataframe column"
   ]
  },
  {
   "cell_type": "code",
   "execution_count": 8,
   "id": "bef0730b-0c82-412a-b29f-0d6ed505289f",
   "metadata": {},
   "outputs": [
    {
     "name": "stdout",
     "output_type": "stream",
     "text": [
      "0        Highly Electronegative\n",
      "1    Moderately Electronegative\n",
      "2    Moderately Electronegative\n",
      "3    Moderately Electronegative\n",
      "4         Low Electronegativity\n",
      "Name: Electronegativity, dtype: object\n",
      "<class 'pandas.core.series.Series'>\n",
      "\n",
      "\n",
      "  Element  Electronegativity  Electronegativity Category\n",
      "0       F               3.98      Highly Electronegative\n",
      "1      Cl               3.16  Moderately Electronegative\n",
      "2      Br               2.96  Moderately Electronegative\n",
      "3       I               2.66  Moderately Electronegative\n",
      "4      At               2.20       Low Electronegativity\n",
      "<class 'pandas.core.frame.DataFrame'>\n"
     ]
    }
   ],
   "source": [
    "import pandas as pd\n",
    "\n",
    "# Step 1: Create a DataFrame of electronegativity values for halogens\n",
    "halogens = pd.DataFrame({\n",
    "    \"Element\": [\"F\", \"Cl\", \"Br\", \"I\", \"At\"],\n",
    "    \"Electronegativity\": [3.98, 3.16, 2.96, 2.66, 2.2]\n",
    "})\n",
    "\n",
    "# Step 2: Define a function to classify elements based on electronegativity\n",
    "def classify_electronegativity(value):\n",
    "    if value >= 3.5:\n",
    "        return \"Highly Electronegative\"\n",
    "    elif value >= 2.5:\n",
    "        return \"Moderately Electronegative\"\n",
    "    else:\n",
    "        return \"Low Electronegativity\"\n",
    "\n",
    "# Step 3: Use `map()` to create a new Series with classifications\n",
    "electronegativity_class = halogens[\"Electronegativity\"].map(classify_electronegativity)\n",
    "\n",
    "# Step 4: Add the new classification Series to the DataFrame\n",
    "halogens[\"Electronegativity Category\"] = electronegativity_class\n",
    "\n",
    "# Step 5: Display the Series and DataFrame\n",
    "print(electronegativity_class)\n",
    "print(type(electronegativity_class))\n",
    "print(\"\\n\")\n",
    "print(halogens)\n",
    "print(type(halogens))\n",
    "# Step 6 (Optional): Save the DataFrame to a CSV file\n",
    "halogens.to_csv(\"halogens_electronegativity.csv\", index=False)\n"
   ]
  },
  {
   "cell_type": "markdown",
   "id": "cd4f0dc1-45cc-4bca-9943-93cc7b9ef460",
   "metadata": {},
   "source": [
    "#### Using iloc() on a dataframe"
   ]
  },
  {
   "cell_type": "code",
   "execution_count": 9,
   "id": "2f5cc190-f764-4a43-a63f-5ac59ff92919",
   "metadata": {},
   "outputs": [
    {
     "name": "stdout",
     "output_type": "stream",
     "text": [
      "<class 'pandas.core.series.Series'>\n",
      "0    0.93\n",
      "1    1.31\n",
      "2    1.61\n",
      "3    1.90\n",
      "4    2.19\n",
      "Name: Electronegativity, dtype: float64\n"
     ]
    }
   ],
   "source": [
    "import pandas as pd\n",
    "\n",
    "# Create a sample DataFrame with chemical properties\n",
    "df = pd.DataFrame({\n",
    "    \"Element\": [\"Na\", \"Mg\", \"Al\", \"Si\", \"P\"],\n",
    "    \"Atomic Number\": [11, 12, 13, 14, 15],\n",
    "    \"Electronegativity\": [0.93, 1.31, 1.61, 1.90, 2.19]\n",
    "})\n",
    "\n",
    "# Extract the \"Electronegativity\" column using iloc\n",
    "electronegativity_series = df.iloc[:, 2]  # Selecting column index 2\n",
    "\n",
    "print(type(electronegativity_series))  # Output: <class 'pandas.core.series.Series'>\n",
    "print(electronegativity_series)\n"
   ]
  },
  {
   "cell_type": "markdown",
   "id": "4a58749e-5b86-4727-9dee-ab602003f54c",
   "metadata": {},
   "source": [
    "#### Using loc() on a dataframe"
   ]
  },
  {
   "cell_type": "code",
   "execution_count": 10,
   "id": "734a65d1-be23-4813-b66a-306f90e9a9be",
   "metadata": {},
   "outputs": [
    {
     "name": "stdout",
     "output_type": "stream",
     "text": [
      "<class 'pandas.core.series.Series'>\n",
      "0    0.93\n",
      "1    1.31\n",
      "2    1.61\n",
      "3    1.90\n",
      "4    2.19\n",
      "Name: Electronegativity, dtype: float64\n"
     ]
    }
   ],
   "source": [
    "# Extract \"Electronegativity\" column using loc\n",
    "electronegativity_series = df.loc[:, \"Electronegativity\"]\n",
    "\n",
    "print(type(electronegativity_series))  # Output: <class 'pandas.core.series.Series'>\n",
    "print(electronegativity_series)\n"
   ]
  },
  {
   "cell_type": "markdown",
   "id": "32071ef6-8606-4d92-86d6-577d1b575c0f",
   "metadata": {},
   "source": [
    "# 4. Pandas DataFrames"
   ]
  },
  {
   "cell_type": "markdown",
   "id": "5e965b91-04ce-49e9-87bc-63a76ddd9e38",
   "metadata": {},
   "source": [
    "## 4.1 DataFrame Creation\n",
    "| Function | Description |\n",
    "|----------|-------------|\n",
    "| `pd.DataFrame()` | Creates a DataFrame from a dictionary, list, NumPy array, or other data source. |\n",
    "| `pd.read_csv()` | Reads a CSV file into a DataFrame. |\n",
    "| `pd.read_excel()` | Reads an Excel file into a DataFrame. |\n",
    "| `pd.read_json()` | Reads a JSON file into a DataFrame. |\n",
    "| `pd.read_sql()` | Reads from a SQL database into a DataFrame. |\n",
    "| `pd.read_html()` | Reads an HTML table into a DataFrame. |\n",
    "\n",
    "### pd.DataFrame() constructor"
   ]
  },
  {
   "cell_type": "markdown",
   "id": "92173ba0-682d-4e4f-a740-fafb7d1b694f",
   "metadata": {},
   "source": [
    "## 4.2 DataFrame Methods\n",
    "### Exploration\n",
    "| Method | Description |\n",
    "|----------|-------------|\n",
    "| `df.head(n)` | Returns the first `n` rows. |\n",
    "| `df.tail(n)` | Returns the last `n` rows. |\n",
    "| `df.info()` | Displays concise summary of the DataFrame. |\n",
    "| `df.describe()` | Generates summary statistics for numerical columns. |\n",
    "| `df.shape` | Returns tuple of (rows, columns). |\n",
    "| `df.dtypes` | Returns the data types of each column. |\n",
    "| `df.columns` | Returns the column labels. |\n",
    "| `df.index` | Returns the index (row labels). |\n",
    "| `df.sample(n)` | Returns a random sample of `n` rows. |\n"
   ]
  },
  {
   "cell_type": "markdown",
   "id": "f2a33d6e-a6c1-4df7-a6b7-26d4aa5cde91",
   "metadata": {},
   "source": [
    "### DataFrame Selection and Filtering\n",
    "| Method | Description |\n",
    "|----------|-------------|\n",
    "| `df['column']` | Selects a single column as a Series. |\n",
    "| `df[['col1', 'col2']]` | Selects multiple columns. |\n",
    "| `df.iloc[row, col]` | Selects data using integer-location indexing. |\n",
    "| `df.loc[row_label, col_label]` | Selects data using label-based indexing. |\n",
    "| `df[df['column'] > value]` | Filters rows based on a condition. |\n",
    "| `df.query('column > value')` | Queries the DataFrame using an expression. |\n",
    "| `df.set_index('column')` | Sets a specific column as the index. |\n",
    "| `df.reset_index()` | Resets the index to default integer values. |"
   ]
  },
  {
   "cell_type": "markdown",
   "id": "36c2a54e-5e4d-4d29-ae0c-b31d84f532cc",
   "metadata": {},
   "source": [
    "### DataFrame Cleaning\n",
    "| Method | Description |\n",
    "|----------|-------------|\n",
    "| `df.dropna()` | Removes rows with missing values. |\n",
    "| `df.fillna(value)` | Fills missing values with a specified value. |\n",
    "| `df.drop(columns=['col1', 'col2'])` | Drops specified columns. |\n",
    "| `df.drop(index=[0,1])` | Drops specified rows. |\n",
    "| `df.rename(columns={'old':'new'})` | Renames column labels. |\n",
    "| `df.duplicated()` | Checks for duplicate rows. |\n",
    "| `df.drop_duplicates()` | Removes duplicate rows. |\n",
    "| `df.replace(old, new)` | Replaces values in the DataFrame. |"
   ]
  },
  {
   "cell_type": "markdown",
   "id": "a5141132-b46e-4b37-abf4-5a6722a76b69",
   "metadata": {},
   "source": [
    "### DataFrame Transformation\n",
    "| Method | Description |\n",
    "|----------|-------------|\n",
    "| `df.apply(func, axis=0 or 1)` | Applies a function across rows or columns. |\n",
    "| `df.applymap(func)` | Applies a function element-wise. |\n",
    "| `df.assign(new_col=value)` | Creates a new column. |\n",
    "| `df.astype(dtype)` | Changes the data type of a column. |\n",
    "| `df.sort_values(by='column')` | Sorts values based on a column. |\n",
    "| `df.sort_index()` | Sorts DataFrame by index. |\n",
    "| `df.pivot(index, columns, values)` | Creates a pivot table. |"
   ]
  },
  {
   "cell_type": "markdown",
   "id": "cd2e4c96-9548-4113-bb21-ffec6e1755b5",
   "metadata": {},
   "source": [
    "### DataFrame Statistics and Aggregation\n",
    "| Method | Description |\n",
    "|----------|-------------|\n",
    "| `df.groupby('column')` | Groups data by a column. |\n",
    "| `df.agg(['mean', 'sum'])` | Applies aggregation functions. |\n",
    "| `df.mean()` | Computes mean of numerical columns. |\n",
    "| `df.median()` | Computes median. |\n",
    "| `df.sum()` | Computes sum. |\n",
    "| `df.min()` | Computes minimum. |\n",
    "| `df.max()` | Computes maximum. |\n",
    "| `df.count()` | Counts non-null values. |\n",
    "| `df.nunique()` | Counts unique values in each column. |"
   ]
  },
  {
   "cell_type": "markdown",
   "id": "6e993801-0090-4f00-a67a-a8b09474d51d",
   "metadata": {},
   "source": [
    "### DataFrame Merging and Concatenation\n",
    "| Method | Description |\n",
    "|----------|-------------|\n",
    "| `pd.concat([df1, df2])` | Concatenates DataFrames along an axis. |\n",
    "| `df1.merge(df2, on='column')` | Merges DataFrames on a common column. |\n",
    "| `df1.join(df2, on='column')` | Joins DataFrames based on index. |"
   ]
  },
  {
   "cell_type": "markdown",
   "id": "671ff7fd-667c-4cca-8d7f-70f5dfabf6d7",
   "metadata": {},
   "source": [
    "### Dataframe IO\n",
    "| Method | Description |\n",
    "|----------|-------------|\n",
    "| `df.to_csv('file.csv')` | Writes DataFrame to a CSV file. |\n",
    "| `df.to_excel('file.xlsx')` | Writes DataFrame to an Excel file. |\n",
    "| `df.to_json('file.json')` | Writes DataFrame to a JSON file. |\n",
    "| `df.to_sql('table', con=engine)` | Writes DataFrame to a SQL table. |\n",
    "| `pd.read_clipboard()` | Reads data from clipboard into a Pandas DataFrame. |\n",
    "| `df.to_clipboard()` | Copies a DataFrame to the clipboard for easy pasting elsewhere. |\n",
    "| `pd.read_table(\"file.txt\")` | Reads a tab-separated text file into a Pandas DataFrame. |\n",
    "| `df.to_csv(\"file.txt\", sep=\"\\t\", index=False)` | Saves a DataFrame as a tab-separated text file. |\n",
    "|`pd.read_csv()` | Reads CSV file|\n",
    "|pd.read_json() | Reads JSON file|"
   ]
  },
  {
   "cell_type": "markdown",
   "id": "b7b061a1-9450-487a-95ae-9c88d78199ca",
   "metadata": {},
   "source": [
    "## 4.3: Handling Missing Data"
   ]
  },
  {
   "cell_type": "code",
   "execution_count": 11,
   "id": "6758af0d-aad9-470a-84d0-beb5f9a97fba",
   "metadata": {},
   "outputs": [
    {
     "name": "stdout",
     "output_type": "stream",
     "text": [
      "Original DataFrame:\n",
      "   Element  Atomic_Weight\n",
      "0        H         1.0080\n",
      "1       He         4.0026\n",
      "2       Li         6.9400\n",
      "3       Be         9.0122\n",
      "4        B        10.8100\n",
      "5        C        12.0110\n",
      "6        N        14.0070\n",
      "7        O        15.9990\n",
      "8        F        18.9980\n",
      "9       Ne        20.1800\n",
      "10      Na        22.9900\n",
      "11      Mg            NaN\n",
      "12      Al        26.9810\n",
      "13      Si        28.0850\n",
      "14       P        30.9740\n",
      "15       S            NaN\n",
      "16      Cl        35.4500\n",
      "17      Ar        39.9480\n"
     ]
    }
   ],
   "source": [
    "import pandas as pd\n",
    "import numpy as np\n",
    "\n",
    "# Creating a DataFrame with missing values\n",
    "data = {\n",
    "    \"Element\": [\"H\", \"He\", \"Li\", \"Be\", \"B\", \"C\", \"N\", \"O\", \"F\", \"Ne\",\n",
    "                \"Na\", \"Mg\", \"Al\", \"Si\", \"P\", \"S\", \"Cl\", \"Ar\"],\n",
    "    \"Atomic_Weight\": [1.008, 4.0026, 6.94, 9.0122, 10.81, 12.011, 14.007, \n",
    "                      15.999, 18.998, 20.180, 22.990, None, 26.981, 28.085, \n",
    "                      30.974, None, 35.45, 39.948]\n",
    "}\n",
    "\n",
    "df = pd.DataFrame(data)\n",
    "\n",
    "# Display the original DataFrame\n",
    "print(\"Original DataFrame:\")\n",
    "print(df)"
   ]
  },
  {
   "cell_type": "markdown",
   "id": "8479bdf5-6610-49fc-b73f-0303c2eef0b8",
   "metadata": {},
   "source": [
    "### dropna() - remove missing values\n",
    "Note the index values are removed and not changed"
   ]
  },
  {
   "cell_type": "code",
   "execution_count": 12,
   "id": "b51ded61-1c5c-4625-8550-a9fce05deb96",
   "metadata": {},
   "outputs": [
    {
     "name": "stdout",
     "output_type": "stream",
     "text": [
      "\n",
      "DataFrame after dropping missing values:\n",
      "   Element  Atomic_Weight\n",
      "0        H         1.0080\n",
      "1       He         4.0026\n",
      "2       Li         6.9400\n",
      "3       Be         9.0122\n",
      "4        B        10.8100\n",
      "5        C        12.0110\n",
      "6        N        14.0070\n",
      "7        O        15.9990\n",
      "8        F        18.9980\n",
      "9       Ne        20.1800\n",
      "10      Na        22.9900\n",
      "12      Al        26.9810\n",
      "13      Si        28.0850\n",
      "14       P        30.9740\n",
      "16      Cl        35.4500\n",
      "17      Ar        39.9480\n"
     ]
    }
   ],
   "source": [
    "df_cleaned = df.dropna()\n",
    "print(\"\\nDataFrame after dropping missing values:\")\n",
    "print(df_cleaned)"
   ]
  },
  {
   "cell_type": "markdown",
   "id": "e6d8c8cc-9e69-4f27-af26-ab01ae0b8a59",
   "metadata": {},
   "source": [
    "### fillna(np.nan)Replacing Missing Values with NaN\n",
    "Note, Pandas automatically converts None to NaN, but sometimes other characters get introduced into the data.  Also, sometimes missing data can cause problems when doing functions over entire dataframes even if it is a string (remember NaN is a float)."
   ]
  },
  {
   "cell_type": "code",
   "execution_count": 13,
   "id": "ec20ff66-626d-42f0-bf73-7d29d03d4bec",
   "metadata": {},
   "outputs": [
    {
     "name": "stdout",
     "output_type": "stream",
     "text": [
      "  Element  State\n",
      "0       H    Gas\n",
      "1      He    Gas\n",
      "2      Li  Solid\n",
      "3    None   None\n",
      "4       B  Solid\n",
      "  Element  State\n",
      "0       H    Gas\n",
      "1      He    Gas\n",
      "2      Li  Solid\n",
      "3     NaN    NaN\n",
      "4       B  Solid\n"
     ]
    }
   ],
   "source": [
    "data = {\n",
    "    \"Element\": [\"H\", \"He\", \"Li\", None, \"B\"],\n",
    "    \"State\": [\"Gas\", \"Gas\", \"Solid\", None, \"Solid\"]\n",
    "}\n",
    "\n",
    "df1 = pd.DataFrame(data)\n",
    "print(df1)\n",
    "# Ensure missing values are explicitly set to NaN\n",
    "df1 = df1.fillna(np.nan)\n",
    "\n",
    "print(df1)"
   ]
  },
  {
   "cell_type": "markdown",
   "id": "6ff39ad0-7e6a-4072-a27a-76812f5e2c39",
   "metadata": {},
   "source": [
    "### Replace Custom Missing Values\n",
    "This gets tricky as Pandas is discontinuing type implicit down casting and we have two data types in the Atomic Weight column. We had to force it to a string, replace the values with np.nan, and then convert to a float"
   ]
  },
  {
   "cell_type": "code",
   "execution_count": 14,
   "id": "90dff3f5-24bc-4ddf-9b8e-84bb9eb5c689",
   "metadata": {},
   "outputs": [
    {
     "name": "stdout",
     "output_type": "stream",
     "text": [
      "Original DataFrame:\n",
      "  Element Atomic_Weight\n",
      "0       H         1.008\n",
      "1      He        4.0026\n",
      "2      Li           N/A\n",
      "3      Be             ?\n",
      "4       B         10.81\n",
      "\n",
      "Updated DataFrame:\n",
      "  Element  Atomic_Weight\n",
      "0       H         1.0080\n",
      "1      He         4.0026\n",
      "2      Li            NaN\n",
      "3      Be            NaN\n",
      "4       B        10.8100\n"
     ]
    }
   ],
   "source": [
    "import numpy as np\n",
    "import pandas as pd\n",
    "\n",
    "# Create DataFrame\n",
    "data = {\n",
    "    \"Element\": [\"H\", \"He\", \"Li\", \"Be\", \"B\"],\n",
    "    \"Atomic_Weight\": [1.008, 4.0026, \"N/A\", \"?\", 10.81]\n",
    "}\n",
    "\n",
    "df2 = pd.DataFrame(data)\n",
    "print(\"Original DataFrame:\")\n",
    "print(df2)\n",
    "\n",
    "# ✅ Fully Future-Proof Method\n",
    "df2[\"Atomic_Weight\"] = df2[\"Atomic_Weight\"].astype(\"string\")  # Force string type to avoid downcasting\n",
    "df2[\"Atomic_Weight\"] = df2[\"Atomic_Weight\"].replace([\"N/A\", \"?\"], np.nan)  # Replace missing values\n",
    "df2[\"Atomic_Weight\"] = df2[\"Atomic_Weight\"].astype(float)  # Convert to float after replacement\n",
    "\n",
    "print(\"\\nUpdated DataFrame:\")\n",
    "print(df2)\n",
    "\n",
    "\n",
    "\n"
   ]
  },
  {
   "cell_type": "markdown",
   "id": "7097e82e-4b70-4cc5-95f5-477c75d5e02d",
   "metadata": {},
   "source": [
    "### Replace Missing Values with the Mean"
   ]
  },
  {
   "cell_type": "code",
   "execution_count": 15,
   "id": "744ea3a8-2317-4691-afed-135c2e61a945",
   "metadata": {},
   "outputs": [
    {
     "name": "stdout",
     "output_type": "stream",
     "text": [
      "\n",
      "DataFrame with missing values replaced by the mean:\n",
      "   Element  Atomic_Weight\n",
      "0        H       1.008000\n",
      "1       He       4.002600\n",
      "2       Li       6.940000\n",
      "3       Be       9.012200\n",
      "4        B      10.810000\n",
      "5        C      12.011000\n",
      "6        N      14.007000\n",
      "7        O      15.999000\n",
      "8        F      18.998000\n",
      "9       Ne      20.180000\n",
      "10      Na      22.990000\n",
      "11      Mg      18.587238\n",
      "12      Al      26.981000\n",
      "13      Si      28.085000\n",
      "14       P      30.974000\n",
      "15       S      18.587238\n",
      "16      Cl      35.450000\n",
      "17      Ar      39.948000\n"
     ]
    }
   ],
   "source": [
    "df_mean_filled = df.copy()\n",
    "df_mean_filled[\"Atomic_Weight\"] = df_mean_filled[\"Atomic_Weight\"].fillna(df[\"Atomic_Weight\"].mean())\n",
    "\n",
    "print(\"\\nDataFrame with missing values replaced by the mean:\")\n",
    "print(df_mean_filled)\n"
   ]
  },
  {
   "cell_type": "markdown",
   "id": "4aae6c74-632e-4ce5-b921-3f621807282e",
   "metadata": {},
   "source": [
    "### Replace Missing Value with Custom Values"
   ]
  },
  {
   "cell_type": "code",
   "execution_count": 16,
   "id": "642c8ad5-1c13-4145-a46d-bb2a3cb400c9",
   "metadata": {},
   "outputs": [
    {
     "name": "stdout",
     "output_type": "stream",
     "text": [
      "\n",
      "DataFrame with missing values replaced by 0:\n",
      "   Element  Atomic_Weight\n",
      "0        H         1.0080\n",
      "1       He         4.0026\n",
      "2       Li         6.9400\n",
      "3       Be         9.0122\n",
      "4        B        10.8100\n",
      "5        C        12.0110\n",
      "6        N        14.0070\n",
      "7        O        15.9990\n",
      "8        F        18.9980\n",
      "9       Ne        20.1800\n",
      "10      Na        22.9900\n",
      "11      Mg         0.0000\n",
      "12      Al        26.9810\n",
      "13      Si        28.0850\n",
      "14       P        30.9740\n",
      "15       S         0.0000\n",
      "16      Cl        35.4500\n",
      "17      Ar        39.9480\n"
     ]
    }
   ],
   "source": [
    "df_filled_custom = df.copy()\n",
    "\n",
    "# ✅ Assign the modified column explicitly (instead of using inplace=True)\n",
    "df_filled_custom[\"Atomic_Weight\"] = df_filled_custom[\"Atomic_Weight\"].fillna(0)\n",
    "\n",
    "print(\"\\nDataFrame with missing values replaced by 0:\")\n",
    "print(df_filled_custom)\n"
   ]
  },
  {
   "cell_type": "markdown",
   "id": "006dbd46-0cda-478f-992f-e174dad16c59",
   "metadata": {},
   "source": [
    "### Use Boolean mask to remove NaN\n",
    "Note, we are using .notna() and not .notnan().  'na' stands for \"not available\", and this extends to non numeric data types like strings.  the not in notna() inverts the Boolean mask the way ~ does in numpy. So it returns True if the value is a number\n",
    "\n",
    "Now Pandas uses NaN as a standard marker for missing data, not just an invalid number.  This is slightly different than Numpy, which treats it as a float."
   ]
  },
  {
   "cell_type": "code",
   "execution_count": 17,
   "id": "d1a94e0c-ca31-41e1-b74b-282609baffbb",
   "metadata": {},
   "outputs": [
    {
     "name": "stdout",
     "output_type": "stream",
     "text": [
      "\n",
      "DataFrame with only valid atomic weights:\n",
      "   Element  Atomic_Weight\n",
      "0        H         1.0080\n",
      "1       He         4.0026\n",
      "2       Li         6.9400\n",
      "3       Be         9.0122\n",
      "4        B        10.8100\n",
      "5        C        12.0110\n",
      "6        N        14.0070\n",
      "7        O        15.9990\n",
      "8        F        18.9980\n",
      "9       Ne        20.1800\n",
      "10      Na        22.9900\n",
      "12      Al        26.9810\n",
      "13      Si        28.0850\n",
      "14       P        30.9740\n",
      "16      Cl        35.4500\n",
      "17      Ar        39.9480\n"
     ]
    }
   ],
   "source": [
    "df_valid = df[df[\"Atomic_Weight\"].notna()]\n",
    "print(\"\\nDataFrame with only valid atomic weights:\")\n",
    "print(df_valid)"
   ]
  },
  {
   "cell_type": "markdown",
   "id": "6dd0de48-dbae-4a86-8c34-51bff58d9507",
   "metadata": {},
   "source": [
    "## 4. Statistics"
   ]
  },
  {
   "cell_type": "code",
   "execution_count": 18,
   "id": "fe96df4d-5d79-41b7-bea8-0647cdf2ebcf",
   "metadata": {},
   "outputs": [
    {
     "name": "stdout",
     "output_type": "stream",
     "text": [
      "    Atomic Number  Atomic Radius (pm)  Density (g/cm³)  Melting Point (°C)\n",
      "Li              3                 152            0.534               180.5\n",
      "Na             11                 186            0.970                97.8\n",
      "K              19                 227            0.860                63.5\n",
      "Rb             37                 248            1.530                39.3\n",
      "Cs             55                 265            1.870                28.5\n",
      "\n",
      "Mean Atomic Radius: 215.6\n",
      "\n",
      "Sorted by Melting Point:\n",
      "     Atomic Number  Atomic Radius (pm)  Density (g/cm³)  Melting Point (°C)\n",
      "Cs             55                 265            1.870                28.5\n",
      "Rb             37                 248            1.530                39.3\n",
      "K              19                 227            0.860                63.5\n",
      "Na             11                 186            0.970                97.8\n",
      "Li              3                 152            0.534               180.5\n",
      "\n",
      "Density Correlation:\n",
      "                     Atomic Number  Atomic Radius (pm)  Density (g/cm³)  \\\n",
      "Atomic Number            1.000000            0.932637         0.973714   \n",
      "Atomic Radius (pm)       0.932637            1.000000         0.895427   \n",
      "Density (g/cm³)          0.973714            0.895427         1.000000   \n",
      "Melting Point (°C)      -0.855879           -0.969793        -0.856947   \n",
      "\n",
      "                    Melting Point (°C)  \n",
      "Atomic Number                -0.855879  \n",
      "Atomic Radius (pm)           -0.969793  \n",
      "Density (g/cm³)              -0.856947  \n",
      "Melting Point (°C)            1.000000  \n"
     ]
    }
   ],
   "source": [
    "# Creating a DataFrame with physical properties of alkali metals\n",
    "alkali_metals = pd.DataFrame({\n",
    "    \"Atomic Number\": [3, 11, 19, 37, 55],  # Lithium to Cesium\n",
    "    \"Atomic Radius (pm)\": [152, 186, 227, 248, 265],\n",
    "    \"Density (g/cm³)\": [0.534, 0.97, 0.86, 1.53, 1.87],\n",
    "    \"Melting Point (°C)\": [180.5, 97.8, 63.5, 39.3, 28.5]\n",
    "}, index=[\"Li\", \"Na\", \"K\", \"Rb\", \"Cs\"])  # Using symbols as row index\n",
    "\n",
    "# Display the DataFrame\n",
    "print(alkali_metals)\n",
    "\n",
    "# Example Operations\n",
    "print(\"\\nMean Atomic Radius:\", alkali_metals[\"Atomic Radius (pm)\"].mean())  # Average atomic radius\n",
    "print(\"\\nSorted by Melting Point:\\n\", alkali_metals.sort_values(\"Melting Point (°C)\"))  # Sort by melting point\n",
    "print(\"\\nDensity Correlation:\\n\", alkali_metals.corr())  # Correlation between properties\n"
   ]
  },
  {
   "cell_type": "code",
   "execution_count": 19,
   "id": "d9d1858f-c893-4f2a-ad5e-8ce63b34e286",
   "metadata": {},
   "outputs": [
    {
     "name": "stdout",
     "output_type": "stream",
     "text": [
      "\n",
      "Boiling Points in Kelvin:\n",
      " F      85.05\n",
      "Cl    239.15\n",
      "Br    332.65\n",
      "I     457.55\n",
      "At    609.95\n",
      "Name: Boiling Point (°C), dtype: float64\n",
      "\n",
      "Updated Alkali Metals DataFrame:\n",
      "     Atomic Number  Atomic Radius (pm)  Density (g/cm³)  Melting Point (°C)  \\\n",
      "Li              3                 152            0.534               180.5   \n",
      "Na             11                 186            0.970                97.8   \n",
      "K              19                 227            0.860                63.5   \n",
      "Rb             37                 248            1.530                39.3   \n",
      "Cs             55                 265            1.870                28.5   \n",
      "\n",
      "    Melting Point (K)  \n",
      "Li             453.65  \n",
      "Na             370.95  \n",
      "K              336.65  \n",
      "Rb             312.45  \n",
      "Cs             301.65  \n"
     ]
    }
   ],
   "source": [
    "# Convert melting points from °C to Kelvin (for both Series & DataFrame)\n",
    "to_kelvin = lambda temp: temp + 273.15\n",
    "\n",
    "# Apply function to the boiling points Series\n",
    "boiling_points_K = boiling_points.apply(to_kelvin)\n",
    "print(\"\\nBoiling Points in Kelvin:\\n\", boiling_points_K)\n",
    "\n",
    "# Apply function to the DataFrame column\n",
    "#print(\"\\n\", alkali_metals)\n",
    "alkali_metals[\"Melting Point (K)\"] = alkali_metals[\"Melting Point (°C)\"].apply(to_kelvin)\n",
    "print(\"\\nUpdated Alkali Metals DataFrame:\\n\", alkali_metals)\n"
   ]
  },
  {
   "cell_type": "markdown",
   "id": "d3b4cfa2-c3d2-4345-8d5c-c8cb9bde9758",
   "metadata": {},
   "source": [
    "# 5. Activity\n",
    "We are going to upload the periodic table from worksheet 4 and explore it in a Pandas Dataframe\n",
    "\n",
    "| Step | Command | Purpose |\n",
    "|------|---------|---------|\n",
    "| **Shape** | `df.shape` | Get number of rows & columns |\n",
    "| **Column Labels** | `df.columns` | See column names |\n",
    "| **Row & Column Count** | `df.shape[0]`, `df.shape[1]` | Get counts separately |\n",
    "| **Data Types** | `df.dtypes` | Check variable types |\n",
    "| **Data Overview** | `df.info()` | Summarize structure & missing values |\n",
    "| **First Few Rows** | `df.head(n)` | Preview top rows |\n",
    "| **Last Few Rows** | `df.tail(n)` | Preview bottom rows |\n",
    "| **Statistics** | `df.describe()` | Get numeric summaries |\n",
    "| **Missing Data** | `df.isnull().sum()` | Identify missing values |"
   ]
  },
  {
   "cell_type": "code",
   "execution_count": 20,
   "id": "8d253a46-cc57-451d-8580-12d5c81ea3fa",
   "metadata": {},
   "outputs": [
    {
     "data": {
      "text/html": [
       "<div>\n",
       "<style scoped>\n",
       "    .dataframe tbody tr th:only-of-type {\n",
       "        vertical-align: middle;\n",
       "    }\n",
       "\n",
       "    .dataframe tbody tr th {\n",
       "        vertical-align: top;\n",
       "    }\n",
       "\n",
       "    .dataframe thead th {\n",
       "        text-align: right;\n",
       "    }\n",
       "</style>\n",
       "<table border=\"1\" class=\"dataframe\">\n",
       "  <thead>\n",
       "    <tr style=\"text-align: right;\">\n",
       "      <th></th>\n",
       "      <th>AtomicNumber</th>\n",
       "      <th>Symbol</th>\n",
       "      <th>Name</th>\n",
       "      <th>AtomicMass</th>\n",
       "      <th>CPKHexColor</th>\n",
       "      <th>ElectronConfiguration</th>\n",
       "      <th>Electronegativity</th>\n",
       "      <th>AtomicRadius</th>\n",
       "      <th>IonizationEnergy</th>\n",
       "      <th>ElectronAffinity</th>\n",
       "      <th>OxidationStates</th>\n",
       "      <th>StandardState</th>\n",
       "      <th>MeltingPoint</th>\n",
       "      <th>BoilingPoint</th>\n",
       "      <th>Density</th>\n",
       "      <th>GroupBlock</th>\n",
       "      <th>YearDiscovered</th>\n",
       "    </tr>\n",
       "  </thead>\n",
       "  <tbody>\n",
       "    <tr>\n",
       "      <th>0</th>\n",
       "      <td>1</td>\n",
       "      <td>H</td>\n",
       "      <td>Hydrogen</td>\n",
       "      <td>1.008000</td>\n",
       "      <td>FFFFFF</td>\n",
       "      <td>1s1</td>\n",
       "      <td>2.20</td>\n",
       "      <td>120.0</td>\n",
       "      <td>13.598</td>\n",
       "      <td>0.754</td>\n",
       "      <td>+1, -1</td>\n",
       "      <td>Gas</td>\n",
       "      <td>13.81</td>\n",
       "      <td>20.28</td>\n",
       "      <td>0.000090</td>\n",
       "      <td>Nonmetal</td>\n",
       "      <td>1766</td>\n",
       "    </tr>\n",
       "    <tr>\n",
       "      <th>1</th>\n",
       "      <td>2</td>\n",
       "      <td>He</td>\n",
       "      <td>Helium</td>\n",
       "      <td>4.002600</td>\n",
       "      <td>D9FFFF</td>\n",
       "      <td>1s2</td>\n",
       "      <td>NaN</td>\n",
       "      <td>140.0</td>\n",
       "      <td>24.587</td>\n",
       "      <td>NaN</td>\n",
       "      <td>0</td>\n",
       "      <td>Gas</td>\n",
       "      <td>0.95</td>\n",
       "      <td>4.22</td>\n",
       "      <td>0.000179</td>\n",
       "      <td>Noble gas</td>\n",
       "      <td>1868</td>\n",
       "    </tr>\n",
       "    <tr>\n",
       "      <th>2</th>\n",
       "      <td>3</td>\n",
       "      <td>Li</td>\n",
       "      <td>Lithium</td>\n",
       "      <td>7.000000</td>\n",
       "      <td>CC80FF</td>\n",
       "      <td>[He]2s1</td>\n",
       "      <td>0.98</td>\n",
       "      <td>182.0</td>\n",
       "      <td>5.392</td>\n",
       "      <td>0.618</td>\n",
       "      <td>+1</td>\n",
       "      <td>Solid</td>\n",
       "      <td>453.65</td>\n",
       "      <td>1615.00</td>\n",
       "      <td>0.534000</td>\n",
       "      <td>Alkali metal</td>\n",
       "      <td>1817</td>\n",
       "    </tr>\n",
       "    <tr>\n",
       "      <th>3</th>\n",
       "      <td>4</td>\n",
       "      <td>Be</td>\n",
       "      <td>Beryllium</td>\n",
       "      <td>9.012183</td>\n",
       "      <td>C2FF00</td>\n",
       "      <td>[He]2s2</td>\n",
       "      <td>1.57</td>\n",
       "      <td>153.0</td>\n",
       "      <td>9.323</td>\n",
       "      <td>NaN</td>\n",
       "      <td>+2</td>\n",
       "      <td>Solid</td>\n",
       "      <td>1560.00</td>\n",
       "      <td>2744.00</td>\n",
       "      <td>1.850000</td>\n",
       "      <td>Alkaline earth metal</td>\n",
       "      <td>1798</td>\n",
       "    </tr>\n",
       "    <tr>\n",
       "      <th>4</th>\n",
       "      <td>5</td>\n",
       "      <td>B</td>\n",
       "      <td>Boron</td>\n",
       "      <td>10.810000</td>\n",
       "      <td>FFB5B5</td>\n",
       "      <td>[He]2s2 2p1</td>\n",
       "      <td>2.04</td>\n",
       "      <td>192.0</td>\n",
       "      <td>8.298</td>\n",
       "      <td>0.277</td>\n",
       "      <td>+3</td>\n",
       "      <td>Solid</td>\n",
       "      <td>2348.00</td>\n",
       "      <td>4273.00</td>\n",
       "      <td>2.370000</td>\n",
       "      <td>Metalloid</td>\n",
       "      <td>1808</td>\n",
       "    </tr>\n",
       "  </tbody>\n",
       "</table>\n",
       "</div>"
      ],
      "text/plain": [
       "   AtomicNumber Symbol       Name  AtomicMass CPKHexColor  \\\n",
       "0             1      H   Hydrogen    1.008000      FFFFFF   \n",
       "1             2     He     Helium    4.002600      D9FFFF   \n",
       "2             3     Li    Lithium    7.000000      CC80FF   \n",
       "3             4     Be  Beryllium    9.012183      C2FF00   \n",
       "4             5      B      Boron   10.810000      FFB5B5   \n",
       "\n",
       "  ElectronConfiguration  Electronegativity  AtomicRadius  IonizationEnergy  \\\n",
       "0                   1s1               2.20         120.0            13.598   \n",
       "1                   1s2                NaN         140.0            24.587   \n",
       "2               [He]2s1               0.98         182.0             5.392   \n",
       "3               [He]2s2               1.57         153.0             9.323   \n",
       "4           [He]2s2 2p1               2.04         192.0             8.298   \n",
       "\n",
       "   ElectronAffinity OxidationStates StandardState  MeltingPoint  BoilingPoint  \\\n",
       "0             0.754          +1, -1           Gas         13.81         20.28   \n",
       "1               NaN               0           Gas          0.95          4.22   \n",
       "2             0.618              +1         Solid        453.65       1615.00   \n",
       "3               NaN              +2         Solid       1560.00       2744.00   \n",
       "4             0.277              +3         Solid       2348.00       4273.00   \n",
       "\n",
       "    Density            GroupBlock YearDiscovered  \n",
       "0  0.000090              Nonmetal           1766  \n",
       "1  0.000179             Noble gas           1868  \n",
       "2  0.534000          Alkali metal           1817  \n",
       "3  1.850000  Alkaline earth metal           1798  \n",
       "4  2.370000             Metalloid           1808  "
      ]
     },
     "execution_count": 20,
     "metadata": {},
     "output_type": "execute_result"
    }
   ],
   "source": [
    "# Use the directory structure from Workbook 4\n",
    "import pandas as pd\n",
    "import os\n",
    "base_data_dir = os.path.expanduser(\"~/data\")  # Parent directory\n",
    "pubchem_data_dir = os.path.join(base_data_dir, \"pubchem_data\")  # Subdirectory for PubChem\n",
    "os.makedirs(pubchem_data_dir, exist_ok=True)  # Ensure directories exist\n",
    "periodictable_csv_datapath = os.path.join(pubchem_data_dir, \"PubChemElements_all.csv\")\n",
    "df_periodictable = pd.read_csv(periodictable_csv_datapath)\n",
    "df_periodictable.head()\n"
   ]
  },
  {
   "cell_type": "markdown",
   "id": "69240f07-b02c-4f18-af73-14e7cd24cb61",
   "metadata": {},
   "source": [
    "## Set the symbols column as the index"
   ]
  },
  {
   "cell_type": "code",
   "execution_count": 21,
   "id": "a03b26a0-d31c-44da-8b21-dbaf2b9d2c0a",
   "metadata": {},
   "outputs": [
    {
     "data": {
      "text/html": [
       "<div>\n",
       "<style scoped>\n",
       "    .dataframe tbody tr th:only-of-type {\n",
       "        vertical-align: middle;\n",
       "    }\n",
       "\n",
       "    .dataframe tbody tr th {\n",
       "        vertical-align: top;\n",
       "    }\n",
       "\n",
       "    .dataframe thead th {\n",
       "        text-align: right;\n",
       "    }\n",
       "</style>\n",
       "<table border=\"1\" class=\"dataframe\">\n",
       "  <thead>\n",
       "    <tr style=\"text-align: right;\">\n",
       "      <th></th>\n",
       "      <th>AtomicNumber</th>\n",
       "      <th>Name</th>\n",
       "      <th>AtomicMass</th>\n",
       "      <th>CPKHexColor</th>\n",
       "      <th>ElectronConfiguration</th>\n",
       "      <th>Electronegativity</th>\n",
       "      <th>AtomicRadius</th>\n",
       "      <th>IonizationEnergy</th>\n",
       "      <th>ElectronAffinity</th>\n",
       "      <th>OxidationStates</th>\n",
       "      <th>StandardState</th>\n",
       "      <th>MeltingPoint</th>\n",
       "      <th>BoilingPoint</th>\n",
       "      <th>Density</th>\n",
       "      <th>GroupBlock</th>\n",
       "      <th>YearDiscovered</th>\n",
       "    </tr>\n",
       "    <tr>\n",
       "      <th>Symbol</th>\n",
       "      <th></th>\n",
       "      <th></th>\n",
       "      <th></th>\n",
       "      <th></th>\n",
       "      <th></th>\n",
       "      <th></th>\n",
       "      <th></th>\n",
       "      <th></th>\n",
       "      <th></th>\n",
       "      <th></th>\n",
       "      <th></th>\n",
       "      <th></th>\n",
       "      <th></th>\n",
       "      <th></th>\n",
       "      <th></th>\n",
       "      <th></th>\n",
       "    </tr>\n",
       "  </thead>\n",
       "  <tbody>\n",
       "    <tr>\n",
       "      <th>H</th>\n",
       "      <td>1</td>\n",
       "      <td>Hydrogen</td>\n",
       "      <td>1.008000</td>\n",
       "      <td>FFFFFF</td>\n",
       "      <td>1s1</td>\n",
       "      <td>2.20</td>\n",
       "      <td>120.0</td>\n",
       "      <td>13.598</td>\n",
       "      <td>0.754</td>\n",
       "      <td>+1, -1</td>\n",
       "      <td>Gas</td>\n",
       "      <td>13.81</td>\n",
       "      <td>20.28</td>\n",
       "      <td>0.000090</td>\n",
       "      <td>Nonmetal</td>\n",
       "      <td>1766</td>\n",
       "    </tr>\n",
       "    <tr>\n",
       "      <th>He</th>\n",
       "      <td>2</td>\n",
       "      <td>Helium</td>\n",
       "      <td>4.002600</td>\n",
       "      <td>D9FFFF</td>\n",
       "      <td>1s2</td>\n",
       "      <td>NaN</td>\n",
       "      <td>140.0</td>\n",
       "      <td>24.587</td>\n",
       "      <td>NaN</td>\n",
       "      <td>0</td>\n",
       "      <td>Gas</td>\n",
       "      <td>0.95</td>\n",
       "      <td>4.22</td>\n",
       "      <td>0.000179</td>\n",
       "      <td>Noble gas</td>\n",
       "      <td>1868</td>\n",
       "    </tr>\n",
       "    <tr>\n",
       "      <th>Li</th>\n",
       "      <td>3</td>\n",
       "      <td>Lithium</td>\n",
       "      <td>7.000000</td>\n",
       "      <td>CC80FF</td>\n",
       "      <td>[He]2s1</td>\n",
       "      <td>0.98</td>\n",
       "      <td>182.0</td>\n",
       "      <td>5.392</td>\n",
       "      <td>0.618</td>\n",
       "      <td>+1</td>\n",
       "      <td>Solid</td>\n",
       "      <td>453.65</td>\n",
       "      <td>1615.00</td>\n",
       "      <td>0.534000</td>\n",
       "      <td>Alkali metal</td>\n",
       "      <td>1817</td>\n",
       "    </tr>\n",
       "    <tr>\n",
       "      <th>Be</th>\n",
       "      <td>4</td>\n",
       "      <td>Beryllium</td>\n",
       "      <td>9.012183</td>\n",
       "      <td>C2FF00</td>\n",
       "      <td>[He]2s2</td>\n",
       "      <td>1.57</td>\n",
       "      <td>153.0</td>\n",
       "      <td>9.323</td>\n",
       "      <td>NaN</td>\n",
       "      <td>+2</td>\n",
       "      <td>Solid</td>\n",
       "      <td>1560.00</td>\n",
       "      <td>2744.00</td>\n",
       "      <td>1.850000</td>\n",
       "      <td>Alkaline earth metal</td>\n",
       "      <td>1798</td>\n",
       "    </tr>\n",
       "    <tr>\n",
       "      <th>B</th>\n",
       "      <td>5</td>\n",
       "      <td>Boron</td>\n",
       "      <td>10.810000</td>\n",
       "      <td>FFB5B5</td>\n",
       "      <td>[He]2s2 2p1</td>\n",
       "      <td>2.04</td>\n",
       "      <td>192.0</td>\n",
       "      <td>8.298</td>\n",
       "      <td>0.277</td>\n",
       "      <td>+3</td>\n",
       "      <td>Solid</td>\n",
       "      <td>2348.00</td>\n",
       "      <td>4273.00</td>\n",
       "      <td>2.370000</td>\n",
       "      <td>Metalloid</td>\n",
       "      <td>1808</td>\n",
       "    </tr>\n",
       "  </tbody>\n",
       "</table>\n",
       "</div>"
      ],
      "text/plain": [
       "        AtomicNumber       Name  AtomicMass CPKHexColor ElectronConfiguration  \\\n",
       "Symbol                                                                          \n",
       "H                  1   Hydrogen    1.008000      FFFFFF                   1s1   \n",
       "He                 2     Helium    4.002600      D9FFFF                   1s2   \n",
       "Li                 3    Lithium    7.000000      CC80FF               [He]2s1   \n",
       "Be                 4  Beryllium    9.012183      C2FF00               [He]2s2   \n",
       "B                  5      Boron   10.810000      FFB5B5           [He]2s2 2p1   \n",
       "\n",
       "        Electronegativity  AtomicRadius  IonizationEnergy  ElectronAffinity  \\\n",
       "Symbol                                                                        \n",
       "H                    2.20         120.0            13.598             0.754   \n",
       "He                    NaN         140.0            24.587               NaN   \n",
       "Li                   0.98         182.0             5.392             0.618   \n",
       "Be                   1.57         153.0             9.323               NaN   \n",
       "B                    2.04         192.0             8.298             0.277   \n",
       "\n",
       "       OxidationStates StandardState  MeltingPoint  BoilingPoint   Density  \\\n",
       "Symbol                                                                       \n",
       "H               +1, -1           Gas         13.81         20.28  0.000090   \n",
       "He                   0           Gas          0.95          4.22  0.000179   \n",
       "Li                  +1         Solid        453.65       1615.00  0.534000   \n",
       "Be                  +2         Solid       1560.00       2744.00  1.850000   \n",
       "B                   +3         Solid       2348.00       4273.00  2.370000   \n",
       "\n",
       "                  GroupBlock YearDiscovered  \n",
       "Symbol                                       \n",
       "H                   Nonmetal           1766  \n",
       "He                 Noble gas           1868  \n",
       "Li              Alkali metal           1817  \n",
       "Be      Alkaline earth metal           1798  \n",
       "B                  Metalloid           1808  "
      ]
     },
     "execution_count": 21,
     "metadata": {},
     "output_type": "execute_result"
    }
   ],
   "source": [
    "df_periodictable=df_periodictable.set_index(\"Symbol\")\n",
    "df_periodictable.head()"
   ]
  },
  {
   "cell_type": "code",
   "execution_count": 22,
   "id": "dc6051ba-b50b-4062-b055-037563288363",
   "metadata": {},
   "outputs": [
    {
     "data": {
      "text/html": [
       "<div>\n",
       "<style scoped>\n",
       "    .dataframe tbody tr th:only-of-type {\n",
       "        vertical-align: middle;\n",
       "    }\n",
       "\n",
       "    .dataframe tbody tr th {\n",
       "        vertical-align: top;\n",
       "    }\n",
       "\n",
       "    .dataframe thead th {\n",
       "        text-align: right;\n",
       "    }\n",
       "</style>\n",
       "<table border=\"1\" class=\"dataframe\">\n",
       "  <thead>\n",
       "    <tr style=\"text-align: right;\">\n",
       "      <th></th>\n",
       "      <th>AtomicNumber</th>\n",
       "      <th>Name</th>\n",
       "      <th>AtomicMass</th>\n",
       "      <th>CPKHexColor</th>\n",
       "      <th>ElectronConfiguration</th>\n",
       "      <th>Electronegativity</th>\n",
       "      <th>AtomicRadius</th>\n",
       "      <th>IonizationEnergy</th>\n",
       "      <th>ElectronAffinity</th>\n",
       "      <th>OxidationStates</th>\n",
       "      <th>StandardState</th>\n",
       "      <th>MeltingPoint</th>\n",
       "      <th>BoilingPoint</th>\n",
       "      <th>Density</th>\n",
       "      <th>GroupBlock</th>\n",
       "      <th>YearDiscovered</th>\n",
       "    </tr>\n",
       "    <tr>\n",
       "      <th>Symbol</th>\n",
       "      <th></th>\n",
       "      <th></th>\n",
       "      <th></th>\n",
       "      <th></th>\n",
       "      <th></th>\n",
       "      <th></th>\n",
       "      <th></th>\n",
       "      <th></th>\n",
       "      <th></th>\n",
       "      <th></th>\n",
       "      <th></th>\n",
       "      <th></th>\n",
       "      <th></th>\n",
       "      <th></th>\n",
       "      <th></th>\n",
       "      <th></th>\n",
       "    </tr>\n",
       "  </thead>\n",
       "  <tbody>\n",
       "    <tr>\n",
       "      <th>Fl</th>\n",
       "      <td>114</td>\n",
       "      <td>Flerovium</td>\n",
       "      <td>290.192</td>\n",
       "      <td>NaN</td>\n",
       "      <td>[Rn]7s2 7p2 5f14 6d10 (predicted)</td>\n",
       "      <td>NaN</td>\n",
       "      <td>NaN</td>\n",
       "      <td>NaN</td>\n",
       "      <td>NaN</td>\n",
       "      <td>6, 4,2, 1, 0</td>\n",
       "      <td>Expected to be a Solid</td>\n",
       "      <td>NaN</td>\n",
       "      <td>NaN</td>\n",
       "      <td>NaN</td>\n",
       "      <td>Post-transition metal</td>\n",
       "      <td>1998</td>\n",
       "    </tr>\n",
       "    <tr>\n",
       "      <th>Mc</th>\n",
       "      <td>115</td>\n",
       "      <td>Moscovium</td>\n",
       "      <td>290.196</td>\n",
       "      <td>NaN</td>\n",
       "      <td>[Rn]7s2 7p3 5f14 6d10 (predicted)</td>\n",
       "      <td>NaN</td>\n",
       "      <td>NaN</td>\n",
       "      <td>NaN</td>\n",
       "      <td>NaN</td>\n",
       "      <td>3, 1</td>\n",
       "      <td>Expected to be a Solid</td>\n",
       "      <td>NaN</td>\n",
       "      <td>NaN</td>\n",
       "      <td>NaN</td>\n",
       "      <td>Post-transition metal</td>\n",
       "      <td>2003</td>\n",
       "    </tr>\n",
       "    <tr>\n",
       "      <th>Lv</th>\n",
       "      <td>116</td>\n",
       "      <td>Livermorium</td>\n",
       "      <td>293.205</td>\n",
       "      <td>NaN</td>\n",
       "      <td>[Rn]7s2 7p4 5f14 6d10 (predicted)</td>\n",
       "      <td>NaN</td>\n",
       "      <td>NaN</td>\n",
       "      <td>NaN</td>\n",
       "      <td>NaN</td>\n",
       "      <td>+4, +2, -2</td>\n",
       "      <td>Expected to be a Solid</td>\n",
       "      <td>NaN</td>\n",
       "      <td>NaN</td>\n",
       "      <td>NaN</td>\n",
       "      <td>Post-transition metal</td>\n",
       "      <td>2000</td>\n",
       "    </tr>\n",
       "    <tr>\n",
       "      <th>Ts</th>\n",
       "      <td>117</td>\n",
       "      <td>Tennessine</td>\n",
       "      <td>294.211</td>\n",
       "      <td>NaN</td>\n",
       "      <td>[Rn]7s2 7p5 5f14 6d10 (predicted)</td>\n",
       "      <td>NaN</td>\n",
       "      <td>NaN</td>\n",
       "      <td>NaN</td>\n",
       "      <td>NaN</td>\n",
       "      <td>+5, +3, +1, -1</td>\n",
       "      <td>Expected to be a Solid</td>\n",
       "      <td>NaN</td>\n",
       "      <td>NaN</td>\n",
       "      <td>NaN</td>\n",
       "      <td>Halogen</td>\n",
       "      <td>2010</td>\n",
       "    </tr>\n",
       "    <tr>\n",
       "      <th>Og</th>\n",
       "      <td>118</td>\n",
       "      <td>Oganesson</td>\n",
       "      <td>295.216</td>\n",
       "      <td>NaN</td>\n",
       "      <td>[Rn]7s2 7p6 5f14 6d10 (predicted)</td>\n",
       "      <td>NaN</td>\n",
       "      <td>NaN</td>\n",
       "      <td>NaN</td>\n",
       "      <td>NaN</td>\n",
       "      <td>+6, +4, +2, +1, 0, -1</td>\n",
       "      <td>Expected to be a Gas</td>\n",
       "      <td>NaN</td>\n",
       "      <td>NaN</td>\n",
       "      <td>NaN</td>\n",
       "      <td>Noble gas</td>\n",
       "      <td>2006</td>\n",
       "    </tr>\n",
       "  </tbody>\n",
       "</table>\n",
       "</div>"
      ],
      "text/plain": [
       "        AtomicNumber         Name  AtomicMass CPKHexColor  \\\n",
       "Symbol                                                      \n",
       "Fl               114    Flerovium     290.192         NaN   \n",
       "Mc               115    Moscovium     290.196         NaN   \n",
       "Lv               116  Livermorium     293.205         NaN   \n",
       "Ts               117   Tennessine     294.211         NaN   \n",
       "Og               118    Oganesson     295.216         NaN   \n",
       "\n",
       "                    ElectronConfiguration  Electronegativity  AtomicRadius  \\\n",
       "Symbol                                                                       \n",
       "Fl      [Rn]7s2 7p2 5f14 6d10 (predicted)                NaN           NaN   \n",
       "Mc      [Rn]7s2 7p3 5f14 6d10 (predicted)                NaN           NaN   \n",
       "Lv      [Rn]7s2 7p4 5f14 6d10 (predicted)                NaN           NaN   \n",
       "Ts      [Rn]7s2 7p5 5f14 6d10 (predicted)                NaN           NaN   \n",
       "Og      [Rn]7s2 7p6 5f14 6d10 (predicted)                NaN           NaN   \n",
       "\n",
       "        IonizationEnergy  ElectronAffinity        OxidationStates  \\\n",
       "Symbol                                                              \n",
       "Fl                   NaN               NaN           6, 4,2, 1, 0   \n",
       "Mc                   NaN               NaN                   3, 1   \n",
       "Lv                   NaN               NaN             +4, +2, -2   \n",
       "Ts                   NaN               NaN         +5, +3, +1, -1   \n",
       "Og                   NaN               NaN  +6, +4, +2, +1, 0, -1   \n",
       "\n",
       "                 StandardState  MeltingPoint  BoilingPoint  Density  \\\n",
       "Symbol                                                                \n",
       "Fl      Expected to be a Solid           NaN           NaN      NaN   \n",
       "Mc      Expected to be a Solid           NaN           NaN      NaN   \n",
       "Lv      Expected to be a Solid           NaN           NaN      NaN   \n",
       "Ts      Expected to be a Solid           NaN           NaN      NaN   \n",
       "Og        Expected to be a Gas           NaN           NaN      NaN   \n",
       "\n",
       "                   GroupBlock YearDiscovered  \n",
       "Symbol                                        \n",
       "Fl      Post-transition metal           1998  \n",
       "Mc      Post-transition metal           2003  \n",
       "Lv      Post-transition metal           2000  \n",
       "Ts                    Halogen           2010  \n",
       "Og                  Noble gas           2006  "
      ]
     },
     "execution_count": 22,
     "metadata": {},
     "output_type": "execute_result"
    }
   ],
   "source": [
    "df_periodictable.tail()"
   ]
  },
  {
   "cell_type": "code",
   "execution_count": 23,
   "id": "5faa6ab3-9c23-4ada-8cfa-b2393f9be374",
   "metadata": {},
   "outputs": [
    {
     "name": "stdout",
     "output_type": "stream",
     "text": [
      "(118, 16)\n",
      "number rows is: 118, \n",
      "number of columns is 16\n",
      "Index(['AtomicNumber', 'Name', 'AtomicMass', 'CPKHexColor',\n",
      "       'ElectronConfiguration', 'Electronegativity', 'AtomicRadius',\n",
      "       'IonizationEnergy', 'ElectronAffinity', 'OxidationStates',\n",
      "       'StandardState', 'MeltingPoint', 'BoilingPoint', 'Density',\n",
      "       'GroupBlock', 'YearDiscovered'],\n",
      "      dtype='object')\n",
      "AtomicNumber               int64\n",
      "Name                      object\n",
      "AtomicMass               float64\n",
      "CPKHexColor               object\n",
      "ElectronConfiguration     object\n",
      "Electronegativity        float64\n",
      "AtomicRadius             float64\n",
      "IonizationEnergy         float64\n",
      "ElectronAffinity         float64\n",
      "OxidationStates           object\n",
      "StandardState             object\n",
      "MeltingPoint             float64\n",
      "BoilingPoint             float64\n",
      "Density                  float64\n",
      "GroupBlock                object\n",
      "YearDiscovered            object\n",
      "dtype: object\n"
     ]
    }
   ],
   "source": [
    "print(df_periodictable.shape)\n",
    "print(f'number rows is: {df_periodictable.shape[0]}, \\nnumber of columns is {df_periodictable.shape[1]}')\n",
    "print(df_periodictable.columns)\n",
    "print(df_periodictable.dtypes)      "
   ]
  },
  {
   "cell_type": "code",
   "execution_count": 24,
   "id": "5d77a303-acca-4f7d-baf3-9fda6b845354",
   "metadata": {},
   "outputs": [
    {
     "data": {
      "text/plain": [
       "<bound method DataFrame.info of         AtomicNumber         Name  AtomicMass CPKHexColor  \\\n",
       "Symbol                                                      \n",
       "H                  1     Hydrogen    1.008000      FFFFFF   \n",
       "He                 2       Helium    4.002600      D9FFFF   \n",
       "Li                 3      Lithium    7.000000      CC80FF   \n",
       "Be                 4    Beryllium    9.012183      C2FF00   \n",
       "B                  5        Boron   10.810000      FFB5B5   \n",
       "...              ...          ...         ...         ...   \n",
       "Fl               114    Flerovium  290.192000         NaN   \n",
       "Mc               115    Moscovium  290.196000         NaN   \n",
       "Lv               116  Livermorium  293.205000         NaN   \n",
       "Ts               117   Tennessine  294.211000         NaN   \n",
       "Og               118    Oganesson  295.216000         NaN   \n",
       "\n",
       "                    ElectronConfiguration  Electronegativity  AtomicRadius  \\\n",
       "Symbol                                                                       \n",
       "H                                     1s1               2.20         120.0   \n",
       "He                                    1s2                NaN         140.0   \n",
       "Li                                [He]2s1               0.98         182.0   \n",
       "Be                                [He]2s2               1.57         153.0   \n",
       "B                             [He]2s2 2p1               2.04         192.0   \n",
       "...                                   ...                ...           ...   \n",
       "Fl      [Rn]7s2 7p2 5f14 6d10 (predicted)                NaN           NaN   \n",
       "Mc      [Rn]7s2 7p3 5f14 6d10 (predicted)                NaN           NaN   \n",
       "Lv      [Rn]7s2 7p4 5f14 6d10 (predicted)                NaN           NaN   \n",
       "Ts      [Rn]7s2 7p5 5f14 6d10 (predicted)                NaN           NaN   \n",
       "Og      [Rn]7s2 7p6 5f14 6d10 (predicted)                NaN           NaN   \n",
       "\n",
       "        IonizationEnergy  ElectronAffinity        OxidationStates  \\\n",
       "Symbol                                                              \n",
       "H                 13.598             0.754                 +1, -1   \n",
       "He                24.587               NaN                      0   \n",
       "Li                 5.392             0.618                     +1   \n",
       "Be                 9.323               NaN                     +2   \n",
       "B                  8.298             0.277                     +3   \n",
       "...                  ...               ...                    ...   \n",
       "Fl                   NaN               NaN           6, 4,2, 1, 0   \n",
       "Mc                   NaN               NaN                   3, 1   \n",
       "Lv                   NaN               NaN             +4, +2, -2   \n",
       "Ts                   NaN               NaN         +5, +3, +1, -1   \n",
       "Og                   NaN               NaN  +6, +4, +2, +1, 0, -1   \n",
       "\n",
       "                 StandardState  MeltingPoint  BoilingPoint   Density  \\\n",
       "Symbol                                                                 \n",
       "H                          Gas         13.81         20.28  0.000090   \n",
       "He                         Gas          0.95          4.22  0.000179   \n",
       "Li                       Solid        453.65       1615.00  0.534000   \n",
       "Be                       Solid       1560.00       2744.00  1.850000   \n",
       "B                        Solid       2348.00       4273.00  2.370000   \n",
       "...                        ...           ...           ...       ...   \n",
       "Fl      Expected to be a Solid           NaN           NaN       NaN   \n",
       "Mc      Expected to be a Solid           NaN           NaN       NaN   \n",
       "Lv      Expected to be a Solid           NaN           NaN       NaN   \n",
       "Ts      Expected to be a Solid           NaN           NaN       NaN   \n",
       "Og        Expected to be a Gas           NaN           NaN       NaN   \n",
       "\n",
       "                   GroupBlock YearDiscovered  \n",
       "Symbol                                        \n",
       "H                    Nonmetal           1766  \n",
       "He                  Noble gas           1868  \n",
       "Li               Alkali metal           1817  \n",
       "Be       Alkaline earth metal           1798  \n",
       "B                   Metalloid           1808  \n",
       "...                       ...            ...  \n",
       "Fl      Post-transition metal           1998  \n",
       "Mc      Post-transition metal           2003  \n",
       "Lv      Post-transition metal           2000  \n",
       "Ts                    Halogen           2010  \n",
       "Og                  Noble gas           2006  \n",
       "\n",
       "[118 rows x 16 columns]>"
      ]
     },
     "execution_count": 24,
     "metadata": {},
     "output_type": "execute_result"
    }
   ],
   "source": [
    "df_periodictable.info"
   ]
  },
  {
   "cell_type": "code",
   "execution_count": 25,
   "id": "84026645-7d3d-4b00-806f-bcbef8873dc8",
   "metadata": {},
   "outputs": [
    {
     "data": {
      "text/html": [
       "<div>\n",
       "<style scoped>\n",
       "    .dataframe tbody tr th:only-of-type {\n",
       "        vertical-align: middle;\n",
       "    }\n",
       "\n",
       "    .dataframe tbody tr th {\n",
       "        vertical-align: top;\n",
       "    }\n",
       "\n",
       "    .dataframe thead th {\n",
       "        text-align: right;\n",
       "    }\n",
       "</style>\n",
       "<table border=\"1\" class=\"dataframe\">\n",
       "  <thead>\n",
       "    <tr style=\"text-align: right;\">\n",
       "      <th></th>\n",
       "      <th>AtomicNumber</th>\n",
       "      <th>AtomicMass</th>\n",
       "      <th>Electronegativity</th>\n",
       "      <th>AtomicRadius</th>\n",
       "      <th>IonizationEnergy</th>\n",
       "      <th>ElectronAffinity</th>\n",
       "      <th>MeltingPoint</th>\n",
       "      <th>BoilingPoint</th>\n",
       "      <th>Density</th>\n",
       "    </tr>\n",
       "  </thead>\n",
       "  <tbody>\n",
       "    <tr>\n",
       "      <th>count</th>\n",
       "      <td>118.000000</td>\n",
       "      <td>118.000000</td>\n",
       "      <td>95.000000</td>\n",
       "      <td>99.000000</td>\n",
       "      <td>102.000000</td>\n",
       "      <td>57.000000</td>\n",
       "      <td>103.000000</td>\n",
       "      <td>93.000000</td>\n",
       "      <td>96.000000</td>\n",
       "    </tr>\n",
       "    <tr>\n",
       "      <th>mean</th>\n",
       "      <td>59.500000</td>\n",
       "      <td>146.540281</td>\n",
       "      <td>1.732316</td>\n",
       "      <td>209.464646</td>\n",
       "      <td>7.997255</td>\n",
       "      <td>1.072140</td>\n",
       "      <td>1273.740553</td>\n",
       "      <td>2536.212473</td>\n",
       "      <td>7.608001</td>\n",
       "    </tr>\n",
       "    <tr>\n",
       "      <th>std</th>\n",
       "      <td>34.207699</td>\n",
       "      <td>89.768356</td>\n",
       "      <td>0.635187</td>\n",
       "      <td>38.569130</td>\n",
       "      <td>3.339066</td>\n",
       "      <td>0.879163</td>\n",
       "      <td>888.853859</td>\n",
       "      <td>1588.410919</td>\n",
       "      <td>5.878692</td>\n",
       "    </tr>\n",
       "    <tr>\n",
       "      <th>min</th>\n",
       "      <td>1.000000</td>\n",
       "      <td>1.008000</td>\n",
       "      <td>0.700000</td>\n",
       "      <td>120.000000</td>\n",
       "      <td>3.894000</td>\n",
       "      <td>0.079000</td>\n",
       "      <td>0.950000</td>\n",
       "      <td>4.220000</td>\n",
       "      <td>0.000090</td>\n",
       "    </tr>\n",
       "    <tr>\n",
       "      <th>25%</th>\n",
       "      <td>30.250000</td>\n",
       "      <td>66.480750</td>\n",
       "      <td>1.290000</td>\n",
       "      <td>187.000000</td>\n",
       "      <td>6.020500</td>\n",
       "      <td>0.470000</td>\n",
       "      <td>516.040000</td>\n",
       "      <td>1180.000000</td>\n",
       "      <td>2.572500</td>\n",
       "    </tr>\n",
       "    <tr>\n",
       "      <th>50%</th>\n",
       "      <td>59.500000</td>\n",
       "      <td>142.573830</td>\n",
       "      <td>1.620000</td>\n",
       "      <td>209.000000</td>\n",
       "      <td>6.960000</td>\n",
       "      <td>0.754000</td>\n",
       "      <td>1191.000000</td>\n",
       "      <td>2792.000000</td>\n",
       "      <td>7.072000</td>\n",
       "    </tr>\n",
       "    <tr>\n",
       "      <th>75%</th>\n",
       "      <td>88.750000</td>\n",
       "      <td>226.777165</td>\n",
       "      <td>2.170000</td>\n",
       "      <td>232.000000</td>\n",
       "      <td>8.998500</td>\n",
       "      <td>1.350000</td>\n",
       "      <td>1806.500000</td>\n",
       "      <td>3618.000000</td>\n",
       "      <td>10.275250</td>\n",
       "    </tr>\n",
       "    <tr>\n",
       "      <th>max</th>\n",
       "      <td>118.000000</td>\n",
       "      <td>295.216000</td>\n",
       "      <td>3.980000</td>\n",
       "      <td>348.000000</td>\n",
       "      <td>24.587000</td>\n",
       "      <td>3.617000</td>\n",
       "      <td>3823.000000</td>\n",
       "      <td>5869.000000</td>\n",
       "      <td>22.570000</td>\n",
       "    </tr>\n",
       "  </tbody>\n",
       "</table>\n",
       "</div>"
      ],
      "text/plain": [
       "       AtomicNumber  AtomicMass  Electronegativity  AtomicRadius  \\\n",
       "count    118.000000  118.000000          95.000000     99.000000   \n",
       "mean      59.500000  146.540281           1.732316    209.464646   \n",
       "std       34.207699   89.768356           0.635187     38.569130   \n",
       "min        1.000000    1.008000           0.700000    120.000000   \n",
       "25%       30.250000   66.480750           1.290000    187.000000   \n",
       "50%       59.500000  142.573830           1.620000    209.000000   \n",
       "75%       88.750000  226.777165           2.170000    232.000000   \n",
       "max      118.000000  295.216000           3.980000    348.000000   \n",
       "\n",
       "       IonizationEnergy  ElectronAffinity  MeltingPoint  BoilingPoint  \\\n",
       "count        102.000000         57.000000    103.000000     93.000000   \n",
       "mean           7.997255          1.072140   1273.740553   2536.212473   \n",
       "std            3.339066          0.879163    888.853859   1588.410919   \n",
       "min            3.894000          0.079000      0.950000      4.220000   \n",
       "25%            6.020500          0.470000    516.040000   1180.000000   \n",
       "50%            6.960000          0.754000   1191.000000   2792.000000   \n",
       "75%            8.998500          1.350000   1806.500000   3618.000000   \n",
       "max           24.587000          3.617000   3823.000000   5869.000000   \n",
       "\n",
       "         Density  \n",
       "count  96.000000  \n",
       "mean    7.608001  \n",
       "std     5.878692  \n",
       "min     0.000090  \n",
       "25%     2.572500  \n",
       "50%     7.072000  \n",
       "75%    10.275250  \n",
       "max    22.570000  "
      ]
     },
     "execution_count": 25,
     "metadata": {},
     "output_type": "execute_result"
    }
   ],
   "source": [
    "df_periodictable.describe()"
   ]
  },
  {
   "cell_type": "code",
   "execution_count": 26,
   "id": "4b40f9ae-d76d-45f9-9ef8-351a7212fac5",
   "metadata": {},
   "outputs": [
    {
     "data": {
      "text/plain": [
       "AtomicNumber              0\n",
       "Name                      0\n",
       "AtomicMass                0\n",
       "CPKHexColor              10\n",
       "ElectronConfiguration     0\n",
       "Electronegativity        23\n",
       "AtomicRadius             19\n",
       "IonizationEnergy         16\n",
       "ElectronAffinity         61\n",
       "OxidationStates           1\n",
       "StandardState             0\n",
       "MeltingPoint             15\n",
       "BoilingPoint             25\n",
       "Density                  22\n",
       "GroupBlock                0\n",
       "YearDiscovered            0\n",
       "dtype: int64"
      ]
     },
     "execution_count": 26,
     "metadata": {},
     "output_type": "execute_result"
    }
   ],
   "source": [
    "#Check for missing data for each column\n",
    "df_periodictable.isnull().sum()"
   ]
  },
  {
   "cell_type": "markdown",
   "id": "93c0be5f-c6be-4345-97ae-19aff0e823d8",
   "metadata": {},
   "source": [
    "## Extracting Information from DataFrame"
   ]
  },
  {
   "cell_type": "code",
   "execution_count": 27,
   "id": "b64e09ae-7891-4935-a078-565fc6ce19cb",
   "metadata": {},
   "outputs": [
    {
     "data": {
      "text/plain": [
       "'[Ar]3d5 4s1'"
      ]
     },
     "execution_count": 27,
     "metadata": {},
     "output_type": "execute_result"
    }
   ],
   "source": [
    "df_periodictable.loc['Cr','ElectronConfiguration']"
   ]
  },
  {
   "cell_type": "code",
   "execution_count": 28,
   "id": "1631f627-54a6-428b-b4a5-c89d4f611170",
   "metadata": {},
   "outputs": [
    {
     "name": "stdout",
     "output_type": "stream",
     "text": [
      "Symbol\n",
      "F     17.423\n",
      "Cl    12.968\n",
      "Br    11.814\n",
      "I     10.451\n",
      "At     9.500\n",
      "Name: IonizationEnergy, dtype: float64\n",
      "<class 'pandas.core.series.Series'>\n"
     ]
    }
   ],
   "source": [
    "\n",
    "# Define the list of halogens\n",
    "halogens = ['F', 'Cl', 'Br', 'I', 'At']\n",
    "\n",
    "# Select ionization energy for halogens\n",
    "halogen_ionization = df_periodictable.loc[df_periodictable.index.isin(halogens), \"IonizationEnergy\"]\n",
    "\n",
    "# Display results\n",
    "#display(halogen_ionization.to_frame())  # Ensures it shows as a DataFrame\n",
    "print(halogen_ionization)\n",
    "print(type(halogen_ionization))"
   ]
  },
  {
   "cell_type": "markdown",
   "id": "86d43f9b-704e-4e3e-ac59-b40018619abf",
   "metadata": {
    "jp-MarkdownHeadingCollapsed": true
   },
   "source": [
    "Explaining the above code\n",
    "1. Create a list of halogens\n",
    "```python\n",
    "halogens = ['F', 'Cl', 'Br', 'I', 'At']\n",
    "```\n",
    "\n",
    "2. Create a boolean mask that is True for halogens\n",
    "```python\n",
    "df_periodictable.index.isin(halogens)\n",
    "```\n",
    "   \n",
    "3. Select rows where boolean mask is True and return only \"IonizationEnergy\"\n",
    "```python\n",
    ".loc[df_periodictable.index.isin(halogens), \"IonizationEnergy\"]\n",
    "``` \n",
    "\n",
    "4. Assign to variable halogen_ionization\n",
    "```python\n",
    "halogen_ionization = df_periodictable.loc[df_periodictable.index.isin(halogens), \"IonizationEnergy\"]\n",
    "```\n",
    "5.  \n",
    "```python\n",
    "display(halogen_ionization.to_frame())  # Ensures it shows as a DataFrame\n",
    "```\n",
    "Display is a jupyter function and will only work in notebooks, you need to spring to a string if you want to print it out\n",
    "\n"
   ]
  },
  {
   "cell_type": "code",
   "execution_count": 29,
   "id": "000197e5-81ad-4432-a524-86ee05b8e6aa",
   "metadata": {},
   "outputs": [
    {
     "name": "stdout",
     "output_type": "stream",
     "text": [
      "Symbol\n",
      "F     17.423\n",
      "Cl    12.968\n",
      "Br    11.814\n",
      "I     10.451\n",
      "At     9.500\n",
      "Name: IonizationEnergy, dtype: float64\n"
     ]
    }
   ],
   "source": [
    "print(halogen_ionization)\n"
   ]
  },
  {
   "cell_type": "code",
   "execution_count": 30,
   "id": "3f47ef30-93a7-46e2-a8e5-c199d1d2ee30",
   "metadata": {},
   "outputs": [
    {
     "name": "stdout",
     "output_type": "stream",
     "text": [
      "Symbol\n",
      "F     17.423\n",
      "Cl    12.968\n",
      "Br    11.814\n",
      "I     10.451\n",
      "At     9.500\n"
     ]
    }
   ],
   "source": [
    "print(halogen_ionization.to_string())\n"
   ]
  },
  {
   "cell_type": "code",
   "execution_count": 31,
   "id": "1424d967-3877-4bb2-a80b-1a50cf970b48",
   "metadata": {},
   "outputs": [
    {
     "name": "stdout",
     "output_type": "stream",
     "text": [
      "        IonizationEnergy\n",
      "Symbol                  \n",
      "F                 17.423\n",
      "Cl                12.968\n",
      "Br                11.814\n",
      "I                 10.451\n",
      "At                 9.500\n",
      "<class 'pandas.core.frame.DataFrame'>\n"
     ]
    }
   ],
   "source": [
    "print(halogen_ionization.to_frame())\n",
    "print(type(halogen_ionization.to_frame()))"
   ]
  },
  {
   "cell_type": "code",
   "execution_count": 32,
   "id": "e7ae7b15-2d87-4fc0-87a1-72cc7e20a179",
   "metadata": {},
   "outputs": [
    {
     "name": "stdout",
     "output_type": "stream",
     "text": [
      "        IonizationEnergy\n",
      "Symbol                  \n",
      "F                 17.423\n",
      "Cl                12.968\n",
      "Br                11.814\n",
      "I                 10.451\n",
      "At                 9.500\n",
      "<class 'str'>\n"
     ]
    }
   ],
   "source": [
    "print(halogen_ionization.to_frame().to_string())\n",
    "print(type(halogen_ionization.to_frame().to_string()))"
   ]
  },
  {
   "cell_type": "code",
   "execution_count": 33,
   "id": "b90d78d9-9a49-4b54-853f-9d190c56344b",
   "metadata": {},
   "outputs": [
    {
     "name": "stdout",
     "output_type": "stream",
     "text": [
      "        MeltingPoint  BoilingPoint\n",
      "Symbol                            \n",
      "F              53.53         85.03\n",
      "Cl            171.65        239.11\n",
      "Br            265.95        331.95\n",
      "I             386.85        457.55\n",
      "At            575.00           NaN\n",
      "<class 'pandas.core.frame.DataFrame'>\n"
     ]
    }
   ],
   "source": [
    "halogen_melt_boil_pts = df_periodictable.loc[df_periodictable.index.isin(halogens), [\"MeltingPoint\", \"BoilingPoint\"]]\n",
    "print(halogen_melt_boil_pts)\n",
    "print(type(halogen_melt_boil_pts))"
   ]
  },
  {
   "cell_type": "markdown",
   "id": "7116351e-e016-4739-912a-1fa24f548e5c",
   "metadata": {},
   "source": [
    "# Acknowledgements\n",
    "This content was developed with assistance from [Perplexity AI](https://www.perplexity.ai/) and [Chat GPT](https://chatgpt.com/). Multiple queries were made during the Fall 2024 and the Spring 2025."
   ]
  }
 ],
 "metadata": {
  "kernelspec": {
   "display_name": "Python (py4sci)",
   "language": "python",
   "name": "py4sci"
  },
  "language_info": {
   "codemirror_mode": {
    "name": "ipython",
    "version": 3
   },
   "file_extension": ".py",
   "mimetype": "text/x-python",
   "name": "python",
   "nbconvert_exporter": "python",
   "pygments_lexer": "ipython3",
   "version": "3.10.17"
  }
 },
 "nbformat": 4,
 "nbformat_minor": 5
}
