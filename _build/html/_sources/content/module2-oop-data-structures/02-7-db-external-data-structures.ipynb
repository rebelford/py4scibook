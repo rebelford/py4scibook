{
 "cells": [
  {
   "cell_type": "markdown",
   "id": "b6aa8903-532f-40d1-bfba-3ce017d47364",
   "metadata": {},
   "source": [
    "(module2-oop-data-structures/02-7-db-external-data-structures)=\n",
    "# 7. Databases as External Data Structures"
   ]
  },
  {
   "cell_type": "markdown",
   "id": "484280f0-ae91-4719-9f50-3779d6ff0368",
   "metadata": {},
   "source": [
    "\n",
    "\n",
    "\n",
    "## How Databases and Web Services Fit Into the Picture\n",
    "They are an interesting hybrid, they store non-volatile data from the perspective of the python program, but access to them introduces elements of volatility:\n",
    "1. **Non-Volatile:** Data persists when the Python kernel/interpreter is shut down.\n",
    "2. **Volatile:** Unlike files, a database can be unavailable (e.g., server downtime), and data integrity can be affected by concurrent access.\n",
    "\n",
    "In a structured **progression from volatile to non-volatile** data from the perspective of a program, databases fit in as **external but queryable structures**:\n",
    "- Unlike files, they support **efficient querying** (e.g., SQL queries).\n",
    "- Unlike in-memory Python data structures, they **persist beyond execution** of a program.\n",
    "- Unlike JSON or CSV files, they allow **dynamic updates and complex relationships**.\n",
    "\n"
   ]
  },
  {
   "cell_type": "markdown",
   "id": "5d891575-e572-46ff-9aaa-6957e632421d",
   "metadata": {},
   "source": [
    "# 1. How a Computer Stores Data: Directory vs. Database\n",
    "So far we have looked at directories (file systems) and we need to understand the difference between a file system and a database.\n",
    "## 1.1 Directory (File Storage)\n",
    "- A **directory** is a hierarchical **tree structure** where files and folders are organized.\n",
    "- Files are stored as **binary data** on disk, and each file has **metadata** (name, size, type, last modified date).\n",
    "- You can perform **basic searches** (filename, date modified).\n",
    "- **No structured relations** between files, beyond directory hierarchies.\n",
    "\n",
    "### **Example: How a Directory Stores Chemistry Data**\n",
    "```\n",
    "/research_data/\n",
    "│── periodic_table.csv\n",
    "│── elements.json\n",
    "│── hydrogen.png\n",
    "│── lab_notes.txt\n",
    "```\n",
    "- You can find \"hydrogen.png\" by looking in `/research_data/` and searching filenames.\n",
    "- But if you want to ask, **“What are all the elements with atomic number < 10?”**, the directory itself does not support such structured queries.\n",
    "\n",
    "## 1.2 Database Storage\n",
    "A **database** is an organized system for storing and retrieving data with **structured querying**.\n",
    "- **Data is stored in a structured format** (tables, documents, graphs).\n",
    "- **Indexing enables fast queries** (retrieving data without scanning everything).\n",
    "- **Relationships exist between data**.\n",
    "\n",
    "\n",
    "## 2. Database Models: SQL, NoSQL, and Beyond\n",
    "\n",
    "There are multiple ways to structure and organize data in a database. The most common types include:\n",
    "\n",
    "### 2.1 Relational Databases (SQL)\n",
    "- Data is stored in **tables** with predefined columns (fields).\n",
    "- Tables are related to each other through **keys**.\n",
    "- Uses **Structured Query Language (SQL)** to manage and query data.\n",
    "- Example: SQLite, PostgreSQL, MySQL.\n",
    "- Example Schema:\n",
    "  ```\n",
    "  \n",
    "    Element Table:\n",
    "    | AtomicNumber | Symbol | Name  | AtomicWeight |\n",
    "    |-------------|--------|-------|--------------|\n",
    "    | 1           | H      | Hydrogen | 1.008      |\n",
    "    | 2           | He     | Helium   | 4.0026     |\n",
    "\n",
    "\n",
    "  ```\n",
    "- Relationships allow for structured queries like:\n",
    "  ```sql\n",
    "\n",
    "  SELECT * FROM Element WHERE AtomicNumber = 1;\n",
    "  ```\n",
    "  \n",
    "### 2.2 NoSQL Databases\n",
    "- Designed for flexibility and scale, handling **semi-structured or unstructured data**.\n",
    "- No fixed table structure; data is stored as **documents, key-value pairs, graphs, or columns**.\n",
    "\n",
    "Example **JSON document in MongoDB**:\n",
    "```json\n",
    "{\n",
    "  \"AtomicNumber\": 1,\n",
    "  \"Symbol\": \"H\",\n",
    "  \"Name\": \"Hydrogen\",\n",
    "  \"AtomicWeight\": 1.008\n",
    "}\n",
    "```\n",
    "Queries use **JSON-based query languages**, e.g.:\n",
    "```python\n",
    "db.elements.find({\"Symbol\": \"H\"})\n",
    "```\n",
    "### 2.3 Graph Databases (RDF and Triple Stores)\n",
    "- Used to model complex relationships, often found in semantic web and linked data applications.\n",
    "- Data is stored as **triples**: (subject, predicate, object).\n",
    "- Example:\n",
    "  ```\n",
    "  (\"Hydrogen\", \"isElement\", \"True\")\n",
    "  (\"Hydrogen\", \"atomicNumber\", \"1\")\n",
    "  (\"Hydrogen\", \"bondsWith\", \"Oxygen\")\n",
    "  ```\n",
    "- Queries use **SPARQL** instead of SQL."
   ]
  },
  {
   "cell_type": "markdown",
   "id": "7fcf459b-4b6b-4549-9727-b6748928aa6d",
   "metadata": {},
   "source": [
    "## Understanding Databases\n",
    "The core role of a database is to efficiently and persistently **store data** and in a structured and useful manner that **allows access to the data.** These goals can be achieved through 5 key database activities.\n",
    "\n",
    "| **Key Database Activity** | **Purpose** |\n",
    "|---------------------------|-------------|\n",
    "| **1. Transactions (Data Modification & Integrity)** | Manage data changes (`INSERT`, `UPDATE`, `DELETE`) ensuring consistency with commit & rollback mechanisms. |\n",
    "| **2. Schema Management** | Define tables, columns, relationships, and constraints to **structure the data**. |\n",
    "| **3. Data Querying & Retrieval** | Access stored data without modifying it (`SELECT` queries), allowing filtering, aggregation, and reporting. |\n",
    "| **4. Indexing & Optimization** | Speed up data access and searches by using indexes and optimizing queries for performance. |\n",
    "| **5. Concurrency & Multi-User Access** | Manage simultaneous access to prevent conflicts and ensure data consistency across multiple users. |\n"
   ]
  },
  {
   "cell_type": "markdown",
   "id": "caa6e70c-b617-438c-b890-74f46648ee42",
   "metadata": {},
   "source": [
    "# 3. SQL & Declarative Programming\n",
    "In a declarative programming language (SQL)you describe what you want, now how to get it.  In an object oriented procedural approach (Python) you specify step-by-step how to proceed with a task\n",
    "## 3.1 Comparing SQL to Python\n",
    "| **Feature** | **SQL (Database Language)** | **Python (Interpreted Language)** |\n",
    "|------------|---------------------|-----------------------|\n",
    "| **Purpose** | Query, store, and manipulate structured data | General-purpose programming |\n",
    "| **Execution** | Runs inside a **database engine** (SQLite, MySQL) | Runs in an **interpreter** (CPython, PyPy) |\n",
    "| **Typing** | Strongly typed schema (e.g., `INTEGER`, `TEXT`) | Dynamically typed (`int`, `str`, etc.) |\n",
    "| **Flow Control** | Limited (`CASE`, loops in stored procedures) | Full control (`if`, `for`, `while`) |\n",
    "| **Usage** | Optimized for fast **data retrieval and transactions** | Used for **programming logic, automation, and data processing** |\n",
    "\n",
    "## 3.2: SQL Breakdown Using Core Database Activities\n",
    "Each database activity maps to a set of **SQL commands (syntax)**. \n",
    "\n",
    "| **Database Activity**                | **Purpose**                                        | **SQL Syntax to Learn** |\n",
    "|--------------------------------------|--------------------------------------------------|------------------------|\n",
    "| **1. Transactions (Data Modification & Integrity)** | Modify data while ensuring consistency. | `INSERT`, `UPDATE`, `DELETE`, `COMMIT`, `ROLLBACK` |\n",
    "| **2. Schema Management**             | Define the structure of the database. | `CREATE TABLE`, `ALTER TABLE`, `DROP TABLE`, `PRAGMA` (SQLite-specific) |\n",
    "| **3. Data Querying & Retrieval**      | Retrieve data without modifying it. | `SELECT`, `WHERE`, `ORDER BY`, `GROUP BY`, `HAVING`, `LIMIT` |\n",
    "| **4. Indexing & Optimization**       | Improve query performance. | `CREATE INDEX`, `EXPLAIN QUERY PLAN`, `ANALYZE` |\n",
    "| **5. Concurrency & Multi-User Access** | Ensure consistency in multi-user environments. | SQLite handles this differently, but `BEGIN TRANSACTION`, `LOCKING` concepts apply. |\n",
    "\n",
    "### 3.2a: SQL Data Structures \n",
    "\"How Data is Stored\", this connects to **schema management** (Activity 2).\n",
    "\n",
    "| **Concept**           | **Python Equivalent**    | **SQL Equivalent (Schema Management)** |\n",
    "|----------------------|-------------------------|---------------------------------------|\n",
    "| **Lists & Dicts**    | `list`, `dict` (collections of data) | Tables (collections of structured data) |\n",
    "| **Attributes & Keys** | Dictionary keys, object attributes | Columns & Primary Keys |\n",
    "| **Relationships**     | Dictionary of dictionaries, nested lists | Foreign keys, joins |\n",
    "\n",
    "Example:\n",
    "```sql\n",
    "CREATE TABLE elements (\n",
    "    AtomicNumber INTEGER PRIMARY KEY,\n",
    "    Name TEXT NOT NULL,\n",
    "    Symbol TEXT NOT NULL,\n",
    "    AtomicMass REAL NOT NULL\n",
    ");\n",
    "```\n",
    "- This defines a **structured storage format** just like defining a Python `dict`.\n",
    "- \n",
    "### 3.2b: SQL Operations \n",
    "\"How Data is Manipulated\", this connects to **transactions** (Activity 1) and **querying** (Activity 3).\n",
    "\n",
    "| **Python Concept**     | **SQL Equivalent**               | **Example Query** |\n",
    "|----------------------|--------------------------------|------------------|\n",
    "| **Adding data (append)** | `INSERT INTO` | `INSERT INTO elements VALUES (1, 'Hydrogen', 'H', 1.008);` |\n",
    "| **Updating values** | `UPDATE` | `UPDATE elements SET AtomicMass = 1.0079 WHERE Symbol = 'H';` |\n",
    "| **Removing items (del, pop)** | `DELETE FROM` | `DELETE FROM elements WHERE AtomicNumber = 1;` |\n",
    "| **Filtering (if, list comprehensions)** | `WHERE` | `SELECT * FROM elements WHERE AtomicNumber > 10;` |\n",
    "| **Sorting (sorted function)** | `ORDER BY` | `SELECT * FROM elements ORDER BY AtomicMass DESC;` |\n",
    "\n",
    "---\n",
    "\n",
    "### 3.2c: SQL Query Execution \n",
    "\"How Queries Work\", this connects to **Indexing & Optimization** (Activity 4).\n",
    "\n",
    "- In Python, functions improve code efficiency.\n",
    "- In SQL, **indexes** speed up searches.\n",
    "\n",
    "Example:\n",
    "```sql\n",
    "CREATE INDEX idx_symbol ON elements(Symbol);\n",
    "```\n",
    "- This acts like a Python dictionary lookup for **faster queries** on `Symbol`.\n",
    "\n",
    "---\n",
    "\n",
    "### 3.2d: SQL Transactions & Multi-User Access\n",
    "This aligns with **Transactions** (Activity 1) and **Concurrency** (Activity 5).\n",
    "- In Python, you use `try-except` blocks to handle errors.\n",
    "- In SQL, **transactions ensure integrity**.\n",
    "\n",
    "Example:\n",
    "```sql\n",
    "BEGIN TRANSACTION;\n",
    "UPDATE elements SET AtomicMass = 1.0079 WHERE Symbol = 'H';\n",
    "COMMIT;\n",
    "```\n",
    "- `BEGIN TRANSACTION` acts like **starting a Python function**.\n",
    "- `COMMIT` **saves** the changes (like `return` in Python).\n",
    "- `ROLLBACK` **undoes** changes if there’s an error (like `try-except` in Python)."
   ]
  },
  {
   "cell_type": "markdown",
   "id": "5e37a172-7b1d-4b0d-88ee-6f1b6b424808",
   "metadata": {},
   "source": [
    "\n",
    "# 4. SQLite\n",
    "SQLite is a single file SQL database that can be generated and manipulated with the built-in Python sqlite3 module. Unlike larger SQL databases it does not require running a database server, and so it is an excellent tool to introduce basic database functions with. \n",
    "\n",
    "## The Role of SQLite in the SQL Ecosystem\n",
    "| Feature | SQLite | Server-Based SQL (MySQL, PostgreSQL) |\n",
    "|---------|--------|--------------------------------------|\n",
    "| Setup | No setup needed (file-based) | Requires installation & server |\n",
    "| Best For | Local storage, embedded apps, small projects | Large-scale web applications, enterprise systems |\n",
    "| Performance | Fast for small datasets | Scales well with huge data |\n",
    "| Concurrency | Limited multi-user access | Handles multiple users simultaneously |\n",
    "| Portability | Just a single `.db` file | Requires database servers & configurations |\n",
    "\n",
    "## 4.1 SQLite Objects (Classes)\n",
    "Databases involve several key operations and there are several SQLite python objects (classes) that we need to understand in order to communicate with and manipulate data within a SQLite database.  These are\n",
    "   1. **Connection:** Handles database access of a session (open, close, commit, rollback).\n",
    "   2. **Cursor:** Handles query execution and navigation, you can have multiple cursor objects in a connection.\n",
    "   3. **Row** Allows you to access values by column name instead of index.\n",
    "\n",
    "Since SQLite is, making it a great tool for small to medium datasets, research projects, and prototyping.\n",
    "\n",
    "\n",
    "### 4.1a: Connection Methods (`sqlite3.Connection`)\n",
    "| Method | Description |\n",
    "|--------|-------------|\n",
    "| `connect(database)` | Opens a connection to the SQLite database file. |\n",
    "| `close()` | Closes the connection to free up resources. |\n",
    "| `commit()` | Saves (commits) changes to the database. |\n",
    "| `rollback()` | Rolls back uncommitted changes. |\n",
    "| `cursor()` | Creates a cursor object to execute SQL commands. |\n",
    "| `execute(sql, params)` | Executes a single SQL command. |\n",
    "| `executemany(sql, seq_of_params)` | Executes a SQL command multiple times with different values. |\n",
    "\n",
    "---\n",
    "\n",
    "### 4.1b Cursor Methods (`sqlite3.Cursor`)\n",
    "| Method | Description |\n",
    "|--------|-------------|\n",
    "| `execute(sql, params)` | Executes a SQL query. |\n",
    "| `executemany(sql, seq_of_params)` | Executes a batch of SQL queries. |\n",
    "| `fetchone()` | Fetches the next row of the result set. |\n",
    "| `fetchall()` | Fetches all remaining rows of the result set. |\n",
    "| `fetchmany(size)` | Fetches `size` number of rows. |\n",
    "| `description` | A tuple containing metadata about the columns. |\n",
    "\n",
    "---"
   ]
  },
  {
   "cell_type": "markdown",
   "id": "aa5c924f-abad-4a91-bf10-2c420bc704d5",
   "metadata": {},
   "source": [
    "### 4.2Common Database Tasks in SQLite\n",
    "| Task | SQL Query | SQLite (`sqlite3`) Example |\n",
    "|------|----------|--------------------------|\n",
    "| **Show all tables** | `SELECT name FROM sqlite_master WHERE type='table';` | `cursor.execute(\"SELECT name FROM sqlite_master WHERE type='table';\")` |\n",
    "| **Show table structure** | `PRAGMA table_info(elements);` | `cursor.execute(\"PRAGMA table_info(elements);\")` |\n",
    "| **Get all records** | `SELECT * FROM elements;` | `cursor.execute(\"SELECT * FROM elements;\")` |\n",
    "| **Get first 5 records** | `SELECT * FROM elements LIMIT 5;` | `cursor.execute(\"SELECT * FROM elements LIMIT 5;\")` |\n",
    "| **Find specific element** | `SELECT * FROM elements WHERE symbol='H';` | `cursor.execute(\"SELECT * FROM elements WHERE symbol='H';\")` |\n",
    "| **Filter by condition** | `SELECT name, symbol FROM elements WHERE boiling_point < 25;` | `cursor.execute(\"SELECT name, symbol FROM elements WHERE boiling_point < 25;\")` |\n",
    "| **Sort results** | `SELECT * FROM elements ORDER BY atomic_mass DESC;` | `cursor.execute(\"SELECT * FROM elements ORDER BY atomic_mass DESC;\")` |\n",
    "| **Insert new record** | `INSERT INTO elements (symbol, name, atomic_mass) VALUES ('Xx', 'XenonX', 200);` | `cursor.execute(\"INSERT INTO elements (symbol, name, atomic_mass) VALUES (?, ?, ?)\", ('Xx', 'XenonX', 200))` |\n",
    "| **Update a record** | `UPDATE elements SET atomic_mass=18.02 WHERE symbol='H2O';` | `cursor.execute(\"UPDATE elements SET atomic_mass=? WHERE symbol=?\", (18.02, 'H2O'))` |\n",
    "| **Delete a record** | `DELETE FROM elements WHERE symbol='Xx';` | `cursor.execute(\"DELETE FROM elements WHERE symbol=?\", ('Xx',))` |\n"
   ]
  },
  {
   "cell_type": "markdown",
   "id": "289f50ab-6454-4077-aa31-d71fe3106fcd",
   "metadata": {},
   "source": [
    "# 5. SQLite Activity\n",
    "## 5.1: Create SQL Database\n",
    "We will start by creating a simple database called halogens.db in the sandbox with a table called elements that contains 4 fields (AtomicNumber, Name, Symbol and AtomicMass), along with specifying the type of data in each field."
   ]
  },
  {
   "cell_type": "code",
   "execution_count": 1,
   "id": "9f8f153f-30b6-476b-9935-9ac779363a4d",
   "metadata": {},
   "outputs": [],
   "source": [
    "import sqlite3\n",
    "import os\n",
    "\n",
    "# Define the directory structure\n",
    "sandbox_dir = os.path.expanduser(\"~/sandbox\")  # Parent directory\n",
    "os.makedirs(sandbox_dir, exist_ok=True)  # Ensure directories exist\n",
    "halogens_db_sbpath = os.path.join(sandbox_dir, \"halogens.db\")  # SQLite database file\n",
    "\n",
    "# Connect to SQLite database (creates file if it doesn't exist)\n",
    "conn = sqlite3.connect(halogens_db_sbpath)\n",
    "cursor = conn.cursor()\n",
    "\n",
    "# Create a table called elements\n",
    "cursor.execute('''\n",
    "    CREATE TABLE IF NOT EXISTS elements (\n",
    "        AtomicNumber INTEGER PRIMARY KEY,\n",
    "        Name TEXT NOT NULL,\n",
    "        Symbol TEXT NOT NULL,\n",
    "        AtomicMass REAL NOT NULL\n",
    "    )\n",
    "''')\n",
    "\n",
    "# Commit changes and close connection\n",
    "conn.commit()\n",
    "conn.close()"
   ]
  },
  {
   "cell_type": "code",
   "execution_count": 2,
   "id": "16c38ae7-9344-4650-aa16-25c6c0ffd404",
   "metadata": {},
   "outputs": [
    {
     "name": "stdout",
     "output_type": "stream",
     "text": [
      "(0, 'Element', 'TEXT', 0, None, 0)\n",
      "(1, 'AtomicNumber', 'INTEGER', 0, None, 0)\n",
      "(2, 'AtomicMass', 'REAL', 0, None, 0)\n",
      "(3, 'Electronegativity', 'REAL', 0, None, 0)\n"
     ]
    }
   ],
   "source": [
    "import sqlite3\n",
    "\n",
    "conn = sqlite3.connect(halogens_db_sbpath)\n",
    "cursor = conn.cursor()\n",
    "\n",
    "cursor.execute(\"PRAGMA table_info(elements)\")\n",
    "schema = cursor.fetchall()\n",
    "for col in schema:\n",
    "    print(col)\n",
    "\n",
    "conn.close()\n"
   ]
  },
  {
   "cell_type": "code",
   "execution_count": 3,
   "id": "cac57467-80d2-408c-bbe7-e46b00bb2428",
   "metadata": {},
   "outputs": [
    {
     "name": "stdout",
     "output_type": "stream",
     "text": [
      "('F', 9, 18.998, 3.98)\n",
      "('Cl', 17, 35.45, 3.16)\n",
      "('Br', 35, 79.904, 2.96)\n",
      "('I', 53, 126.9, 2.66)\n",
      "('At', 85, 210.0, 2.2)\n",
      "('Ts', 117, 294.0, None)\n"
     ]
    }
   ],
   "source": [
    "import sqlite3\n",
    "\n",
    "# Connect to your database\n",
    "conn = sqlite3.connect(halogens_db_sbpath)\n",
    "cursor = conn.cursor()\n",
    "\n",
    "# Select all rows from the elements table\n",
    "cursor.execute(\"SELECT * FROM elements\")\n",
    "rows = cursor.fetchall()\n",
    "\n",
    "# Print each row\n",
    "for row in rows:\n",
    "    print(row)\n",
    "\n",
    "# Close the connection\n",
    "conn.close()\n"
   ]
  },
  {
   "cell_type": "markdown",
   "id": "17d6e650-bd47-409f-add0-b9eda6f7c402",
   "metadata": {},
   "source": [
    "## 5.2: Insert Elements\n"
   ]
  },
  {
   "cell_type": "code",
   "execution_count": 4,
   "id": "4068e919-2d5c-4fe0-9063-517c929f19f9",
   "metadata": {},
   "outputs": [],
   "source": [
    "import sqlite3\n",
    "\n",
    "# Reconnect to the database\n",
    "conn = sqlite3.connect(halogens_db_sbpath)\n",
    "cursor = conn.cursor()\n",
    "\n",
    "# Insert element data\n",
    "elements_data = [\n",
    "    (\"H\", 1, 1.008, 2.4),\n",
    "    (\"Li\", 3, 6.94, 1.0)\n",
    "]\n",
    "\n",
    "cursor.executemany(\"INSERT INTO elements VALUES (?, ?, ?, ?)\", elements_data)\n",
    "\n",
    "# Commit changes and close connection\n",
    "conn.commit()\n",
    "conn.close()"
   ]
  },
  {
   "cell_type": "markdown",
   "id": "1893090c-9900-4ffa-9840-33005d358864",
   "metadata": {},
   "source": [
    "Reopen DB and Show Inserted Elements"
   ]
  },
  {
   "cell_type": "code",
   "execution_count": 5,
   "id": "56b50b0b-c029-4b2a-b937-b5712aae52ad",
   "metadata": {},
   "outputs": [
    {
     "name": "stdout",
     "output_type": "stream",
     "text": [
      "('F', 9, 18.998, 3.98)\n",
      "('Cl', 17, 35.45, 3.16)\n",
      "('Br', 35, 79.904, 2.96)\n",
      "('I', 53, 126.9, 2.66)\n",
      "('At', 85, 210.0, 2.2)\n",
      "('Ts', 117, 294.0, None)\n",
      "('H', 1, 1.008, 2.4)\n",
      "('Li', 3, 6.94, 1.0)\n"
     ]
    }
   ],
   "source": [
    "import sqlite3\n",
    "\n",
    "# Connect to your database\n",
    "conn = sqlite3.connect(halogens_db_sbpath)\n",
    "cursor = conn.cursor()\n",
    "\n",
    "# Select all rows from the elements table\n",
    "cursor.execute(\"SELECT * FROM elements\")\n",
    "rows = cursor.fetchall()\n",
    "\n",
    "# Print each row\n",
    "for row in rows:\n",
    "    print(row)\n",
    "\n",
    "# Close the connection\n",
    "conn.close()\n"
   ]
  },
  {
   "cell_type": "markdown",
   "id": "bcb6f4ea-d15a-43cc-824b-19cdb6484f97",
   "metadata": {},
   "source": [
    "## 5.3: Changing Data Value"
   ]
  },
  {
   "cell_type": "code",
   "execution_count": 6,
   "id": "3a7d568b-94d9-41f2-965c-f9307e8e7772",
   "metadata": {},
   "outputs": [],
   "source": [
    "import sqlite3\n",
    "\n",
    "# Connect to your database\n",
    "conn = sqlite3.connect(halogens_db_sbpath)\n",
    "cursor = conn.cursor()\n",
    "\n",
    "# Update Electronegativity for Hydrogen and Lithium\n",
    "cursor.execute(\"\"\"\n",
    "    UPDATE elements\n",
    "    SET Electronegativity = 2.2\n",
    "    WHERE Element = 'H'\n",
    "\"\"\")\n",
    "\n",
    "cursor.execute(\"\"\"\n",
    "    UPDATE elements\n",
    "    SET Electronegativity = 0.98\n",
    "    WHERE Element = 'Li'\n",
    "\"\"\")\n",
    "\n",
    "# Commit changes and close connection\n",
    "conn.commit()\n",
    "conn.close()\n"
   ]
  },
  {
   "cell_type": "markdown",
   "id": "ebbfaa58-cc7f-4101-a2d2-937a89003738",
   "metadata": {},
   "source": [
    "**Show Values have Changed**"
   ]
  },
  {
   "cell_type": "code",
   "execution_count": 7,
   "id": "b5bae543-6cdc-49fd-aca0-eb5627d4da34",
   "metadata": {},
   "outputs": [
    {
     "name": "stdout",
     "output_type": "stream",
     "text": [
      "('F', 9, 18.998, 3.98)\n",
      "('Cl', 17, 35.45, 3.16)\n",
      "('Br', 35, 79.904, 2.96)\n",
      "('I', 53, 126.9, 2.66)\n",
      "('At', 85, 210.0, 2.2)\n",
      "('Ts', 117, 294.0, None)\n",
      "('H', 1, 1.008, 2.2)\n",
      "('Li', 3, 6.94, 0.98)\n"
     ]
    }
   ],
   "source": [
    "import sqlite3\n",
    "\n",
    "# Connect to your database\n",
    "conn = sqlite3.connect(halogens_db_sbpath)\n",
    "cursor = conn.cursor()\n",
    "\n",
    "# Select all rows from the elements table\n",
    "cursor.execute(\"SELECT * FROM elements\")\n",
    "rows = cursor.fetchall()\n",
    "\n",
    "# Print each row\n",
    "for row in rows:\n",
    "    print(row)\n",
    "\n",
    "# Close the connection\n",
    "conn.close()\n"
   ]
  },
  {
   "cell_type": "markdown",
   "id": "b206b577-5090-4b64-9c2e-8fedc50890b7",
   "metadata": {},
   "source": [
    "## 5.4: Deleting Data Value\n",
    "Hydrogen and Lithium are not halogens so lets remove them from the database"
   ]
  },
  {
   "cell_type": "code",
   "execution_count": 8,
   "id": "b46c360f-9390-4853-874c-a6f25b965a40",
   "metadata": {},
   "outputs": [],
   "source": [
    "import sqlite3\n",
    "\n",
    "conn = sqlite3.connect(halogens_db_sbpath)\n",
    "cursor = conn.cursor()\n",
    "\n",
    "# Delete incorrect rows based on suspicious 'Element' values\n",
    "cursor.execute(\"DELETE FROM elements WHERE Element IN ('H', 'Li')\")\n",
    "\n",
    "conn.commit()\n",
    "conn.close()\n"
   ]
  },
  {
   "cell_type": "markdown",
   "id": "383d2ac9-d09e-44bd-a5d5-a80858f6d878",
   "metadata": {},
   "source": [
    "Show Hydrogen and Lithium are removed from the data base"
   ]
  },
  {
   "cell_type": "markdown",
   "id": "668e0604-6c78-45b9-9cd7-68e7c8106f65",
   "metadata": {},
   "source": [
    "## 5.5: Query Data\n",
    "Find all elements with Atomic Number >= 10."
   ]
  },
  {
   "cell_type": "code",
   "execution_count": 9,
   "id": "630b57f7-cb4d-4a9a-a22e-284a3b887d67",
   "metadata": {},
   "outputs": [
    {
     "name": "stdout",
     "output_type": "stream",
     "text": [
      "('F', 9, 18.998, 3.98)\n",
      "('Cl', 17, 35.45, 3.16)\n",
      "('Br', 35, 79.904, 2.96)\n",
      "('I', 53, 126.9, 2.66)\n",
      "('At', 85, 210.0, 2.2)\n",
      "('Ts', 117, 294.0, None)\n"
     ]
    }
   ],
   "source": [
    "import sqlite3\n",
    "\n",
    "# Connect to your database\n",
    "conn = sqlite3.connect(halogens_db_sbpath)\n",
    "cursor = conn.cursor()\n",
    "\n",
    "# Select all rows from the elements table\n",
    "cursor.execute(\"SELECT * FROM elements\")\n",
    "rows = cursor.fetchall()\n",
    "\n",
    "# Print each row\n",
    "for row in rows:\n",
    "    print(row)\n",
    "\n",
    "# Close the connection\n",
    "conn.close()\n"
   ]
  },
  {
   "cell_type": "code",
   "execution_count": 10,
   "id": "011676c7-0edb-4baa-9d4b-85df5e22accb",
   "metadata": {},
   "outputs": [
    {
     "name": "stdout",
     "output_type": "stream",
     "text": [
      "('Cl', 17)\n",
      "('Br', 35)\n",
      "('I', 53)\n",
      "('At', 85)\n",
      "('Ts', 117)\n"
     ]
    }
   ],
   "source": [
    "import sqlite3\n",
    "\n",
    "# Reconnect and create a cursor\n",
    "conn = sqlite3.connect(halogens_db_sbpath)\n",
    "cursor = conn.cursor()\n",
    "\n",
    "# Run a query\n",
    "#cursor.execute(\"SELECT Element FROM elements WHERE AtomicNumber >= 10\")\n",
    "cursor.execute(\"SELECT Element, AtomicNumber FROM elements WHERE AtomicNumber >= 10\")\n",
    "\n",
    "\n",
    "# Fetch and print results\n",
    "results = cursor.fetchall()\n",
    "for row in results:\n",
    "    print(row)  # Each row is a tuple (Name, Symbol)\n",
    "\n",
    "# Close connection\n",
    "conn.close()"
   ]
  },
  {
   "cell_type": "markdown",
   "id": "905aedfe-ca96-4a33-95d4-a2daeca7a524",
   "metadata": {},
   "source": [
    "## 5.6: Convert to Pandas DataFrame\n",
    "This converts the data to a Pandas DataFrame and prints top 5 rows"
   ]
  },
  {
   "cell_type": "code",
   "execution_count": 11,
   "id": "22a3da87-0cba-4e2e-a789-e8577c24dd91",
   "metadata": {},
   "outputs": [
    {
     "name": "stdout",
     "output_type": "stream",
     "text": [
      "  Element  AtomicNumber  AtomicMass  Electronegativity\n",
      "0       F             9      18.998               3.98\n",
      "1      Cl            17      35.450               3.16\n",
      "2      Br            35      79.904               2.96\n",
      "3       I            53     126.900               2.66\n",
      "4      At            85     210.000               2.20\n",
      "5      Ts           117     294.000                NaN\n"
     ]
    }
   ],
   "source": [
    "import sqlite3\n",
    "import pandas as pd\n",
    "\n",
    "# Reconnect to the database\n",
    "conn = sqlite3.connect(halogens_db_sbpath)\n",
    "\n",
    "# Read SQL query into DataFrame\n",
    "df = pd.read_sql_query(\"SELECT * FROM elements\", conn)\n",
    "\n",
    "# Display DataFrame\n",
    "print(df.head(10))\n",
    "\n",
    "# Close connection\n",
    "conn.close()"
   ]
  },
  {
   "cell_type": "markdown",
   "id": "4d32dc24-7f6d-4b6c-b137-bd6ef3dcc743",
   "metadata": {},
   "source": [
    "\n",
    "## 5.7: Create a Database from halogens.csv\n",
    "Note, the workflow: we convert csv file to pandas dataframe and then the dataframe to the sql database, and we are replacing the data in the elements table, not appending to it"
   ]
  },
  {
   "cell_type": "code",
   "execution_count": 12,
   "id": "9e22d900-e89b-400f-b594-7e7e21055452",
   "metadata": {},
   "outputs": [],
   "source": [
    "import sqlite3\n",
    "import pandas as pd\n",
    "import os\n",
    "\n",
    "# Define the directory structure\n",
    "sandbox_dir = os.path.expanduser(\"~/sandbox\")  # Parent directory\n",
    "os.makedirs(sandbox_dir, exist_ok=True)  # Ensure directories exist\n",
    "\n",
    "# Define file paths\n",
    "halogens_csv_sbpath = os.path.join(sandbox_dir, \"halogens.csv\")\n",
    "halogens_db_sbpath = os.path.join(sandbox_dir, \"halogens.db\")  # SQLite database file\n",
    "\n",
    "# Load CSV file into Pandas DataFrame\n",
    "df = pd.read_csv(halogens_csv_sbpath)\n",
    "\n",
    "# Connect to SQLite database (creates the file if it doesn’t exist)\n",
    "conn = sqlite3.connect(halogens_db_sbpath)\n",
    "cursor = conn.cursor()\n",
    "\n",
    "# Create table (adjust column names to match CSV headers)\n",
    "cursor.execute(\"\"\"\n",
    "    CREATE TABLE IF NOT EXISTS elements (\n",
    "        Element TEXT NOT NULL,\n",
    "        atomic_number INTEGER PRIMARY KEY,\n",
    "        atomic_mass REAL,\n",
    "        Electronegativity REAL\n",
    "    )\n",
    "\"\"\")\n",
    "\n",
    "# Insert data from DataFrame into SQLite table, this replaces  the data\n",
    "df.to_sql(\"elements\", conn, if_exists=\"replace\", index=False)\n",
    "\n",
    "# Commit changes and close connection\n",
    "conn.commit()\n",
    "conn.close()"
   ]
  },
  {
   "cell_type": "markdown",
   "id": "4f374037-4dcd-4d7d-afc0-31879fef7ba3",
   "metadata": {},
   "source": [
    "## 5.8: Print Tables in Database"
   ]
  },
  {
   "cell_type": "code",
   "execution_count": 13,
   "id": "8da2b8ff-749d-4822-a22c-d9c678b499b4",
   "metadata": {},
   "outputs": [
    {
     "name": "stdout",
     "output_type": "stream",
     "text": [
      "Tables in the database: [('elements',)]\n"
     ]
    }
   ],
   "source": [
    "import sqlite3\n",
    "\n",
    "conn = sqlite3.connect(halogens_db_sbpath)\n",
    "cursor = conn.cursor()\n",
    "\n",
    "cursor.execute(\"SELECT name FROM sqlite_master WHERE type='table';\")\n",
    "tables = cursor.fetchall()\n",
    "\n",
    "print(\"Tables in the database:\", tables)\n",
    "conn.close()"
   ]
  },
  {
   "cell_type": "markdown",
   "id": "5aa862c8-1e90-4c22-ad18-2be7b153851b",
   "metadata": {},
   "source": [
    "## 5.9: Print Fields (Columns) in Database"
   ]
  },
  {
   "cell_type": "code",
   "execution_count": 14,
   "id": "0da11d33-59f5-41b2-9397-ebdd2a83d619",
   "metadata": {},
   "outputs": [
    {
     "name": "stdout",
     "output_type": "stream",
     "text": [
      "Fields in the 'elements' table: ['Element', 'Atomic Number', 'Atomic Mass', 'Electronegativity']\n"
     ]
    }
   ],
   "source": [
    "conn = sqlite3.connect(halogens_db_sbpath)\n",
    "cursor = conn.cursor()\n",
    "\n",
    "cursor.execute(\"PRAGMA table_info(elements);\")\n",
    "fields = [row[1] for row in cursor.fetchall()]\n",
    "\n",
    "print(\"Fields in the 'elements' table:\", fields)\n",
    "conn.close()"
   ]
  },
  {
   "cell_type": "markdown",
   "id": "a910e2bd-d1a2-45cf-ab09-b56f2dfc2671",
   "metadata": {},
   "source": [
    "**Warning** the column names 'Atomic Number' and \"Atomic Mass' have two words and we need to make them one word or SQLite will give a name error if we seek to use them. That is, the following would throw an error:\n",
    "```python\n",
    "conn = sqlite3.connect(halogens_db_file_path)\n",
    "cursor = conn.cursor()\n",
    "\n",
    "cursor.execute(\"PRAGMA table_info(elements);\")\n",
    "fields = [row[1] for row in cursor.fetchall()]\n",
    "\n",
    "print(\"Fields in the 'elements' table:\", fields)\n",
    "conn.close()\n",
    "```"
   ]
  },
  {
   "cell_type": "code",
   "execution_count": 15,
   "id": "34cb6df7-8a9d-42e4-b6c8-c8471d8cc283",
   "metadata": {},
   "outputs": [
    {
     "name": "stdout",
     "output_type": "stream",
     "text": [
      "Fields in the 'elements' table: ['Element', 'AtomicNumber', 'AtomicMass', 'Electronegativity']\n"
     ]
    }
   ],
   "source": [
    "conn = sqlite3.connect(halogens_db_sbpath)\n",
    "cursor = conn.cursor()\n",
    "cursor.execute('ALTER TABLE elements RENAME COLUMN \"Atomic Mass\" TO AtomicMass;')\n",
    "cursor.execute('ALTER TABLE elements RENAME COLUMN \"Atomic Number\" TO AtomicNumber;')\n",
    "\n",
    "cursor.execute(\"PRAGMA table_info(elements);\")\n",
    "fields = [row[1] for row in cursor.fetchall()]\n",
    "\n",
    "print(\"Fields in the 'elements' table:\", fields)\n",
    "conn.close()"
   ]
  },
  {
   "cell_type": "markdown",
   "id": "c968755e-c92a-4a9e-99f1-1b0df57387ce",
   "metadata": {},
   "source": [
    "## 5.10: Print first 5 Records (rows)"
   ]
  },
  {
   "cell_type": "code",
   "execution_count": 16,
   "id": "19d5a262-8efd-4981-a4b8-2d8e53aede50",
   "metadata": {},
   "outputs": [
    {
     "name": "stdout",
     "output_type": "stream",
     "text": [
      "('F', 9, 18.998, 3.98)\n",
      "('Cl', 17, 35.45, 3.16)\n",
      "('Br', 35, 79.904, 2.96)\n",
      "('I', 53, 126.9, 2.66)\n",
      "('At', 85, 210.0, 2.2)\n"
     ]
    }
   ],
   "source": [
    "conn = sqlite3.connect(halogens_db_sbpath)\n",
    "cursor = conn.cursor()\n",
    "\n",
    "cursor.execute(\"SELECT * FROM elements LIMIT 5;\")\n",
    "records = cursor.fetchall()\n",
    "\n",
    "for record in records:\n",
    "    print(record)\n",
    "\n",
    "conn.close()"
   ]
  },
  {
   "cell_type": "markdown",
   "id": "9fa026a0-005a-4ff9-91c9-73a04007f770",
   "metadata": {},
   "source": [
    "## 5.11: Find Elements with mass less than 50 amu."
   ]
  },
  {
   "cell_type": "code",
   "execution_count": 17,
   "id": "3b86d1ff-9f13-4c3c-9373-2e25726b986c",
   "metadata": {},
   "outputs": [
    {
     "name": "stdout",
     "output_type": "stream",
     "text": [
      "Elements that weight less than 50 amu:\n",
      "('F',)\n",
      "('Cl',)\n",
      "[(35.45,)]\n",
      "<class 'list'>\n"
     ]
    }
   ],
   "source": [
    "conn = sqlite3.connect(halogens_db_sbpath)\n",
    "cursor = conn.cursor()\n",
    "\n",
    "cursor.execute(\"SELECT Element FROM elements WHERE AtomicMass < 50;\")\n",
    "light_elements = cursor.fetchall()\n",
    "\n",
    "print(\"Elements that weight less than 50 amu:\")\n",
    "for element in light_elements:\n",
    "    print(element)\n",
    "cursor.execute(\"SELECT AtomicMass FROM elements WHERE Element LIKE 'Cl';\")\n",
    "var=cursor.fetchall()\n",
    "conn.close()\n",
    "print(var)\n",
    "print(type(var))"
   ]
  },
  {
   "cell_type": "markdown",
   "id": "9f8645e5-5c8a-44ee-a107-6ffe2b67e07d",
   "metadata": {},
   "source": [
    "Why Does `fetchall()` Return `[(35.45,)]`?\n",
    "- `fetchall()` **always** returns a **list of tuples**, even if there's only **one result**.\n",
    "- Each **row** is returned as a **tuple**, and `fetchall()` collects all rows into a **list**.\n",
    "```python\n",
    "var = cursor.fetchall()\n",
    "atomic_mass = var[0][0]  # Extract first row (tuple) and first column (value)\n",
    "print(atomic_mass)  # Output: 35.45\n",
    "print(type(atomic_mass))  # Output: <class 'float'>\n",
    "```\n",
    "- `var[0]` gives **the first row** → `(35.45,)`\n",
    "- `var[0][0]` gives **the first value** → `35.45`\n",
    "\n",
    "| Query Method | Output | How to Extract Float |\n",
    "|-------------|--------|----------------------|\n",
    "| `fetchall()` | `[(35.45,)]` | `var[0][0]` |\n",
    "| `fetchone()` | `(35.45,)` | `var[0]` |\n"
   ]
  },
  {
   "cell_type": "code",
   "execution_count": 18,
   "id": "6cd2a990-ce97-4c3e-9870-f4740b535912",
   "metadata": {},
   "outputs": [
    {
     "name": "stdout",
     "output_type": "stream",
     "text": [
      "35.45 <class 'float'>\n"
     ]
    }
   ],
   "source": [
    "conn = sqlite3.connect(halogens_db_sbpath)\n",
    "cursor = conn.cursor()\n",
    "\n",
    "cursor.execute(\"SELECT AtomicMass FROM elements WHERE Element LIKE 'Cl';\")\n",
    "var = cursor.fetchone()  # Use fetchone() for a single value\n",
    "conn.close()\n",
    "atomic_mass = var[0]  # Extract float value\n",
    "print(atomic_mass, type(atomic_mass))  # Output: 35.45 <class 'float'>\n",
    "\n"
   ]
  },
  {
   "cell_type": "markdown",
   "id": "34051a66-f9ff-40be-be7d-576e23160e6e",
   "metadata": {},
   "source": [
    "## 5.12: Find Element with largest Atomic Mass"
   ]
  },
  {
   "cell_type": "code",
   "execution_count": 19,
   "id": "81086a92-ff64-427f-bf2c-ea7f7e455e95",
   "metadata": {},
   "outputs": [
    {
     "name": "stdout",
     "output_type": "stream",
     "text": [
      "Heaviest element: ('Ts', 294.0)\n"
     ]
    }
   ],
   "source": [
    "conn = sqlite3.connect(halogens_db_sbpath)\n",
    "cursor = conn.cursor()\n",
    "\n",
    "cursor.execute(\"SELECT Element, AtomicMass FROM elements ORDER BY AtomicMass DESC LIMIT 1;\")\n",
    "heaviest_element = cursor.fetchone()\n",
    "\n",
    "print(\"Heaviest element:\", heaviest_element)\n",
    "conn.close()"
   ]
  },
  {
   "cell_type": "markdown",
   "id": "dffd05ee-66f9-4491-afe4-054dc12a7785",
   "metadata": {},
   "source": [
    "## 5.13: Convert db to pandas dataframe"
   ]
  },
  {
   "cell_type": "code",
   "execution_count": 20,
   "id": "2a6fbb94-ca82-4c47-bc8e-a43e302e031e",
   "metadata": {},
   "outputs": [
    {
     "name": "stdout",
     "output_type": "stream",
     "text": [
      "  Element  AtomicNumber  AtomicMass  Electronegativity\n",
      "0       F             9      18.998               3.98\n",
      "1      Cl            17      35.450               3.16\n",
      "2      Br            35      79.904               2.96\n",
      "3       I            53     126.900               2.66\n",
      "4      At            85     210.000               2.20\n",
      "5      Ts           117     294.000                NaN\n"
     ]
    }
   ],
   "source": [
    "import sqlite3\n",
    "import pandas as pd\n",
    "\n",
    "# Connect to SQLite database\n",
    "conn = sqlite3.connect(halogens_db_sbpath)\n",
    "\n",
    "# Load entire 'elements' table into a DataFrame\n",
    "df = pd.read_sql_query(\"SELECT * FROM elements;\", conn)\n",
    "\n",
    "# Close connection\n",
    "conn.close()\n",
    "\n",
    "# Display DataFrame\n",
    "print(df)\n"
   ]
  },
  {
   "cell_type": "markdown",
   "id": "152cfe3b-2a58-4584-a93a-3ca4deebeb03",
   "metadata": {},
   "source": [
    "# Acknowledgements\n",
    "This content was developed with assistance from [Perplexity AI](https://www.perplexity.ai/) and [Chat GPT](https://chatgpt.com/). Multiple queries were made during the Fall 2024 and the Spring 2025."
   ]
  }
 ],
 "metadata": {
  "kernelspec": {
   "display_name": "Python (py4sci)",
   "language": "python",
   "name": "py4sci"
  },
  "language_info": {
   "codemirror_mode": {
    "name": "ipython",
    "version": 3
   },
   "file_extension": ".py",
   "mimetype": "text/x-python",
   "name": "python",
   "nbconvert_exporter": "python",
   "pygments_lexer": "ipython3",
   "version": "3.10.17"
  }
 },
 "nbformat": 4,
 "nbformat_minor": 5
}
