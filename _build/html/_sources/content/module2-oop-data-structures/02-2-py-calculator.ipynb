{
 "cells": [
  {
   "cell_type": "markdown",
   "id": "e565d2e9-86b2-43d1-b1c6-97e74908f360",
   "metadata": {},
   "source": [
    "(module2-oop-data-structures/02-2-py-calculator)=\n",
    "# 2. Python as a Calculator"
   ]
  },
  {
   "cell_type": "markdown",
   "id": "e216bd4b-b7f5-4147-940a-4cd2e570bd12",
   "metadata": {},
   "source": [
    "# Basic Math with Python\n",
    "## three types of numbers\n",
    "* Float\n",
    "* Integer\n",
    "* Complex\n",
    "\n",
    "## Operators\n",
    "* (+) Addition (returns float or integer)\n",
    "* (-) Subtraction (returns float or integer)\n",
    "* (*) (returns float or integer)\n",
    "* (**) exponentiation (returns float or integer)\n",
    "* (/) Division returns floats\n",
    "* (//) Floor or Integer Division returns quotient as an integer\n",
    "* (%) modulus returns remainder\n",
    "\n",
    "note: the equal sign is really the assignment operator, and when we write x=9/3 what we are doing is assigning the value of the division of 9 by 3 to the variable x.  We then pass x as an argument to the print() function.  The print function is a standard function of python and so we do not need to import a module to access it.\n",
    "### Division"
   ]
  },
  {
   "cell_type": "code",
   "execution_count": 1,
   "id": "106bd05a-b78e-4e26-ab2b-d1f054a9242f",
   "metadata": {},
   "outputs": [
    {
     "name": "stdout",
     "output_type": "stream",
     "text": [
      "3.0\n",
      "<class 'int'>\n",
      "<class 'int'>\n",
      "<class 'float'>\n"
     ]
    }
   ],
   "source": [
    "''' Division return float values\n",
    "Here we use the equal sign to assign a value to the variable x \n",
    "and then pass it to the print function to print the value of x.'''\n",
    "\n",
    "x = 9/3\n",
    "print(x)\n",
    "print(type(9))\n",
    "print(type(3))\n",
    "print(type(x))"
   ]
  },
  {
   "cell_type": "markdown",
   "id": "e422ff44-b490-47c4-8c00-0baa384d07fb",
   "metadata": {},
   "source": [
    "In the next cell we format our output using the [f-string format technique](https://www.w3schools.com/python/python_string_formatting.asp).  The form of this technique is:\n",
    "\n",
    "**print(f\"write what you want with {variables} in curly brackets\")**\n",
    "\n",
    "**Note the '\\n\\ '** at the end of the second line of code\n",
    "* the \"\\n\" places a new line in the print output (remove it and see what happens)\n",
    "* the second \"\\\" in \"\\n\\\" lets us continue the code on a second line (remove it and see what happens).  You can move the second line of code up to the first and it will work again.\n",
    "\n",
    "**Note** how we could even operate on the variable within the f-string"
   ]
  },
  {
   "cell_type": "code",
   "execution_count": 2,
   "id": "c6485f95-f790-45f3-bcda-cad348220a4d",
   "metadata": {},
   "outputs": [
    {
     "name": "stdout",
     "output_type": "stream",
     "text": [
      "x = 9/3 = 3.0,\n",
      "you an even operate on a variable, for example \n",
      "x/3 = 1.0 \n",
      "or print out the quotient type, which is <class 'float'>\n"
     ]
    }
   ],
   "source": [
    "# Division return float values\n",
    "#Here we use the f-string to format the output, where the variables are placed in {}.\n",
    "\n",
    "x = 9/3\n",
    "print(f\"x = 9/3 = {x},\\nyou an even operate on a variable, for example \\n\\\n",
    "x/3 = {x/3} \\nor print out the quotient type, which is {type(x)}\")"
   ]
  },
  {
   "attachments": {},
   "cell_type": "markdown",
   "id": "9de75ac2-23d3-40e7-837a-c0c62041b3f2",
   "metadata": {},
   "source": [
    "### Integer  Division\n",
    "#### Floor and Modulus\n",
    "In the next cell we will look at Integer division, which returns the Floor (quotient) and modulus (remainder)\n",
    "<div>\n",
    "<img src=\"images/00be6873-8fa9-45bf-ada3-c109b6381832.png\" width=\"400\"/>\n",
    "</div>\n",
    "Note: this is commonly written as dividend ÷ divisor or $\\frac{dividend}{divisor}$"
   ]
  },
  {
   "cell_type": "code",
   "execution_count": 3,
   "id": "77fb1392-cac5-4e41-95fc-7b2d6c830ce6",
   "metadata": {},
   "outputs": [
    {
     "name": "stdout",
     "output_type": "stream",
     "text": [
      "9%3 = 0, for which the modulus (remainder) is <class 'int'>\n",
      "7%3 = 1, for which the modulus (remainder) is <class 'int'>\n"
     ]
    }
   ],
   "source": [
    "#The modulus (%) returns the remainder, which is an integer\n",
    "z = 9%3\n",
    "print(f\"9%3 = {z}, for which the modulus (remainder) is {type(z)}\")\n",
    "\n",
    "z = 7%3\n",
    "print(f\"7%3 = {z}, for which the modulus (remainder) is {type(z)}\")"
   ]
  },
  {
   "cell_type": "markdown",
   "id": "28112e8f-bb13-4f3c-97c2-79d8b35274e7",
   "metadata": {},
   "source": [
    "### Multiplication and Exponentiation \n",
    "Can result in either integers or floats"
   ]
  },
  {
   "cell_type": "code",
   "execution_count": 4,
   "id": "5ff094f6-166a-4496-b4a7-1dfa31a9f22e",
   "metadata": {},
   "outputs": [
    {
     "name": "stdout",
     "output_type": "stream",
     "text": [
      "2*3 = 6\n",
      "for which the product is <class 'int'>\n",
      "\n",
      "2.0*3 = 6.0\n",
      "for which the product is <class 'float'>\n",
      "\n"
     ]
    }
   ],
   "source": [
    "# multiplication can give integers or floats\n",
    "a = 2*3\n",
    "print(f\"2*3 = {a}\\nfor which the product is {type(a)}\\n\")\n",
    "\n",
    "b = 2.0*3\n",
    "print(f\"2.0*3 = {b}\\nfor which the product is {type(b)}\\n\")"
   ]
  },
  {
   "cell_type": "code",
   "execution_count": 5,
   "id": "e6db2f48-81e2-4d6a-95dd-97ed76f65df8",
   "metadata": {},
   "outputs": [
    {
     "name": "stdout",
     "output_type": "stream",
     "text": [
      "2**3 = 8\n",
      "for which the result is <class 'int'>\n",
      "\n",
      "2.0**3 = 8.0\n",
      "for which the result is <class 'float'>\n",
      "\n",
      "2**3.0 = 8.0\n",
      "for which the result is <class 'float'>\n"
     ]
    }
   ],
   "source": [
    "# Exponentiation can give integers or floats\n",
    "c = 2**3\n",
    "print(f\"2**3 = {c}\\nfor which the result is {type(c)}\\n\")\n",
    "\n",
    "e = 2.0**3\n",
    "print(f\"2.0**3 = {e}\\nfor which the result is {type(e)}\\n\")\n",
    "\n",
    "f = 2**3.0\n",
    "print(f\"2**3.0 = {f}\\nfor which the result is {type(f)}\")"
   ]
  },
  {
   "cell_type": "markdown",
   "id": "8a867c8f-44a8-456b-907e-3846e438e466",
   "metadata": {},
   "source": [
    "## Math module\n",
    "The math module is a built-in module that comes with your installation of python. When you start Python it is not loaded into memory and you need to import it before you can use it with the statement:\n",
    "\n",
    "**import math**\n",
    "### Table of Common Math functions\n",
    "| Method/Constant | Description |\n",
    "|-----------------|-------------|\n",
    "| `math.ceil(x)` | Returns the smallest integer greater than or equal to x |\n",
    "| `math.floor(x)` | Returns the largest integer less than or equal to x |\n",
    "| `math.fabs(x)` | Returns the absolute value of x |\n",
    "| `math.factorial(x)` | Returns the factorial of x |\n",
    "| `math.gcd(a, b)` | Returns the greatest common divisor of a and b |\n",
    "| `math.exp(x)` | Returns e raised to the power of x |\n",
    "| `math.log(x[, base])` | Returns the logarithm of x to the given base (default is e) |\n",
    "| `math.log10(x)` | Returns the base-10 logarithm of x |\n",
    "| `math.pow(x, y)` | Returns x raised to the power of y |\n",
    "| `math.sqrt(x)` | Returns the square root of x |\n",
    "| `math.sin(x)` | Returns the sine of x (x in radians) |\n",
    "| `math.cos(x)` | Returns the cosine of x (x in radians) |\n",
    "| `math.tan(x)` | Returns the tangent of x (x in radians) |\n",
    "| `math.degrees(x)` | Converts angle x from radians to degrees |\n",
    "| `math.radians(x)` | Converts angle x from degrees to radians |\n",
    "| `math.pi` | Mathematical constant pi (3.141592...) |\n",
    "| `math.e` | Mathematical constant e (2.718281...) |\n",
    "\n"
   ]
  },
  {
   "cell_type": "code",
   "execution_count": 6,
   "id": "707c02e5-2157-4866-b784-2bd16a6c004a",
   "metadata": {},
   "outputs": [
    {
     "name": "stdout",
     "output_type": "stream",
     "text": [
      "7.0\n",
      "7.0\n",
      "7.0\n"
     ]
    }
   ],
   "source": [
    "import math\n",
    "pH = -math.log10(1e-7)\n",
    "print(pH)\n",
    "pH = -math.log10(1E-7)\n",
    "print(pH)\n",
    "pH = -math.log10(10**-7)\n",
    "print(pH)"
   ]
  },
  {
   "cell_type": "markdown",
   "id": "2babea15-5803-46c1-b002-d77f80aec361",
   "metadata": {},
   "source": [
    "Henderson-Hasselbalch equation$$\n",
    "pH = pK_a + \\log\\left(\\frac{\\text{conjugate base}}{\\text{acid}}\\right)$$\n",
    "\n"
   ]
  },
  {
   "cell_type": "markdown",
   "id": "05df70d7-1e30-43c8-ace2-271413b99b78",
   "metadata": {},
   "source": [
    "<div class=\"alert alert-info\">  \n",
    "    \n",
    "<center>Uncomment this code in the following cell when you transfer to a Jupyter Notebook</center> \n",
    "\n",
    "```python\n",
    "#c_base=float(input(\"Enter the concentration of conjugate base\"))\n",
    "#c_acid=float(input(\"Enter the concentration of the acid\"))\n",
    "#K_a = float(input(\"Enter acid dissociation constant\"))\n",
    "```\n",
    "</div>"
   ]
  },
  {
   "cell_type": "code",
   "execution_count": 18,
   "id": "f0fad728-1d24-4728-a9c4-5cd5dc333af2",
   "metadata": {},
   "outputs": [
    {
     "name": "stdout",
     "output_type": "stream",
     "text": [
      "4.0\n"
     ]
    }
   ],
   "source": [
    "c_base=.1\n",
    "c_acid=.1\n",
    "K_a=0.0001\n",
    "# Uncomment the following three lines\n",
    "#c_base=float(input(\"Enter the concentration of conjugate base\"))\n",
    "#c_acid=float(input(\"Enter the concentration of the acid\"))\n",
    "#K_a = float(input(\"Enter acid dissociation constant\"))\n",
    "pH = -math.log10(K_a) + math.log10(c_base/c_acid) \n",
    "print(pH)"
   ]
  },
  {
   "cell_type": "markdown",
   "id": "70f45714-9965-493a-a8a6-ad7be11397d7",
   "metadata": {},
   "source": [
    "**Note: Trigometric functions operate on radians and not degrees**"
   ]
  },
  {
   "cell_type": "code",
   "execution_count": 19,
   "id": "9d800b01-4e4d-41de-b8e2-5508d3f82141",
   "metadata": {},
   "outputs": [
    {
     "name": "stdout",
     "output_type": "stream",
     "text": [
      "3.141592653589793\n",
      "3.141592653589793\n",
      "1.0\n",
      "1.0\n"
     ]
    }
   ],
   "source": [
    "\n",
    "import math\n",
    "print(math.pi)\n",
    "print(math.radians(180))\n",
    "print(math.sin(math.pi/2))\n",
    "print(math.sin(math.radians(90)))"
   ]
  },
  {
   "cell_type": "code",
   "execution_count": 20,
   "id": "2f2f0214-ac98-4285-adc2-34089a232dd6",
   "metadata": {},
   "outputs": [
    {
     "name": "stdout",
     "output_type": "stream",
     "text": [
      "The sin of 90 degrees is 1.0\n",
      "The cos of 90 degrees is 6.123233995736766e-17 which is <class 'float'>\n"
     ]
    }
   ],
   "source": [
    "import math as m\n",
    "sin_90 = m.sin(m.pi/2)\n",
    "cos_90 = m.cos(m.pi/2)\n",
    "print(f\"The sin of 90 degrees is {sin_90}\")\n",
    "print(f\"The cos of 90 degrees is {cos_90} which is {type(cos_90)}\")"
   ]
  },
  {
   "attachments": {},
   "cell_type": "markdown",
   "id": "24c6e144-95b4-43bd-8572-e08e1aa0d39c",
   "metadata": {},
   "source": [
    "But the cosine of 90 degrees is zero and the issue is how floats are stored on a computer.  So this is a very small number\n",
    "\n",
    "In the next cell we create a **user-defined function** to deal with this. Just like built-in or third party functions a user-defined function must have brackets and can be passed an argument. In python a function is a block of code using the following syntax where the function block is the code indented 4 spaces after the colon\n",
    "![image.png](images/1b861252-b095-467a-8607-6eb2593d898f.png)\n",
    "\n",
    "In the following code we return an integer zero if the value of the absolute value of the cosine of the angle is less than $10^{-14}$"
   ]
  },
  {
   "cell_type": "code",
   "execution_count": 21,
   "id": "999d1bdd-7c75-4236-a4b7-614896996eb3",
   "metadata": {},
   "outputs": [
    {
     "name": "stdout",
     "output_type": "stream",
     "text": [
      "0\n",
      "<class 'int'>\n"
     ]
    }
   ],
   "source": [
    "import math as m\n",
    "def cos_fct(angle):\n",
    "    result = m.cos(angle)\n",
    "    return 0 if abs(result) < 1e-14 else result\n",
    "\n",
    "a= cos_fct(math.pi/2)  # Output: 0\n",
    "print(a)\n",
    "print(type(a))"
   ]
  },
  {
   "cell_type": "markdown",
   "id": "1d0e08a0-86ce-4814-aa0c-414b586f528c",
   "metadata": {},
   "source": [
    "To return a float we simply change 0 to 0.0"
   ]
  },
  {
   "cell_type": "code",
   "execution_count": 22,
   "id": "8c0d08c6-9649-46dd-8662-3276a71ecf70",
   "metadata": {},
   "outputs": [
    {
     "name": "stdout",
     "output_type": "stream",
     "text": [
      "0.0\n",
      "<class 'float'>\n"
     ]
    }
   ],
   "source": [
    "def fcos_fct(angle):\n",
    "    result = m.cos(angle)\n",
    "    return 0.0 if abs(result) < 1e-14 else result\n",
    "\n",
    "a= fcos_fct(math.pi/2)  # Output: 0\n",
    "print(a)\n",
    "print(type(a))"
   ]
  },
  {
   "cell_type": "markdown",
   "id": "70f935e9-7bb1-491b-ab5a-3657fdbc85cb",
   "metadata": {},
   "source": [
    "Note,there is more than one way to express scientific notation "
   ]
  },
  {
   "cell_type": "markdown",
   "id": "a18b1885-9162-4a28-88a0-777dfa1ad75a",
   "metadata": {},
   "source": [
    "## Symbolic Math\n",
    "We will have a future module using the symbolic math module.  The following code will not work unless you install the Sympy.  So to review\n",
    "1. **Open Terminal**\n",
    "2. **Activate your Environment**\n",
    "     `conda activate YOUR-ENVIRONMENT`\n",
    "3. **Install Sympy with conda-forge**\n",
    "    `conda install -c conda-forge sympy`\n",
    "\n",
    "You should install this now just to refresh your memory on how to install packages, and we will be spending time in the future using sympy.  But Sympy allows you to exactly represent numbers like the irrational $\\pi$ or repeating decimals like $\\frac{1}{3}$, or numbers that can be properly computed like the $\\cos(\\pi/2)$\n",
    "\n",
    "###  **Types of Numbers Computers Struggle to Represent**\n",
    "\n",
    "| Type                | Example           | Issue                                                                 |\n",
    "|---------------------|-------------------|-----------------------------------------------------------------------|\n",
    "| **Repeating Decimals** | $$1/3 = 0.\\overline{3}$$ | Infinite repeating pattern truncated to finite bits.                 |\n",
    "| **Irrational Numbers** | $$\\pi, \\sqrt{2}$$ | Non-repeating, non-terminating decimals approximated to finite bits. |\n",
    "| **Exact Symbolic Results** | $$\\cos(\\pi/2) = 0$$ | Requires symbolic computation to avoid numerical errors.             |\n",
    "\n",
    "---\n",
    "\n"
   ]
  },
  {
   "cell_type": "code",
   "execution_count": 23,
   "id": "05087689-f459-4e23-86b4-386ef9ed9102",
   "metadata": {},
   "outputs": [
    {
     "name": "stdout",
     "output_type": "stream",
     "text": [
      "0\n",
      "<class 'sympy.core.numbers.Zero'>\n"
     ]
    }
   ],
   "source": [
    "import sympy\n",
    "\n",
    "angle = sympy.pi/2\n",
    "result = sympy.cos(angle)\n",
    "print(result)\n",
    "print(type(result))"
   ]
  },
  {
   "cell_type": "markdown",
   "id": "d5bc684b-25bc-4bec-b74f-b760a3364533",
   "metadata": {},
   "source": [
    "Note from the above that we imported a new class of object from the sympy module."
   ]
  },
  {
   "cell_type": "code",
   "execution_count": 24,
   "id": "1adc604f-e23b-4649-8989-373e7e4e140a",
   "metadata": {},
   "outputs": [
    {
     "name": "stdout",
     "output_type": "stream",
     "text": [
      "2.30000000000000\n",
      "<class 'sympy.core.numbers.Float'>\n"
     ]
    }
   ],
   "source": [
    "new_result = result+2.3\n",
    "print(new_result)\n",
    "print(type(new_result))"
   ]
  },
  {
   "cell_type": "code",
   "execution_count": 25,
   "id": "0dd1f196-710f-4ab6-8946-c95fe8168fc3",
   "metadata": {},
   "outputs": [
    {
     "name": "stdout",
     "output_type": "stream",
     "text": [
      "0.0\n",
      "<class 'float'>\n",
      "2.3\n",
      "<class 'float'>\n"
     ]
    }
   ],
   "source": [
    "as_float=float(result)\n",
    "print(as_float)\n",
    "print(type(as_float))\n",
    "print(as_float + 2.3)\n",
    "print(type(as_float + 2.3))"
   ]
  },
  {
   "cell_type": "markdown",
   "id": "47f7ed10-5fdd-4277-a145-671097f92f01",
   "metadata": {},
   "source": [
    "### Table of Advanced Math Functions\n",
    "| Method/Constant | Description |\n",
    "|-----------------|-------------|\n",
    "| `math.acos(x)` | Returns the arc cosine of x in radians |\n",
    "| `math.acosh(x)` | Returns the inverse hyperbolic cosine of x |\n",
    "| `math.asin(x)` | Returns the arc sine of x in radians |\n",
    "| `math.asinh(x)` | Returns the inverse hyperbolic sine of x |\n",
    "| `math.atan(x)` | Returns the arc tangent of x in radians |\n",
    "| `math.atan2(y, x)` | Returns the arc tangent of y/x in radians |\n",
    "| `math.atanh(x)` | Returns the inverse hyperbolic tangent of x |\n",
    "| `math.comb(n, k)` | Returns the number of ways to choose k items from n items |\n",
    "| `math.copysign(x, y)` | Returns x with the sign of y |\n",
    "| `math.cosh(x)` | Returns the hyperbolic cosine of x |\n",
    "| `math.dist(p, q)` | Returns the Euclidean distance between two points p and q |\n",
    "| `math.erf(x)` | Returns the error function at x |\n",
    "| `math.erfc(x)` | Returns the complementary error function at x |\n",
    "| `math.expm1(x)` | Returns e^x - 1 |\n",
    "| `math.fmod(x, y)` | Returns the remainder of x/y |\n",
    "| `math.frexp(x)` | Returns the mantissa and exponent of x as a pair |\n",
    "| `math.gamma(x)` | Returns the gamma function at x |\n",
    "| `math.hypot(*coordinates)` | Returns the Euclidean norm, sqrt(sum(x^2 for x in coordinates)) |\n",
    "| `math.isclose(a, b, *, rel_tol, abs_tol)` | Returns True if a is close in value to b |\n",
    "| `math.isfinite(x)` | Returns True if x is neither an infinity nor a NaN |\n",
    "| `math.isinf(x)` | Returns True if x is a positive or negative infinity |\n",
    "| `math.isnan(x)` | Returns True if x is a NaN |\n",
    "| `math.isqrt(n)` | Returns the integer square root of n |\n",
    "| `math.ldexp(x, i)` | Returns x * (2^i) |\n",
    "| `math.lgamma(x)` | Returns the natural logarithm of the absolute value of the gamma function at x |\n",
    "| `math.modf(x)` | Returns the fractional and integer parts of x |\n",
    "| `math.nextafter(x, y)` | Returns the next floating-point value after x towards y |\n",
    "| `math.perm(n, k=None)` | Returns the number of ways to arrange k items from n items |\n",
    "| `math.prod(iterable, *, start=1)` | Returns the product of all elements in the iterable |\n",
    "| `math.remainder(x, y)` | Returns the IEEE 754-style remainder of x with respect to y |\n",
    "| `math.sinh(x)` | Returns the hyperbolic sine of x |\n",
    "| `math.tanh(x)` | Returns the hyperbolic tangent of x |\n",
    "| `math.trunc(x)` | Returns the truncated integer value of x |\n",
    "| `math.ulp(x)` | Returns the value of the least significant bit of the float x |\n",
    "| `math.inf` | A floating-point positive infinity |\n",
    "| `math.nan` | A floating-point \"not a number\" (NaN) value |\n",
    "| `math.tau` | Mathematical constant tau (6.283185...), which is 2π |"
   ]
  },
  {
   "cell_type": "markdown",
   "id": "83f31afb-9dae-4e0a-aa20-9fae33fbd886",
   "metadata": {},
   "source": [
    "# Variables\n",
    "You name a variable with the assignment operator (equal sign) and it is best practice to have a space on both sides of the operator so `var = 1`.  \n",
    "## Python Reserved Words \n",
    "In python there are two types of words that should not be used as names, and these can be found in the builtin module and keyword modules. \n",
    "\n",
    "- **Builtins** are objects that have global namespace, like 'print`, 'type`, `list` and `int', which means the name is mapped to object.   You can override them and so if you use them in a variable assignment operation they will no longer have their builtin object properties.  The following code will destroy the print function`print = 3`\n",
    "- **Keywords** are part of the python syntax and can not be overridden, but they are different in the sense that they are not python objects and so do not have a namespace.  There is no object `if`, but there is an object `print` and it is a function, and there is an object `list` and it is a class type.\n",
    "\n",
    "### 2. Difference Between `builtins` and `keyword` Modules\n",
    "| Feature         | `builtins` Module | `keyword` Module |\n",
    "|----------------|------------------|------------------|\n",
    "| **Purpose** | Provides globally available functions, types, and exceptions | Tracks reserved words that are part of Python syntax |\n",
    "| **Contains** | Functions (`print`, `len`), types (`int`, `str`), constants (`True`, `None`), exceptions (`ValueError`) | Reserved keywords like `if`, `def`, `class`, `return` |\n",
    "| **Global Namespace?** | ✅ Yes, all built-ins are in the global namespace | ❌ No, keywords are part of syntax, not objects |\n",
    "| **Can Override Names?** | ❌ Should not, but possible (e.g., `list = [1,2,3]`) | ❌ No, keywords cannot be used as variable names |\n",
    "| **Where Used?** | Used as callable functions, types, constants | Used by the Python interpreter to define structure |\n",
    "\n",
    "\n",
    "| Keywords | Built-in Functions | Built-in Constants | Built-in Types |\n",
    "|----------|-------------------|-------------------|----------------|\n",
    "| and | abs | False | bool |\n",
    "| as | all | None | dict |\n",
    "| assert | any | True | float |\n",
    "| break | bin | NotImplemented | int |\n",
    "| class | chr | Ellipsis | list |\n",
    "| continue | dir | | set |\n",
    "| def | enumerate | | str |\n",
    "| del | eval | | tuple |\n",
    "| elif | filter | | |\n",
    "| else | format | | |\n",
    "| except | input | | |\n",
    "| finally | len | | |\n",
    "| for | max | | |\n",
    "| from | min | | |\n",
    "| global | open | | |\n",
    "| if | print | | |\n",
    "| import | range | | |\n",
    "| in | round | | |\n",
    "| is | sum | | |\n",
    "| lambda | type | | |\n",
    "| nonlocal | zip | | |\n",
    "| not | | | |\n",
    "| or | | | |\n",
    "| pass | | | |\n",
    "| raise | | | |\n",
    "| return | | | |\n",
    "| try | | | |\n",
    "| while | | | |\n",
    "| with | | | |\n",
    "| yield | | | |\n",
    "\n"
   ]
  },
  {
   "cell_type": "code",
   "execution_count": 26,
   "id": "44c96bea-470b-4777-834f-d151e11148ff",
   "metadata": {},
   "outputs": [
    {
     "name": "stdout",
     "output_type": "stream",
     "text": [
      "['False', 'None', 'True', 'and', 'as', 'assert', 'async', 'await', 'break', 'class', 'continue', 'def', 'del', 'elif', 'else', 'except', 'finally', 'for', 'from', 'global', 'if', 'import', 'in', 'is', 'lambda', 'nonlocal', 'not', 'or', 'pass', 'raise', 'return', 'try', 'while', 'with', 'yield']\n"
     ]
    }
   ],
   "source": [
    "# to generate the reserved keywords from the keyword module\n",
    "import keyword\n",
    "print(keyword.kwlist)  # List of reserved keywords\n"
   ]
  },
  {
   "cell_type": "code",
   "execution_count": 27,
   "id": "dfae1da3-8cf3-4965-9a8d-4b51778a087e",
   "metadata": {},
   "outputs": [
    {
     "name": "stdout",
     "output_type": "stream",
     "text": [
      "['ArithmeticError', 'AssertionError', 'AttributeError', 'BaseException', 'BlockingIOError', 'BrokenPipeError', 'BufferError', 'BytesWarning', 'ChildProcessError', 'ConnectionAbortedError', 'ConnectionError', 'ConnectionRefusedError', 'ConnectionResetError', 'DeprecationWarning', 'EOFError', 'EncodingWarning', 'EnvironmentError', 'Exception', 'FileExistsError', 'FileNotFoundError', 'FloatingPointError', 'FutureWarning', 'GeneratorExit', 'IOError', 'ImportError', 'ImportWarning', 'IndentationError', 'IndexError', 'InterruptedError', 'IsADirectoryError', 'KeyError', 'KeyboardInterrupt', 'LookupError', 'MemoryError', 'ModuleNotFoundError', 'NameError', 'NotADirectoryError', 'NotImplementedError', 'OSError', 'OverflowError', 'PendingDeprecationWarning', 'PermissionError', 'ProcessLookupError', 'RecursionError', 'ReferenceError', 'ResourceWarning', 'RuntimeError', 'RuntimeWarning', 'StopAsyncIteration', 'StopIteration', 'SyntaxError', 'SyntaxWarning', 'SystemError', 'SystemExit', 'TabError', 'TimeoutError', 'TypeError', 'UnboundLocalError', 'UnicodeDecodeError', 'UnicodeEncodeError', 'UnicodeError', 'UnicodeTranslateError', 'UnicodeWarning', 'UserWarning', 'ValueError', 'Warning', 'ZeroDivisionError', '__build_class__', '__import__', '__loader__', 'abs', 'aiter', 'all', 'anext', 'any', 'ascii', 'bin', 'bool', 'breakpoint', 'bytearray', 'bytes', 'callable', 'chr', 'classmethod', 'compile', 'complex', 'copyright', 'credits', 'delattr', 'dict', 'dir', 'display', 'divmod', 'enumerate', 'eval', 'exec', 'execfile', 'filter', 'float', 'format', 'frozenset', 'get_ipython', 'getattr', 'globals', 'hasattr', 'hash', 'help', 'hex', 'id', 'input', 'int', 'isinstance', 'issubclass', 'iter', 'len', 'license', 'list', 'locals', 'map', 'max', 'memoryview', 'min', 'next', 'object', 'oct', 'open', 'ord', 'pow', 'print', 'property', 'range', 'repr', 'reversed', 'round', 'runfile', 'set', 'setattr', 'slice', 'sorted', 'staticmethod', 'str', 'sum', 'super', 'tuple', 'type', 'vars', 'zip']\n"
     ]
    }
   ],
   "source": [
    "# to generate a python list of builtin names\n",
    "import builtins\n",
    "\n",
    "# Get all built-in functions\n",
    "builtin_functions = [name for name in dir(builtins) if callable(getattr(builtins, name))]\n",
    "\n",
    "print(builtin_functions)\n"
   ]
  },
  {
   "cell_type": "markdown",
   "id": "e66cbfcb-6770-4aa6-9405-21f200253bb2",
   "metadata": {},
   "source": [
    "## Programmatic Extracting Reserved Words\n",
    "The following returns reserved keywords.  We will soon be going over how this code works.  Note that in the builtin module there are internal or private objects whose name is preceded by an underscore and are not used in programming, so these are not reserved, and omitted by the following script. "
   ]
  },
  {
   "cell_type": "code",
   "execution_count": 28,
   "id": "6ee6f28f-8562-4abd-b0d7-3e93030b38a1",
   "metadata": {
    "scrolled": true
   },
   "outputs": [
    {
     "name": "stdout",
     "output_type": "stream",
     "text": [
      "Reserved words that cannot be used as variable names:\n",
      "--------------------------------------------------\n",
      "ArithmeticError\n",
      "AssertionError\n",
      "AttributeError\n",
      "BaseException\n",
      "BlockingIOError\n",
      "BrokenPipeError\n",
      "BufferError\n",
      "BytesWarning\n",
      "ChildProcessError\n",
      "ConnectionAbortedError\n",
      "ConnectionError\n",
      "ConnectionRefusedError\n",
      "ConnectionResetError\n",
      "DeprecationWarning\n",
      "EOFError\n",
      "Ellipsis\n",
      "EncodingWarning\n",
      "EnvironmentError\n",
      "Exception\n",
      "False\n",
      "FileExistsError\n",
      "FileNotFoundError\n",
      "FloatingPointError\n",
      "FutureWarning\n",
      "GeneratorExit\n",
      "IOError\n",
      "ImportError\n",
      "ImportWarning\n",
      "IndentationError\n",
      "IndexError\n",
      "InterruptedError\n",
      "IsADirectoryError\n",
      "KeyError\n",
      "KeyboardInterrupt\n",
      "LookupError\n",
      "MemoryError\n",
      "ModuleNotFoundError\n",
      "NameError\n",
      "None\n",
      "NotADirectoryError\n",
      "NotImplemented\n",
      "NotImplementedError\n",
      "OSError\n",
      "OverflowError\n",
      "PendingDeprecationWarning\n",
      "PermissionError\n",
      "ProcessLookupError\n",
      "RecursionError\n",
      "ReferenceError\n",
      "ResourceWarning\n",
      "RuntimeError\n",
      "RuntimeWarning\n",
      "StopAsyncIteration\n",
      "StopIteration\n",
      "SyntaxError\n",
      "SyntaxWarning\n",
      "SystemError\n",
      "SystemExit\n",
      "TabError\n",
      "TimeoutError\n",
      "True\n",
      "TypeError\n",
      "UnboundLocalError\n",
      "UnicodeDecodeError\n",
      "UnicodeEncodeError\n",
      "UnicodeError\n",
      "UnicodeTranslateError\n",
      "UnicodeWarning\n",
      "UserWarning\n",
      "ValueError\n",
      "Warning\n",
      "ZeroDivisionError\n",
      "abs\n",
      "aiter\n",
      "all\n",
      "and\n",
      "anext\n",
      "any\n",
      "as\n",
      "ascii\n",
      "assert\n",
      "async\n",
      "await\n",
      "bin\n",
      "bool\n",
      "break\n",
      "breakpoint\n",
      "bytearray\n",
      "bytes\n",
      "callable\n",
      "chr\n",
      "class\n",
      "classmethod\n",
      "compile\n",
      "complex\n",
      "continue\n",
      "copyright\n",
      "credits\n",
      "def\n",
      "del\n",
      "delattr\n",
      "dict\n",
      "dir\n",
      "display\n",
      "divmod\n",
      "elif\n",
      "else\n",
      "enumerate\n",
      "eval\n",
      "except\n",
      "exec\n",
      "execfile\n",
      "filter\n",
      "finally\n",
      "float\n",
      "for\n",
      "format\n",
      "from\n",
      "frozenset\n",
      "get_ipython\n",
      "getattr\n",
      "global\n",
      "globals\n",
      "hasattr\n",
      "hash\n",
      "help\n",
      "hex\n",
      "id\n",
      "if\n",
      "import\n",
      "in\n",
      "input\n",
      "int\n",
      "is\n",
      "isinstance\n",
      "issubclass\n",
      "iter\n",
      "lambda\n",
      "len\n",
      "license\n",
      "list\n",
      "locals\n",
      "map\n",
      "max\n",
      "memoryview\n",
      "min\n",
      "next\n",
      "nonlocal\n",
      "not\n",
      "object\n",
      "oct\n",
      "open\n",
      "or\n",
      "ord\n",
      "pass\n",
      "pow\n",
      "print\n",
      "property\n",
      "raise\n",
      "range\n",
      "repr\n",
      "return\n",
      "reversed\n",
      "round\n",
      "runfile\n",
      "set\n",
      "setattr\n",
      "slice\n",
      "sorted\n",
      "staticmethod\n",
      "str\n",
      "sum\n",
      "super\n",
      "try\n",
      "tuple\n",
      "type\n",
      "vars\n",
      "while\n",
      "with\n",
      "yield\n",
      "zip\n"
     ]
    }
   ],
   "source": [
    "import keyword\n",
    "import builtins\n",
    "\n",
    "# Get all Python keywords\n",
    "python_keywords = keyword.kwlist\n",
    "\n",
    "# Get all built-in functions and objects\n",
    "builtin_names = dir(builtins)\n",
    "\n",
    "# Filter out private builtins (those starting with '_')\n",
    "builtin_names = [name for name in builtin_names if not name.startswith('_')]\n",
    "\n",
    "# Combine both lists\n",
    "reserved_words = sorted(set(python_keywords + builtin_names))\n",
    "\n",
    "print(\"Reserved words that cannot be used as variable names:\")\n",
    "print(\"--------------------------------------------------\")\n",
    "for word in reserved_words:\n",
    "    print(word)"
   ]
  },
  {
   "cell_type": "markdown",
   "id": "bb5d4c8c-7eb8-4c35-bf96-01c5f980aceb",
   "metadata": {},
   "source": [
    "# Acknowledgements\n",
    "This content was developed with assistance from [Perplexity AI](https://www.perplexity.ai/) and [Chat GPT](https://chatgpt.com/). Multiple queries were made during the Fall 2024 and the Spring 2025."
   ]
  }
 ],
 "metadata": {
  "kernelspec": {
   "display_name": "Python (py4sci)",
   "language": "python",
   "name": "py4sci"
  },
  "language_info": {
   "codemirror_mode": {
    "name": "ipython",
    "version": 3
   },
   "file_extension": ".py",
   "mimetype": "text/x-python",
   "name": "python",
   "nbconvert_exporter": "python",
   "pygments_lexer": "ipython3",
   "version": "3.10.17"
  }
 },
 "nbformat": 4,
 "nbformat_minor": 5
}
