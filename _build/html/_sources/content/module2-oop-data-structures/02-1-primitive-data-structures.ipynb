{
 "cells": [
  {
   "cell_type": "markdown",
   "id": "7c85e9b5-2c21-4e29-b7e2-d043c567d8a8",
   "metadata": {},
   "source": [
    "(module2-oop-data-structures/02-1-primitive-data-structures)=\n",
    "# 1. Primative Data Structures"
   ]
  },
  {
   "cell_type": "markdown",
   "id": "b3fcdff9-ed87-477c-9cea-66e51ef16747",
   "metadata": {},
   "source": [
    "# Learning Objectives\n",
    "* Understand how integers, floats and strings are stored in memory as binary strings.\n",
    "* Understand differences in primitive numeric data structures\n",
    "* Understand strings\n",
    "  * formatting\n",
    "  * indexing\n",
    "  * slicing\n",
    "  * concatenation  \n",
    "\n",
    "| Data Structure | Description                                                                                     |\n",
    "|----------------|-------------------------------------------------------------------------------------------------|\n",
    "| `int`          | Represents whole numbers (positive, negative, or zero). Example: `42`, `-7`, `0`.              |\n",
    "| `float`        | Represents decimal (floating-point) numbers. Example: `3.14`, `-0.001`, `2.0`.                 |\n",
    "| `complex`      | Represents numbers with real and imaginary parts. Example: `3+4j`.                             |\n",
    "| `bool`         | Represents truth values, either `True` or `False`.                                             |\n",
    "| `str`          | Represents immutable sequences of Unicode characters (text data). Example: `\"hello\"`.          |\n",
    "| `bytes`        | Represents immutable sequences of raw bytes. Example: `b'hello'`.    "
   ]
  },
  {
   "attachments": {},
   "cell_type": "markdown",
   "id": "d1a728f6-a3ce-4ff4-9d16-797d34905e88",
   "metadata": {},
   "source": [
    "# 1. Integers\n",
    "Integers are whole numbers and represented as binary bit strings where each cell is 2$^n$ \n",
    "\n",
    "![image.png](images/4e527a81-fccf-4eba-a45a-29a5312f1b51.png)\n",
    "\n",
    "\n",
    "\n",
    "\n",
    "## Arbitrary Precision\n",
    "In many languages like C and Java the size of an integer is limited by the number of bites in a memory block, so a 32 bit chip would have have 2$^31$ memory cells available to represent the number with the last one being for the sign. Python though has **arbitrary precision** where the number of cells can be extended and so the size on an integer is limited by the available memory.  It should also be noted that the sign is actually in the metadata of the PyLongObject used to store integers in the heap memory.\n",
    "\n",
    "The following program has arbitrary precision. When you run the following cell you will be prompted to input a binary sequence of arbitrary length and it will convert it to decimal.  I suggest you try the following values\n",
    "1\n",
    "10\n",
    "100\n",
    "110"
   ]
  },
  {
   "cell_type": "markdown",
   "id": "b2ca0fce-c52c-414e-9a29-9b63ea7c48f3",
   "metadata": {},
   "source": [
    "<div class=\"alert alert-info\">\n",
    "<p style=\"font-size: 1.3em; font-weight: bold; text-align: center; margin-bottom: 0;\">\n",
    "  Interactive Input Disabled for Book Build\n",
    "</p>\n",
    "\n",
    "<br>\n",
    "<p>\n",
    "<strong>The following cell normally asks for user input using `input()` </strong>, but Jupyter Book cannot compile cells that require manual input, so the input lines have been commented out.</p>\n",
    "\n",
    "\n",
    "<strong>To try this interactively in a Jupyter Notebook:</strong>\n",
    "\n",
    "1. Uncomment the line `#binary_input = input(\"Enter an eight digit binary number (e.g., 10110011): \").strip()`.\n",
    "2. Comment out the line under `binary_input = \"01010101\"` (note this is not necessary due to the order of execution but best practice)\n",
    "<p>\n",
    "This will allow you to enter values manually when you run the cell in a Jupyter Notebook. Note <code>shift+enter</code> will not move you to the next cell if there is input and you need to use <code>esc + down-arrow</code> to move to the next cell without executing the input function.</p>\n",
    "</div>"
   ]
  },
  {
   "cell_type": "code",
   "execution_count": 1,
   "id": "eec4891e-6a73-488c-97d5-edba761ebf23",
   "metadata": {},
   "outputs": [
    {
     "name": "stdout",
     "output_type": "stream",
     "text": [
      "Binary: [0, 1, 0, 1, 0, 1, 0, 1]\n",
      "Decimal: 85\n"
     ]
    }
   ],
   "source": [
    "def binary_to_decimal(binary_list):\n",
    "    \"\"\"\n",
    "    Converts a binary list to its decimal equivalent.\n",
    "    :param binary_list: List of integers (0s and 1s) representing a binary number.\n",
    "    :return: The decimal equivalent of the binary number.\n",
    "    \"\"\"\n",
    "    decimal_value = 0\n",
    "    num_bits = len(binary_list)\n",
    "\n",
    "    # Loop through the binary list\n",
    "    for i in range(num_bits):\n",
    "        # Get the value at position i (0 or 1)\n",
    "        bit = binary_list[i]\n",
    "        # Calculate the power of 2 based on position (from most to least significant)\n",
    "        power = num_bits - 1 - i\n",
    "        # Add the value to the total if the bit is 1\n",
    "        if bit == 1:\n",
    "            decimal_value += 2 ** power\n",
    "\n",
    "    return decimal_value\n",
    "binary_input = \"01010101\"\n",
    "# Uncomment the Following Line to Prompt user for input\n",
    "#binary_input = input(\"Enter an eight digit binary number (e.g., 10110011): \").strip()\n",
    "\n",
    "# Convert input string to a list of integers\n",
    "binary_list = [int(bit) for bit in binary_input]\n",
    "\n",
    "# Validate the input\n",
    "if any(bit not in (0, 1) for bit in binary_list):\n",
    "    print(\"Error: Please enter a binary number consisting only of 0s and 1s.\")\n",
    "else:\n",
    "    # Optionally pad to a fixed length if needed\n",
    "    # (not required for the calculation but can help in specific contexts)\n",
    "    padded_length = 8  # Define desired length (optional)\n",
    "    if len(binary_list) < padded_length:\n",
    "        binary_list = [0] * (padded_length - len(binary_list)) + binary_list\n",
    "\n",
    "    # Convert to decimal and display results\n",
    "    decimal_value = binary_to_decimal(binary_list)\n",
    "    print(f\"Binary: {binary_list}\")\n",
    "    print(f\"Decimal: {decimal_value}\")"
   ]
  },
  {
   "cell_type": "markdown",
   "id": "3394e11a-d9a1-48ad-b74f-56bd5bf1628f",
   "metadata": {},
   "source": [
    "## Table of built-in functions that operate on integers\n",
    "| **Function**    | **Description**                                                                                          |\n",
    "|------------------|--------------------------------------------------------------------------------------------------------|\n",
    "| `abs(x)`        | Returns the absolute value of the integer `x`.                                                         |\n",
    "| `bin(x)`        | Converts the integer `x` to its binary representation as a string.                                     |\n",
    "| `bool(x)`       | Converts the integer `x` to a boolean. Non-zero integers return `True`; `0` returns `False`.           |\n",
    "| `divmod(a, b)`  | Returns a tuple `(a // b, a % b)` with the quotient and remainder when dividing `a` by `b`.            |\n",
    "| `float(x)`      | Converts the integer `x` to a floating-point number.                                                   |\n",
    "| `format(x, f)`  | Formats the integer `x` according to the specified format string `f`.                                  |\n",
    "| `hex(x)`        | Converts the integer `x` to its hexadecimal representation as a string.                                |\n",
    "| `id(x)`         | Returns the memory address of the integer `x` (unique identifier in Python).                           |\n",
    "| `int(x)`        | Converts `x` to an integer. Can be used to truncate decimals or convert strings to integers.           |\n",
    "| `isinstance(x, y)` | Returns `True` if `x` is an instance of class `y`, such as `int`, otherwise `False`.               |\n",
    "| `len(s)`        | Returns the length of a collection or iterable. Does not apply directly to integers but useful for sequences. |\n",
    "| `max(*args)`    | Returns the largest value from the given arguments, which may include integers.                        |\n",
    "| `min(*args)`    | Returns the smallest value from the given arguments, which may include integers.                       |\n",
    "| `oct(x)`        | Converts the integer `x` to its octal representation as a string.                                      |\n",
    "| `pow(x, y, z)`  | Returns `(x ** y) % z`. If `z` is not provided, returns `x ** y`.                                      |\n",
    "| `repr(x)`       | Returns the string representation of the integer `x` as it would appear in Python source code.         |\n",
    "| `round(x, n)`   | Rounds the integer `x` to `n` decimal places. For integers, this just returns `x`.                     |\n",
    "| `str(x)`        | Converts the integer `x` to a string representation.                                                   |\n",
    "| `sum(iterable)` | Sums all the elements in the iterable, which may include integers.                                      |\n",
    "| `type(x)`       | Returns the type of `x`, such as `<class 'int'>` for integers.                                         |\n",
    "\n",
    "---\n"
   ]
  },
  {
   "attachments": {},
   "cell_type": "markdown",
   "id": "753364a1-a958-44fc-90b1-5ac57012c85f",
   "metadata": {},
   "source": [
    "# 2. Floats\n",
    "The bit string of a float consists of three parts, the significand and exponent bits, which are like scientific notation, and a sign bit\n",
    "\n",
    "![image.png](images/399fa072-29d9-4e80-832d-b1b796f7d93b.png)\n",
    "\n",
    "\n",
    "Common Built-in Functions for `float`\n",
    "| **Function**    | **Description**                                                                                              |\n",
    "|------------------|------------------------------------------------------------------------------------------------------------|\n",
    "| `abs(x)`        | Returns the absolute value of the float.                                                                    |\n",
    "| `round(x, n)`   | Rounds the float to `n` decimal places.                                                                     |\n",
    "| `int(x)`        | Converts the float to an integer by truncating the decimal part.                                            |\n",
    "| `float(x)`      | Converts a number or string to a float.                                                                     |\n",
    "| `pow(x, y)`     | Returns `x` raised to the power of `y`.                                                                     |\n",
    "| `max(*args)`    | Returns the largest of the arguments, which can include floats.                                             |\n",
    "| `min(*args)`    | Returns the smallest of the arguments, which can include floats.                                            |\n",
    "| `sum(iterable)` | Returns the sum of a sequence of numbers, including floats.                                                 |\n",
    "\n",
    "---\n",
    "\n"
   ]
  },
  {
   "cell_type": "markdown",
   "id": "c0de5fd3-20b8-4b58-ae49-f4409e5e1bc7",
   "metadata": {},
   "source": [
    "# 3. Complex Numbers\n",
    "\n",
    "$$\n",
    "z = a + bi\n",
    "$$\n",
    "\n",
    "or\n",
    "\n",
    "$$\n",
    "z = a + bj\n",
    "$$\n",
    "\n",
    "$a$ is the **real part**.\n",
    "\n",
    "$b$ is the **imaginary part**.\n",
    "\n",
    "$i = \\sqrt{-1}$\n",
    "\n",
    "\n",
    "Note, the **real and imaginary parts are stored as floats**.\n",
    "\n",
    "Note, engineers often use j as the imaginary part, as do many python modules. \n",
    "\n",
    "\n",
    "## Complex Plane\n",
    "  * horizontal axis corresponds to real part (a)\n",
    "  * vertical axis corresponds to imaginary part (b)\n",
    "\n",
    "**The following code shows an interactive graph for calculating the magnitude of complex numbers in a complex plane**"
   ]
  },
  {
   "cell_type": "code",
   "execution_count": 2,
   "id": "79764848-ba6a-49b7-a147-14b278478b8e",
   "metadata": {},
   "outputs": [
    {
     "data": {
      "application/vnd.jupyter.widget-view+json": {
       "model_id": "ba667c77cb174f25a6c467450c1c1e77",
       "version_major": 2,
       "version_minor": 0
      },
      "text/plain": [
       "interactive(children=(FloatSlider(value=3.0, description='real', max=10.0, min=-10.0), FloatSlider(value=4.0, …"
      ]
     },
     "metadata": {},
     "output_type": "display_data"
    }
   ],
   "source": [
    "# you may need to install ipywidgets from the cmd line\n",
    "#open your terminal and activate your env, then run:\n",
    "#conda install -c conda-forge ipywidgets\n",
    "import numpy as np\n",
    "import matplotlib.pyplot as plt\n",
    "from ipywidgets import interactive\n",
    "import ipywidgets as widgets\n",
    "\n",
    "def plot_complex(real, imag):\n",
    "    # Create the complex number\n",
    "    z = complex(real, imag)\n",
    "    \n",
    "    # Calculate magnitude\n",
    "    magnitude = abs(z)\n",
    "    \n",
    "    # Create figure and axis\n",
    "    fig, ax = plt.subplots(figsize=(5, 5))\n",
    "    \n",
    "    # Plot the point\n",
    "    ax.scatter([z.real], [z.imag], color='blue', s=100, label=f'{z}')\n",
    "    \n",
    "    # Plot vector from origin to point\n",
    "    ax.plot([0, z.real], [0, z.imag], 'b-', linewidth=2)\n",
    "    \n",
    "    # Add grid and axes\n",
    "    ax.grid(True)\n",
    "    ax.axhline(y=0, color='k', linestyle='-', linewidth=0.5)\n",
    "    ax.axvline(x=0, color='k', linestyle='-', linewidth=0.5)\n",
    "    \n",
    "    # Set equal aspect ratio\n",
    "    ax.set_aspect('equal')\n",
    "    \n",
    "    # Set limits with some padding\n",
    "    limit = max(abs(real), abs(imag), 5) + 1\n",
    "    ax.set_xlim(-limit, limit)\n",
    "    ax.set_ylim(-limit, limit)\n",
    "    \n",
    "    # Labels and title\n",
    "    ax.set_xlabel('Real Part')\n",
    "    ax.set_ylabel('Imaginary Part')\n",
    "    ax.set_title(f'Complex Number: {z}\\nMagnitude: {magnitude:.2f}')\n",
    "    \n",
    "    # Add legend\n",
    "    ax.legend()\n",
    "    \n",
    "    plt.show()\n",
    "\n",
    "# Create interactive widget\n",
    "interactive_plot = interactive(\n",
    "    plot_complex,\n",
    "    real=widgets.FloatSlider(min=-10, max=10, step=0.1, value=3),\n",
    "    imag=widgets.FloatSlider(min=-10, max=10, step=0.1, value=4)\n",
    ")\n",
    "# Display the interactive plot\n",
    "display(interactive_plot)"
   ]
  },
  {
   "cell_type": "code",
   "execution_count": 3,
   "id": "7c3dfd2d-9dc5-4d33-8360-bf5db124b072",
   "metadata": {},
   "outputs": [
    {
     "name": "stdout",
     "output_type": "stream",
     "text": [
      "<class 'complex'>\n",
      "3.0\n",
      "4.0\n"
     ]
    }
   ],
   "source": [
    "z = 3 + 4j\n",
    "print(type(z))  # <class 'complex'>\n",
    "print(z.real)   # 3.0\n",
    "print(z.imag)   # 4.0\n"
   ]
  },
  {
   "cell_type": "markdown",
   "id": "ceb6ebd0-b6f7-4db0-ab7d-561b30ae62c6",
   "metadata": {},
   "source": [
    "## Complex Conjugate\n",
    "the complex conjugate of a value is taken by changing the sign of the imaginary part.\n",
    "\n",
    "Complex number:  $$z = a + bi$$\n",
    "Complex conjugate of z: $$\\overline{z} = a - bi$$"
   ]
  },
  {
   "cell_type": "markdown",
   "id": "6d3376d6-c10c-4169-8c9e-081d1815ee35",
   "metadata": {},
   "source": [
    "### Table 1: Attributes of `complex`\n",
    "| **Attribute** | **Description**                                                                                          |\n",
    "|---------------|---------------------------------------------------------------------------------------------------------|\n",
    "| `real`        | Returns the real part of the complex number.                                                            |\n",
    "| `imag`        | Returns the imaginary part of the complex number.                                                       |\n",
    "\n",
    "---\n",
    "\n",
    "### Table 2: Methods of `complex`\n",
    "| **Method**       | **Description**                                                                                       |\n",
    "|-------------------|------------------------------------------------------------------------------------------------------|\n",
    "| `conjugate()`     | Returns the complex conjugate of the number.                                                         |\n",
    "\n",
    "---\n",
    "\n",
    "### Table 3: Common Built-in Functions for `complex`\n",
    "| **Function**      | **Description**                                                                                      |\n",
    "|-------------------|------------------------------------------------------------------------------------------------------|\n",
    "| `abs(x)`          | Returns the magnitude (absolute value) of the complex number `x`.                                    |\n",
    "| `complex(real, imag)` | Creates a complex number with the specified real and imaginary parts.                           |\n",
    "| `float(x.real)`   | Converts the real part of the complex number `x` to a float.                                         |\n",
    "| `int(x.real)`     | Converts the real part of the complex number `x` to an integer.                                      |\n",
    "| `id(x)`           | Returns the memory address of the complex number `x` (unique identifier in Python).                  |\n",
    "| `isinstance(x, complex)` | Returns `True` if `x` is an instance of the `complex` class, otherwise `False`.             |\n",
    "| `pow(x, y)`       | Computes `x` raised to the power of `y`, where `x` can be a complex number.                          |\n",
    "| `repr(x)`         | Returns the string representation of the complex number `x` as it would appear in Python source code. |\n",
    "| `str(x)`          | Converts the complex number `x` to a string representation.                                          |\n",
    "| `type(x)`         | Returns the type of `x`, such as `<class 'complex'>` for complex numbers.                            |\n",
    "\n",
    "---\n"
   ]
  },
  {
   "cell_type": "markdown",
   "id": "8e771346-0c81-4859-bdc9-89d6a05e7131",
   "metadata": {},
   "source": [
    "# 4. Boolean\n",
    "Boolean are logic values that can have two values, True of False\n",
    "\n",
    "   **0=False**     **1=True** \n",
    "    \n",
    "## Boolean Operators\n",
    "\n",
    "| Operator  | Type                | Description                                                                 |\n",
    "|-----------|---------------------|-----------------------------------------------------------------------------|\n",
    "| `and`     | Boolean             | Logical AND: Returns `True` if both operands are `True`. Also know as the conjunction operator and often represented with ∧.                  |\n",
    "| `or`      | Boolean             | Logical OR: Returns `True` if at least one operand is True`. Also know as the disjunction operator and often represented as ∨ .         |\n",
    "| `not`     | Boolean             | Logical NOT: Negates a boolean value.  Often represented as  ¬.                                      |\n",
    "| `==`      | Comparison          | Equality: Returns `True` if both operands are equal.                        |\n",
    "| `!=`      | Comparison          | Inequality: Returns `True` if operands are not equal.                       |\n",
    "| `<`       | Comparison          | Less Than: Returns `True` if the left operand is less than the right.       |\n",
    "| `>`       | Comparison          | Greater Than: Returns `True` if the left operand is greater than the right. |\n",
    "| `<=`      | Comparison          | Less Than or Equal To: Returns `True` if the left operand is ≤ the right.   |\n",
    "| `>=`      | Comparison          | Greater Than or Equal To: Returns `True` if the left operand is ≥ the right.|\n",
    "| `is`      | Identity            | Identity: Returns `True` if operands refer to the same object in memory.    |\n",
    "| `is not`  | Identity            | Not Identity: Returns `True` if operands do not refer to the same object.   |\n",
    "| `in`      | Membership          | Membership: Returns `True` if the left operand is in the right operand.     |\n",
    "| `not in`  | Membership          | Not Membership: Returns `True` if the left operand is not in the right.     |\n",
    "\n",
    "Boolean values are singletons, which mean they always have the same location in memory"
   ]
  },
  {
   "cell_type": "code",
   "execution_count": 4,
   "id": "5ff1180f-9d75-466d-b18d-e65978cfa8ce",
   "metadata": {},
   "outputs": [
    {
     "name": "stdout",
     "output_type": "stream",
     "text": [
      "111202086196960\n",
      "111202086196928\n",
      "133038353334576\n"
     ]
    }
   ],
   "source": [
    "print(id(True))  # Always the same memory address\n",
    "print(id(False))\n",
    "print(id(3))"
   ]
  },
  {
   "cell_type": "code",
   "execution_count": 5,
   "id": "b9c03714-17a8-4eaf-9b58-8ad8c8f3531d",
   "metadata": {},
   "outputs": [
    {
     "name": "stdout",
     "output_type": "stream",
     "text": [
      "Booleans:\n",
      "id(True):  111202086196960\n",
      "id(False): 111202086196928\n",
      "True is True: True\n",
      "\n",
      "Small integers (within cache range -5 to 256):\n",
      "id(100): 133038353337680 == 133038353337680\n",
      "a is b: True\n",
      "\n",
      "Larger integers (outside cache range):\n",
      "id(1000): 133036395716592 != 133036395715312\n",
      "x is y: False\n",
      "\n",
      "Same object via direct assignment:\n",
      "x is z: True\n"
     ]
    }
   ],
   "source": [
    "# Booleans are singletons\n",
    "print(\"Booleans:\")\n",
    "print(f\"id(True):  {id(True)}\")\n",
    "print(f\"id(False): {id(False)}\")\n",
    "print(f\"True is True: {True is True}\")\n",
    "print()\n",
    "\n",
    "# Small integers are also singletons (cached from -5 to 256 in CPython)\n",
    "print(\"Small integers (within cache range -5 to 256):\")\n",
    "a = 100\n",
    "b = 100\n",
    "print(f\"id(100): {id(a)} == {id(b)}\")\n",
    "print(f\"a is b: {a is b}\")\n",
    "print()\n",
    "\n",
    "# Larger integers are not necessarily singletons\n",
    "print(\"Larger integers (outside cache range):\")\n",
    "x = 1000\n",
    "y = 1000\n",
    "print(f\"id(1000): {id(x)} != {id(y)}\")\n",
    "print(f\"x is y: {x is y}\")\n",
    "print()\n",
    "\n",
    "# But forcing identity with assignment\n",
    "print(\"Same object via direct assignment:\")\n",
    "z = x\n",
    "print(f\"x is z: {x is z}\")\n"
   ]
  },
  {
   "cell_type": "markdown",
   "id": "8558c57b-10b8-4b6c-8803-728d7269d8dd",
   "metadata": {},
   "source": [
    "Most objects are not singletons and their memory location is dynamically generated.  Other singletons are pre-cached integers -5 to 256"
   ]
  },
  {
   "cell_type": "markdown",
   "id": "a070b2db-e942-4eb5-a599-b03e845112e7",
   "metadata": {},
   "source": [
    "**Note the memory location of the True/False Boolean values for the above two codes blocks is the same."
   ]
  },
  {
   "cell_type": "markdown",
   "id": "53f71a41-376c-415b-bca2-1a00e97917c7",
   "metadata": {},
   "source": [
    "## Truth Tables\n",
    "\n",
    "\n",
    "### **What is a Truth Table?**\n",
    "A truth table is a mathematical table used to represent the output of logical operations for all possible input combinations. They are essential in understanding boolean algebra and logic gates.\n",
    "\n",
    "---\n",
    "\n",
    "### **Truth Table for AND (`and`)**\n",
    "The `and` operation returns `True` only if **both inputs** are `True`.\n",
    "\n",
    "| **A**   | **B**   | **A and B** |\n",
    "|---------|---------|-------------|\n",
    "| `False` | `False` | `False`     |\n",
    "| `False` | `True`  | `False`     |\n",
    "| `True`  | `False` | `False`     |\n",
    "| `True`  | `True`  | `True`      |\n",
    "\n",
    "---\n",
    "\n",
    "### **Truth Table for OR (`or`)**\n",
    "The `or` operation returns `True` if **at least one input** is `True`.\n",
    "\n",
    "| **A**   | **B**   | **A or B**  |\n",
    "|---------|---------|-------------|\n",
    "| `False` | `False` | `False`     |\n",
    "| `False` | `True`  | `True`      |\n",
    "| `True`  | `False` | `True`      |\n",
    "| `True`  | `True`  | `True`      |\n",
    "\n",
    "---\n",
    "\n",
    "\n",
    "### **Truth Table for NOT (`not`)**\n",
    "The `not` operation inverts the boolean value.\n",
    "\n",
    "| **A**   | **not A** |\n",
    "|---------|-----------|\n",
    "| `False` | `True`    |\n",
    "| `True`  | `False`   |\n",
    "\n",
    "---\n"
   ]
  },
  {
   "attachments": {},
   "cell_type": "markdown",
   "id": "bc3d47cf-e56d-4ea7-af2f-4c3ec82ffb0c",
   "metadata": {},
   "source": [
    "# Strings\n",
    "Strings are sequences of characters inside of quotes, and typically represent text.  Many data files are converted to strings when transmitted across the web. When you input a number using the input function `input()` it is a string.\n",
    "1. **Strings in Python**:\n",
    "   - Stored as Unicode code points internally.\n",
    "   - Encoded to formats like UTF-8 or ASCII when converted to bytes.\n",
    "\n",
    "2. **ASCII**:\n",
    "   -  ASCII American Standard Code for Information Interchange -  was developed in the early days of computers and is based on the 8-bit byte.\n",
    "   -  Original ascii was 7 bits\n",
    "   -  Extended ascii was full 8 bits\n",
    "\n",
    "  ![image.png](images/b78bf269-bc2b-43bc-a8d6-c95b3b0597f7.png)\n",
    "  \n",
    "   *ASCII code CC BY-SA [Yuriy Arabskyy](https://upload.wikimedia.org/wikipedia/commons/2/26/Ascii-codes-table.png)*\n",
    "  \n",
    "3. **UTF-8**\n",
    "   - Unicode Transformation Format - 8-bit\n",
    "   - ASCII characters (basic Latin letters, numbers, and symbols) using a single byte (8 bits).\n",
    "   - Non-ASCII characters (like accented letters, emoji, or characters from other scripts) using 2 to 4 bytes.\n",
    "   - Key features:\n",
    "      - Backward compatibility with ASCII: Characters in the ASCII range (0-127) are encoded identically in UTF-8.\n",
    "      - Variable length: Characters outside the ASCII range use additional bytes (2-4 bytes).\n",
    "      - Efficient storage: Common characters take fewer bytes, while less-common ones use more.\n",
    "  \n",
    "   \n",
    "The following program converts ascii characters to a bit string, or a bit string to its ascii character"
   ]
  },
  {
   "cell_type": "code",
   "execution_count": 41,
   "id": "8c43f80e-cbdd-4b17-bb99-e312124b16bf",
   "metadata": {},
   "outputs": [
    {
     "name": "stdout",
     "output_type": "stream",
     "text": [
      "Bit string: 01000001\n"
     ]
    }
   ],
   "source": [
    "# Function to convert an ASCII character to a bit string\n",
    "def ascii_to_bitstring(char):\n",
    "    if len(char) != 1 or ord(char) > 127:\n",
    "        raise ValueError(\"Input must be a single ASCII character (0-127).\")\n",
    "    return format(ord(char), '08b')  # 8 bits for ASCII\n",
    "\n",
    "# Function to convert a bit string to an ASCII character\n",
    "def bitstring_to_ascii(bitstring):\n",
    "    if len(bitstring) != 8 or not all(bit in '01' for bit in bitstring):\n",
    "        raise ValueError(\"Input must be an 8-bit binary string.\")\n",
    "    return chr(int(bitstring, 2))\n",
    "\n",
    "# Simulate user input for book build\n",
    "choice = '1'           # Change to '2' to test other direction\n",
    "char = 'A'             # Used if choice == '1'\n",
    "bitstring = '01000001' # Used if choice == '2'\n",
    "\n",
    "# Uncomment the following lines to enable interactive use\n",
    "# choice = input(\"Enter 1 or 2: \")\n",
    "# if choice == '1':\n",
    "#     char = input(\"Enter an ASCII character: \")\n",
    "# elif choice == '2':\n",
    "#     bitstring = input(\"Enter an 8-bit binary string: \")\n",
    "\n",
    "# Main logic\n",
    "if choice == '1':\n",
    "    try:\n",
    "        print(f\"Bit string: {ascii_to_bitstring(char)}\")\n",
    "    except ValueError as e:\n",
    "        print(e)\n",
    "elif choice == '2':\n",
    "    try:\n",
    "        print(f\"ASCII character: {bitstring_to_ascii(bitstring)}\")\n",
    "    except ValueError as e:\n",
    "        print(e)\n",
    "else:\n",
    "    print(\"Invalid choice.\")\n"
   ]
  },
  {
   "cell_type": "markdown",
   "id": "17f8d549-6836-46ed-aa70-d6fa8dc559ed",
   "metadata": {},
   "source": [
    "<div class=\"alert alert-info\">\n",
    "\n",
    "<center>Uncomment this code in the following cell when you transfer to a Jupyter Notebook</center> \n",
    "\n",
    "```python\n",
    "#choice = input(\"Enter 1 or 2: \")\n",
    "#if choice == '1':\n",
    "#    char = input(\"Enter an ASCII character: \")\n",
    "#elif choice == '2':\n",
    "#    bitstring = input(\"Enter an 8-bit binary string: \")\n",
    "```\n",
    "</div>"
   ]
  },
  {
   "cell_type": "markdown",
   "id": "ff91406e-3775-4511-84a2-ebf720026741",
   "metadata": {},
   "source": [
    "## Strings as a Datatype\n",
    "* **Strings use single, double or triple quotes.**\n",
    "  * triple quote strings span multiple lines and are known as docstrings if placed at the beginning of a script.\n",
    "  * Strings can be concatenated (\"1\" + \"1\" becomes \"11\").\n",
    "* **Strings are ordered**\n",
    "  * Strings can be indexed.\n",
    "  * Strings can be reverse indexed.\n",
    "* **Strings are immutable.**\n",
    "  * Can not change items in a string (do not support reassignment).\n",
    "  * Can be reassigned by slicing and concatenation (you are in effect making a new string).     "
   ]
  },
  {
   "cell_type": "code",
   "execution_count": 42,
   "id": "b2176e0c-5549-4395-ab44-f10f1231fa11",
   "metadata": {},
   "outputs": [
    {
     "name": "stdout",
     "output_type": "stream",
     "text": [
      "1 is <class 'int'>\n",
      "1.0 is <class 'float'>\n",
      "\"1\" is <class 'str'>\n"
     ]
    }
   ],
   "source": [
    "#This code shows the three ways of inputing the number \"one\"\n",
    "print(f'1 is {type(1)}')\n",
    "print(f'1.0 is {type(1.)}')\n",
    "print(f'\"1\" is {type(\"1\")}')"
   ]
  },
  {
   "cell_type": "markdown",
   "id": "b18fff9c-1ff6-4312-a982-9dcc30c49d65",
   "metadata": {},
   "source": [
    "**Input function returns strings**: the following code inputs a float and assigns it to the variable var, but when we check its type, is is a string.  So you must always convert values users input to floats or integers if those are the type of value you want.\n",
    "\n",
    "**Note: Input functions pause the code execution until the value is inputted and Jupyter does not auto-move to the next cell.**\n",
    "\n",
    "After inputting the value with normal enter you are returned to the same cell. To move to the next cell try **shift+down-arrow.**"
   ]
  },
  {
   "cell_type": "code",
   "execution_count": 43,
   "id": "fbbba60e-f540-40d7-beb6-761cfee3a911",
   "metadata": {},
   "outputs": [
    {
     "name": "stdout",
     "output_type": "stream",
     "text": [
      "The value of var is 1.0, which is of type <class 'str'>.\n"
     ]
    }
   ],
   "source": [
    "# This code shows that input what looks like a float is really a number\n",
    "var = '1.0' # simulate user input from input()\n",
    "#var=input(\"enter the number 1.0, be sure to include the point zero\")\n",
    "print(f'The value of var is {var}, which is of type {type(var)}.')"
   ]
  },
  {
   "cell_type": "markdown",
   "id": "2f0ba7b5-e117-4c4e-968b-8c0427df69d9",
   "metadata": {},
   "source": [
    "<div class=\"alert alert-info\">  \n",
    "    \n",
    "<center>Uncomment this code in the following cell when you transfer to a Jupyter Book</center> \n",
    "\n",
    "```python\n",
    "#var=input(\"enter the number 1.0, be sure to include the point zero\")\n",
    "```\n",
    "</div>"
   ]
  },
  {
   "cell_type": "code",
   "execution_count": 44,
   "id": "af23eae0-999d-458c-b211-5ca377f74934",
   "metadata": {},
   "outputs": [
    {
     "name": "stdout",
     "output_type": "stream",
     "text": [
      "var + var = 1.01.0\n"
     ]
    }
   ],
   "source": [
    "print(f'var + var = {var + var}')"
   ]
  },
  {
   "cell_type": "markdown",
   "id": "967b05aa-d138-4e50-b8b0-80cd92f57a9d",
   "metadata": {},
   "source": [
    "To input it as a float, we could convert it to a float in the input statement"
   ]
  },
  {
   "cell_type": "code",
   "execution_count": 45,
   "id": "a666df25-61bb-4d38-a369-9603002505cd",
   "metadata": {},
   "outputs": [
    {
     "name": "stdout",
     "output_type": "stream",
     "text": [
      "1.0 is of type <class 'float'>.\n",
      "var + var = 2.0.\n"
     ]
    }
   ],
   "source": [
    "var = 1.0\n",
    "#var = float(input(\"enter the number 1.0, be sure to include the point zero\"))\n",
    "print(f'{var} is of type {type(var)}.')\n",
    "print(f'var + var = {var + var}.')"
   ]
  },
  {
   "cell_type": "code",
   "execution_count": 46,
   "id": "e0509905-1210-4e11-a150-f31142d6421c",
   "metadata": {},
   "outputs": [
    {
     "data": {
      "text/plain": [
       "2"
      ]
     },
     "execution_count": 46,
     "metadata": {},
     "output_type": "execute_result"
    }
   ],
   "source": [
    "1+1"
   ]
  },
  {
   "cell_type": "code",
   "execution_count": 47,
   "id": "aa847e65-d0cb-487f-9476-337df5198139",
   "metadata": {},
   "outputs": [
    {
     "data": {
      "text/plain": [
       "2.0"
      ]
     },
     "execution_count": 47,
     "metadata": {},
     "output_type": "execute_result"
    }
   ],
   "source": [
    "1.0 + 1.0"
   ]
  },
  {
   "cell_type": "code",
   "execution_count": 48,
   "id": "6cf4792e-bfcf-4828-92b4-91ef87350590",
   "metadata": {},
   "outputs": [
    {
     "data": {
      "text/plain": [
       "'1.01.0'"
      ]
     },
     "execution_count": 48,
     "metadata": {},
     "output_type": "execute_result"
    }
   ],
   "source": [
    "\"1.0\" + \"1.0\""
   ]
  },
  {
   "cell_type": "markdown",
   "id": "771fa8e5-cae1-4ffa-b144-55d6bf20ba53",
   "metadata": {},
   "source": [
    "Note: you can add a float to an integer, but you can not add a string to either a float or an integer"
   ]
  },
  {
   "cell_type": "code",
   "execution_count": 49,
   "id": "06c33995-06bd-42b1-8437-bd44b1a1fb42",
   "metadata": {},
   "outputs": [
    {
     "data": {
      "text/plain": [
       "2.0"
      ]
     },
     "execution_count": 49,
     "metadata": {},
     "output_type": "execute_result"
    }
   ],
   "source": [
    "1 + 1.0"
   ]
  },
  {
   "cell_type": "markdown",
   "id": "dc811a88-1f24-414e-9073-219228ea6801",
   "metadata": {},
   "source": [
    "The following code will give a type error as you are adding a string to an integer\n",
    "```python\n",
    "\"1\" + 1  \n",
    "```\n",
    "\n"
   ]
  },
  {
   "cell_type": "markdown",
   "id": "1633cf4c-9602-4602-8f1d-c260ec4c4afd",
   "metadata": {},
   "source": [
    "<div class=\"alert alert-info\">  \n",
    "    \n",
    "<center>Uncomment this code in the following cell when you transfer to a Jupyter Notebook</center> \n",
    "\n",
    "```python\n",
    "#1 + '1.0'\n",
    "```\n",
    "</div>"
   ]
  },
  {
   "cell_type": "code",
   "execution_count": 50,
   "id": "f5e9503d-ba09-4788-9061-51a460cd334d",
   "metadata": {},
   "outputs": [],
   "source": [
    "#this does not work, but change '1.0' to float('1.0')\n",
    "#1 + '1.0'"
   ]
  },
  {
   "cell_type": "code",
   "execution_count": 51,
   "id": "699dfa6f-537b-41a2-93e3-23e269843ef7",
   "metadata": {},
   "outputs": [
    {
     "data": {
      "text/plain": [
       "2.0"
      ]
     },
     "execution_count": 51,
     "metadata": {},
     "output_type": "execute_result"
    }
   ],
   "source": [
    "1 + float(\"1\")"
   ]
  },
  {
   "cell_type": "markdown",
   "id": "e68845a2-e79b-47b9-9fb4-3c59e09936d5",
   "metadata": {},
   "source": [
    "Note in the next cell the first * is the multiplicative operator, while the second * is the string symbol for a star."
   ]
  },
  {
   "cell_type": "code",
   "execution_count": 16,
   "id": "1013e386-04c2-4abc-8896-db0ac260edae",
   "metadata": {},
   "outputs": [
    {
     "name": "stdout",
     "output_type": "stream",
     "text": [
      "********************\n"
     ]
    }
   ],
   "source": [
    "#note the first * is the multiplication operator and the second is a string\n",
    "print(20*\"*\")"
   ]
  },
  {
   "cell_type": "markdown",
   "id": "c3e3c8bb-f1f1-4024-b53a-68a61b6455f8",
   "metadata": {},
   "source": [
    "### Escape Sequences\n",
    "An escape sequence is when a character in a string literally follows a black slash and gives python special meaning. For example, a string literal that starts with a single quote is terminated by the second single quote,, unless it is written as an escape sequence \n",
    "\n",
    "| Escape Sequence | Description |\n",
    "|-----------------|-------------|\n",
    "| `\\'` | Single quote |\n",
    "| `\\\"` | Double quote |\n",
    "| `\\\\` | Backslash |\n",
    "| `\\n` | Newline |\n",
    "| `\\t` | Horizontal tab |\n",
    "| `\\r` | Carriage return |\n",
    "| `\\b` | Backspace |\n",
    "| `\\f` | Form feed |\n",
    "| `\\v` | Vertical tab |\n",
    "\n",
    "Note, \\n moves the cursor to a new line, \\r moves it to the beginning of the current line and allows for overwriting of text."
   ]
  },
  {
   "cell_type": "code",
   "execution_count": 17,
   "id": "dec7e66e-0e4a-4a8e-9ce9-5b8769f65af1",
   "metadata": {},
   "outputs": [
    {
     "name": "stdout",
     "output_type": "stream",
     "text": [
      "Li\tBe\tB\n",
      "3\t4\t5\n",
      "\n",
      "\n",
      "Na\tMg\tAl\n",
      "11\t12\t13\n"
     ]
    }
   ],
   "source": [
    "print('Li\\tBe\\tB\\n3\\t4\\t5\\n\\n\\nNa\\tMg\\tAl\\n11\\t12\\t13')"
   ]
  },
  {
   "cell_type": "markdown",
   "id": "aa4a697f-e6bb-4c25-891d-70172b84b751",
   "metadata": {},
   "source": [
    "## Formatting Strings\n",
    "There are three basic string formatting methods\n",
    "  1. f-string method\n",
    "  2. .format() method\n",
    "  3. modulus method\n",
    "\n",
    "The f-string method will be our preferred method, and the only formatting method I expect you to be able to code with.  but you need to be aware of the other methods so you know what is going on if you find code that uses them.\n",
    "\n",
    "### Comparing string format methods\n",
    "the following code does the same thing using each method.  In this class we will need to be able to use f-string, but you need to know about the other methods"
   ]
  },
  {
   "cell_type": "code",
   "execution_count": 18,
   "id": "5ec2a461-4cee-4768-bc99-877272ee4abb",
   "metadata": {},
   "outputs": [
    {
     "name": "stdout",
     "output_type": "stream",
     "text": [
      "The atom Neon has an atomic number of 10.\n",
      "The atom Neon has an atomic number of 10.\n",
      "The atom Neon has an atomic number of 10.\n"
     ]
    }
   ],
   "source": [
    "name = \"Neon\"\n",
    "atomic_number = 10\n",
    "print(f\"The atom {name} has an atomic number of {atomic_number}.\")\n",
    "print(\"The atom {} has an atomic number of {}.\".format(name, atomic_number))\n",
    "print(\"The atom %s has an atomic number of %d.\" % (name, atomic_number))\n"
   ]
  },
  {
   "cell_type": "markdown",
   "id": "37701e30-faca-4268-bd4a-b3a41e4cce8b",
   "metadata": {},
   "source": [
    "### f-string method\n",
    "- Introduced in Python 3.6\n",
    "- Place f in front of string\n",
    "- indicate variables with {}\n",
    "- Allows you to skip the .format() step"
   ]
  },
  {
   "cell_type": "code",
   "execution_count": 19,
   "id": "f68188b5-c249-48d6-8948-04b99c13a452",
   "metadata": {},
   "outputs": [
    {
     "name": "stdout",
     "output_type": "stream",
     "text": [
      "10 grams of the molecule hydrogen has 9.921225469770025 moles.\n",
      " \t10 grams of the molecule hydrogen has 9.921225469770025 moles. \n",
      " \t\t10 grams of the molecule hydrogen has 9.921225469770025 moles.\n",
      " \t\t\t the molar mass of hydrogen is 1.00794.\n",
      " This is the last line.\n"
     ]
    }
   ],
   "source": [
    "molecule = \"hydrogen\"\n",
    "molarmass = 1.00794\n",
    "mass = 10\n",
    "moles = mass/molarmass\n",
    "print(f'{mass} grams of the molecule {molecule} has {moles} moles.\\n \\t{mass} \\\n",
    "grams of the molecule {molecule} has {moles} moles. \\n \\\n",
    "\\t\\t{mass} grams of the molecule {molecule} has {moles} moles.\\n \\\n",
    "\\t\\t\\t the molar mass of hydrogen is {molarmass}.\\n \\\n",
    "This is the last line.')"
   ]
  },
  {
   "cell_type": "markdown",
   "id": "830ccae0-9127-41e7-9eca-c52cb0d48773",
   "metadata": {},
   "source": [
    "note in the above print statement each line but the last has a \\.  What does that do?  remove it from one line and see what happens?  If needed, ask your AI."
   ]
  },
  {
   "cell_type": "code",
   "execution_count": 20,
   "id": "0ab6723b-f473-4a8a-90ed-a7f01d92f6d0",
   "metadata": {},
   "outputs": [
    {
     "name": "stdout",
     "output_type": "stream",
     "text": [
      "12345678901234567890\n",
      "12345.6789\n",
      "12345.68\n",
      "12345678901234567890\n",
      "  12345.68\n",
      "   12345.68 \n",
      "  12345.679\n"
     ]
    }
   ],
   "source": [
    "variable=12345.6789\n",
    "print(f'12345678901234567890')\n",
    "print(f'{variable:.4f}\\n{variable:.2f}')\n",
    "\n",
    "print(f'12345678901234567890')\n",
    "print(f'{variable:10.2f}\\n{variable:11.2f} \\n{variable:11.3f}')"
   ]
  },
  {
   "cell_type": "code",
   "execution_count": 21,
   "id": "8f9ce4ed-4499-44e4-bc8b-6a106a9fd6cf",
   "metadata": {},
   "outputs": [
    {
     "name": "stdout",
     "output_type": "stream",
     "text": [
      "How long is this number going to be 1234.568\n"
     ]
    }
   ],
   "source": [
    "print(f\"How long is this number going to be {1234.5678:2.3f}\")"
   ]
  },
  {
   "cell_type": "markdown",
   "id": "b79ab1c7-ac8f-4178-a581-867b91e56689",
   "metadata": {},
   "source": [
    "### .format() method\n",
    "\n",
    "This is more common and you will see lots of examples that use the .format() method\n",
    "\n",
    "**Generic Syntax**\n",
    "\n",
    "\"text {} text {} text {}.\" .format(var1, var2, var3)\n",
    "\n",
    "Can use index numbers\n",
    "Place width and precision in curly brackets ({})."
   ]
  },
  {
   "cell_type": "code",
   "execution_count": 22,
   "id": "5776414d-c21e-423e-aa1b-de398e5bb742",
   "metadata": {},
   "outputs": [
    {
     "name": "stdout",
     "output_type": "stream",
     "text": [
      "This string has order first, second, third variable Hydrogen Helium Lithium.\n",
      "This string has order third variable Lithium, second variable Helium first variable Hydrogen.\n",
      "This string has order first variable Hydrogen, second variable Helium first variable Hydrogen.\n"
     ]
    }
   ],
   "source": [
    "#Demonstration of use of index numbers in .format() method\n",
    "atom1, atom2, atom3 = \"Hydrogen\", \"Helium\", \"Lithium\"\n",
    "print(\"This string has order first, second, third variable {} {} {}.\"\\\n",
    "      .format(atom1,atom2,atom3))\n",
    "print(\"This string has order third variable {2}, second variable {1} \"\\\n",
    "      \"first variable {0}.\".format(atom1, atom2, atom3))\n",
    "print(\"This string has order first variable {0}, second variable {1} \"\\\n",
    "      \"first variable {0}.\".format(atom1, atom2, atom3))"
   ]
  },
  {
   "cell_type": "code",
   "execution_count": 23,
   "id": "ec6a2012-6cbd-4c4c-83ae-4d7a81bcbd2c",
   "metadata": {},
   "outputs": [
    {
     "name": "stdout",
     "output_type": "stream",
     "text": [
      "hydrogen  |   1.00784\n",
      "helium    |  4.002602\n",
      "1234567890|1234567890\n",
      " *  *  *  *  *  *  *  *  *  * \n",
      "hydrogen  |     1.008\n",
      "helium    |     4.003\n"
     ]
    }
   ],
   "source": [
    "#Demonstration of use of width and precision of .format() method\n",
    "print(\"{0:10}|{1:10}\\n{2:10}|{3:10}\\n1234567890|1234567890\"\\\n",
    "      .format(\"hydrogen\",1.00784, \"helium\", 4.002602))\n",
    "print(10*\" * \")\n",
    "print(\"{0:10}|{1:10.3f}\\n{2:10}|{3:10.3f}\".format(\"hydrogen\",1.00784, \"helium\", 4.002602))"
   ]
  },
  {
   "cell_type": "code",
   "execution_count": 24,
   "id": "1ed6b1dd-2195-444f-ba9f-462b3fdabb52",
   "metadata": {},
   "outputs": [
    {
     "name": "stdout",
     "output_type": "stream",
     "text": [
      "left align     |left align     \n",
      "left align     |    right align\n",
      " center align  | center align  \n"
     ]
    }
   ],
   "source": [
    "#left aligned spaced at 15 digits\n",
    "print(\"{0:<15}|{0:<15}\".format(\"left align\", \"center align\", \"right align\"))\n",
    "#left then right aligned spaced at 15 digits\n",
    "print(\"{0:<15}|{2:>15}\".format(\"left align\", \"center align\", \"right align\"))\n",
    "#center aligned spaced at 15 digits\n",
    "print(\"{1:^15}|{1:^15}\".format(\"left align\", \"center align\", \"right align\"))"
   ]
  },
  {
   "attachments": {},
   "cell_type": "markdown",
   "id": "847444cb-0781-4538-abe3-fc66678dd06f",
   "metadata": {},
   "source": [
    "### Modulus (%) Method\n",
    "This is the oldest form of formatting and we will seldom use it.  But you need to be aware of it in the event you find some old code that uses this method\n",
    "\n",
    "**Generic Syntax**\n",
    "\n",
    "![image.png](images/881b2769-3972-4b3a-a7fd-6ea56781ee7f.png)\n",
    "\n",
    "- %s - represents strings\n",
    "- %i - represents integers\n",
    "- %d - represents decimal integers\n",
    "- %f - represents floats\n",
    "\n"
   ]
  },
  {
   "cell_type": "code",
   "execution_count": 25,
   "id": "6ba97714-f56f-4c8f-a8fd-b230f6764935",
   "metadata": {},
   "outputs": [
    {
     "name": "stdout",
     "output_type": "stream",
     "text": [
      "The molar mass of hydrogen is: 1.01\n",
      "The molar mass of hydrogen is:       1.01\n",
      "The molar mass of hydrogen is: 1\n",
      "The molar mass of hydrogen is: 1.00784\n"
     ]
    }
   ],
   "source": [
    "print(\"The molar mass of hydrogen is: %1.2f\"%(1.00784))\n",
    "print(\"The molar mass of hydrogen is: %10.2f\"%(1.00784))\n",
    "print(\"The molar mass of hydrogen is: %1.0f\"%(1.00784))\n",
    "print(\"The molar mass of hydrogen is: %1.5f\"%(1.00784))"
   ]
  },
  {
   "cell_type": "code",
   "execution_count": 26,
   "id": "7335a267-00f0-461b-92cf-0a0cffbb6159",
   "metadata": {},
   "outputs": [
    {
     "name": "stdout",
     "output_type": "stream",
     "text": [
      "The molar mass of water is 18.015 g/mol.\n",
      "The molar mass of water is 18.01528 g/mol.\n",
      "The molar mass of water is 018 g/mol.\n"
     ]
    }
   ],
   "source": [
    "#here we are assigning two variables in one line, and then printing them in a line\n",
    "entity, molar_mass=\"water\", 18.01528\n",
    "print(\"The molar mass of %s is %.3f g/mol.\" %(entity,molar_mass))\n",
    "print(\"The molar mass of %s is %.5f g/mol.\" %(entity,molar_mass))\n",
    "print(\"The molar mass of %s is %.3d g/mol.\" %(entity,molar_mass))"
   ]
  },
  {
   "cell_type": "markdown",
   "id": "df4d2116-b693-4861-80b5-560268fd7068",
   "metadata": {},
   "source": [
    "Can you explain why the last line above makes no sense?  Hint, d stands for decimal integer, that is a base 10 integer (and not a float).  Ask you AI if you need further help."
   ]
  },
  {
   "cell_type": "markdown",
   "id": "f13a0e46-9d1f-4874-9cb4-90ea9aeed15d",
   "metadata": {},
   "source": [
    "## String Functions\n",
    "### Table of String Functions\n",
    "\n",
    "| Function | Description |\n",
    "|----------|-------------|\n",
    "| `len(string)` | Returns the length of the string |\n",
    "| `max(string)` | Returns the character with the highest ASCII value in the string |\n",
    "| `min(string)` | Returns the character with the lowest ASCII value in the string |\n",
    "| `ord(character)` | Returns the Unicode code point of a character |\n",
    "| `chr(integer)` | Returns the character represented by a Unicode code point |\n",
    "| `str(object)` | Returns a string representation of an object |\n"
   ]
  },
  {
   "cell_type": "markdown",
   "id": "d399cc60-9d15-475f-a674-7d3a88d43b82",
   "metadata": {},
   "source": [
    "## String Methods\n",
    "### Table of String Methods\n",
    "\n",
    "| Method | Description |\n",
    "|--------|-------------|\n",
    "| `capitalize()` | Returns a copy of the string with its first character capitalized |\n",
    "| `casefold()` | Returns a casefolded copy of the string |\n",
    "| `center(width[, fillchar])` | Returns a centered string |\n",
    "| `count(sub[, start[, end]])` | Returns the number of non-overlapping occurrences of substring |\n",
    "| `encode([encoding[, errors]])` | Returns an encoded version of the string |\n",
    "| `endswith(suffix[, start[, end]])` | Returns True if the string ends with the specified suffix |\n",
    "| `expandtabs([tabsize])` | Returns a copy of the string where all tab characters are replaced |\n",
    "| `find(sub[, start[, end]])` | Returns the lowest index of substring if found |\n",
    "| `format(*args, **kwargs)` | Formats the string |\n",
    "| `index(sub[, start[, end]])` | Like find(), but raises ValueError when the substring is not found |\n",
    "| `isalnum()` | Returns True if all characters in the string are alphanumeric |\n",
    "| `isalpha()` | Returns True if all characters in the string are alphabetic |\n",
    "| `isdecimal()` | Returns True if all characters in the string are decimal |\n",
    "| `isdigit()` | Returns True if all characters in the string are digits |\n",
    "| `islower()` | Returns True if all cased characters in the string are lowercase |\n",
    "| `isnumeric()` | Returns True if all characters in the string are numeric |\n",
    "| `isspace()` | Returns True if all characters in the string are whitespaces |\n",
    "| `istitle()` | Returns True if the string follows the rules of a title |\n",
    "| `isupper()` | Returns True if all cased characters in the string are uppercase |\n",
    "| `join(iterable)` | Joins the elements of an iterable to the end of the string |\n",
    "| `ljust(width[, fillchar])` | Returns a left-justified string |\n",
    "| `lower()` | Returns a copy of the string converted to lowercase |\n",
    "| `lstrip([chars])` | Returns a copy of the string with leading characters removed |\n",
    "| `partition(sep)` | Returns a tuple containing the part before the separator, the separator itself, and the part after the separator |\n",
    "| `replace(old, new[, count])` | Returns a copy of the string where all occurrences of old have been replaced by new |\n",
    "| `rfind(sub[, start[, end]])` | Returns the highest index of substring if found |\n",
    "| `rindex(sub[, start[, end]])` | Like rfind(), but raises ValueError when the substring is not found |\n",
    "| `rjust(width[, fillchar])` | Returns a right-justified string |\n",
    "| `rpartition(sep)` | Returns a tuple containing the part before the separator, the separator itself, and the part after the separator |\n",
    "| `rsplit([sep[, maxsplit]])` | Returns a list of words in the string, using sep as the delimiter string |\n",
    "| `rstrip([chars])` | Returns a copy of the string with trailing characters removed |\n",
    "| `split([sep[, maxsplit]])` | Returns a list of words in the string, using sep as the delimiter string |\n",
    "| `splitlines([keepends])` | Returns a list of the lines in the string, breaking at line boundaries |\n",
    "| `startswith(prefix[, start[, end]])` | Returns True if the string starts with the specified prefix |\n",
    "| `strip([chars])` | Returns a copy of the string with leading and trailing characters removed |\n",
    "| `swapcase()` | Returns a copy of the string with uppercase characters converted to lowercase and vice versa |\n",
    "| `title()` | Returns a titlecased version of the string |\n",
    "| `translate(table)` | Returns a copy of the string in which each character has been mapped through the given translation table |\n",
    "| `upper()` | Returns a copy of the string converted to uppercase |\n",
    "| `zfill(width)` | Returns a copy of the string padded with zeros |\n",
    "\n",
    "### Examples of string.methods\n",
    "#### .capitalize()"
   ]
  },
  {
   "cell_type": "code",
   "execution_count": 27,
   "id": "caa1b3fa-a41f-48c2-b6ea-334fdc9491ce",
   "metadata": {},
   "outputs": [
    {
     "name": "stdout",
     "output_type": "stream",
     "text": [
      "Chemistry class\n"
     ]
    }
   ],
   "source": [
    "name = \"chemistry class\"\n",
    "print(name.capitalize())"
   ]
  },
  {
   "cell_type": "markdown",
   "id": "88030e54-44f2-4e65-9efd-df6e32313c5c",
   "metadata": {},
   "source": [
    "#### .find()"
   ]
  },
  {
   "cell_type": "code",
   "execution_count": 28,
   "id": "26fef4e8-6b91-4cfb-aa9b-9297016cfe4e",
   "metadata": {},
   "outputs": [
    {
     "name": "stdout",
     "output_type": "stream",
     "text": [
      "17\n"
     ]
    }
   ],
   "source": [
    "text = 'Chemistry is the best course'\n",
    "\n",
    "print(text.find('best'))\n",
    "#notice how it returns the index number"
   ]
  },
  {
   "cell_type": "markdown",
   "id": "e475c6d4-4150-4091-8004-f79f0a92cac2",
   "metadata": {},
   "source": [
    "#### .join()"
   ]
  },
  {
   "cell_type": "code",
   "execution_count": 29,
   "id": "ca7692b5-9c52-47c1-8a44-3b5b782b1e5a",
   "metadata": {},
   "outputs": [
    {
     "name": "stdout",
     "output_type": "stream",
     "text": [
      "Chemistry is the best class\n",
      "['Chemistry', 'is', 'the', 'best', 'class']\n",
      "The type of ['Chemistry', 'is', 'the', 'best', 'class'] is <class 'list'>.\n",
      "Chemistry is the best class\n",
      "The type of \"Chemistry is the best class\" is <class 'str'>.\n"
     ]
    }
   ],
   "source": [
    "text = ['Chemistry', 'is', 'the', 'best', 'class']\n",
    "#the above is a list (container type data structure) of strings\n",
    "space = \" \"\n",
    "\n",
    "print(space.join(text))\n",
    "\n",
    "new_text = space.join(text)\n",
    "print(text)\n",
    "print(f'The type of {text} is {type(text)}.')\n",
    "print(new_text)\n",
    "print(f'The type of \"{new_text}\" is {type(new_text)}.')"
   ]
  },
  {
   "cell_type": "markdown",
   "id": "eb7ed550-1c18-4739-8b4d-77224d291e9e",
   "metadata": {},
   "source": [
    "#### .lstrip(' ')"
   ]
  },
  {
   "cell_type": "code",
   "execution_count": 30,
   "id": "74dc2436-94e6-4e8f-88e7-67f880e2667f",
   "metadata": {},
   "outputs": [
    {
     "name": "stdout",
     "output_type": "stream",
     "text": [
      "Hello world\n",
      "<class 'str'>\n"
     ]
    }
   ],
   "source": [
    "text = \",,,,,Hello world\"\n",
    "x = text.lstrip(\",\")\n",
    "print(x)\n",
    "print(type(x))"
   ]
  },
  {
   "cell_type": "markdown",
   "id": "3cfa0549-9397-493d-a75a-b1e3b7e96b19",
   "metadata": {},
   "source": [
    "#### .replace('old_word','new_word')"
   ]
  },
  {
   "cell_type": "code",
   "execution_count": 31,
   "id": "50369364-779a-4cab-8192-17003422f6e5",
   "metadata": {},
   "outputs": [
    {
     "name": "stdout",
     "output_type": "stream",
     "text": [
      "Ozone Oxygen Hydrogen\n",
      "The memory heap location of text is 133036393517728. \n",
      "The memory heap location of new_text is 133036392729136.\n"
     ]
    }
   ],
   "source": [
    "text = 'Ozone Oxygen Butane'\n",
    "\n",
    "new_text = text.replace('Butane', 'Hydrogen')\n",
    "\n",
    "print(new_text)\n",
    "print(f'The memory heap location of text is {id(text)}. \\\n",
    "\\nThe memory heap location of new_text is {id(new_text)}.')"
   ]
  },
  {
   "cell_type": "markdown",
   "id": "835b82c2-239e-4cf1-98a1-45c129df12b7",
   "metadata": {},
   "source": [
    "#### .rstrip('delimeter',max number of splits from right)"
   ]
  },
  {
   "cell_type": "code",
   "execution_count": 32,
   "id": "29fd0aff-92a2-4425-bbe4-3243bfd41a42",
   "metadata": {},
   "outputs": [
    {
     "name": "stdout",
     "output_type": "stream",
     "text": [
      "['a,b,c', 'd', 'e']\n",
      "['a,b,c,d', 'e']\n",
      "['a', 'b', 'c', 'd', 'e']\n",
      "text is <class 'str'>.\n",
      "x is <class 'list'>.\n"
     ]
    }
   ],
   "source": [
    "text = \"a,b,c,d,e\"\n",
    "x = text.rsplit(\",\",2)\n",
    "y = text.rsplit(\",\",1)\n",
    "z = text.rsplit(\",\")\n",
    "print(x)\n",
    "print(y)\n",
    "print(z)\n",
    "print(f'text is {type(text)}.\\nx is {type(x)}.') "
   ]
  },
  {
   "cell_type": "markdown",
   "id": "0fd6dfc5-e5d8-4b1a-8b8b-139b9b907149",
   "metadata": {},
   "source": [
    "#### .split('delimiter',max from left)"
   ]
  },
  {
   "cell_type": "code",
   "execution_count": 33,
   "id": "e0dd28f3",
   "metadata": {},
   "outputs": [
    {
     "name": "stdout",
     "output_type": "stream",
     "text": [
      "['a', 'b', 'c,d,e']\n",
      "['a', 'b,c,d,e']\n",
      "['a', 'b', 'c', 'd', 'e']\n",
      "text is <class 'str'>.\n",
      "x is <class 'list'>.\n"
     ]
    }
   ],
   "source": [
    "text = \"a,b,c,d,e\"\n",
    "x = text.split(\",\",2)\n",
    "y = text.split(\",\",1)\n",
    "z = text.split(\",\")\n",
    "print(x)\n",
    "print(y)\n",
    "print(z)\n",
    "print(f'text is {type(text)}.\\nx is {type(x)}.') "
   ]
  },
  {
   "cell_type": "markdown",
   "id": "933a8f62-b5cb-44a0-a2e6-de4cbd23c89a",
   "metadata": {},
   "source": [
    "**Assign variables on a split**"
   ]
  },
  {
   "cell_type": "code",
   "execution_count": 34,
   "id": "1d10f1ae-547f-4db5-80ac-bd65b795f82d",
   "metadata": {},
   "outputs": [
    {
     "name": "stdout",
     "output_type": "stream",
     "text": [
      "report.final.version\n",
      "pdf\n"
     ]
    }
   ],
   "source": [
    "filename = \"report.final.version.pdf\"\n",
    "name, ext = filename.rsplit(\".\", 1)\n",
    "print(name)  # 'report.final.version'\n",
    "print(ext)   # 'pdf'\n"
   ]
  },
  {
   "cell_type": "code",
   "execution_count": 35,
   "id": "2e2e8b48-973d-47b1-b03b-24cfbcd7c2d7",
   "metadata": {},
   "outputs": [
    {
     "name": "stdout",
     "output_type": "stream",
     "text": [
      "Pytho\n"
     ]
    }
   ],
   "source": [
    "text = \"Pythonnnnnn\"\n",
    "print(text.rstrip('n'))"
   ]
  },
  {
   "cell_type": "markdown",
   "id": "12140404-642b-495a-b6cc-fb2c7db3fb12",
   "metadata": {},
   "source": [
    "Note, -1 means no limit and is the same as split()"
   ]
  },
  {
   "cell_type": "code",
   "execution_count": 36,
   "id": "ec3843e0-ddcd-453e-b935-c607f385b0cf",
   "metadata": {},
   "outputs": [
    {
     "name": "stdout",
     "output_type": "stream",
     "text": [
      "['This', 'programming', 'langauge', 'is', 'cool']\n",
      "['This', 'programming', 'langauge', 'is', 'cool']\n",
      "['This', 'programming langauge is cool']\n",
      "['This', 'programming', 'langauge is cool']\n"
     ]
    }
   ],
   "source": [
    "text = 'This programming langauge is cool'\n",
    "\n",
    "x = text.split(None,-1)\n",
    "print(x)\n",
    "x=text.split()\n",
    "print(x)\n",
    "\n",
    "x = text.split(None,1)\n",
    "print(x)\n",
    "\n",
    "x = text.split(None,2)\n",
    "print(x)"
   ]
  },
  {
   "cell_type": "code",
   "execution_count": 37,
   "id": "a8806308-a929-45d1-bed6-121e23377803",
   "metadata": {},
   "outputs": [
    {
     "name": "stdout",
     "output_type": "stream",
     "text": [
      "Python Programming Class\n",
      "Python Programming Class\n"
     ]
    }
   ],
   "source": [
    "text1 = 'python programming class'\n",
    "print(text1.title())\n",
    " \n",
    "text2 = 'pyTHoN proGraMMinG clAsS'.title()\n",
    "print(text2.title())"
   ]
  },
  {
   "cell_type": "markdown",
   "id": "74268fc3-534e-48eb-869d-667000f39b55",
   "metadata": {},
   "source": [
    "## String Indexing\n",
    "### Indexing\n",
    "In python each character has a string index position, that can be accessed with brackets [index].  The initial index is zero and increases going left to right.  You can also reverse index starting from the right most position with value [-1] \n",
    "|Character|B|o|r|o|n|\n",
    "|---|---|---|---|---|---|\n",
    "|Index|0|1|2|3|4|\n",
    "|Index|-5|-4|-3|-2|-1|\n",
    "### Slicing\n",
    "Slicing is a way of taking slices of a string. The format is\n",
    "\n",
    "**word[ i : j : stride ]**\n",
    "* i is the initial index digit and is inclusive (included in the output)\n",
    "* j is the final index digit and is exclusive (excluded in the output)\n",
    "* stride is the value of increment, which is 1 if omitted.\n",
    "\n",
    "\n",
    "### Indexing & Slicing Summary Table\n",
    "| Operation | Syntax | Explanation | Example (`s = \"Chemistry\"`) | Output |\n",
    "|-----------|--------|-------------|-----------------------------|--------|\n",
    "| **Positive Indexing** | `s[i]` | Access the character at index `i` | `s[0]` | `'C'` |\n",
    "| **Negative Indexing** | `s[-i]` | Access from the end (last = `-1`) | `s[-1]` | `'y'` |\n",
    "| **Slicing (Start to End, Exclusive)** | `s[start:stop]` | Extracts characters from `start` to `stop-1` | `s[0:4]` | `'Chem'` |\n",
    "| **Omitting Start** | `s[:stop]` | Starts from index `0` | `s[:4]` | `'Chem'` |\n",
    "| **Omitting End** | `s[start:]` | Goes to the end of the string | `s[4:]` | `'istry'` |\n",
    "| **Full Slice** | `s[:]` | Copies the entire string | `s[:]` | `'Chemistry'` |\n",
    "| **Skipping Steps** | `s[start:stop:step]` | Extracts characters with `step` | `s[0:9:2]` | `'Cemsr'` |\n",
    "| **Reversing a String** | `s[::-1]` | Returns the string in reverse order | `s[::-1]` | `'yrtsimehC'` |\n",
    "\n",
    "---"
   ]
  },
  {
   "cell_type": "code",
   "execution_count": 38,
   "id": "19453add-f021-4b8d-b2ac-1ad701c9137e",
   "metadata": {},
   "outputs": [
    {
     "name": "stdout",
     "output_type": "stream",
     "text": [
      "bar\n",
      "eni\n",
      "in\n",
      "ine\n"
     ]
    }
   ],
   "source": [
    "element1 = \"barium\"\n",
    "element2 = 'chlorine'\n",
    "print(element1[0:3])\n",
    "print(element2[-1:-4:-1])\n",
    "print(element2[-3:-1])\n",
    "print(element2[-3:])"
   ]
  },
  {
   "cell_type": "markdown",
   "id": "bc7f2409-5053-4607-82f0-555fa1de2555",
   "metadata": {},
   "source": [
    "## String Indexing, Slicing and Concatenation\n",
    "In the following examples we will use reverse indexing to slice off the base ending of an element name and add the suffix of an ion of that element. At a later stage we will build an app that builds up on this and names ions from their base elements."
   ]
  },
  {
   "cell_type": "code",
   "execution_count": 39,
   "id": "12caa2f9-f851-466d-b328-1a9433e051dc",
   "metadata": {},
   "outputs": [
    {
     "name": "stdout",
     "output_type": "stream",
     "text": [
      "Base Element: Chlorine → Ion Name: Chloride\n",
      "Base Element: Sulfur → Ion Name: Sulfate\n",
      "Base Element: Phosphorus → Ion Name: Phosphite\n"
     ]
    }
   ],
   "source": [
    "# Base compound names\n",
    "element1 = \"Chlorine\"\n",
    "element2 = \"Sulfur\"\n",
    "element3 = \"Phosphorus\"\n",
    "\n",
    "# Slicing to remove suffixes\n",
    "chloride = element1[: -3] + \"ide\"  # Removing \"ine\" → \"Chloride\"\n",
    "sulfate = element2[: -2] + \"ate\"   # Removing \"ur\" → \"Sulfate\"\n",
    "phosphite = element3[: -4] + \"ite\" # Removing \"us\" → \"Phosphite\"\n",
    "\n",
    "# Display results\n",
    "print(f\"Base Element: {element1} → Ion Name: {chloride}\")\n",
    "print(f\"Base Element: {element2} → Ion Name: {sulfate}\")\n",
    "print(f\"Base Element: {element3} → Ion Name: {phosphite}\")\n"
   ]
  },
  {
   "cell_type": "markdown",
   "id": "db6e7959-8aaa-4292-8d62-43c970c6fbe9",
   "metadata": {},
   "source": [
    "## Strings are immutable\n",
    "we learned earlier that strings are immutable, that is, once created they can not be changed, and it looks like in the above example we changed the strings, but we did not.  Instead, we made new ones, as shown by adding some code to print out the memory address.  So the ion is really a new object, and the original object still exists."
   ]
  },
  {
   "cell_type": "code",
   "execution_count": 40,
   "id": "e95af699-4368-426e-b00a-12f9ebe70a87",
   "metadata": {},
   "outputs": [
    {
     "name": "stdout",
     "output_type": "stream",
     "text": [
      "Base Element: Chlorine → Ion Name: Chloride\n",
      "Note,\t Chlorine has memory address 133036257387632 while, \n",
      "\t Chloride has memory address 133036257429744.\n",
      "\n",
      "Base Element: Sulfur → Ion Name: Sulfate\n",
      "Note,\t Sulfur has memory address 133036257387632 while, \n",
      "\t Sulfate has memory address 133036257389168.\n",
      "\n",
      "Base Element: Phosphorus → Ion Name: Phosphite\n",
      "Note,\t Phosphorus has memory address 133036257387632 while, \n",
      "\t Phosphite has memory address 133036257386608.\n"
     ]
    }
   ],
   "source": [
    "# Base compound names\n",
    "element1 = \"Chlorine\"\n",
    "element2 = \"Sulfur\"\n",
    "element3 = \"Phosphorus\"\n",
    "\n",
    "# Slicing to remove suffixes\n",
    "chloride = element1[: -3] + \"ide\"  # Removing \"ine\" → \"Chloride\"\n",
    "sulfate = element2[: -2] + \"ate\"   # Removing \"ur\" → \"Sulfate\"\n",
    "phosphite = element3[: -4] + \"ite\" # Removing \"us\" → \"Phosphite\"\n",
    "\n",
    "# Display results\n",
    "print(f\"Base Element: {element1} → Ion Name: {chloride}\")\n",
    "print(f\"Note,\\t {element1} has memory address {id(element1)} while, \\n\\t {chloride} has memory address {id(chloride)}.\")\n",
    "print(f\"\\nBase Element: {element2} → Ion Name: {sulfate}\")\n",
    "print(f\"Note,\\t {element2} has memory address {id(element1)} while, \\n\\t {sulfate} has memory address {id(sulfate)}.\")\n",
    "print(f\"\\nBase Element: {element3} → Ion Name: {phosphite}\")\n",
    "print(f\"Note,\\t {element3} has memory address {id(element1)} while, \\n\\t {phosphite} has memory address {id(phosphite)}.\")"
   ]
  },
  {
   "cell_type": "markdown",
   "id": "f735409b-a27a-4f92-9014-beeb1c753eb7",
   "metadata": {},
   "source": [
    "# Acknowledgements\n",
    "This content was developed with assistance from [Perplexity AI](https://www.perplexity.ai/) and [Chat GPT](https://chatgpt.com/). Multiple queries were made during the Fall 2024 and the Spring 2025."
   ]
  }
 ],
 "metadata": {
  "kernelspec": {
   "display_name": "Python (py4sci)",
   "language": "python",
   "name": "py4sci"
  },
  "language_info": {
   "codemirror_mode": {
    "name": "ipython",
    "version": 3
   },
   "file_extension": ".py",
   "mimetype": "text/x-python",
   "name": "python",
   "nbconvert_exporter": "python",
   "pygments_lexer": "ipython3",
   "version": "3.10.17"
  }
 },
 "nbformat": 4,
 "nbformat_minor": 5
}
