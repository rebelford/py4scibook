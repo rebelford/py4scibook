{
 "cells": [
  {
   "cell_type": "markdown",
   "id": "c7fe2d43-960b-4b61-98f0-5ad840a2dfef",
   "metadata": {},
   "source": [
    "# In a Markdown cell:\n",
    "# Math Test\n",
    "\n",
    "This should render:\n",
    "\n",
    "$$\n",
    "E = mc^2\n",
    "$$\n",
    "\n",
    "$a$ is the coefficient.\n",
    "\n",
    "$b = \\sqrt{2}$\n"
   ]
  }
 ],
 "metadata": {
  "kernelspec": {
   "display_name": "Python (py4sci)",
   "language": "python",
   "name": "py4sci"
  },
  "language_info": {
   "codemirror_mode": {
    "name": "ipython",
    "version": 3
   },
   "file_extension": ".py",
   "mimetype": "text/x-python",
   "name": "python",
   "nbconvert_exporter": "python",
   "pygments_lexer": "ipython3",
   "version": "3.10.17"
  }
 },
 "nbformat": 4,
 "nbformat_minor": 5
}
