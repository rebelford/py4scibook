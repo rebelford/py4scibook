{
 "cells": [
  {
   "cell_type": "markdown",
   "id": "806af577-63b3-4e8c-b437-e5556385e4e6",
   "metadata": {},
   "source": [
    "(module2-oop-data-structures/02-5-control-structures)=\n",
    "# 5. Logic and Control Structures\n",
    "\n",
    " **Boolean algebra** deals with **binary logic** - values that are `True` or `False` and is the foundation of logic and control structures that allow you to control the sequence in which statements are executed.\n",
    "\n",
    "Control structures can generally be categorized into three main types:\n",
    "\n",
    "1. **Conditional (Decision-Making) Control** – These structures allow the program to make choices and take different execution paths based on conditions. Examples:\n",
    "   - `if` statement\n",
    "   - `if-else` statement\n",
    "   - `if-elif-else` statement\n",
    "\n",
    "2. **Iteration (Looping) Control** – These structures repeat a block of code multiple times until a condition is met. Examples:\n",
    "   - `for` loop (iterates over sequences)\n",
    "   - `while` loop (runs based on a condition)\n",
    "\n",
    "3. **Branching (Jump) Control** – These are statements that modify the normal flow of execution within loops or functions. Examples:\n",
    "   - `break` (exits the loop)\n",
    "   - `continue` (skips the rest of the current iteration and moves to the next)\n",
    "   - `pass` (placeholder statement that does nothing)\n",
    "   - `return` (exits a function and optionally returns a value)\n",
    "\n",
    "Operators that are used in logic and control structures\n",
    "\n",
    "| Category          | Operator(s) | Description |\n",
    "|------------------|------------|-------------|\n",
    "| **Comparison**   | `==`       | Equal to |\n",
    "|                 | `!=`       | Not equal to |\n",
    "|                 | `>`        | Greater than |\n",
    "|                 | `<`        | Less than |\n",
    "|                 | `>=`       | Greater than or equal to |\n",
    "|                 | `<=`       | Less than or equal to |\n",
    "| **Logical (Boolean)** | `and`  | Returns `True` if both conditions are `True` |\n",
    "|                 | `or`       | Returns `True` if at least one condition is `True` |\n",
    "|                 | `not`      | Negates a Boolean expression |\n",
    "| **Identity**     | `is`       | Returns `True` if both variables reference the same object |\n",
    "|                 | `is not`   | Returns `True` if variables reference different objects |\n",
    "| **Membership**   | `in`       | Returns `True` if a value is found in a sequence (list, tuple, string, etc.) |\n",
    "|                 | `not in`   | Returns `True` if a value is not in a sequence |\n"
   ]
  },
  {
   "attachments": {},
   "cell_type": "markdown",
   "id": "bf6adba6-c851-423b-9a8b-a6079034b994",
   "metadata": {
    "editable": true,
    "slideshow": {
     "slide_type": ""
    },
    "tags": []
   },
   "source": [
    "# 1. Conditionals\n",
    "\n",
    "The output of a conditional is Boolean There are three basic types of If statements\n",
    "   1. If Statement\n",
    "   2. If-else Statement\n",
    "   3. If-elif-else Statement\n",
    "\n",
    "![image.png](images/28b67167-6402-446e-b6bf-2fc9e49ccd8c.png)"
   ]
  },
  {
   "attachments": {},
   "cell_type": "markdown",
   "id": "cd0e4d02-fc44-4fc2-bed6-f5ca17fe48ae",
   "metadata": {},
   "source": [
    "## If Statement  \n",
    "In the following example we are asking someone to input into our code the molar mass of a compound, with diatomic hydrogen being the smallest substance, and so a **molar mass of less than two is nonsense** and should not be accepted as valid input. \n",
    "\n",
    "![image.png](images/28763f05-378f-4898-87e9-f8a9db8db291.png)\n",
    "\n",
    "**Inspect the following code cell before running.** Note how python uses indented blocks to define the if statement, with the indented statement being executed if the condition is **True**.\n",
    "\n",
    "**Be sure to try a molar mass < 2 and read the output**"
   ]
  },
  {
   "cell_type": "markdown",
   "id": "e0d0338e-ad94-4aef-8a0a-288e91f87502",
   "metadata": {
    "editable": true,
    "slideshow": {
     "slide_type": ""
    },
    "tags": []
   },
   "source": [
    "<div class=\"alert alert-info\">  \n",
    "    \n",
    "<center>Uncomment this code in the following cell when you transfer to a Jupyter Notebook</center> \n",
    "\n",
    "```python\n",
    "#molar_mass=float(input(\"Enter the molar mass of a molecule in units of g/mol\"))\n",
    "```\n",
    "</div>"
   ]
  },
  {
   "cell_type": "code",
   "execution_count": 1,
   "id": "c1ce3ad0-bf83-41da-b444-d655f2b3ad63",
   "metadata": {
    "editable": true,
    "slideshow": {
     "slide_type": ""
    },
    "tags": []
   },
   "outputs": [
    {
     "name": "stdout",
     "output_type": "stream",
     "text": [
      "Your molar mass makes no sense\n",
      "The molar mass you entered is: 0.098g/mol\n"
     ]
    }
   ],
   "source": [
    "molar_mass = 0.098\n",
    "#molar_mass=float(input(\"Enter the molar mass of a molecule in units of g/mol\"))\n",
    "\n",
    "if molar_mass < 2.0:\n",
    "    print(\"Your molar mass makes no sense\")\n",
    "    \n",
    "print(f\"The molar mass you entered is: {molar_mass}g/mol\")"
   ]
  },
  {
   "attachments": {},
   "cell_type": "markdown",
   "id": "4a8c6666-22cf-41db-9a09-a86f9a0c0cf3",
   "metadata": {},
   "source": [
    "## If-else Statement\n",
    "The shortcomings of the previous block of code can be overcome with an if-else statement\n",
    "\n",
    "![image.png](images/a218b046-732a-48d1-ab70-2780f064100e.png)\n",
    "\n",
    "**Inspect the following code cell before running it** and not how we switched the logic so it prints the output if true"
   ]
  },
  {
   "cell_type": "markdown",
   "id": "da00b7ef-c8dc-4a12-9666-159b3906c432",
   "metadata": {},
   "source": [
    "<div class=\"alert alert-info\">  \n",
    "    \n",
    "<center>Uncomment this code in the following cell when you transfer to a Jupyter Notebook and enter a value less than 2 g/mol</center> \n",
    "\n",
    "```python\n",
    "#molar_mass=float(input(\"Enter the molar mass of a molecule in units of g/mol\"))\n",
    "```\n",
    "</div>"
   ]
  },
  {
   "cell_type": "code",
   "execution_count": 2,
   "id": "5100695c-3ea1-4bb1-9d4f-cd45ec7ae5c4",
   "metadata": {
    "editable": true,
    "raw_mimetype": "",
    "slideshow": {
     "slide_type": ""
    },
    "tags": []
   },
   "outputs": [
    {
     "name": "stdout",
     "output_type": "stream",
     "text": [
      "The molar mass you entered is: 4g/mol\n"
     ]
    }
   ],
   "source": [
    "\n",
    "# molar_mass=float(input(\"Enter the molar mass of a molecule in units of g/mol \"))\n",
    "molar_mass = 4\n",
    "if molar_mass >= 2.0:\n",
    "    print(f\"The molar mass you entered is: {molar_mass}g/mol\")\n",
    "else:\n",
    "    molar_mass=float(input(\"Enter a molar mass greater than or equal to diatomic hydrogen \"))\n",
    "    print(f\"The molar mass you entered is: {molar_mass}g/mol\")"
   ]
  },
  {
   "attachments": {},
   "cell_type": "markdown",
   "id": "49e4fea2-a647-4e4b-94d9-6fe0b665a5bd",
   "metadata": {},
   "source": [
    "## If-elif-else Statements\n",
    "![image.png](images/07f5992e-e977-45d6-bd13-b6f0b8e1305c.png)\n",
    "\n",
    "Note how the following code cell uses a list of strings, and the first letter of each element is capitalized.  After inspecting and running the code, can you alter it with a string method so it will work if you do not capitalize the first letter (you can do this on the first line of code).\n"
   ]
  },
  {
   "cell_type": "markdown",
   "id": "a1eaacf8-df75-4619-86e0-a26fdfa41185",
   "metadata": {},
   "source": [
    "<div class=\"alert alert-info\">  \n",
    "    \n",
    "<center>Uncomment this code in the following cell when you transfer to a Jupyter Notebook</center> \n",
    "\n",
    "```python\n",
    "element = input(\"Enter the element you want to know the family of: \")\n",
    "```\n",
    "</div>"
   ]
  },
  {
   "cell_type": "code",
   "execution_count": 3,
   "id": "71daf6ee-4a00-4220-b954-f8e50ed15e2f",
   "metadata": {},
   "outputs": [
    {
     "name": "stdout",
     "output_type": "stream",
     "text": [
      "Silicon belongs to the nonmetal family.\n"
     ]
    }
   ],
   "source": [
    "element=\"Silicon\"\n",
    "#element = input(\"Enter the element you want to know the family of: \")\n",
    "\n",
    "if element == \"Hydrogen\":\n",
    "    print(\"Hydrogen belongs to the nonmetal family.\")\n",
    "elif element in [\"Lithium\", \"Sodium\", \"Potassium\", \"Rubidium\", \"Cesium\", \"Francium\"]:\n",
    "    print(f\"{element} belongs to the alkali metal family.\")\n",
    "elif element in [\"Beryllium\", \"Magnesium\", \"Calcium\", \"Strontium\", \"Barium\", \"Radium\"]:\n",
    "    print(f\"{element} belongs to the alkaline earth metal family.\")\n",
    "elif element in [\"Boron\", \"Aluminum\", \"Gallium\", \"Indium\", \"Thallium\"]:\n",
    "    print(f\"{element} belongs to the metalloid family.\")\n",
    "elif element in [\"Carbon\", \"Silicon\", \"Germanium\", \"Tin\", \"Lead\"]:\n",
    "    print(f\"{element} belongs to the nonmetal family.\")\n",
    "elif element in [\"Nitrogen\", \"Phosphorus\", \"Arsenic\", \"Antimony\", \"Bismuth\"]:\n",
    "    print(f\"{element} belongs to the pnictogen family.\")\n",
    "elif element in [\"Oxygen\", \"Sulfur\", \"Selenium\", \"Tellurium\", \"Polonium\"]:\n",
    "    print(f\"{element} belongs to the chalcogen family.\")\n",
    "elif element in [\"Fluorine\", \"Chlorine\", \"Bromine\", \"Iodine\", \"Astatine\"]:\n",
    "    print(f\"{element} belongs to the halogen family.\")\n",
    "elif element in [\"Helium\", \"Neon\", \"Argon\", \"Krypton\", \"Xenon\", \"Radon\"]:\n",
    "    print(f\"{element} belongs to the noble gas family.\")\n",
    "elif element in [\"Cerium\", \"Praseodymium\", \"Neodymium\", \"Promethium\", \"Samarium\", \n",
    "               \"Europium\", \"Gadolinium\", \"Terbium\", \"Dysprosium\", \"Holmium\", \n",
    "               \"Erbium\", \"Thulium\", \"Ytterbium\", \"Lutetium\"]:\n",
    "    print(f'{element} is a lanthanide')\n",
    "elif element in [\"Thorium\", \"Protactinium\", \"Uranium\", \"Neptunium\", \"Plutonium\", \n",
    "             \"Americium\", \"Curium\", \"Berkelium\", \"Californium\", \"Einsteinium\", \n",
    "             \"Fermium\", \"Mendelevium\", \"Nobelium\", \"Lawrencium\", \"Rutherfordium\", \n",
    "             \"Dubnium\", \"Seaborgium\", \"Bohrium\", \"Hassium\", \"Meitnerium\", \"Darmstadtium\", \n",
    "             \"Roentgenium\", \"Copernicium\", \"Nihonium\", \"Flerovium\", \"Moscovium\", \"Livermorium\", \"Tennessine\", \"Oganesson\"]:\n",
    "    print(f'{element} is an actinide')\n",
    "else:\n",
    "    print(f'element is a transition metal')"
   ]
  },
  {
   "cell_type": "markdown",
   "id": "9ec61eaf-28c0-4ae0-8775-d144926cd9ac",
   "metadata": {},
   "source": [
    "## Compound if-elif Statements\n",
    "\n",
    "### AND Conjunction\n",
    "\n",
    "| Type | ΔH  | ΔS  | ΔG  | Spontaneity Condition |\n",
    "|------|----|----|----|-------------------------------|\n",
    "| 1    | [+] | [-] | Always [+] | Never spontaneous |\n",
    "| 2    | [-] | [-] | [-] at low T | Enthalpy-driven process, only spontaneous at low T |\n",
    "| 3    | [+] | [+] | [-] at high T | Entropy-driven process, only spontaneous at high T |\n",
    "| 4    | [-] | [+] | Always [-] | Spontaneous at all T, both enthalpy and entropy driven |\n",
    "\n"
   ]
  },
  {
   "cell_type": "markdown",
   "id": "facba88d-d8ef-469b-82ad-482f187a5659",
   "metadata": {},
   "source": [
    "<div class=\"alert alert-info\">  \n",
    "    \n",
    "<center>Uncomment this code in the following cell when you transfer to a Jupyter Notebook</center> \n",
    "\n",
    "```python\n",
    "enthalpy=float(input(\"Enter a reaction enthalpy in units of kJ and include the sign: \"))\n",
    "entropy=float(input(\"Enter a reaction entropy in units of j/K and include the sign: \"))\n",
    "```\n",
    "</div>"
   ]
  },
  {
   "cell_type": "code",
   "execution_count": 4,
   "id": "70a1a968-33ef-46ac-b383-0f0734ac5b6e",
   "metadata": {},
   "outputs": [
    {
     "name": "stdout",
     "output_type": "stream",
     "text": [
      "A reaction with enthalpy = -4 kJ and entropy = -34 J/K is enthalpy driven and spontaneous at low T\n"
     ]
    }
   ],
   "source": [
    "#Temperature and reaction spontaneity\n",
    "enthalpy =  -4\n",
    "entropy = -34\n",
    "#enthalpy=float(input(\"Enter a reaction enthalpy in units of kJ and include the sign: \"))\n",
    "#entropy=float(input(\"Enter a reaction entropy in units of j/K and include the sign: \"))\n",
    "\n",
    "if enthalpy > 0 and entropy < 0:\n",
    "    print(f\"A reaction with enthalpy = {enthalpy} kJ and entropy = {entropy} J/K is never spontaneous\")\n",
    "elif enthalpy > 0 and entropy > 0:\n",
    "    print(f\"A reaction with enthalpy = {enthalpy} kJ and entropy = {entropy} J/K is entropy driven and spontaneous at high T\")\n",
    "elif enthalpy < 0 and entropy < 0:\n",
    "    print(f\"A reaction with enthalpy = {enthalpy} kJ and entropy = {entropy} J/K is enthalpy driven and spontaneous at low T\")\n",
    "else:\n",
    "    print(f\"A reaction with enthalpy = {enthalpy} kJ and entropy = {entropy} J/K is enthalpy  and entropy driven and spontaneous at all T\")"
   ]
  },
  {
   "cell_type": "markdown",
   "id": "3ff1fbaa-d6be-4956-a69e-e2f65f60106d",
   "metadata": {},
   "source": [
    "### OR Conjunction"
   ]
  },
  {
   "cell_type": "markdown",
   "id": "4f87cc69-cefd-4e7e-974b-4fe50c858997",
   "metadata": {},
   "source": [
    "<div class=\"alert alert-info\">  \n",
    "    \n",
    "<center>Uncomment this code in the following cell when you transfer to a Jupyter Notebook</center> \n",
    "\n",
    "```python\n",
    "#atom=input(\"Enter name of element: \").capitalize()\n",
    "\n",
    "```\n",
    "</div>"
   ]
  },
  {
   "cell_type": "code",
   "execution_count": 5,
   "id": "abf61242-0359-4971-9df8-f160532ecfb3",
   "metadata": {},
   "outputs": [
    {
     "name": "stdout",
     "output_type": "stream",
     "text": [
      "Barium is an alkaline earth metal\n"
     ]
    }
   ],
   "source": [
    "#is an element an alkaline earth metal?\n",
    "atom = \"barium\"\n",
    "#atom=input(\"Enter name of element: \").capitalize()\n",
    "atom=atom.capitalize()\n",
    "if atom == \"Beryllium\" or atom == \"Magnesium\" or atom == \"Calcium\" or \\\n",
    "   atom == \"Barium\" or atom == \"Strontium\" or atom == \"Radium\":\n",
    "    print(f\"{atom} is an alkaline earth metal\")\n",
    "else:\n",
    "    print(f\"{atom} is not an alkaline earth metal\")"
   ]
  },
  {
   "cell_type": "markdown",
   "id": "7d3c203a-f1fd-43dd-9d87-e4a15cec8606",
   "metadata": {},
   "source": [
    "## Nested if Statements"
   ]
  },
  {
   "cell_type": "markdown",
   "id": "565b5e8c-69e9-46cd-8b10-7e97e5ab953d",
   "metadata": {},
   "source": [
    "<div class=\"alert alert-info\">  \n",
    "    \n",
    "<center>Uncomment this code in the following cell when you transfer to a Jupyter Notebook</center> \n",
    "\n",
    "```python\n",
    "#melting_point=float(input(\"What is the melting point of your substance? \"))\n",
    "#boiling_point=float(input(\"What is the boiling point of your substance? \"))\n",
    "#temperature=float(input(\"What is the temperature you wish to know the phase at? \"))\n",
    "```\n",
    "</div>"
   ]
  },
  {
   "cell_type": "code",
   "execution_count": 6,
   "id": "ba9eb524-10b9-4cff-8e58-bb59aae0058a",
   "metadata": {},
   "outputs": [
    {
     "name": "stdout",
     "output_type": "stream",
     "text": [
      "Substance is a liquid\n"
     ]
    }
   ],
   "source": [
    "#What is the phase of a substance?\n",
    "melting_point,boiling_point,temperature = 0.0, 100.0, 45.0 \n",
    "#melting_point=float(input(\"What is the melting point of your substance? \"))\n",
    "#boiling_point=float(input(\"What is the boiling point of your substance? \"))\n",
    "#temperature=float(input(\"What is the temperature you wish to know the phase at? \"))\n",
    "\n",
    "if temperature <= melting_point:\n",
    "    if temperature == melting_point:\n",
    "        print(f\"It is at the melting point, could be solid, liquid or both coexisting together\")\n",
    "    else :\n",
    "        print(f\"It is a solid\")\n",
    "elif temperature > melting_point and temperature < boiling_point:\n",
    "    print(f\"Substance is a liquid\")\n",
    "else :\n",
    "    if temperature == boiling_point:\n",
    "        print(f\"It is at the boiling point and could be liquid, gas or both\")\n",
    "    else:\n",
    "        print(f\"It is a gas\")"
   ]
  },
  {
   "cell_type": "markdown",
   "id": "c5287985-c09f-4314-a111-5b6aac48e93e",
   "metadata": {},
   "source": [
    "### Try-Except Error Handling\n",
    "What if your input is not a number?  Then the code can not convert it to a float and an error will return (run the above cell but type a value like ten, not 10). We can input the entire code block of the nested if statement in a try block, followed by the except ValueError for non-numeric input, as in the following code cell.  "
   ]
  },
  {
   "cell_type": "markdown",
   "id": "696f889a-70ae-4bb6-ac6c-c2bbe41b5a9f",
   "metadata": {},
   "source": [
    "<div class=\"alert alert-info\">  \n",
    "    \n",
    "<center>Uncomment this code in the following cells</center> \n",
    "\n",
    "```python\n",
    "    #melting_point = float(input(\"What is the melting point of your substance? \"))\n",
    "    #boiling_point = float(input(\"What is the boiling point of your substance? \"))\n",
    "    #temperature = float(input(\"What is the temperature you wish to know the phase at? \"))\n",
    "```\n",
    "<center>Comment out this line of code:</center>\n",
    "\n",
    "```python\n",
    "melting_point,boiling_point,temperature = 0.0, 100.0, float(\"ten\")\n",
    "```   \n",
    "\n",
    "</div>"
   ]
  },
  {
   "cell_type": "code",
   "execution_count": 7,
   "id": "bb93418c-1bc7-41b1-af7f-fbaecdf177b7",
   "metadata": {},
   "outputs": [
    {
     "name": "stdout",
     "output_type": "stream",
     "text": [
      "Error: Please enter numeric values for all inputs.\n"
     ]
    }
   ],
   "source": [
    "#What is the phase of a substance?\n",
    "\n",
    "try:\n",
    "    melting_point,boiling_point,temperature = 0.0, 100.0, float(\"ten\")\n",
    "    #melting_point = float(input(\"What is the melting point of your substance? \"))\n",
    "    #boiling_point = float(input(\"What is the boiling point of your substance? \"))\n",
    "    #temperature = float(input(\"What is the temperature you wish to know the phase at? \"))\n",
    "\n",
    "    if temperature <= melting_point:\n",
    "        if temperature == melting_point:\n",
    "            print(\"It is at the melting point, could be solid, liquid, or both coexisting together\")\n",
    "        else:\n",
    "            \n",
    "            \n",
    "            print(\"It is a solid\")\n",
    "    elif melting_point < temperature < boiling_point:\n",
    "        print(\"Substance is a liquid\")\n",
    "    else:\n",
    "        if temperature == boiling_point:\n",
    "            print(\"It is at the boiling point and could be liquid, gas, or both\")\n",
    "        else:\n",
    "            print(\"It is a gas\")\n",
    "\n",
    "except ValueError:\n",
    "    print(\"Error: Please enter numeric values for all inputs.\")\n"
   ]
  },
  {
   "cell_type": "markdown",
   "id": "3fae1ecd-e820-4f5c-91ff-df654abb9426",
   "metadata": {},
   "source": [
    "### Logical Validation\n",
    "The above error was a type error in the sense that non-numeric input was given.  But what if the numeric value of the melting point is higher than the boiling point?  This would be nonsense, and we could use a boolean if to terminate the code.  To do this we need to use the built-in sys module.  Note, this gives us an error message.  In the next section we will learn how to use loops, and how a **while True: loop** is a **better way** to do this."
   ]
  },
  {
   "cell_type": "markdown",
   "id": "1199508e-cfb6-4790-b21e-dab3c455e022",
   "metadata": {},
   "source": [
    "<div class=\"alert alert-info\">\n",
    "<center></center>Copy the following code to a Jupyter Notebook code cell to execute it</div>center>\n",
    "</div>"
   ]
  },
  {
   "cell_type": "raw",
   "id": "9808b8fc-7f52-430e-8586-ee6b1e9d6ac7",
   "metadata": {},
   "source": [
    "\n",
    "```python\n",
    "import sys  # Import sys module for exiting the script\n",
    "\n",
    "# What is the phase of a substance?\n",
    "try:\n",
    "    melting_point = float(input(\"What is the melting point of your substance? \"))\n",
    "    boiling_point = float(input(\"What is the boiling point of your substance? \"))\n",
    "\n",
    "    if melting_point > boiling_point:\n",
    "        print(\"Error: The boiling point must be greater than or equal to the melting point.\")\n",
    "        sys.exit()  # Terminates the script if MP > BP\n",
    "\n",
    "    temperature = float(input(\"What is the temperature you wish to know the phase at? \"))\n",
    "\n",
    "    if temperature <= melting_point:\n",
    "        if temperature == melting_point:\n",
    "            print(\"It is at the melting point, could be solid, liquid, or both coexisting together\")\n",
    "        else:\n",
    "            print(\"It is a solid\")\n",
    "    elif melting_point < temperature < boiling_point:\n",
    "        print(\"Substance is a liquid\")\n",
    "    else:\n",
    "        if temperature == boiling_point:\n",
    "            print(\"It is at the boiling point and could be liquid, gas, or both\")\n",
    "        else:\n",
    "            print(\"It is a gas\")\n",
    "\n",
    "except ValueError:\n",
    "    print(\"Error: Please enter numeric values for all inputs.\")\n",
    "```"
   ]
  },
  {
   "attachments": {},
   "cell_type": "markdown",
   "id": "74648f3b-aab1-4ab7-ae60-d3af02f0d9ae",
   "metadata": {},
   "source": [
    "# 2. Loops \n",
    "A loop structure is a programming construct that allows you to repeat a block of code until a terminating condition is met.  There are two basic type of loop structures in Python, the \"for\" loop and the \"while\" loop.  The basic difference between them is how they are terminated.  In the for loop the code is repeated for a certain number of times, while in a while loop it is repeated while a condition is true. We will look at each of these in turn.\n",
    "\n",
    "![image.png](images/9317336b-e8a7-49ab-9dd5-df69a9e42851.png)\n",
    "\n",
    "## For Loops\n",
    "There are two basic types of `for` loops, data-driven (iterable containers like strings, lists, dictionaries) and count-controlled (numeric iterations over a range).\n",
    "- **Data-driven loops** iterate over **stored data** (which could come from an experiment, a database, a CSV file, etc.).\n",
    "- **Numeric iteration** generates values **on demand**, often used in **simulations, modeling, and algorithmic processing**.\n",
    "\n",
    "### Iteration over Containers\n",
    "The following is a list of the names of the elements in the periodic table"
   ]
  },
  {
   "cell_type": "code",
   "execution_count": 8,
   "id": "8448dc8c-a822-4d32-9b08-28bcb5372876",
   "metadata": {},
   "outputs": [
    {
     "name": "stdout",
     "output_type": "stream",
     "text": [
      "['Hydrogen', 'Helium', 'Lithium', 'Beryllium', 'Boron', 'Carbon', 'Nitrogen', 'Oxygen', 'Fluorine', 'Neon', 'Sodium', 'Magnesium', 'Aluminium', 'Silicon', 'Phosphorus', 'Sulfur', 'Chlorine', 'Argon', 'Potassium', 'Calcium', 'Scandium', 'Titanium', 'Vanadium', 'Chromium', 'Manganese', 'Iron', 'Cobalt', 'Nickel', 'Copper', 'Zinc', 'Gallium', 'Germanium', 'Arsenic', 'Selenium', 'Bromine', 'Krypton', 'Rubidium', 'Strontium', 'Yttrium', 'Zirconium', 'Niobium', 'Molybdenum', 'Technetium', 'Ruthenium', 'Rhodium', 'Palladium', 'Silver', 'Cadmium', 'Indium', 'Tin', 'Antimony', 'Tellurium', 'Iodine', 'Xenon', 'Caesium', 'Barium', 'Lanthanum', 'Cerium', 'Praseodymium', 'Neodymium', 'Promethium', 'Samarium', 'Europium', 'Gadolinium', 'Terbium', 'Dysprosium', 'Holmium', 'Erbium', 'Thulium', 'Ytterbium', 'Lutetium', 'Hafnium', 'Tantalum', 'Tungsten', 'Rhenium', 'Osmium', 'Iridium', 'Platinum', 'Gold', 'Mercury', 'Thallium', 'Lead', 'Bismuth', 'Polonium', 'Astatine', 'Radon', 'Francium', 'Radium', 'Actinium', 'Thorium', 'Protactinium', 'Uranium', 'Neptunium', 'Plutonium', 'Americium', 'Curium', 'Berkelium', 'Californium', 'Einsteinium', 'Fermium', 'Mendelevium', 'Nobelium', 'Lawrencium', 'Rutherfordium', 'Dubnium', 'Seaborgium', 'Bohrium', 'Hassium', 'Meitnerium', 'Darmstadtium', 'Roentgenium', 'Copernicium', 'Nihonium', 'Flerovium', 'Moscovium', 'Livermorium', 'Tennessine', 'Oganesson']\n",
      "<class 'list'>\n"
     ]
    }
   ],
   "source": [
    "element_list = ['Hydrogen', 'Helium', 'Lithium', 'Beryllium', 'Boron', 'Carbon', 'Nitrogen', 'Oxygen', 'Fluorine', \\\n",
    "                'Neon', 'Sodium', 'Magnesium', 'Aluminium', 'Silicon', 'Phosphorus', 'Sulfur', 'Chlorine', 'Argon', \\\n",
    "                'Potassium', 'Calcium', 'Scandium', 'Titanium', 'Vanadium', 'Chromium', 'Manganese', 'Iron', 'Cobalt', \n",
    "                'Nickel', 'Copper', 'Zinc', 'Gallium', 'Germanium', 'Arsenic', 'Selenium', 'Bromine', 'Krypton', 'Rubidium', \\\n",
    "                'Strontium', 'Yttrium', 'Zirconium', 'Niobium', 'Molybdenum', 'Technetium', 'Ruthenium', 'Rhodium', \\\n",
    "                'Palladium', 'Silver', 'Cadmium', 'Indium', 'Tin', 'Antimony', 'Tellurium', 'Iodine', 'Xenon', 'Caesium', \\\n",
    "                'Barium', 'Lanthanum', 'Cerium', 'Praseodymium', 'Neodymium', 'Promethium', 'Samarium', 'Europium', \\\n",
    "                'Gadolinium', 'Terbium', 'Dysprosium', 'Holmium', 'Erbium', 'Thulium', 'Ytterbium', 'Lutetium', 'Hafnium', \\\n",
    "                'Tantalum', 'Tungsten', 'Rhenium', 'Osmium', 'Iridium', 'Platinum', 'Gold', 'Mercury', 'Thallium', 'Lead', \\\n",
    "                'Bismuth', 'Polonium', 'Astatine', 'Radon', 'Francium', 'Radium', 'Actinium', 'Thorium', 'Protactinium', \\\n",
    "                'Uranium', 'Neptunium', 'Plutonium', 'Americium', 'Curium', 'Berkelium', 'Californium', 'Einsteinium', \\\n",
    "                'Fermium', 'Mendelevium', 'Nobelium', 'Lawrencium', 'Rutherfordium', 'Dubnium', 'Seaborgium', 'Bohrium', \\\n",
    "                'Hassium', 'Meitnerium', 'Darmstadtium', 'Roentgenium', 'Copernicium', 'Nihonium', 'Flerovium', 'Moscovium', \\\n",
    "                'Livermorium', 'Tennessine', 'Oganesson']\n",
    "print(element_list)\n",
    "print(type(element_list))"
   ]
  },
  {
   "cell_type": "code",
   "execution_count": 9,
   "id": "d797aac0-8aff-41e2-baa2-9242e13470b1",
   "metadata": {},
   "outputs": [
    {
     "name": "stdout",
     "output_type": "stream",
     "text": [
      "Hydrogen\n",
      "Helium\n",
      "Lithium\n",
      "Beryllium\n",
      "Boron\n",
      "Carbon\n",
      "Nitrogen\n",
      "Oxygen\n",
      "Fluorine\n",
      "Neon\n",
      "Sodium\n",
      "Magnesium\n",
      "Aluminium\n",
      "Silicon\n",
      "Phosphorus\n",
      "Sulfur\n",
      "Chlorine\n",
      "Argon\n",
      "Potassium\n",
      "Calcium\n",
      "Scandium\n",
      "Titanium\n",
      "Vanadium\n",
      "Chromium\n",
      "Manganese\n",
      "Iron\n",
      "Cobalt\n",
      "Nickel\n",
      "Copper\n",
      "Zinc\n",
      "Gallium\n",
      "Germanium\n",
      "Arsenic\n",
      "Selenium\n",
      "Bromine\n",
      "Krypton\n",
      "Rubidium\n",
      "Strontium\n",
      "Yttrium\n",
      "Zirconium\n",
      "Niobium\n",
      "Molybdenum\n",
      "Technetium\n",
      "Ruthenium\n",
      "Rhodium\n",
      "Palladium\n",
      "Silver\n",
      "Cadmium\n",
      "Indium\n",
      "Tin\n",
      "Antimony\n",
      "Tellurium\n",
      "Iodine\n",
      "Xenon\n",
      "Caesium\n",
      "Barium\n",
      "Lanthanum\n",
      "Cerium\n",
      "Praseodymium\n",
      "Neodymium\n",
      "Promethium\n",
      "Samarium\n",
      "Europium\n",
      "Gadolinium\n",
      "Terbium\n",
      "Dysprosium\n",
      "Holmium\n",
      "Erbium\n",
      "Thulium\n",
      "Ytterbium\n",
      "Lutetium\n",
      "Hafnium\n",
      "Tantalum\n",
      "Tungsten\n",
      "Rhenium\n",
      "Osmium\n",
      "Iridium\n",
      "Platinum\n",
      "Gold\n",
      "Mercury\n",
      "Thallium\n",
      "Lead\n",
      "Bismuth\n",
      "Polonium\n",
      "Astatine\n",
      "Radon\n",
      "Francium\n",
      "Radium\n",
      "Actinium\n",
      "Thorium\n",
      "Protactinium\n",
      "Uranium\n",
      "Neptunium\n",
      "Plutonium\n",
      "Americium\n",
      "Curium\n",
      "Berkelium\n",
      "Californium\n",
      "Einsteinium\n",
      "Fermium\n",
      "Mendelevium\n",
      "Nobelium\n",
      "Lawrencium\n",
      "Rutherfordium\n",
      "Dubnium\n",
      "Seaborgium\n",
      "Bohrium\n",
      "Hassium\n",
      "Meitnerium\n",
      "Darmstadtium\n",
      "Roentgenium\n",
      "Copernicium\n",
      "Nihonium\n",
      "Flerovium\n",
      "Moscovium\n",
      "Livermorium\n",
      "Tennessine\n",
      "Oganesson\n",
      "\n",
      " \n",
      " The variable element_list is of class <class 'list'>,.\n",
      " The variable element is of class <class 'str'>. \n"
     ]
    }
   ],
   "source": [
    "for element in element_list:\n",
    "    print(element)\n",
    "\n",
    "print(f'\\n \\n The variable element_list is of class {type(element_list)},.\\n \\\n",
    "The variable element is of class {type(element)}. ')"
   ]
  },
  {
   "cell_type": "code",
   "execution_count": 10,
   "id": "c3788811-7e76-4b8f-92cd-f69791ba330d",
   "metadata": {},
   "outputs": [
    {
     "name": "stdout",
     "output_type": "stream",
     "text": [
      "Hydrogen, Helium, Lithium, Beryllium, Boron, Carbon, Nitrogen, Oxygen, Fluorine, Neon, Sodium, Magnesium, Aluminium, Silicon, Phosphorus, Sulfur, Chlorine, Argon, Potassium, Calcium, Scandium, Titanium, Vanadium, Chromium, Manganese, Iron, Cobalt, Nickel, Copper, Zinc, Gallium, Germanium, Arsenic, Selenium, Bromine, Krypton, Rubidium, Strontium, Yttrium, Zirconium, Niobium, Molybdenum, Technetium, Ruthenium, Rhodium, Palladium, Silver, Cadmium, Indium, Tin, Antimony, Tellurium, Iodine, Xenon, Caesium, Barium, Lanthanum, Cerium, Praseodymium, Neodymium, Promethium, Samarium, Europium, Gadolinium, Terbium, Dysprosium, Holmium, Erbium, Thulium, Ytterbium, Lutetium, Hafnium, Tantalum, Tungsten, Rhenium, Osmium, Iridium, Platinum, Gold, Mercury, Thallium, Lead, Bismuth, Polonium, Astatine, Radon, Francium, Radium, Actinium, Thorium, Protactinium, Uranium, Neptunium, Plutonium, Americium, Curium, Berkelium, Californium, Einsteinium, Fermium, Mendelevium, Nobelium, Lawrencium, Rutherfordium, Dubnium, Seaborgium, Bohrium, Hassium, Meitnerium, Darmstadtium, Roentgenium, Copernicium, Nihonium, Flerovium, Moscovium, Livermorium, Tennessine, Oganesson, "
     ]
    }
   ],
   "source": [
    "# To type on one line:\n",
    "for element in element_list:\n",
    "    print(element, end=', ')\n"
   ]
  },
  {
   "cell_type": "markdown",
   "id": "b7397aa8-7c9c-40dc-9149-38b82bb95c67",
   "metadata": {},
   "source": [
    "#### Modulus 2 division - Boolean Logic in for loops \n",
    "If you take the modulus of two you get two values, zero and one. Look at the following code, and note that zero is Boolean False and one is Boolean True"
   ]
  },
  {
   "cell_type": "code",
   "execution_count": 11,
   "id": "7f5e46b1-cc29-444c-a53d-6d8b0856b955",
   "metadata": {},
   "outputs": [
    {
     "name": "stdout",
     "output_type": "stream",
     "text": [
      "1 is odd\n",
      "2 is even\n",
      "3 is odd\n",
      "4 is even\n",
      "5 is odd\n",
      "6 is even\n",
      "7 is odd\n",
      "8 is even\n",
      "9 is odd\n",
      "10 is even\n"
     ]
    }
   ],
   "source": [
    "list1 = [1,2,3,4,5,6,7,8,9,10]\n",
    "for num in list1:\n",
    "    print(f'{num} is even') if not num % 2 else print(f'{num} is odd')"
   ]
  },
  {
   "cell_type": "code",
   "execution_count": 12,
   "id": "20601a90-7104-4b6e-9e84-081f4bb1437a",
   "metadata": {},
   "outputs": [
    {
     "name": "stdout",
     "output_type": "stream",
     "text": [
      "Even numbers: [2, 4, 6, 8, 10]\n",
      "Odd numbers: [1, 3, 5, 7, 9]\n"
     ]
    }
   ],
   "source": [
    "list1 = [1,2,3,4,5,6,7,8,9,10]\n",
    "even_numbers = []\n",
    "odd_numbers = []\n",
    "\n",
    "for num in list1:\n",
    "    if num % 2 == 0:\n",
    "        even_numbers.append(num)\n",
    "    else:\n",
    "        odd_numbers.append(num)\n",
    "\n",
    "print(\"Even numbers:\", even_numbers)\n",
    "print(\"Odd numbers:\", odd_numbers)"
   ]
  },
  {
   "cell_type": "markdown",
   "id": "3f431152-e052-4090-b856-9557fcbe00a3",
   "metadata": {},
   "source": [
    "Note, we when we get to Numpy we will learn how to use Boolean masks, which are much more efficient on large data sets than for loops.\n",
    "\n",
    "### Numeric Iteration\n",
    "\n",
    "#### Range(start, stop, increment) function\n",
    "Python provides the built-in range function that that takes three arguments. The default start is zero and the default increment is one.  The stop is exclusive (up to) "
   ]
  },
  {
   "cell_type": "code",
   "execution_count": 13,
   "id": "745157fc-d6ed-4c4e-9b04-e8c5cb7ef7b4",
   "metadata": {},
   "outputs": [
    {
     "name": "stdout",
     "output_type": "stream",
     "text": [
      "0\n",
      "1\n",
      "2\n",
      "3\n",
      "4\n"
     ]
    }
   ],
   "source": [
    "for num in range(5):\n",
    "    print(num)"
   ]
  },
  {
   "cell_type": "code",
   "execution_count": 14,
   "id": "e38e6aa3-afb4-42d8-a83a-6b9a4785ceaf",
   "metadata": {},
   "outputs": [
    {
     "name": "stdout",
     "output_type": "stream",
     "text": [
      "1\n",
      "3\n"
     ]
    }
   ],
   "source": [
    "for num in range(1,5,2):\n",
    "    print(num)"
   ]
  },
  {
   "cell_type": "markdown",
   "id": "9d5fbab0-a547-4207-9f3b-47f0b02a0a53",
   "metadata": {},
   "source": [
    "The range function does not operate on containers.  In the following code it is generating index numbers based on the number of items in a list, and using the index number to obtain the values of those numbers"
   ]
  },
  {
   "cell_type": "code",
   "execution_count": 15,
   "id": "07648d74-f1c3-4e08-b807-ceff20bd539e",
   "metadata": {},
   "outputs": [
    {
     "name": "stdout",
     "output_type": "stream",
     "text": [
      "Element 1 index=0: F\n",
      "Element 2 index=1: Cl\n",
      "Element 3 index=2: Br\n",
      "Element 4 index=3: I\n",
      "Element 5 index=4: At\n"
     ]
    }
   ],
   "source": [
    "halogens = [\"F\", \"Cl\", \"Br\", \"I\", \"At\"]\n",
    "\n",
    "# Using range() to iterate with indices\n",
    "for i in range(len(halogens)):\n",
    "    print(f\"Element {i + 1} index={i}: {halogens[i]}\")"
   ]
  },
  {
   "cell_type": "markdown",
   "id": "d2dfa72e-1038-4cbf-b2d4-3723eb521b9e",
   "metadata": {},
   "source": [
    "### Shorthand Operators - Augmented Assignment\n",
    "\n",
    "| Operator | Equivalent to |\n",
    "|----------|--------------|\n",
    "| `x += 1` | `x = x + 1` |\n",
    "| `x -= 1` | `x = x - 1` |\n",
    "| `x *= 2` | `x = x * 2` |\n",
    "| `x /= 3` | `x = x / 3` |\n",
    "| `x //= 2` | `x = x // 2` (floor division) |\n",
    "| `x %= 5` | `x = x % 5` (modulus) |"
   ]
  },
  {
   "cell_type": "code",
   "execution_count": 16,
   "id": "c13464d1-403a-46a0-ac4d-392186f679f7",
   "metadata": {},
   "outputs": [
    {
     "name": "stdout",
     "output_type": "stream",
     "text": [
      "15\n"
     ]
    }
   ],
   "source": [
    "total = 0\n",
    "for i in range(1, 6):\n",
    "    total += i  # Adds each number to total\n",
    "print(total)  # 1 + 2 + 3 + 4 + 5 = 15"
   ]
  },
  {
   "cell_type": "markdown",
   "id": "f51e5e3d-7b75-4137-a44c-98ccf3c29234",
   "metadata": {},
   "source": [
    "#### Random Module\n",
    "The random module creates a series of numbers.  If you use random.seed() you can repeat the same sequence of numbers. We will cover the built-in random module now, but later we will dive into the numpy.random() submodule that is more robust\n"
   ]
  },
  {
   "cell_type": "code",
   "execution_count": 17,
   "id": "ec803703-63c2-4b23-ab9b-18e6db5b7525",
   "metadata": {},
   "outputs": [
    {
     "name": "stdout",
     "output_type": "stream",
     "text": [
      "[63.94, 2.51, 27.51, 22.33, 73.64, 67.67, 89.21, 8.7, 42.19, 2.99]\n"
     ]
    }
   ],
   "source": [
    "import random\n",
    "\n",
    "# Set seed for reproducibility\n",
    "random.seed(42)\n",
    "\n",
    "# Generate 10 random floats between 0 and 100, rounded to 2 decimal places\n",
    "random_floats = [round(random.uniform(0.01, 99.99), 2) for _ in range(10)]\n",
    "\n",
    "# Print the generated list\n",
    "print(random_floats)\n"
   ]
  },
  {
   "cell_type": "code",
   "execution_count": 18,
   "id": "0232f19b-cd06-4e2d-97b6-411b93732e19",
   "metadata": {},
   "outputs": [
    {
     "name": "stdout",
     "output_type": "stream",
     "text": [
      "[63.94, 2.51, 27.51, 22.33, 73.64, 67.67, 89.21, 8.7, 42.19, 2.99]\n"
     ]
    }
   ],
   "source": [
    "print(random_floats)"
   ]
  },
  {
   "cell_type": "markdown",
   "id": "71fa1e5e-85ea-45cf-ad96-4469ab03c7c9",
   "metadata": {},
   "source": [
    "## While Loops\n",
    "A while loop explicitly depends on a Boolean Expression to terminate.  That is, it runs as long as the expression is True"
   ]
  },
  {
   "cell_type": "code",
   "execution_count": 19,
   "id": "4fc15d8e-64ce-4bd6-90a0-429d8e8ecc90",
   "metadata": {},
   "outputs": [
    {
     "name": "stdout",
     "output_type": "stream",
     "text": [
      "Temperature: 50°C - Not boiling yet.\n",
      "Temperature: 60°C - Not boiling yet.\n",
      "Temperature: 70°C - Not boiling yet.\n",
      "Temperature: 80°C - Not boiling yet.\n",
      "Temperature: 90°C - Not boiling yet.\n",
      "Boiling point reached!\n"
     ]
    }
   ],
   "source": [
    "temperature = 50  # Start temperature\n",
    "boiling_point = 100\n",
    "\n",
    "while temperature < boiling_point:  # Boolean condition\n",
    "    print(f\"Temperature: {temperature}°C - Not boiling yet.\")\n",
    "    temperature += 10  # Increase temperature\n",
    "\n",
    "print(\"Boiling point reached!\")"
   ]
  },
  {
   "cell_type": "markdown",
   "id": "ca76e72a-a71f-401a-958a-be774794509f",
   "metadata": {},
   "source": [
    "In the section on for loops we created a script that determined the phase of a compound at a temperature if the use inserted the melting and boiling points. We used the sys.exit() function to handle the **logic error of the melting point being larger than the boiling point**, which worked, but kicked off an error message. We can now put use this with a while loop and a break control statement.  Note, that this script will continue to ask for the boiling and melting points until you provide ones that make sense."
   ]
  },
  {
   "cell_type": "markdown",
   "id": "5c882ec9-0237-4b76-a28a-284f6dbcefb7",
   "metadata": {},
   "source": [
    "<div class=\"alert alert-info\">\n",
    "<center></center>Copy the following code to a Jupyter Notebook code cell to execute it</div>center>\n",
    "</div>"
   ]
  },
  {
   "cell_type": "markdown",
   "id": "b67fd9db-6f05-4c89-8078-bdbb92911502",
   "metadata": {},
   "source": [
    "```python\n",
    "\n",
    "#What is the phase of a substance?\n",
    "try:\n",
    "    while True:\n",
    "        melting_point = float(input(\"What is the melting point of your substance? \"))\n",
    "        boiling_point = float(input(\"What is the boiling point of your substance? \"))\n",
    "\n",
    "        if melting_point <= boiling_point:\n",
    "            break\n",
    "        else:\n",
    "            print(\"Your melting point is greater than the boiling point\")\n",
    "            print(\"re-enter both values\")\n",
    "    \n",
    "    temperature = float(input(\"What is the temperature you wish to know the phase at? \"))\n",
    "\n",
    "    if temperature <= melting_point:\n",
    "        if temperature == melting_point:\n",
    "            print(\"It is at the melting point, could be solid, liquid, or both coexisting together\")\n",
    "        else:\n",
    "            print(\"It is a solid\")\n",
    "    elif melting_point < temperature < boiling_point:\n",
    "        print(\"Substance is a liquid\")\n",
    "    else:\n",
    "        if temperature == boiling_point:\n",
    "            print(\"It is at the boiling point and could be liquid, gas, or both\")\n",
    "        else:\n",
    "            print(\"It is a gas\")\n",
    "\n",
    "except ValueError:\n",
    "    print(\"Error: Please enter numeric values for all inputs.\")\n",
    "```"
   ]
  },
  {
   "cell_type": "markdown",
   "id": "1f48ccd0-d4e0-49ca-a900-3c4e55234417",
   "metadata": {},
   "source": [
    "#3 Branching (Jump) Control"
   ]
  },
  {
   "cell_type": "markdown",
   "id": "962a4068-7b5a-4f46-aa66-f61fde6dd980",
   "metadata": {},
   "source": [
    "# Jump (Control) Structures\n",
    "These are structures that let you jump out of a loop or process based on a condition. They are useful in handling errors.\n",
    "## break\n",
    "  - exits nearest enclosing loop"
   ]
  },
  {
   "cell_type": "code",
   "execution_count": 20,
   "id": "4d9d56ed-822a-4584-a754-1f3e62828ebe",
   "metadata": {},
   "outputs": [
    {
     "name": "stdout",
     "output_type": "stream",
     "text": [
      "H is not a metal.\n",
      "He is not a metal.\n",
      "Li is a metal. Stopping search.\n"
     ]
    }
   ],
   "source": [
    "elements = [\"H\", \"He\", \"Li\", \"Be\", \"B\"]\n",
    "\n",
    "for element in elements:\n",
    "    if element in {\"Li\", \"Be\", \"Mg\"}:  # Boolean condition\n",
    "        print(f\"{element} is a metal. Stopping search.\")\n",
    "        break  # Exits loop early\n",
    "    print(f\"{element} is not a metal.\")"
   ]
  },
  {
   "cell_type": "markdown",
   "id": "4fe37903-66b9-46d2-9dc4-68e633252b28",
   "metadata": {},
   "source": [
    "## Continue"
   ]
  },
  {
   "cell_type": "code",
   "execution_count": 21,
   "id": "4077a269-5d48-4cb6-8325-927fb31f0f62",
   "metadata": {},
   "outputs": [
    {
     "name": "stdout",
     "output_type": "stream",
     "text": [
      "Na is a metal.\n",
      "K is a metal.\n",
      "Ca is a metal.\n"
     ]
    }
   ],
   "source": [
    "elements = [\"Na\", \"Cl\", \"K\", \"Br\", \"Ca\", \"I\"]\n",
    "\n",
    "for element in elements:\n",
    "    if element not in {\"Na\", \"K\", \"Ca\"}:  # Boolean condition\n",
    "        continue  # Skip to the next iteration\n",
    "    \n",
    "    print(f\"{element} is a metal.\")"
   ]
  },
  {
   "cell_type": "markdown",
   "id": "1eb189ec-22d2-4629-9dbf-7740af362e66",
   "metadata": {},
   "source": [
    "## pass\n",
    "placeholder, useful while developing code"
   ]
  },
  {
   "cell_type": "code",
   "execution_count": 22,
   "id": "c9100d2b-935b-466b-a9e6-c9765dcd75be",
   "metadata": {},
   "outputs": [],
   "source": [
    "pH = 7\n",
    "\n",
    "if pH < 7:\n",
    "    print(\"Acidic solution\")\n",
    "elif pH > 7:\n",
    "    print(\"Basic solution\")\n",
    "else:\n",
    "    pass  # Placeholder for future neutral pH case"
   ]
  },
  {
   "cell_type": "markdown",
   "id": "575e3153-2684-483f-bb99-f2b8ef2a420d",
   "metadata": {},
   "source": [
    "## try/except block\n",
    "This is not really a jump type command, but it gives an alternative procedure if a condition occurs.  For example, you could divide by x except if x = zero, or do a mathematical calculation unless the input value is not numerical.  That is \"10\" and ten, are not numerical values but strings.\n",
    "```python\n",
    "try:\n",
    "    something\n",
    "except:\n",
    "    something\n",
    "```\n"
   ]
  },
  {
   "cell_type": "markdown",
   "id": "852111ac-24cb-4d81-88fc-c66dcf2d9b5c",
   "metadata": {},
   "source": [
    "<div class=\"alert alert-info\">\n",
    "<center></center>Copy the following code to a Jupyter Notebook code cell to execute it, and then give it a non-numeric answer like 10</div>center>\n",
    "</div>"
   ]
  },
  {
   "cell_type": "markdown",
   "id": "471c9280-b0b4-4969-a49e-7e43115cf9ed",
   "metadata": {},
   "source": [
    "```python\n",
    "try:\n",
    "    temperature = float(input(\"Enter the temperature in Celsius: \"))\n",
    "except ValueError:\n",
    "    print(\"Invalid input. Please enter a numerical temperature.\")\n",
    "    exit()\n",
    "```"
   ]
  },
  {
   "cell_type": "markdown",
   "id": "090242a2-0ce1-4960-99db-488cc4ed6af4",
   "metadata": {},
   "source": [
    "## return\n",
    "This exits a function and returns a value, which is often assigned to a variable."
   ]
  },
  {
   "cell_type": "markdown",
   "id": "33ace192-ea77-4d1a-9c3a-b957dfcda6c0",
   "metadata": {},
   "source": [
    "# 4. Comprehensions\n",
    "## List Comprehensions\n",
    "A list comprehension is an iterative way to create a new list from an existing data container.  They are often more concise than for loops and are useful for filtering data\n",
    "\n",
    "**Mathematical Origins: Set-Builder Notation**\n",
    "In mathematics, a **set comprehension** is a way of defining sets using a condition or transformation. It follows this notation:\n",
    "\n",
    "$$\n",
    "S = \\{ x^2 \\mid x \\in \\mathbb{N}, x < 5 \\}\n",
    "$$\n",
    "\n",
    "Which means:  \n",
    "\"S is the set of all $( x^2 )$ where $( x )$ is a natural number and $ x < 5 $.\"  \n",
    "\n",
    "For example, this would result in:\n",
    "\n",
    "$\n",
    "S = \\{ 0, 1, 4, 9, 16 \\}\n",
    "$\n",
    "\n",
    "Python adopted this idea to create list comprehensions in a way that expresses \"building a new list\" in a single readable statement.\n",
    "\n",
    "### Basic Structure:\n",
    "```python\n",
    "new_list = [expression for item in iterable]\n",
    "```\n",
    "- `expression` → Defines how each element should be transformed.\n",
    "- `item` → Represents each element from `iterable`.\n",
    "- `iterable` → Any container that can be looped over (list, tuple, set, dictionary keys/values, etc.)."
   ]
  },
  {
   "cell_type": "markdown",
   "id": "2f1aa797-00df-47c7-b18a-854807694702",
   "metadata": {},
   "source": [
    "#### Temperature Conversion: For Loop vs. List Comprehension\n",
    "In the following we will first convert T Fahrenheit to Celsius, and then use a list comprehension"
   ]
  },
  {
   "cell_type": "code",
   "execution_count": 23,
   "id": "db9cda4a-85c5-46b7-85e1-04a86409c2ae",
   "metadata": {},
   "outputs": [
    {
     "name": "stdout",
     "output_type": "stream",
     "text": [
      "[0.0, 10.0, 25.0, 40.0]\n"
     ]
    }
   ],
   "source": [
    "# Using a For Loop\n",
    "temps_f = [32, 50, 77, 104]  # Fahrenheit temperatures\n",
    "temps_c = []  # Empty list for Celsius\n",
    "\n",
    "for temp in temps_f:\n",
    "    celsius = (temp - 32) * 5/9  # Convert to Celsius\n",
    "    temps_c.append(celsius)  # Append result to list\n",
    "\n",
    "print(temps_c)  # Output: [0.0, 10.0, 25.0, 40.0]"
   ]
  },
  {
   "cell_type": "code",
   "execution_count": 24,
   "id": "408ecac0-3e25-45e2-b615-233f144cb411",
   "metadata": {},
   "outputs": [
    {
     "name": "stdout",
     "output_type": "stream",
     "text": [
      "[0.0, 10.0, 25.0, 40.0]\n"
     ]
    }
   ],
   "source": [
    "# Using a list comprehension\n",
    "temps_f = [32, 50, 77, 104]\n",
    "temps_c = [(temp - 32) * 5/9 for temp in temps_f]\n",
    "print(temps_c)  # Output: [0.0, 10.0, 25.0, 40.0]"
   ]
  },
  {
   "cell_type": "markdown",
   "id": "cc5f1bf4-5d7b-4bec-9b3b-204f313f75b4",
   "metadata": {},
   "source": [
    "#### Convert Tuple to list"
   ]
  },
  {
   "cell_type": "code",
   "execution_count": 25,
   "id": "2c86dec0-99c6-4a2f-9c2e-12090c27f5bb",
   "metadata": {},
   "outputs": [
    {
     "name": "stdout",
     "output_type": "stream",
     "text": [
      "[0.0, 10.0, 25.0, 40.0]\n"
     ]
    }
   ],
   "source": [
    "temps_tuple = (32, 50, 77, 104)\n",
    "temps_c = [(temp - 32) * 5/9 for temp in temps_tuple]  # Creates a list from a tuple\n",
    "print(temps_c)"
   ]
  },
  {
   "cell_type": "markdown",
   "id": "0e1a6e77-6f05-4ceb-9bfd-09efd5d923ca",
   "metadata": {},
   "source": [
    "#### Extract Keys from a Dictionary"
   ]
  },
  {
   "cell_type": "code",
   "execution_count": 26,
   "id": "2d0cdea5-058a-466e-af14-15b0261b81fc",
   "metadata": {},
   "outputs": [
    {
     "name": "stdout",
     "output_type": "stream",
     "text": [
      "['H', 'He', 'Li']\n"
     ]
    }
   ],
   "source": [
    "element_atomic_numbers = {\"H\": 1, \"He\": 2, \"Li\": 3}\n",
    "elements = [key for key in element_atomic_numbers]  # Extracts keys as a list\n",
    "print(elements)  # Output: ['H', 'He', 'Li']"
   ]
  },
  {
   "cell_type": "markdown",
   "id": "f28bbb76-6eb3-4164-b080-b81d43243b01",
   "metadata": {},
   "source": [
    "#### Create a Set with Unique Values"
   ]
  },
  {
   "cell_type": "code",
   "execution_count": 27,
   "id": "a0b64c55-8d38-431b-a715-61fb6acafb75",
   "metadata": {},
   "outputs": [
    {
     "name": "stdout",
     "output_type": "stream",
     "text": [
      "{0.0, 25.0, 10.0, 40.0}\n"
     ]
    }
   ],
   "source": [
    "temps_f = [32, 50, 77, 104, 50]  # Contains duplicate 50\n",
    "temps_c_set = {(temp - 32) * 5/9 for temp in temps_f}  # Creates a set (no duplicates)\n",
    "print(temps_c_set)  # Output: {0.0, 10.0, 25.0, 40.0}"
   ]
  },
  {
   "cell_type": "markdown",
   "id": "0d5ae868-2d55-4701-854d-5c04c6b08e58",
   "metadata": {},
   "source": [
    "#### Filtering\n",
    "Filter out bad temperature values"
   ]
  },
  {
   "cell_type": "code",
   "execution_count": 28,
   "id": "c2007cef-40c6-46d7-a365-7a805b1118f2",
   "metadata": {},
   "outputs": [
    {
     "name": "stdout",
     "output_type": "stream",
     "text": [
      "[0.0, -73.33333333333333, 10.0, 25.0, 40.0]\n"
     ]
    }
   ],
   "source": [
    "temps_f = [32, -100, 50, 77, None, 104, \"error\"]\n",
    "temps_c = [(temp - 32) * 5/9 for temp in temps_f if isinstance(temp, (int, float))]\n",
    "print(temps_c)  # Ignores None and \"error\""
   ]
  },
  {
   "cell_type": "markdown",
   "id": "496ab82e-5415-4070-a9d3-22a70da10151",
   "metadata": {},
   "source": [
    "#### if-else in list comprehension\n",
    "Conditional Classification"
   ]
  },
  {
   "cell_type": "code",
   "execution_count": 29,
   "id": "9efd4ce1-2321-474a-9e7a-0bef8edad1e3",
   "metadata": {},
   "outputs": [
    {
     "name": "stdout",
     "output_type": "stream",
     "text": [
      "['Cold', 'Cold', 'Hot', 'Hot']\n"
     ]
    }
   ],
   "source": [
    "temps_f = [32, 50, 77, 104]\n",
    "categories = [\"Hot\" if temp > 75 else \"Cold\" for temp in temps_f]\n",
    "print(categories)  # Output: ['Cold', 'Cold', 'Hot', 'Hot']"
   ]
  },
  {
   "cell_type": "markdown",
   "id": "10a9974f-1252-44a9-8f6b-53c921e0e433",
   "metadata": {},
   "source": [
    "# Acknowledgements\n",
    "This content was developed with assistance from [Perplexity AI](https://www.perplexity.ai/) and [Chat GPT](https://chatgpt.com/). Multiple queries were made during the Fall 2024 and the Spring 2025."
   ]
  }
 ],
 "metadata": {
  "kernelspec": {
   "display_name": "Python (py4sci)",
   "language": "python",
   "name": "py4sci"
  },
  "language_info": {
   "codemirror_mode": {
    "name": "ipython",
    "version": 3
   },
   "file_extension": ".py",
   "mimetype": "text/x-python",
   "name": "python",
   "nbconvert_exporter": "python",
   "pygments_lexer": "ipython3",
   "version": "3.10.17"
  }
 },
 "nbformat": 4,
 "nbformat_minor": 5
}