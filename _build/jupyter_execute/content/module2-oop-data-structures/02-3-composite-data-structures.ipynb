{
 "cells": [
  {
   "cell_type": "markdown",
   "id": "571af45b-e265-4ef4-b4e8-9e03fa3abb2f",
   "metadata": {},
   "source": [
    "(module2-oop-data-structures/02-3-composite-data-structures)=\n",
    "# 3. Composite Data Structures\n",
    "\n",
    "| Data Structure | Description                                                                                 |\n",
    "|----------------|---------------------------------------------------------------------------------------------|\n",
    "| `list`         | A collection of ordered, mutable items that can hold elements of different types.           |\n",
    "| `tuple`        | An ordered, immutable sequence of items, which can also hold elements of different types.   |\n",
    "| `set`          | An unordered collection of unique, immutable items.                                         |\n",
    "| `dict`         | A collection of key-value pairs, where keys are unique and immutable, and values are mutable.|"
   ]
  },
  {
   "cell_type": "markdown",
   "id": "751a02e0-3444-4b76-9b96-59312b3ebf98",
   "metadata": {},
   "source": [
    "# 1. Lists\n",
    "A python list is a built-in container style data structure that allows you to store multiple items in a variable.  Lists are **ordered, mutable* (changeable) and can **hold elements of different data types**, including other lists. Lists use brackets [ ] to identify them\n"
   ]
  },
  {
   "cell_type": "markdown",
   "id": "4363f658-11d1-4ea8-98b4-4d3a0003f1d2",
   "metadata": {},
   "source": [
    "## Ways of making a list\n",
    "\n",
    "### 1. Using Square Brackets\n",
    "noble_gases = [\"He\", \"Ne\", \"Ar\", \"Kr\", \"Xe\", \"Rn\", \"Og\"]\n"
   ]
  },
  {
   "cell_type": "code",
   "execution_count": 1,
   "id": "7d33d960-82ee-435b-b22b-0f12f7084cdc",
   "metadata": {},
   "outputs": [
    {
     "name": "stdout",
     "output_type": "stream",
     "text": [
      "['He', 'Ne', 'Ar', 'Kr', 'Xe', 'Rn', 'Og']\n",
      "[4.22, 27.07, 87.3, 119.93, 165.03, 211.3, None]\n"
     ]
    }
   ],
   "source": [
    "noble_gases = [\"He\", \"Ne\", \"Ar\", \"Kr\", \"Xe\", \"Rn\", \"Og\"]\n",
    "atomic_masses = [4.0026, 20.180, 39.948, 83.798, 131.293, 222, 294]  # g/mol\n",
    "atomic_numbers = [2, 10, 18, 36, 54, 86, 118]  # Atomic numbers\n",
    "boiling_points = [4.22, 27.07, 87.30, 119.93, 165.03, 211.3, None]  # K (Og unknown)\n",
    "print(noble_gases)\n",
    "print(boiling_points)"
   ]
  },
  {
   "cell_type": "markdown",
   "id": "753c9f11-c07d-47ef-8a45-ed81b196b3da",
   "metadata": {},
   "source": [
    "### 2. list() constructor\n",
    "The list() constructor converts a single iterable item like a tuple, set, string into a list.   Here we are converting a tuple into a list, which is why there are two parenthesis.  The inner one is for the tuple, and the other is for the list constructor \n",
    "\n",
    "alkanes = list((\"Methane\", \"Ethane\", \"Propane\", \"Butane\", \"Pentane\",\n",
    "                \"Hexane\", \"Heptane\", \"Octane\", \"Nonane\", \"Decane\"))"
   ]
  },
  {
   "cell_type": "code",
   "execution_count": 2,
   "id": "7252498c-7913-44fd-9cb9-79392f393710",
   "metadata": {},
   "outputs": [
    {
     "name": "stdout",
     "output_type": "stream",
     "text": [
      "['Methane', 'Ethane', 'Propane', 'Butane', 'Pentane', 'Hexane', 'Heptane', 'Octane', 'Nonane', 'Decane']\n",
      "[-161.5, -88.5, -42.1, -0.5, 36.1, 68.7, 98.4, 125.7, 150.8, 174.1]\n"
     ]
    }
   ],
   "source": [
    "alkanes = list((\"Methane\", \"Ethane\", \"Propane\", \"Butane\", \"Pentane\",\n",
    "                \"Hexane\", \"Heptane\", \"Octane\", \"Nonane\", \"Decane\"))\n",
    "\n",
    "alkane_bp = list((-161.5, -88.5, -42.1, -0.5, 36.1,\n",
    "                  68.7, 98.4, 125.7, 150.8, 174.1))  # Boiling points in °C\n",
    "\n",
    "print(alkanes)\n",
    "print(alkane_bp)"
   ]
  },
  {
   "cell_type": "markdown",
   "id": "52bdf035-8b9f-411b-a44b-711cafbde62e",
   "metadata": {},
   "source": [
    "### Create an empty list\n",
    "Often we want to add items to a list that starts off as empty, and we need a variable defined as the list.\n",
    "my_sum = []"
   ]
  },
  {
   "cell_type": "code",
   "execution_count": 3,
   "id": "f5003b18-ce55-49b9-aea5-a8588a1fdb3a",
   "metadata": {},
   "outputs": [
    {
     "name": "stdout",
     "output_type": "stream",
     "text": [
      "[]\n"
     ]
    }
   ],
   "source": [
    "my_sum = []\n",
    "print(my_sum)"
   ]
  },
  {
   "cell_type": "code",
   "execution_count": 4,
   "id": "c3fa3773-b7b3-4d4e-abfd-3444f9cb8307",
   "metadata": {},
   "outputs": [
    {
     "name": "stdout",
     "output_type": "stream",
     "text": [
      "['hydrogen', 'helium']\n"
     ]
    }
   ],
   "source": [
    "elements = [\"hydrogen\", \"helium\"]\n",
    "print(elements)"
   ]
  },
  {
   "cell_type": "markdown",
   "id": "037bd387-9305-4174-91cb-bcd9ab4f351c",
   "metadata": {},
   "source": [
    "## List Methods\n",
    "### Table of List Methods\n",
    "The following table shows commonly used **list methods**, which are functions specific to list objects:\n",
    "| Method | Description | Example |\n",
    "|--------|------------|---------|\n",
    "| `append(x)` | Adds an item `x` to the end of the list. | `elements.append(\"Beryllium\")` |\n",
    "| `extend(iterable)` | Extends the list by appending elements from an iterable. | `elements.extend([\"Boron\", \"Carbon\"])` |\n",
    "| `insert(i, x)` | Inserts item `x` at position `i`. | `elements.insert(1, \"Neon\")` |\n",
    "| `remove(x)` | Removes the first occurrence of `x`. | `elements.remove(\"Helium\")` |\n",
    "| `pop([i])` | Removes and returns the item at index `i` (last if unspecified). | `elements.pop(2)` |\n",
    "| `index(x)` | Returns the index of `x`. | `elements.index(\"Lithium\")` |\n",
    "| `count(x)` | Returns the count of `x` in the list. | `elements.count(\"Oxygen\")` |\n",
    "| `sort()` | Sorts the list in ascending order. | `elements.sort()` |\n",
    "| `reverse()` | Reverses the order of elements in the list. | `elements.reverse()` |\n",
    "| `copy()` | Returns a shallow copy of the list. | `new_list = elements.copy()` |\n",
    "| `clear()` | Removes all elements from the list. | `elements.clear()` |\n",
    "\n",
    "---\n",
    "\n",
    "## Built-in Functions That Work on Lists\n",
    "\n",
    "Python provides several built-in functions that work on lists:\n",
    "\n",
    "| Function | Description | Example |\n",
    "|----------|------------|---------|\n",
    "| `len(lst)` | Returns the number of elements in the list. | `len(elements)` |\n",
    "| `min(lst)` | Returns the smallest element. | `min([3, 1, 4])` |\n",
    "| `max(lst)` | Returns the largest element. | `max([3, 1, 4])` |\n",
    "| `sum(lst)` | Returns the sum of all elements (if numeric). | `sum([3, 1, 4])` |\n",
    "| `sorted(lst)` | Returns a new sorted list without modifying the original. | `sorted(elements)` |\n",
    "| `list(iterable)` | Converts an iterable (like a tuple or string) into a list. | `list(\"Chemistry\")` |\n",
    "\n",
    "---"
   ]
  },
  {
   "cell_type": "markdown",
   "id": "bff4f5e1-85cd-4e88-b8c3-6b6b81e7db7a",
   "metadata": {},
   "source": [
    "### Examples of List Methods and Functions in Action"
   ]
  },
  {
   "cell_type": "code",
   "execution_count": 5,
   "id": "ee8d88e9-44e2-4c6f-bbac-64ef33e961d3",
   "metadata": {},
   "outputs": [
    {
     "name": "stdout",
     "output_type": "stream",
     "text": [
      "['hydrogen', 1.00784, 'helium', 4.002602, 'lithium', 6.941, 'beryllium', 9.012182]\n"
     ]
    }
   ],
   "source": [
    "# Create and print a list\n",
    "molar_mass=['hydrogen',1.00784,'helium',4.002602,'lithium', 6.941, 'beryllium', 9.012182]\n",
    "print(molar_mass)"
   ]
  },
  {
   "cell_type": "code",
   "execution_count": 6,
   "id": "85fa6036-195f-4fbd-9e78-9955c78d0a3c",
   "metadata": {},
   "outputs": [
    {
     "name": "stdout",
     "output_type": "stream",
     "text": [
      "8\n",
      "There are 8 items in the list molar_Mass\n"
     ]
    }
   ],
   "source": [
    "# determine the length of a list\n",
    "print(len(molar_mass))\n",
    "print(f\"There are {len(molar_mass)} items in the list molar_Mass\")"
   ]
  },
  {
   "cell_type": "code",
   "execution_count": 7,
   "id": "ac40954d-a627-44fe-94a2-ca244d6d41ed",
   "metadata": {},
   "outputs": [
    {
     "name": "stdout",
     "output_type": "stream",
     "text": [
      "['hydrogen', 'helium', 'lithium', 'beryllium']\n",
      "[1.00784, 4.002602, 6.941, 9.012182]\n"
     ]
    }
   ],
   "source": [
    "# use indexing to print even items (starting with zero)\n",
    "print(molar_mass[0::2])\n",
    "print(molar_mass[1::2])"
   ]
  },
  {
   "cell_type": "code",
   "execution_count": 8,
   "id": "7285703e-7376-48c4-8912-1da8b35e4fc7",
   "metadata": {},
   "outputs": [
    {
     "name": "stdout",
     "output_type": "stream",
     "text": [
      "[1.00784, 4.002602, 6.941, 9.012182]\n",
      "<class 'list'>\n",
      "20.963624\n"
     ]
    }
   ],
   "source": [
    "# summing the masses\n",
    "masses = molar_mass[1::2]\n",
    "print(masses)\n",
    "print(type(masses))\n",
    "print(sum(masses))"
   ]
  },
  {
   "cell_type": "code",
   "execution_count": 9,
   "id": "5f0732d8-9abb-4221-8076-4630ff2b93f8",
   "metadata": {},
   "outputs": [
    {
     "name": "stdout",
     "output_type": "stream",
     "text": [
      "5.240906\n"
     ]
    }
   ],
   "source": [
    "# calculate the average molar mass\n",
    "ave = sum(molar_mass[1::2])/len(molar_mass[1::2])\n",
    "print(ave)"
   ]
  },
  {
   "cell_type": "code",
   "execution_count": 10,
   "id": "424ffffe-2f08-4f83-b404-4162d0490fac",
   "metadata": {},
   "outputs": [
    {
     "name": "stdout",
     "output_type": "stream",
     "text": [
      "5.240906\n"
     ]
    }
   ],
   "source": [
    "import statistics\n",
    "print(statistics.mean(molar_mass[1::2]))"
   ]
  },
  {
   "cell_type": "code",
   "execution_count": 11,
   "id": "e42dc4b8-1f29-4545-84e9-1e1619961478",
   "metadata": {},
   "outputs": [],
   "source": [
    "noble_gases = [\"He\", \"Ne\", \"Ar\", \"Kr\", \"Xe\", \"Rn\", \"Og\"]\n",
    "ng_atomic_masses = [4.0026, 20.180, 39.948, 83.798, 131.293, 222, 294]\n",
    "ng_atomic_numbers = [2, 10, 18, 36, 54, 86, 118]  # Atomic numbers\n",
    "ng_boiling_points = [4.22, 27.07, 87.30, 119.93, 165.03, 211.3, None]  # K (Og unknown)"
   ]
  },
  {
   "cell_type": "code",
   "execution_count": 12,
   "id": "cadaefed-66aa-4f28-8b03-7f89c662318d",
   "metadata": {},
   "outputs": [
    {
     "name": "stdout",
     "output_type": "stream",
     "text": [
      "Noble gases: \t['He', 'Ne', 'Ar', 'Kr', 'Xe', 'Rn', 'Og'] \n",
      "Atomic masses: \t[4.0026, 20.18, 39.948, 83.798, 131.293, 222, 294] \n",
      "Atomic numbers: [2, 10, 18, 36, 54, 86, 118]\n",
      "Boiling Points: [4.22, 27.07, 87.3, 119.93, 165.03, 211.3, None] \n"
     ]
    }
   ],
   "source": [
    "print(f\"Noble gases: \\t{noble_gases} \\nAtomic masses: \\t{ng_atomic_masses} \\\n",
    "\\nAtomic numbers: {ng_atomic_numbers}\\nBoiling Points: {ng_boiling_points} \")"
   ]
  },
  {
   "cell_type": "code",
   "execution_count": 13,
   "id": "2712d709-2684-4dd8-99d7-b116cf376b86",
   "metadata": {},
   "outputs": [
    {
     "name": "stdout",
     "output_type": "stream",
     "text": [
      " The boiling point of Ne is 27.07\n"
     ]
    }
   ],
   "source": [
    "# Using Indexing\n",
    "print(f\" The boiling point of {noble_gases[1]} is {ng_boiling_points[1]}\")"
   ]
  },
  {
   "cell_type": "markdown",
   "id": "360b0d64-cfa7-4d97-9fe7-864f8d9179e7",
   "metadata": {},
   "source": [
    "## For Loop and Lists\n",
    "Since a list is iterable, we can set up a for loop to go through each item and pull out a value by its index number.  We will cover loops and other control structures later, but I want you to see how a we can go through each item using its index number"
   ]
  },
  {
   "cell_type": "code",
   "execution_count": 14,
   "id": "e757b284-f0a3-4fec-9f50-8de6f7349185",
   "metadata": {},
   "outputs": [
    {
     "name": "stdout",
     "output_type": "stream",
     "text": [
      "The boiling point of He is 4.22 K.\n",
      "The boiling point of Ne is 27.07 K.\n",
      "The boiling point of Ar is 87.3 K.\n",
      "The boiling point of Kr is 119.93 K.\n",
      "The boiling point of Xe is 165.03 K.\n",
      "The boiling point of Rn is 211.3 K.\n",
      "The boiling point of Og is unknown.\n"
     ]
    }
   ],
   "source": [
    "# Loop through each index and print the name and boiling point\n",
    "noble_gases = [\"He\", \"Ne\", \"Ar\", \"Kr\", \"Xe\", \"Rn\", \"Og\"]\n",
    "ng_boiling_points = [4.22, 27.07, 87.3, 119.93, 165.03, 211.3, None] \n",
    "\n",
    "for i in range(len(noble_gases)):\n",
    "    if ng_boiling_points[i] is None:\n",
    "        print(f\"The boiling point of {noble_gases[i]} is unknown.\")\n",
    "    else:\n",
    "        print(f\"The boiling point of {noble_gases[i]} is {ng_boiling_points[i]} K.\")\n"
   ]
  },
  {
   "cell_type": "markdown",
   "id": "36dbc656-2b1d-4481-80c6-cd9069e3416a",
   "metadata": {},
   "source": [
    "## Combining lists and zip() \n",
    "The following code creates an empty list, then creates a list of tuples (the next topic), and then appends the tuples to the empty list\n"
   ]
  },
  {
   "cell_type": "code",
   "execution_count": 15,
   "id": "3d407752-8fc5-489b-8d5c-9bf14df56d7f",
   "metadata": {},
   "outputs": [
    {
     "name": "stdout",
     "output_type": "stream",
     "text": [
      "['He', 4.22, 'Ne', 27.07, 'Ar', 87.3, 'Kr', 119.93, 'Xe', 165.03, 'Rn', 211.3, 'Og', None]\n"
     ]
    }
   ],
   "source": [
    "noble_gases = [\"He\", \"Ne\", \"Ar\", \"Kr\", \"Xe\", \"Rn\", \"Og\"]\n",
    "ng_boiling_points = [4.22, 27.07, 87.3, 119.93, 165.03, 211.3, None] \n",
    "\n",
    "combined_list = []\n",
    "for gas, bp in zip(noble_gases, ng_boiling_points):\n",
    "    combined_list.append(gas)\n",
    "    combined_list.append(bp)\n",
    "\n",
    "print(combined_list)\n"
   ]
  },
  {
   "cell_type": "markdown",
   "id": "bc0ba9fb-86c6-45af-9b4e-a90978aedafa",
   "metadata": {},
   "source": [
    "Before getting into the above code and tuples, lets try and take the average of the molar masses in the above list of repeating symbols and masses.  We could try the following code, but the last value is non-numeric (**None**). In later modules we will see more advanced ways of handling non-numeric values"
   ]
  },
  {
   "cell_type": "markdown",
   "id": "a8b9133a-ab87-48a8-8217-9ed019ba3861",
   "metadata": {},
   "source": [
    "```{code-block} python\n",
    ":class: copyable\n",
    "# The following gives an error due to a non-numeric value in ng_boiling_points\n",
    "import statistics\n",
    "print(statistics.mean(combined_list[1::2\n",
    "                      <div class=\"alert alert-info\">"
   ]
  },
  {
   "cell_type": "code",
   "execution_count": 16,
   "id": "ea82b2cd-65ce-4efb-8368-66941f7267eb",
   "metadata": {},
   "outputs": [
    {
     "name": "stdout",
     "output_type": "stream",
     "text": [
      "102.47500000000001\n"
     ]
    }
   ],
   "source": [
    "cleaned_molarmass = [x for x in combined_list[1::2] if x is not None]\n",
    "average = statistics.mean(cleaned_molarmass)\n",
    "print(average)  \n"
   ]
  },
  {
   "cell_type": "markdown",
   "id": "740561df-a1fe-4bb2-ade5-9348ef52ab27",
   "metadata": {},
   "source": [
    "# 2. Tuples\n",
    "Tuples are a container data type similar to a list, but are **immutable** (unchangeable), that is, once created they can not be changed.  **Tuples are defined with parenthesis()** while **lists are defined with brackets[]**.\n",
    "## Key Features of Tuples\n",
    "  - **Immutable** – Cannot be changed after creation.\n",
    "  - **Ordered** – Elements remain in a fixed sequence.\n",
    "  - **Indexed** – Can access elements using indexing (like lists).\n",
    "  - **sliced** - Can be sliced (like lists).\n",
    "  - **Allow duplicates** – Can contain repeated values.\n",
    "  - **Can store multiple data types** – Similar to lists.\n"
   ]
  },
  {
   "cell_type": "code",
   "execution_count": 17,
   "id": "0c716c48-816e-4e16-985e-b062db480627",
   "metadata": {},
   "outputs": [
    {
     "name": "stdout",
     "output_type": "stream",
     "text": [
      "Zipped List of Tuples:\n",
      "[('He', 4.22), ('Ne', 27.07), ('Ar', 87.3), ('Kr', 119.93), ('Xe', 165.03), ('Rn', 211.3), ('Og', None)]\n"
     ]
    }
   ],
   "source": [
    "noble_gases = [\"He\", \"Ne\", \"Ar\", \"Kr\", \"Xe\", \"Rn\", \"Og\"]\n",
    "ng_boiling_points = [4.22, 27.07, 87.3, 119.93, 165.03, 211.3, None]\n",
    "\n",
    "# Convert zip object to a list of tuples\n",
    "zipped_list = list(zip(noble_gases, ng_boiling_points))\n",
    "\n",
    "print(\"Zipped List of Tuples:\")\n",
    "print(zipped_list)"
   ]
  },
  {
   "cell_type": "code",
   "execution_count": 18,
   "id": "5bfc4fca-b298-419c-bb99-961c320128db",
   "metadata": {},
   "outputs": [
    {
     "name": "stdout",
     "output_type": "stream",
     "text": [
      "Tuples from zip(noble_gases, ng_boiling_points):\n",
      "('He', 4.22)\n",
      "('Ne', 27.07)\n",
      "('Ar', 87.3)\n",
      "('Kr', 119.93)\n",
      "('Xe', 165.03)\n",
      "('Rn', 211.3)\n",
      "('Og', None)\n"
     ]
    }
   ],
   "source": [
    "print(\"Tuples from zip(noble_gases, ng_boiling_points):\")\n",
    "for pair in zip(noble_gases, ng_boiling_points):\n",
    "    print(pair)"
   ]
  },
  {
   "cell_type": "markdown",
   "id": "c3e57f25-fcdd-4306-b655-5043d9873441",
   "metadata": {},
   "source": [
    "## Working with Tuples\n",
    "### 1. Accessing Tuple elements (Indexing)\n",
    "Tuples use zero based indexing"
   ]
  },
  {
   "cell_type": "code",
   "execution_count": 19,
   "id": "e8075b3a-ab37-479c-ac30-325e6b82fd7f",
   "metadata": {},
   "outputs": [
    {
     "name": "stdout",
     "output_type": "stream",
     "text": [
      "He\n",
      "Og\n"
     ]
    }
   ],
   "source": [
    "noble_gases = (\"He\", \"Ne\", \"Ar\", \"Kr\", \"Xe\", \"Rn\", \"Og\")\n",
    "\n",
    "print(noble_gases[0])  # 'He'\n",
    "print(noble_gases[-1]) # 'Og' (Last element)\n"
   ]
  },
  {
   "cell_type": "markdown",
   "id": "4d6fa36c-4b1d-4eee-a0a2-d84d2b4acb52",
   "metadata": {},
   "source": [
    "### 2. Slicing Tuples"
   ]
  },
  {
   "cell_type": "code",
   "execution_count": 20,
   "id": "7236b81d-2145-4071-bdfb-0e5dab3bf797",
   "metadata": {},
   "outputs": [
    {
     "name": "stdout",
     "output_type": "stream",
     "text": [
      "('He', 'Ne', 'Ar', 'Kr', 'Xe', 'Rn', 'Og')\n",
      "('Ne', 'Ar', 'Kr')\n",
      "('He', 'Ne', 'Ar')\n",
      "('Xe', 'Rn', 'Og')\n"
     ]
    }
   ],
   "source": [
    "print(noble_gases)\n",
    "print(noble_gases[1:4])  # ('Ne', 'Ar', 'Kr')  -> Extracts elements 1 to 3\n",
    "print(noble_gases[:3])   # ('He', 'Ne', 'Ar')  -> First three elements\n",
    "print(noble_gases[4:])   # ('Xe', 'Rn', 'Og')  -> From index 4 to end\n"
   ]
  },
  {
   "cell_type": "markdown",
   "id": "8305eac5-dcea-41b5-b13b-a81a9807f9b2",
   "metadata": {},
   "source": [
    "### 3. Iterating Through a Tuple"
   ]
  },
  {
   "cell_type": "code",
   "execution_count": 21,
   "id": "d1170c21-c56a-4659-8664-d257ed0825f6",
   "metadata": {},
   "outputs": [
    {
     "name": "stdout",
     "output_type": "stream",
     "text": [
      "He\n",
      "Ne\n",
      "Ar\n",
      "Kr\n",
      "Xe\n",
      "Rn\n",
      "Og\n"
     ]
    }
   ],
   "source": [
    "for gas in noble_gases:\n",
    "    print(gas)\n"
   ]
  },
  {
   "cell_type": "markdown",
   "id": "a038e7df-b7b4-4604-a248-626acf961ca0",
   "metadata": {},
   "source": [
    "### 4.Tuple Unpacking\n",
    "Python allows assigning tuples to multiple variables"
   ]
  },
  {
   "cell_type": "code",
   "execution_count": 22,
   "id": "96a9addc-5c34-4e1e-8b5a-8ad539d89d28",
   "metadata": {},
   "outputs": [
    {
     "name": "stdout",
     "output_type": "stream",
     "text": [
      "H\n",
      "He\n",
      "Li\n"
     ]
    }
   ],
   "source": [
    "element1, element2, element3 = (\"H\", \"He\", \"Li\")\n",
    "\n",
    "print(element1)  # H\n",
    "print(element2)  # He\n",
    "print(element3)  # Li\n"
   ]
  },
  {
   "cell_type": "markdown",
   "id": "8b7e9927-8222-43de-bad2-90144dcdef5d",
   "metadata": {},
   "source": [
    "### 5. Using zip() to Create Tuples"
   ]
  },
  {
   "cell_type": "code",
   "execution_count": 23,
   "id": "5bc5c273-73d0-4e26-8ee0-82d3cb38a2ff",
   "metadata": {},
   "outputs": [
    {
     "name": "stdout",
     "output_type": "stream",
     "text": [
      "[('He', 4.22), ('Ne', 27.07), ('Ar', 87.3), ('Kr', 119.93), ('Xe', 165.03), ('Rn', 211.3), ('Og', None)]\n"
     ]
    }
   ],
   "source": [
    "noble_gases = (\"He\", \"Ne\", \"Ar\", \"Kr\", \"Xe\", \"Rn\", \"Og\")\n",
    "boiling_points = (4.22, 27.07, 87.3, 119.93, 165.03, 211.3, None)\n",
    "\n",
    "zipped_data = list(zip(noble_gases, boiling_points))\n",
    "print(zipped_data)\n"
   ]
  },
  {
   "cell_type": "code",
   "execution_count": 24,
   "id": "069617b1-7eba-4c74-8e9a-8d7c86f4e5ea",
   "metadata": {},
   "outputs": [
    {
     "name": "stdout",
     "output_type": "stream",
     "text": [
      "[('Hydrogen', 'H', 1.008), ('Helium', 'He', 4.0026), ('Lithium', 'Li', 6.94)]\n"
     ]
    }
   ],
   "source": [
    "names = [\"Hydrogen\", \"Helium\", \"Lithium\"]\n",
    "symbols = [\"H\", \"He\", \"Li\"]\n",
    "atomic_weights = [1.008, 4.0026, 6.94]\n",
    "\n",
    "zipped_data = list(zip(names, symbols, atomic_weights))\n",
    "print(zipped_data)\n"
   ]
  },
  {
   "cell_type": "markdown",
   "id": "b623928f-5392-4296-8d1a-05cd14b8a271",
   "metadata": {},
   "source": [
    "### 7. Tuple unpacking and zip(*zipped_data)\n"
   ]
  },
  {
   "cell_type": "code",
   "execution_count": 25,
   "id": "3d128587-d3f9-4008-926e-2cc455899272",
   "metadata": {},
   "outputs": [
    {
     "name": "stdout",
     "output_type": "stream",
     "text": [
      "('Hydrogen', 'Helium', 'Lithium')\n",
      "('H', 'He', 'Li')\n",
      "(1.008, 4.0026, 6.94)\n"
     ]
    }
   ],
   "source": [
    "m_names, m_symbols, m_atomic_weights=zip(*zipped_data)\n",
    "print(m_names)\n",
    "print(m_symbols)\n",
    "print(m_atomic_weights)"
   ]
  },
  {
   "cell_type": "markdown",
   "id": "3738c232-0d22-409c-b37a-4e10b1a87154",
   "metadata": {},
   "source": [
    "# 3. Sets\n",
    "\n",
    "## What is a Set?\n",
    "A **set** is a built-in Python data type that represents an unordered collection of unique elements. Unlike lists or tuples, sets do not allow duplicate values and are defined using curly braces `{}` or the `set()` constructor.\n",
    "### **Sets, Lists and Tuples**\n",
    "- **Lists** are ordered and allow duplicates.\n",
    "- **Tuples** are ordered and immutable.\n",
    "- **Sets** are unordered, do not allow duplicates, and enable fast lookups.\n",
    "\n",
    "## Introduction to Set Theory\n",
    "Set theory is a fundamental branch of mathematics that deals with collections of objects, called **elements**. A set is defined as a well-defined collection of distinct objects. In chemistry, we often deal with sets when categorizing elements, compounds, or reaction products.\n",
    "\n",
    "### Basic Set Notation\n",
    "- **Universal Set (U)**: The set containing all elements under consideration.\n",
    "- **Subset (⊆)**: A set A is a subset of B if every element in A is also in B.\n",
    "- **Proper Subset (⊂)**: A subset A of B where A ≠ B.\n",
    "- **Union (A ∪ B)**: The set containing all elements that belong to either A or B or both.\n",
    "- **Intersection (A ∩ B)**: The set containing elements common to both A and B.\n",
    "- **Difference (A - B)**: The set of elements in A but not in B.\n",
    "- **Complement (A′ or U - A)**: The set of elements not in A but in the universal set U.\n",
    "\n",
    "### Relationship to Boolean Algebra\n",
    "Set theory is closely related to **Boolean algebra**, which is used in logic and computing. The operations in Boolean algebra resemble set operations:\n",
    "- **Union (A ∪ B) corresponds to logical OR (A OR B).**\n",
    "- **Intersection (A ∩ B) corresponds to logical AND (A AND B).**\n",
    "- **Complement (A′) corresponds to logical NOT (NOT A).**\n",
    "- **Difference (A - B) corresponds to A AND NOT B.**\n",
    "\n",
    "These relationships are particularly useful when working with Venn diagrams, logic circuits, or computational chemistry applications.\n",
    "\n",
    "## Why Use Sets in Chemistry?\n",
    "- **Uniqueness**: Automatically removes duplicate values.\n",
    "- **Efficient Membership Testing**: Checking if an element is in a set is faster than checking in a list.\n",
    "- **Set Operations**: Provides powerful operations like union, intersection, and difference, useful in data analysis and scientific computing.\n",
    "\n",
    "\n",
    "## Creating a Set\n",
    "You can create a set using curly braces `{}` or the `set()` function:\n",
    "\n",
    "```python\n",
    "# Creating sets\n",
    "chemical_elements = {\"H\", \"He\", \"Li\", \"Be\"}\n",
    "print(chemical_elements)  # Output: {'H', 'He', 'Li', 'Be'}\n",
    "\n",
    "# Using set() constructor\n",
    "unique_numbers = set([1, 2, 2, 3, 4, 4])\n",
    "print(unique_numbers)  # Output: {1, 2, 3, 4}\n",
    "```\n",
    "## Set Methods\n",
    "### Table of Set Methods\n",
    "Here are some common methods used with sets:\n",
    "| Method | Description |\n",
    "|--------|-------------|\n",
    "| `add(x)` | Adds an element `x` to the set. |\n",
    "| `remove(x)` | Removes `x` from the set (raises an error if `x` is not present). |\n",
    "| `discard(x)` | Removes `x` if present, but does not raise an error if absent. |\n",
    "| `pop()` | Removes and returns an arbitrary element. |\n",
    "| `clear()` | Removes all elements from the set. |\n",
    "| `copy()` | Returns a shallow copy of the set. |\n",
    "| `union(set2)` | Returns a new set containing all elements from both sets. |\n",
    "| `intersection(set2)` | Returns a new set with elements common to both sets. |\n",
    "| `difference(set2)` | Returns a new set with elements in the first set but not in the second. |\n",
    "| `symmetric_difference(set2)` | Returns a new set with elements in either set but not both. |\n",
    "| `issubset(set2)` | Checks if the set is a subset of `set2`. |\n",
    "| `issuperset(set2)` | Checks if the set is a superset of `set2`. |\n",
    "\n",
    "\n",
    "## Set Operators\n",
    "### Table of Set Operators\n",
    "| Operator | Symbol | Description                                                                                 | Example Usage             | Equivalent Method        |\n",
    "|----------|--------|---------------------------------------------------------------------------------------------|---------------------------|--------------------------|\n",
    "| Union    | `|`    | Combines all unique elements from both sets.                                                | `A \\| B`                  | `A.union(B)`             |\n",
    "| Intersection | `&` | Retrieves elements common to both sets.                                                     | `A & B`                   | `A.intersection(B)`      |\n",
    "| Difference   | `-` | Returns elements in the first set that are not in the second.                               | `A - B`                   | `A.difference(B)`        |\n",
    "| Symmetric Difference | `^` | Returns elements in either set, but not in both.                                       | `A ^ B`                   | `A.symmetric_difference(B)` |\n",
    "| Subset       | `<=` | Checks if all elements of the first set are in the second set.                              | `A <= B`                  | `A.issubset(B)`          |\n",
    "| Proper Subset | `<` | Checks if the first set is a subset of the second set and not equal.                        | `A < B`                   | N/A                      |\n",
    "| Superset     | `>=` | Checks if all elements of the second set are in the first set.                              | `A >= B`                  | `A.issuperset(B)`        |\n",
    "| Proper Superset | `>` | Checks if the first set is a superset of the second set and not equal.                    | `A > B`                   | N/A                      |\n",
    "\n",
    "\n",
    "## Functions That Work on Sets\n",
    "### Table of Functions that Work with Sets\n",
    "| Function | Description |\n",
    "|----------|-------------|\n",
    "| `len(set)` | Returns the number of elements in the set. |\n",
    "| `min(set)` | Returns the smallest element (for comparable elements). |\n",
    "| `max(set)` | Returns the largest element (for comparable elements). |\n",
    "| `sum(set)` | Returns the sum of all elements (for numeric sets). |\n",
    "| `sorted(set)` | Returns a sorted list of elements in the set. |\n",
    "| `enumerate(set)` | Returns an enumerate object for the set. |\n"
   ]
  },
  {
   "cell_type": "markdown",
   "id": "79e1c4c5-ffc4-42fd-9c79-59c4606f4e18",
   "metadata": {},
   "source": [
    "## Activities Involving Sets\n",
    "### 1. Create a Set"
   ]
  },
  {
   "cell_type": "code",
   "execution_count": 26,
   "id": "6f625f78-2c97-4a35-9b2b-3497cd497a4c",
   "metadata": {},
   "outputs": [
    {
     "name": "stdout",
     "output_type": "stream",
     "text": [
      "{'Be', 'Li', 'He', 'H'}\n",
      "{1, 2, 3, 4}\n"
     ]
    }
   ],
   "source": [
    "# Creating sets\n",
    "chemical_elements = {\"H\", \"He\", \"Li\", \"Be\"}\n",
    "print(chemical_elements)  # Output: {'H', 'He', 'Li', 'Be'}\n",
    "\n",
    "# Using set() constructor\n",
    "unique_numbers = set([1, 2, 2, 3, 4, 4])\n",
    "print(unique_numbers)  # Output: {1, 2, 3, 4}"
   ]
  },
  {
   "cell_type": "code",
   "execution_count": 27,
   "id": "f893941c-1cc3-4f83-96f8-9fa050d8f641",
   "metadata": {},
   "outputs": [
    {
     "name": "stdout",
     "output_type": "stream",
     "text": [
      "Index 0: Element Be\n",
      "Index 1: Element Li\n",
      "Index 2: Element He\n",
      "Index 3: Element H\n"
     ]
    }
   ],
   "source": [
    "for index, element in enumerate(chemical_elements):\n",
    "    print(f\"Index {index}: Element {element}\")\n"
   ]
  },
  {
   "cell_type": "markdown",
   "id": "41401f76-8c08-4c8e-a217-024ac9358d10",
   "metadata": {},
   "source": [
    "### 2. Identify Unique Elements"
   ]
  },
  {
   "cell_type": "code",
   "execution_count": 28,
   "id": "034cdacb-4d90-4666-a460-80b46327670e",
   "metadata": {},
   "outputs": [
    {
     "name": "stdout",
     "output_type": "stream",
     "text": [
      "{'C-14', 'C-12', 'C-13'}\n"
     ]
    }
   ],
   "source": [
    "isotopes = [\"C-12\", \"C-13\", \"C-12\", \"C-14\", \"C-13\", \"C-14\"]\n",
    "unique_isotopes = set(isotopes)\n",
    "print(unique_isotopes)  # Expected Output: {'C-12', 'C-13', 'C-14'}"
   ]
  },
  {
   "cell_type": "markdown",
   "id": "ba5d0483-6003-4b41-bf03-583945f7d70c",
   "metadata": {},
   "source": [
    "### 3. Basic Set Operations\n"
   ]
  },
  {
   "cell_type": "code",
   "execution_count": 29,
   "id": "d0213c58-9461-4df9-8357-34e187990264",
   "metadata": {},
   "outputs": [
    {
     "name": "stdout",
     "output_type": "stream",
     "text": [
      "Union: {'P', 'S', 'Na', 'Mg', 'Al', 'Si'}\n",
      "Intersection: {'Si', 'Mg'}\n",
      "Difference (group1 - group2): {'Al', 'Na'}\n",
      "Symmetric Difference: {'P', 'S', 'Na', 'Al'}\n"
     ]
    }
   ],
   "source": [
    "group1 = {\"Na\", \"Mg\", \"Al\", \"Si\"}\n",
    "group2 = {\"Mg\", \"Si\", \"P\", \"S\"}\n",
    "\n",
    "print(\"Union:\", group1.union(group2))\n",
    "print(\"Intersection:\", group1.intersection(group2))\n",
    "print(\"Difference (group1 - group2):\", group1.difference(group2))\n",
    "print(\"Symmetric Difference:\", group1.symmetric_difference(group2))"
   ]
  },
  {
   "cell_type": "markdown",
   "id": "31da11ce-2d02-40a8-9f8d-9ec9d3e16eeb",
   "metadata": {},
   "source": [
    "### 4. Checking for Subsets and Supersets"
   ]
  },
  {
   "cell_type": "code",
   "execution_count": 30,
   "id": "1f272b3f-5626-4a65-a5c5-06a69c245b31",
   "metadata": {},
   "outputs": [
    {
     "name": "stdout",
     "output_type": "stream",
     "text": [
      "Are alkali metals a subset of metals? True\n",
      "Are metals a superset of alkali metals? True\n"
     ]
    }
   ],
   "source": [
    "alkali_metals = {\"Li\", \"Na\", \"K\", \"Rb\", \"Cs\"}\n",
    "metals = {\"Li\", \"Na\", \"K\", \"Rb\", \"Cs\", \"Mg\", \"Al\", \"Fe\"}\n",
    "\n",
    "print(\"Are alkali metals a subset of metals?\", alkali_metals.issubset(metals))\n",
    "print(\"Are metals a superset of alkali metals?\", metals.issuperset(alkali_metals))"
   ]
  },
  {
   "cell_type": "markdown",
   "id": "4f942b52-64d7-4c2e-a3b9-ff0e64fa6466",
   "metadata": {},
   "source": [
    "## Analyze Chemical Reaction\n",
    " -learn how to use union (|), intersection (&), and difference (-) with sets.\n",
    "\n",
    " ### Define Reactants and Products as Sets\n",
    " We will analyze the combustion of methane (CH₄ + 2O₂ → CO₂ + 2H₂O)"
   ]
  },
  {
   "cell_type": "code",
   "execution_count": 31,
   "id": "2a6a301c-3a64-44d7-9eaa-125c440a657f",
   "metadata": {},
   "outputs": [
    {
     "name": "stdout",
     "output_type": "stream",
     "text": [
      "Reactants: {'CH4', 'O2'}\n",
      "Products: {'H2O', 'CO2'}\n"
     ]
    }
   ],
   "source": [
    "# Define sets for reactants and products\n",
    "reactants = {\"CH4\", \"O2\"}\n",
    "products = {\"CO2\", \"H2O\"}\n",
    "\n",
    "# Print them\n",
    "print(\"Reactants:\", reactants)\n",
    "print(\"Products:\", products)"
   ]
  },
  {
   "cell_type": "code",
   "execution_count": 32,
   "id": "063629ed-d73f-44bd-904a-a7147f55de11",
   "metadata": {},
   "outputs": [
    {
     "name": "stdout",
     "output_type": "stream",
     "text": [
      "Common species in both reactants and products: set()\n",
      "Species consumed in the reaction: {'CH4', 'O2'}\n",
      "Species formed in the reaction: {'CO2', 'H2O'}\n"
     ]
    }
   ],
   "source": [
    "# Find common species between reactants and products\n",
    "common_species = reactants & products\n",
    "print(\"Common species in both reactants and products:\", common_species)\n",
    "\n",
    "# Find species that are in reactants but not in products\n",
    "consumed_species = reactants - products\n",
    "print(\"Species consumed in the reaction:\", consumed_species)\n",
    "\n",
    "# Find species that appear only in products\n",
    "formed_species = products - reactants\n",
    "print(\"Species formed in the reaction:\", formed_species)\n"
   ]
  },
  {
   "cell_type": "markdown",
   "id": "79af21cb-586c-40c1-a023-bce7ac8b16fb",
   "metadata": {},
   "source": [
    "## Sets and SMILES strings\n",
    "SMILES (Simplified Molecular Input Line Entry System) is a line notation (digital nomenclature) used in chemistry to represent molecular structures.\n",
    "| Molecule         | Formula | SMILES | Flammability       |   | Molecule           | Formula | SMILES | Flammability       |\n",
    "|------------------|---------|--------|--------------------|---|--------------------|---------|--------|--------------------|\n",
    "| Methane          | CH₄     | C      | Flammable          |   | Ethane             | C₂H₆    | CC     | Flammable          |\n",
    "| Water            | H₂O     | O      | Non-flammable      |   | Hydrogen Peroxide  | H₂O₂    | OO     | Flammable          |\n",
    "| Carbon Dioxide   | CO₂     | O=C=O  | Non-flammable      |   | Carbon Monoxide    | CO      | [C-]#[O+] | Flammable       |\n",
    "| Ethanol          | C₂H₆O   | CCO    | Flammable          |   | Acetic Acid        | C₂H₄O₂  | CC(=O)O | Flammable          |\n",
    "\n",
    "In the following cell we a create two sets, one of flammable chemicals and one of chemicals in a stockroom, with the latter having duplicates.  We then use these to analyze the chemicals in our stockroom with regards to flammability.\n",
    "\n",
    "### Flammability using Set Operators"
   ]
  },
  {
   "cell_type": "code",
   "execution_count": 33,
   "id": "93234879-d3c0-4ac2-bf57-f198605f68ae",
   "metadata": {},
   "outputs": [
    {
     "name": "stdout",
     "output_type": "stream",
     "text": [
      "Flammable chemicals in stockroom: {'Ethanol', 'Acetic Acid', 'Methane'}\n",
      "Non-flammable chemicals in stockroom: {'Carbon Dioxide', 'Water'}\n"
     ]
    }
   ],
   "source": [
    "# Set of flammable chemicals\n",
    "flammable_chemicals = {\"Methane\", \"Ethane\", \"Hydrogen Peroxide\", \"Carbon Monoxide\", \"Ethanol\", \"Acetic Acid\"}\n",
    "\n",
    "# List of stockroom chemicals (with duplicates)\n",
    "stockroom_chemicals_list = [\"Methane\", \"Water\", \"Ethanol\", \"Ethanol\", \"Carbon Dioxide\", \"Acetic Acid\", \"Water\"]\n",
    "\n",
    "# Convert list to set to remove duplicates\n",
    "stockroom_chemicals = set(stockroom_chemicals_list)\n",
    "\n",
    "# Identify flammable chemicals in the stockroom\n",
    "flammable_in_stockroom = stockroom_chemicals & flammable_chemicals\n",
    "\n",
    "# Identify non-flammable chemicals in the stockroom\n",
    "non_flammable_in_stockroom = stockroom_chemicals - flammable_chemicals\n",
    "\n",
    "# Display results\n",
    "print(\"Flammable chemicals in stockroom:\", flammable_in_stockroom)\n",
    "print(\"Non-flammable chemicals in stockroom:\", non_flammable_in_stockroom)\n"
   ]
  },
  {
   "cell_type": "markdown",
   "id": "d4829dca-4b72-4579-af72-b227a1e1c46c",
   "metadata": {},
   "source": [
    "### Flammability using Set Methods"
   ]
  },
  {
   "cell_type": "code",
   "execution_count": 34,
   "id": "1d712e77-7bac-4801-8853-deddd1fa766c",
   "metadata": {},
   "outputs": [
    {
     "name": "stdout",
     "output_type": "stream",
     "text": [
      "Flammable chemicals in stockroom: {'Ethanol', 'Acetic Acid', 'Methane'}\n",
      "Non-flammable chemicals in stockroom: {'Carbon Dioxide', 'Water'}\n"
     ]
    }
   ],
   "source": [
    "# Identify flammable chemicals in the stockroom\n",
    "flammable_in_stockroom = stockroom_chemicals.intersection(flammable_chemicals)\n",
    "\n",
    "# Identify non-flammable chemicals in the stockroom\n",
    "non_flammable_in_stockroom = stockroom_chemicals.difference(flammable_chemicals)\n",
    "\n",
    "# Display results\n",
    "print(\"Flammable chemicals in stockroom:\", flammable_in_stockroom)\n",
    "print(\"Non-flammable chemicals in stockroom:\", non_flammable_in_stockroom)"
   ]
  },
  {
   "cell_type": "markdown",
   "id": "140aa9aa-7ef6-4300-a833-60cf162d9550",
   "metadata": {},
   "source": [
    "# Compare Sets, Tuples and List"
   ]
  },
  {
   "cell_type": "code",
   "execution_count": 35,
   "id": "37235218-759f-4342-847e-d6005a286019",
   "metadata": {},
   "outputs": [
    {
     "name": "stdout",
     "output_type": "stream",
     "text": [
      "List: ['Hydrogen', 'Oxygen', 'Carbon', 'Nitrogen', 'Oxygen']\n",
      "Tuple: ('Hydrogen', 'Oxygen', 'Carbon', 'Nitrogen', 'Oxygen')\n",
      "Set: {'Hydrogen', 'Carbon', 'Nitrogen', 'Oxygen'}\n"
     ]
    }
   ],
   "source": [
    "# Define a list, tuple, and set of common chemical elements\n",
    "chemical_list = [\"Hydrogen\", \"Oxygen\", \"Carbon\", \"Nitrogen\", \"Oxygen\"]\n",
    "chemical_tuple = (\"Hydrogen\", \"Oxygen\", \"Carbon\", \"Nitrogen\", \"Oxygen\")\n",
    "chemical_set = {\"Hydrogen\", \"Oxygen\", \"Carbon\", \"Nitrogen\", \"Oxygen\"}\n",
    "\n",
    "# Print each collection\n",
    "print(\"List:\", chemical_list)\n",
    "print(\"Tuple:\", chemical_tuple)\n",
    "print(\"Set:\", chemical_set)\n"
   ]
  },
  {
   "cell_type": "markdown",
   "id": "3cc79a86-c499-49c6-a761-8cf5f1d9c802",
   "metadata": {},
   "source": [
    "## Accessing Elements\n",
    "You can use indexing on Lists and Tuples but can not on a set, as a set is unordered."
   ]
  },
  {
   "cell_type": "code",
   "execution_count": 36,
   "id": "cfaf96a9-79de-4543-ac75-c9612e6f9a68",
   "metadata": {},
   "outputs": [
    {
     "name": "stdout",
     "output_type": "stream",
     "text": [
      "First element in list: Hydrogen\n",
      "First element in tuple: Hydrogen\n",
      "Error: 'set' object is not subscriptable\n"
     ]
    }
   ],
   "source": [
    "# Access elements from the list and tuple\n",
    "print(\"First element in list:\", chemical_list[0])\n",
    "print(\"First element in tuple:\", chemical_tuple[0])\n",
    "\n",
    "# Attempting to access elements in a set (this will cause an error)\n",
    "try:\n",
    "    print(\"First element in set:\", chemical_set[0])\n",
    "except TypeError as e:\n",
    "    print(\"Error:\", e)\n"
   ]
  },
  {
   "cell_type": "markdown",
   "id": "be706965-a394-4b25-90b8-d1b03dcfb8f9",
   "metadata": {},
   "source": [
    "Note: The last line `Error: 'set' object is not subscriptable` is a standardized error message hardcoded into CPython source code. The \n",
    "```python\n",
    "except TypeError as e:\n",
    "    print(\"Error:\",e)\n",
    "``` \n",
    "generated this where e is a `TypeError` object and python called the __str__() method which returned the error message."
   ]
  },
  {
   "cell_type": "markdown",
   "id": "8603f49f-609b-44da-b6de-9affc5a2f1ea",
   "metadata": {},
   "source": [
    "# 4. Dictionaries\n",
    "In Python, a **dictionary** is a built-in data type that allows us to store and retrieve data using a system of **key-value pairs**. Unlike lists, which use numerical indices to access elements, dictionaries use unique **keys** to reference values. This makes them an excellent tool for organizing and retrieving data efficiently\n",
    "## Key Characteristics of Dictionaries\n",
    "\n",
    "1. **Key-Value Pairs**: Each item in a dictionary consists of a `key: value` pair.\n",
    "2. **Unordered**: Dictionaries do not maintain a fixed order (before Python 3.7, but in newer versions, insertion order is preserved).\n",
    "3. **Mutable**: You can add, update, or remove items.\n",
    "4. **Keys Must Be Unique**: Duplicate keys are not allowed, but values can be duplicated.\n",
    "5. **Keys Must Be Immutable**: Only immutable data types (like strings, numbers, or tuples) can be used as dictionary keys.\n",
    "6. Values can be numbers, strings, lists, tuples, sets, other dictionaries, essentially any type of python object\n",
    "\n",
    "## Creating a Dictionary\n",
    "\n",
    "There are several ways to create a dictionary:\n",
    "\n",
    "### 1. Using Curly Braces `{}`:\n",
    "```python\n",
    "elements = {\n",
    "    \"H\": \"Hydrogen\",\n",
    "    \"He\": \"Helium\",\n",
    "    \"O\": \"Oxygen\"\n",
    "}\n",
    "```\n",
    "\n",
    "### 2. Using `dict()` Constructor:\n",
    "```python\n",
    "elements = dict(H=\"Hydrogen\", He=\"Helium\", O=\"Oxygen\")\n",
    "```\n",
    "\n",
    "### 3. Using `zip()` and `dict` to Combine Two Lists:\n",
    "```python\n",
    "symbols = [\"H\", \"He\", \"O\"]\n",
    "names = [\"Hydrogen\", \"Helium\", \"Oxygen\"]\n",
    "elements = dict(zip(symbols, names))\n",
    "```"
   ]
  },
  {
   "cell_type": "code",
   "execution_count": 37,
   "id": "6af2f158-5245-4715-adfb-32c0a7fe8300",
   "metadata": {},
   "outputs": [
    {
     "name": "stdout",
     "output_type": "stream",
     "text": [
      "{'H': 'Hydrogen', 'He': 'Helium', 'O': 'Oxygen'}\n"
     ]
    }
   ],
   "source": [
    "symbols = [\"H\", \"He\", \"O\"]\n",
    "names = [\"Hydrogen\", \"Helium\", \"Oxygen\"]\n",
    "elements = dict(zip(symbols, names))\n",
    "print(elements)"
   ]
  },
  {
   "cell_type": "markdown",
   "id": "899cf55e-c0b7-4b26-abca-6dddf63c962a",
   "metadata": {},
   "source": [
    "## Table of Dictionary Methods\n",
    "\n",
    "| Method | Description |\n",
    "|--------|------------|\n",
    "| `dict.keys()` | Returns a view of dictionary keys |\n",
    "| `dict.values()` | Returns a view of dictionary values |\n",
    "| `dict.items()` | Returns key-value pairs as tuples |\n",
    "| `dict.get(key, default)` | Returns value for key or a default if key is missing |\n",
    "| `dict.update(other_dict)` | Merges another dictionary into the current one |\n",
    "| `dict.pop(key)` | Removes a key and returns its value |\n",
    "| `dict.clear()` | Empties the dictionary |\n",
    "\n",
    "---\n",
    "## Modifying Dictionaries\n",
    "### Adding or Updating Items\n",
    "```python\n",
    "elements[\"C\"] = \"Carbon\"  # Adding a new key-value pair\n",
    "elements[\"O\"] = \"Oxygen-16\"  # Updating an existing key\n",
    "```\n",
    "\n",
    "### Removing Items\n",
    "```python\n",
    "del elements[\"He\"]  # Removes helium\n",
    "oxygen = elements.pop(\"O\")  # Removes and returns the value associated with \"O\"\n",
    "```\n",
    "In the .pop('key') method we assigned that value to a new variable"
   ]
  },
  {
   "cell_type": "code",
   "execution_count": 38,
   "id": "ffae6bce-2df0-459d-8e22-a4e2562a9b64",
   "metadata": {},
   "outputs": [
    {
     "name": "stdout",
     "output_type": "stream",
     "text": [
      "{'H': 'Hydrogen', 'O': 'Oxygen-16', 'C': 'Carbon'}\n"
     ]
    }
   ],
   "source": [
    "elements[\"C\"] = \"Carbon\"  # Adding a new key-value pair\n",
    "elements[\"O\"] = \"Oxygen-16\"  # Updating an existing key\n",
    "del elements['He']  # Removes helium\n",
    "print(elements)"
   ]
  },
  {
   "cell_type": "code",
   "execution_count": 39,
   "id": "a6bcd10d-9320-44bc-a1c1-e87ddc06573a",
   "metadata": {},
   "outputs": [
    {
     "name": "stdout",
     "output_type": "stream",
     "text": [
      "{'H': 'Hydrogen', 'C': 'Carbon'}\n",
      "Oxygen-16\n"
     ]
    }
   ],
   "source": [
    "oxygen = elements.pop('O')\n",
    "print(elements)\n",
    "print(oxygen)"
   ]
  },
  {
   "cell_type": "markdown",
   "id": "6da8076d-58e8-4155-9e8f-830e10d689be",
   "metadata": {},
   "source": [
    "# Ontology\n",
    "In **computer science and information science**, an **ontology** is a structured framework that represents knowledge in a way that defines:\n",
    "- **Entities (subjects or objects)**  \n",
    "- **Properties (predicates that describe relationships between subjects and objects)**  \n",
    "- **Relationships (how subjects, predicates, and objects connect in a logical framework)**  \n",
    "\n",
    "A classic ontology model follows a **subject-predicate-object** structure, similar to:\n",
    "> `\"Hydrogen\" → \"has neutron number\" → [0, 1, 2]`  \n",
    "> `\"Oxygen\" → \"has atomic number\" → 8`\n",
    "\n",
    "This maps well to a **dictionary of dictionaries** in Python!\n",
    "\n",
    "## Creating a Periodic Table Ontology of Halogens\n",
    "\n",
    "### Step 1: Define the Halogens and Their Properties\n",
    "We will structure the data using Python lists, then use `zip()` to transform them into a dictionary.\n",
    "\n",
    "Here are some basic properties of the halogens:\n",
    "- Element symbols\n",
    "- Atomic numbers  \n",
    "- Atomic masses (g/mol)  \n",
    "- Electronegativity\n",
    "- Boiling points (Kelvin)  \n"
   ]
  },
  {
   "cell_type": "code",
   "execution_count": 40,
   "id": "b46e15f4-d7bd-4e1d-ac66-fb3aa8d2142c",
   "metadata": {},
   "outputs": [
    {
     "name": "stdout",
     "output_type": "stream",
     "text": [
      "halogens = ['F', 'Cl', 'Br', 'I', 'At', 'Ts'] \n",
      "atomic number = [9, 17, 35, 53, 85, 117] \n",
      "atomic_masses = [18.998, 35.45, 79.904, 126.9, 210, 294] \n",
      "electronegativities = [3.98, 3.16, 2.96, 2.66, 2.2, None]\n"
     ]
    }
   ],
   "source": [
    "# List of halogen symbols\n",
    "halogens = [\"F\", \"Cl\", \"Br\", \"I\", \"At\", \"Ts\"]\n",
    "\n",
    "# Atomic numbers\n",
    "atomic_numbers = [9, 17, 35, 53, 85, 117]\n",
    "\n",
    "# Atomic masses (g/mol)\n",
    "atomic_masses = [18.998, 35.45, 79.904, 126.90, 210, 294]\n",
    "\n",
    "# Electronegativity (Pauling scale)\n",
    "electronegativities = [3.98, 3.16, 2.96, 2.66, 2.2, None]  # Ts unknown\n",
    "\n",
    "# Boiling points (K)\n",
    "boiling_points = [85.03, 239.11, 332.0, 457.4, 610, None]  # Ts unknown\n",
    "print(f\"halogens = {halogens} \\natomic number = {atomic_numbers} \\natomic_masses = {atomic_masses} \\\n",
    "\\nelectronegativities = {electronegativities}\")"
   ]
  },
  {
   "cell_type": "markdown",
   "id": "12e5d688-0c2f-42c1-a97f-fdab18584e55",
   "metadata": {},
   "source": [
    "### Step 2: Create a Dictionary Using `zip()`\n",
    "We now use `zip()` to create a dictionary where:\n",
    "- The keys are element symbols (e.g., `\"F\"`, `\"Cl\"`, etc.).\n",
    "- The values are dictionaries containing properties."
   ]
  },
  {
   "cell_type": "code",
   "execution_count": 41,
   "id": "061f4242-77fb-4c5c-b47d-5e2ca072f9aa",
   "metadata": {},
   "outputs": [
    {
     "name": "stdout",
     "output_type": "stream",
     "text": [
      "{'F': {'atomic_number': 9, 'atomic_mass': 18.998, 'electronegativity': 3.98, 'boiling_point': 85.03}, 'Cl': {'atomic_number': 17, 'atomic_mass': 35.45, 'electronegativity': 3.16, 'boiling_point': 239.11}, 'Br': {'atomic_number': 35, 'atomic_mass': 79.904, 'electronegativity': 2.96, 'boiling_point': 332.0}, 'I': {'atomic_number': 53, 'atomic_mass': 126.9, 'electronegativity': 2.66, 'boiling_point': 457.4}, 'At': {'atomic_number': 85, 'atomic_mass': 210, 'electronegativity': 2.2, 'boiling_point': 610}, 'Ts': {'atomic_number': 117, 'atomic_mass': 294, 'electronegativity': None, 'boiling_point': None}}\n"
     ]
    }
   ],
   "source": [
    "# Use zip to pair each element with its properties\n",
    "halogen_properties = zip(halogens, atomic_numbers, atomic_masses, electronegativities, boiling_points)\n",
    "\n",
    "# Create a dictionary of dictionaries\n",
    "halogen_dict = {\n",
    "    element: {\n",
    "        \"atomic_number\": num,\n",
    "        \"atomic_mass\": mass,\n",
    "        \"electronegativity\": en,\n",
    "        \"boiling_point\": bp\n",
    "    }\n",
    "    for element, num, mass, en, bp in halogen_properties\n",
    "}\n",
    "print(halogen_dict)"
   ]
  },
  {
   "cell_type": "code",
   "execution_count": 42,
   "id": "ace3814c-1406-4dfc-9842-e691b20e0f3d",
   "metadata": {},
   "outputs": [
    {
     "name": "stdout",
     "output_type": "stream",
     "text": [
      "halogen_dict[F] = {'atomic_number': 9, 'atomic_mass': 18.998, 'electronegativity': 3.98, 'boiling_point': 85.03}\n",
      "\n",
      "Iodine's boiling point: 457.4 K\n",
      "\n",
      "Astatine's electronegativity: 2.2\n"
     ]
    }
   ],
   "source": [
    "# Print all properties of Fluorine\n",
    "print(f'halogen_dict[F] = {halogen_dict[\"F\"]}\\n')\n",
    "\n",
    "# Get just the boiling point of Iodine\n",
    "print(f\"Iodine's boiling point: {halogen_dict['I']['boiling_point']} K\\n\")\n",
    "\n",
    "# Check if Astatine has a known electronegativity\n",
    "print(f\"Astatine's electronegativity: {halogen_dict['At'].get('electronegativity', 'Unknown')}\")"
   ]
  },
  {
   "cell_type": "markdown",
   "id": "813a3b3e-18b1-4370-9723-4fd01c601329",
   "metadata": {},
   "source": [
    "# Acknowledgements\n",
    "This content was developed with assistance from [Perplexity AI](https://www.perplexity.ai/) and [Chat GPT](https://chatgpt.com/). Multiple queries were made during the Fall 2024 and the Spring 2025."
   ]
  }
 ],
 "metadata": {
  "kernelspec": {
   "display_name": "Python (py4sci)",
   "language": "python",
   "name": "py4sci"
  },
  "language_info": {
   "codemirror_mode": {
    "name": "ipython",
    "version": 3
   },
   "file_extension": ".py",
   "mimetype": "text/x-python",
   "name": "python",
   "nbconvert_exporter": "python",
   "pygments_lexer": "ipython3",
   "version": "3.10.17"
  }
 },
 "nbformat": 4,
 "nbformat_minor": 5
}