{
 "cells": [
  {
   "cell_type": "markdown",
   "id": "4d7ee49c-7d14-4698-898c-c372399f5ddd",
   "metadata": {},
   "source": [
    "(module1-setup/01-6-oop)=\n",
    "\n",
    "# 6. Object Oriented Programming\n",
    "\n",
    "**Before you start this activity**\n",
    "1. Be sure you are running the kernel needed for this lab. (click on the Python(kernel-name) next to the debugger in the upper right corner).\n",
    "2. Restart the kernel and clear Output of All Cells - in the top Menu click \"Kernel\" and restart the Kernel and clear output of all cells "
   ]
  },
  {
   "cell_type": "markdown",
   "id": "1b355b02-685a-4a24-a9b4-d405ca5a7420",
   "metadata": {},
   "source": [
    "# 1. Procedural Vs. Object Oriented Programming\n",
    "\n",
    "**This is a Markdown Cell, and when you execute it (shift-enter) no code is sent to the python processor**\n",
    "\n",
    "Python is a type of programming known as Object Oriented Programming (**OOP**), and we are going to start by looking at the difference between the procedural and the object oriented approach to summing numbers in a python data structure known as an array, or more accurately, the numpy array. We will start by generating an array of 8 random numbers, and by using a seed, we can reproduce the same array.  If we change the seed the numbers in the array will change. We will then create two different arrays and assign them to two variables called random_arrayA and random_arrayB. In the last step of the code we will print the array and the variable's class type. \n",
    "\n",
    " **The next cell is a code cell, and when you execute it, the script will run**\n",
    " **You will see the number 1 appear in the [ ]: to the left of the cell** and this is telling you the order you have processed the cells with. That is, in a Jupyter notebook you process one cell at a time and can do so in any order you choose, and the number reflects that order.  When you restart the kernel and clear all output, all numbers disappear."
   ]
  },
  {
   "cell_type": "code",
   "execution_count": 1,
   "id": "77b81001-e0e9-4893-9e82-7118c04581d2",
   "metadata": {},
   "outputs": [
    {
     "name": "stdout",
     "output_type": "stream",
     "text": [
      "[51 92 14 71 60 20 82 86]\n",
      "random_arrayA is an object of <class 'numpy.ndarray'>.\n",
      "[34  3 64 87 17 17  1 79]\n",
      "random_arrayB is an object of <class 'numpy.ndarray'>.\n"
     ]
    }
   ],
   "source": [
    "'''In the next cell we are importing numpy with the alias np.  This will give us \n",
    "access to the resources withing the numpy package. We will first set a seed for the\n",
    "numpy random integer generator so that it will provide the same random numbers, \n",
    "and then we will create two arrays of 8 numbers between 0 and 99.'''\n",
    "\n",
    "import numpy as np\n",
    "\n",
    "# Set the seed for reproducibility\n",
    "np.random.seed(42)\n",
    "\n",
    "# Create a random 1D NumPy array of 8 integers between 0 and 99 inclusive\n",
    "random_arrayA = np.random.randint(0, 100, 8)\n",
    "\n",
    "# Set the seed for reproducibility\n",
    "np.random.seed(24)\n",
    "\n",
    "# Create a random 1D NumPy array of 8 integers between 0 and 99 inclusive\n",
    "random_arrayB = np.random.randint(0, 100, 8)\n",
    "\n",
    "# Print the arrays and their type.\n",
    "print(random_arrayA)\n",
    "print(f\"random_arrayA is an object of {type(random_arrayA)}.\")\n",
    "print(random_arrayB)\n",
    "print(f\"random_arrayB is an object of {type(random_arrayB)}.\")"
   ]
  },
  {
   "cell_type": "markdown",
   "id": "524b7ee3-47ec-423c-94c5-3cc1ba4c63e3",
   "metadata": {},
   "source": [
    "The code output of the above cell is indicative of object oriented programming. The two arrays are different instances (objects) of the class numpy.ndarray, that have different numbers, just as two Eagles may have different weights and wingspans, but they are still eagles. \n",
    "\n",
    "## Procedural Approach to Summing an Array\n",
    "In the next cell we are going to sum these numbers using a procedural approach. We set our counter equal to zero and then print out its value after we add the eight numbers. Each number of the array is identified by an index position, and we start at position 0 and go up to 8, adding each number to the total as we loop through the loop. **Click on the code cell below and place your curser to the left of the code cell but right of the blue line and type shift L (a capital L) and line numbers will appear** "
   ]
  },
  {
   "cell_type": "code",
   "execution_count": 2,
   "id": "4bfa60e0-08a1-4b26-adf0-79b340ab3c54",
   "metadata": {},
   "outputs": [
    {
     "name": "stdout",
     "output_type": "stream",
     "text": [
      "random_arrayA: [51 92 14 71 60 20 82 86] with sum: 476\n",
      "random_arrayB: [34  3 64 87 17 17  1 79] with sum: 302\n"
     ]
    }
   ],
   "source": [
    "'''Each position of a list has an index number, and here we use a procedural approach to \n",
    "sum up the values at each index position.'''\n",
    "\n",
    "# Initialize the sum and set counters = 0.  Note, the equal sign is the assignment operator.\n",
    "totalA = 0\n",
    "totalB = 0\n",
    "# Loop through the list by its index numbers and add each number to the sum\n",
    "for index in range(0,8):\n",
    "    totalA = totalA + random_arrayA[index]\n",
    "for index in range(0,8):\n",
    "    totalB = totalB + random_arrayB[index]\n",
    "    \n",
    "# Print the list and the sum\n",
    "print(f\"random_arrayA: {random_arrayA} with sum: {totalA}\")\n",
    "print(f\"random_arrayB: {random_arrayB} with sum: {totalB}\")\n"
   ]
  },
  {
   "cell_type": "markdown",
   "id": "ad1e3b35-9ec4-473e-bdec-ed78d1f44cf4",
   "metadata": {},
   "source": [
    "## Object Oriented Approach to Summing an Array\n",
    "A fish has gills and a bird has wings and these are attributes of fish and birds that allow them to live under water or fly in the air, but each bird and fish is a unique instance of its class, and the same goes for pythonic objects.  Both of the arrays have the attributes of the numpy.ndarray class, but they have different numbers that sum to different values, simply speaking, they are different arrays.\n",
    "\n",
    "**In the empty cell below start to type random but stop at the n and type tab**, and choose one of the random arrays created in the above code block, and **then type a period after the array name and hit tab again.**  This will show you a list of numpy array attributes and methods (functions), and if you scroll down you will see one is called **sum**.  Now, sum is actually two types of attributes, it is a method and a function, and we will discuss these shortly."
   ]
  },
  {
   "cell_type": "code",
   "execution_count": 3,
   "id": "fd70dd4a-faff-47b7-96a4-bb02d85cbe56",
   "metadata": {},
   "outputs": [
    {
     "name": "stdout",
     "output_type": "stream",
     "text": [
      "random_arrayA: [51 92 14 71 60 20 82 86] with sum: 476\n",
      "random_arrayB: [34  3 64 87 17 17  1 79] with sum: 302\n"
     ]
    }
   ],
   "source": [
    "#Here we are looking at the sum as a method\n",
    "array_sumA =random_arrayA.sum()\n",
    "array_sumB =random_arrayB.sum()\n",
    "\n",
    "# print the array and sum in an f-string.  This is a way of formatting \n",
    "# print statements and we will cover it later\n",
    "print(f\"random_arrayA: {random_arrayA} with sum: {array_sumA}\")\n",
    "print(f\"random_arrayB: {random_arrayB} with sum: {array_sumB}\")"
   ]
  },
  {
   "cell_type": "markdown",
   "id": "a6f0805a-9498-4905-9ee0-27d36120deba",
   "metadata": {},
   "source": [
    "* Note the syntax above is `array_name.sum()`, where `sum` is a method of the class `numpy.ndarray`. It operates directly on the object (`array_name`) and is invoked using the attribute access operator (`.`).\"\n",
    "- \"Note the syntax below is `np.sum(array_name)`, where `sum` is a standalone function from the NumPy module (`np`). The object (`array_name`) is passed as an argument to the function.\"\n"
   ]
  },
  {
   "cell_type": "code",
   "execution_count": 4,
   "id": "45ab5857-4dee-4bd0-be31-696321e29960",
   "metadata": {},
   "outputs": [
    {
     "name": "stdout",
     "output_type": "stream",
     "text": [
      "random_arrayA: [51 92 14 71 60 20 82 86] with sum: 476\n",
      "random_arrayB: [34  3 64 87 17 17  1 79] with sum: 302\n"
     ]
    }
   ],
   "source": [
    "# here we are looking at sum as a function\n",
    "array_sumAf = np.sum(random_arrayA)\n",
    "array_sumBf = np.sum(random_arrayB)\n",
    "\n",
    "print(f\"random_arrayA: {random_arrayA} with sum: {array_sumAf}\")\n",
    "print(f\"random_arrayB: {random_arrayB} with sum: {array_sumBf}\")\n"
   ]
  },
  {
   "cell_type": "markdown",
   "id": "739bd10d-e52c-424c-bed8-1da20ff47b00",
   "metadata": {},
   "source": [
    "In fact, we could put the array with its method inside of the print statement and reduce the above to one line. This print statement is using something called an f string and we will cover that later."
   ]
  },
  {
   "cell_type": "code",
   "execution_count": 5,
   "id": "4f8b40d3-e6c1-4973-9695-40f0b2707d87",
   "metadata": {},
   "outputs": [
    {
     "name": "stdout",
     "output_type": "stream",
     "text": [
      "random_arrayA: [51 92 14 71 60 20 82 86] with sum: 476\n",
      "random_arrayB: [34  3 64 87 17 17  1 79] with sum: 302\n"
     ]
    }
   ],
   "source": [
    "# Here we are looking at sum as a method\n",
    "print(f\"random_arrayA: {random_arrayA} with sum: {random_arrayA.sum()}\\nrandom_arrayB: {random_arrayB} with sum: {random_arrayB.sum()}\")\n"
   ]
  },
  {
   "cell_type": "code",
   "execution_count": 6,
   "id": "52e19eda-f3db-4a11-abf4-29ace8435bc4",
   "metadata": {},
   "outputs": [
    {
     "name": "stdout",
     "output_type": "stream",
     "text": [
      "random_arrayA: [51 92 14 71 60 20 82 86] with sum: 476 \n",
      "random_arrayB: [34  3 64 87 17 17  1 79] with sum: 302\n"
     ]
    }
   ],
   "source": [
    "# here we are looking at sum as a function\n",
    "print(f\"random_arrayA: {random_arrayA} with sum: {array_sumAf} \\nrandom_arrayB: {random_arrayB} with sum: {array_sumBf}\")\n"
   ]
  },
  {
   "cell_type": "markdown",
   "id": "eb0134bb-44f1-4025-8679-943c73667fd8",
   "metadata": {},
   "source": [
    "# 2. Overview of Object Oriented Programming (OOP)\n",
    "\n",
    "Objects are the core of Python's OOP model. They are instances of classes, combining data (attributes) and behavior (methods) into a single entity. Objects are created from classes, which are like blueprints that define the structure and behavior of the objects. For example, a NumPy array is an object created from the numpy.ndarray class. Classes allow us to group related data and behavior together, making our code more organized and easier to work with.\n",
    "\n",
    "In OOP, an attribute is a piece of information stored in an object, like the shape of an array (array.shape), while a method is a function associated with an object that performs an action on it, like summing the elements of an array (array.sum()). An instance is a specific object created from a class, such as a particular array or dictionary you define in your code. These characteristics make Python a flexible and intuitive language for solving scientific problems, as you can work with data and its associated actions in a structured way.\n",
    "\n",
    "Python is written in C, or CPython, which is a procedural language but it contains PyObjects for each object in Python and these are what is placed in the memory heap\n",
    "\n",
    "**TO BE CONTINUED**"
   ]
  },
  {
   "cell_type": "markdown",
   "id": "4e1abcab-0324-4d24-841a-c9a1350c842b",
   "metadata": {},
   "source": [
    "# 3. Memory and Python Objects (Classes and Functions)\n",
    "There are sort of three ways you can obtain pythonic objects\n",
    "  1. Built-In Functions and Classes\n",
    "  2. Built in Modules\n",
    "  3. External Modules that you need to install.\n",
    "Let's quickly look at these, one at a time.\n",
    "\n",
    "## 3.1. Built-In Functions and Classes\n",
    "  * Part of Pythons Standard Library\n",
    "  * Always available and do not require importing\n",
    "  * Loaded into RAM when you launch Pythons interpreter\n",
    "  * Part of python global namespace and are available to any program by simply typing their names.\n",
    "  * Frequently used functions like print() may even be loaded into the CPU cache for quicker execution.\n",
    "\n",
    "---\n",
    "\n",
    "### **Built-In Functions**\n",
    "\n",
    "| **Function** | **Description**                                                                                  |\n",
    "|--------------|--------------------------------------------------------------------------------------------------|\n",
    "| `print()`    | Displays output to the console.                                                                  |\n",
    "| `type()`     | Returns the type (class) of an object.                                                           |\n",
    "| `len()`      | Returns the number of items in a container (e.g., list, string, dictionary).                     |\n",
    "| `float()`    | Converts a number or string to a floating-point number.                                          |\n",
    "| `int()`      | Converts a number or string to an integer, truncating towards zero.                              |\n",
    "| `str()`      | Converts an object to a string representation.                                                   |\n",
    "| `input()`    | Reads a line of input from the console.                                                          |\n",
    "\n",
    "---\n",
    "\n",
    "### **Built-In Classes**\n",
    "\n",
    "| **Class** | **Description**                                                                                  |\n",
    "|-----------|--------------------------------------------------------------------------------------------------|\n",
    "| `list`    | An ordered collection of items (mutable).                                                        |\n",
    "| `dict`    | A collection of key-value pairs (mutable and unordered).                                         |\n",
    "| `int`     | An integer number (unlimited precision).                                                          |\n",
    "| `float`   | A floating-point number (decimal).                                                               |\n",
    "| `str`     | A sequence of Unicode characters (string).                                                       |\n",
    "| `bool`    | A boolean type with only two possible values: `True` or `False`.                                 |\n",
    "| `set`     | An unordered collection of unique elements.                                                      |\n",
    "\n",
    "## 3.2 Built in Modules\n",
    "  * Need to be imported to be available\n",
    "  * Two basic types of import statements\n",
    "     1. `import math` - functions and classes are not part of the global namespace, to use the sqrt function of that module you would need to write math.sqrt().\n",
    "     2. `from math import sqrt` now sqrt is part of the global namespace and you can use it without the math.\n",
    "\n",
    "Here is a table of some common built in modules\n",
    "| **Module**   | **Description**                                                                                                           |\n",
    "|--------------|---------------------------------------------------------------------------------------------------------------------------|\n",
    "| `math`       | Provides basic mathematical functions like `sqrt`, `sin`, and `cos`, as well as constants like `pi` and `e`.             |\n",
    "| `random`     | Offers functionality for generating random numbers, shuffling sequences, and picking random items from lists.            |\n",
    "| `os`         | Enables interaction with the operating system, such as working with files, directories, and environment variables.       |\n",
    "| `sys`        | Gives access to system-specific parameters and functions, including command-line arguments and the Python runtime.       |\n",
    "| `time`       | Provides time-related functions, like getting the current time, pausing execution (`sleep`), or measuring performance.    |\n",
    "| `datetime`   | Supplies classes for manipulating dates and times, including formatting and arithmetic with time objects.                |\n",
    "| `re`         | Implements regular expression operations for string searching, matching, and substitution.                               |\n",
    "| `json`       | Lets you read and write JSON (JavaScript Object Notation) data for easy data serialization and sharing.                  |\n",
    "| `csv`        | Simplifies reading and writing CSV (Comma-Separated Values) files.                                                        |\n"
   ]
  },
  {
   "cell_type": "code",
   "execution_count": 7,
   "id": "5c663044-c228-43bb-8900-e3bed099d7f1",
   "metadata": {},
   "outputs": [],
   "source": [
    "import math\n",
    "# uncomment the following line and it will give an an error\n",
    "#sqrt(4)"
   ]
  },
  {
   "cell_type": "code",
   "execution_count": 8,
   "id": "91d282d3-19e9-409b-b4e6-800732fb7d37",
   "metadata": {},
   "outputs": [
    {
     "data": {
      "text/plain": [
       "2.0"
      ]
     },
     "execution_count": 8,
     "metadata": {},
     "output_type": "execute_result"
    }
   ],
   "source": [
    "math.sqrt(4)"
   ]
  },
  {
   "cell_type": "code",
   "execution_count": 9,
   "id": "f74c9518-871c-4bf9-b301-5a40988c7176",
   "metadata": {},
   "outputs": [
    {
     "data": {
      "text/plain": [
       "2.0"
      ]
     },
     "execution_count": 9,
     "metadata": {},
     "output_type": "execute_result"
    }
   ],
   "source": [
    "from math import sqrt\n",
    "sqrt(4)"
   ]
  },
  {
   "cell_type": "markdown",
   "id": "58fffdf7-f9c9-4c12-9195-05f45d5fafd9",
   "metadata": {},
   "source": [
    "**NOTE: Go back and run the cell that gave the error (3 cells above)**.  Can you explain why it works now?  (hint: look at the numbers next to the cell)"
   ]
  },
  {
   "cell_type": "markdown",
   "id": "752497e4-84c0-41af-abaf-c69ef273847f",
   "metadata": {},
   "source": [
    "## 3.3. Externally Managed Packages and Modules\n",
    "One of the strengths of Python as an Open Source Software is that third parties can create their own customized libraries in the form of installable packages that can extend the capabilities of your programs. These packages can contain modules with functions and classes that are built on other modules, or the core built-in libraries. Because there are dependencies across packages it is important to install them in virtual environments and that is why we are using miniconda. \n",
    "\n",
    "To use these packages we have to first use conda commands in the terminal to install the package, and once installed, we need to import them in our python programs just was we import the built-in modules.  **It is very important to use conda to install these in the virtual environments.** There are two major repositories for obtaining python packages, the Python Package Index (PyPi) and Conda/Conda-Forge\n",
    "\n",
    "### Conda-Forge\n",
    "**[Conda-Forge](https://conda-forge.org/)** is a Git-Hub organization that as of January 2025 has over 28.5K packages and 0.81 billion monthly downloads. Conda-Forge is essentially focused on data science and scientific computing and has libraries in multiple programming languages besides Python. The conda package management system is very robust in handling the dependencies across multiple packages and this is the repository we will give priority to when installing externally managed packages.\n",
    "\n",
    "### Python Package Index\n",
    "**[Python Package Index (PyPi)](https://pypi.org/)** is absolutely amazing and has over 600,000 python  projects as of January 2025, and is the go-to place for code for everything from sensors to data science packages. When you find packages you will often see a `pip install package-name` and this will install the package from PyPi.  In this class you are to first try and install packages using conda-forge, as it tends to be better in handling the complex dependencies, and integrates with your other packages that were installed with Conda.  There is another type of environment called `venv` that is part of the python standard library and pip integrates well with it, but as out class is going to be mixing multiple packages for different projects we will try and stick to Conda.  But PyPi is an awesome resource and we may find times where there are packages we need that can only be obtained through PyPi.  In those cases, it will be prudent to create a new environment for that project, just to be on the safe side.   "
   ]
  },
  {
   "cell_type": "markdown",
   "id": "5ac29c2c-a62b-4062-abdc-fed127a23145",
   "metadata": {},
   "source": [
    "# 4. CPython \n",
    "The most common version of Python is written in the C programming language and is often called CPython. When data is stored in the memory heap it is not stored as a Python object, but as a CPython object called a PyObject. This is a binary data representation that can be effectively processed by the Python interpreter, but contains additional metadata, which is data about the data, and that depends on the type of object.\n",
    "\n",
    "## **Common Built-In Python Types and Their CPython Representations**\n",
    "\n",
    "\n",
    "| **Python Object Type**        | **CPython Object Structure**      | **Description**   \n",
    "|-------------------------|----------------------------|---------------------------------------------------------------------------------------------------|\n",
    "| `int`                  | `PyLongObject`            | Represents arbitrary precision integers.                                                         |\n",
    "| `float`                | `PyFloatObject`           | Represents floating-point numbers.                              |\n",
    "| `complex`              | `PyComplexObject`         | Represents complex numbers, storing real and imaginary parts as floats.                          |\n",
    "| `str`                  | `PyUnicodeObject`         | Represents Unicode strings, with metadata for encoding and actual character data.                |\n",
    "| `bytes`                | `PyBytesObject`           | Represents immutable sequences of raw bytes.                                                     |\n",
    "| `list`                 | `PyListObject`            | Represents lists, using a dynamic array of pointers to other objects.                            |\n",
    "| `tuple`                | `PyTupleObject`           | Represents tuples, storing a fixed-size array of object references.                              |\n",
    "| `dict`                 | `PyDictObject`            | Represents dictionaries, implemented as hash tables.                                             |\n",
    "| `set`                  | `PySetObject`             | Represents sets, using a hash table for unique elements.                                         |\n",
    "| `bool`                 | `PyBoolObject`            | Represents Boolean values (`True`, `False`), implemented as a subclass of `PyLongObject`.        |\n",
    "| `None`                 | `PyNoneObject`            | Represents the singleton `None`. Only one instance exists.                                       |\n",
    "| `function`             | `PyFunctionObject`        | Represents Python functions, including their bytecode and other metadata.                       |\n",
    "| `module`               | `PyModuleObject`          | Represents Python modules, storing module-level data and functions.                             |\n",
    "| `class` (type)         | `PyTypeObject`            | Represents Python classes. Stores information about the class itself (methods, attributes, etc.).|\n",
    "\n"
   ]
  },
  {
   "cell_type": "markdown",
   "id": "0fa4d0be-fa40-45d0-8a37-c8b9310507f9",
   "metadata": {
    "jp-MarkdownHeadingCollapsed": true
   },
   "source": [
    "# 5. Python Functions that Reveal Object Information\n",
    "\n",
    "| **Function**         | **Description**                                                                                                     |\n",
    "|----------------------|---------------------------------------------------------------------------------------------------------------------|\n",
    "| `type(obj)`          | Returns the class (type) of an object (e.g., `<class 'int'>`).                                                      |\n",
    "| `id(obj)`            | Returns a unique integer identifier for an object, often its memory address in CPython.                             |\n",
    "| `dir(obj)`           | Lists the attributes (including methods) associated with an object.                                                 |\n",
    "| `help(obj)`          | Displays help documentation or the docstring for an object in an interactive console.                               |\n",
    "| `isinstance(obj, C)` | Checks if `obj` is an instance (or subclass instance) of the class `C`.                                             |\n",
    "| `issubclass(A, B)`   | Checks if class `A` is a subclass of class `B`.                                                                     |\n",
    "| `callable(obj)`      | Returns `True` if `obj` can be called like a function, `False` otherwise.                                           |\n",
    "| `hasattr(obj, name)` | Returns `True` if an attribute named `name` exists in `obj`, `False` otherwise.                                        "
   ]
  },
  {
   "cell_type": "markdown",
   "id": "00145164-153c-4cfe-aefd-2470c5ef73ad",
   "metadata": {},
   "source": [
    "# 6. Data Structures and Classes\n",
    "In this class we are not going to worry about CPython and are going to look at data structures from the more abstract perspective of Python, that is, not how they are stored on the computer but how they are represented in the programming language we are learning.  We will start with developing an understanding of built-in break data structures and then move onto using this as a framework for developing strategies to use AIs to understand data structures and types in scientific packages. There are essentially two fundamental types of data structures, primative (atomic) nd composite (container).\n",
    "  1. Primitive (atomic) are where the memory block is one location on the heap. These include integers, floats, strings, booleans and complex numbers. \n",
    "  2. Composite (container) are where the address of the memory block is really a pointer to other memory blocks. Examples are lists, dictionaries, tuples and arrays.\n",
    "\n",
    "## Primitive Data Structures\n",
    "Primitive or atomic data structures are ones where the binary encoding that a variable points to represents the data itself, in contrast to a container, that can hold other data structures. \n",
    "| Data Structure | Description                                                                                     |\n",
    "|----------------|-------------------------------------------------------------------------------------------------|\n",
    "| `int`          | Represents whole numbers (positive, negative, or zero). Example: `42`, `-7`, `0`.              |\n",
    "| `float`        | Represents decimal (floating-point) numbers. Example: `3.14`, `-0.001`, `2.0`.                 |\n",
    "| `complex`      | Represents numbers with real and imaginary parts. Example: `3+4j`.                             |\n",
    "| `bool`         | Represents truth values, either `True` or `False`.                                             |\n",
    "| `str`          | Represents immutable sequences of Unicode characters (text data). Example: `\"hello\"`.          |\n",
    "| `bytes`        | Represents immutable sequences of raw bytes. Example: `b'hello'`.                              |\n",
    "\n",
    "## Composite Data Structures\n",
    "| Data Structure | Description                                                                                 |\n",
    "|----------------|---------------------------------------------------------------------------------------------|\n",
    "| `list`         | A collection of ordered, mutable items that can hold elements of different types.           |\n",
    "| `tuple`        | An ordered, immutable sequence of items, which can also hold elements of different types.   |\n",
    "| `set`          | An unordered collection of unique, immutable items.                                         |\n",
    "| `dict`         | A collection of key-value pairs, where keys are unique and immutable, and values are mutable.|\n",
    "| `frozenset`    | An immutable version of a set, useful for storing unique items that should not be changed.  |\n"
   ]
  },
  {
   "cell_type": "markdown",
   "id": "e97a85ba-9561-44fd-96a0-50c2c505cd6d",
   "metadata": {},
   "source": [
    "# Acknowledgements\n",
    "This content was developed with assistance from [Perplexity AI](https://www.perplexity.ai/) and [Chat GPT](https://chatgpt.com/). Multiple queries were made during the Fall 2024 and the Spring 2025."
   ]
  }
 ],
 "metadata": {
  "kernelspec": {
   "display_name": "Python (py4sci)",
   "language": "python",
   "name": "py4sci"
  },
  "language_info": {
   "codemirror_mode": {
    "name": "ipython",
    "version": 3
   },
   "file_extension": ".py",
   "mimetype": "text/x-python",
   "name": "python",
   "nbconvert_exporter": "python",
   "pygments_lexer": "ipython3",
   "version": "3.10.17"
  }
 },
 "nbformat": 4,
 "nbformat_minor": 5
}