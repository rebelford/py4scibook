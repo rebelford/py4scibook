{
 "cells": [
  {
   "cell_type": "markdown",
   "id": "3e134a0d-d2be-40cf-8410-ce04943be534",
   "metadata": {},
   "source": [
    "(module1-setup/01-4-oshardware)=\n",
    "\n",
    "# 4. Computer Hardware Germane to Running a Program\n",
    "Your computing machine has many components to it and we are going to look at some of the key components used when running software on your computer. Our goal is to get a bearing on what happens when you load and run a Jupyter notebook.  PBS has a great Youtube channel for their [Crash Course in Computer Science](https://www.youtube.com/playlist?list=PL8dPuuaLjXtNlUrzyH5r6jN9ulIgZBpdo) that is well worth the time to watch.\n",
    "\n",
    "\n"
   ]
  },
  {
   "cell_type": "markdown",
   "id": "521c35fe-e9ad-4d71-b1a4-2b3427044d77",
   "metadata": {},
   "source": [
    "\n",
    "##  Central Processing Unit (CPU)\n",
    "   - **Function**: The CPU is the \"brain\" of the computer, performing all processing tasks. It executes instructions from programs by performing arithmetic, logic, control, and some input/output operations.\n",
    "   - **Key Parts**: \n",
    "     - **Cores**: Perform multiple tasks simultaneously (multi-core CPUs handle parallel processing).\n",
    "     - **Clock Speed**: Determines how fast the CPU processes instructions.\n",
    "\n",
    "---\n",
    "\n",
    "##  Memory\n",
    "### Random Access Memory (RAM)\n",
    "- **Function**: RAM is temporary, high-speed storage that holds data and instructions currently in use by the CPU. It enables fast access and multitasking but loses data when power is off.\n",
    "   - **Heap Memory** - RAM memory for stored objects (variables)\n",
    "     - **Memory Block** - unit of memory allocated to an object on the HEAP  \n",
    "     - **reference** or **pointer** - address of the memory block\n",
    "   - **Stack Memory** - RAM memory for function calls\n",
    "###  Cache Memory\n",
    "- Small, ultra-fast stored near or in CPU.\n",
    "- Stores frequently accessed data and instructions to speed up processing.\n",
    "- **Levels**\n",
    "   - **L1 Cache** Closet to CPU, smallest and fastest\n",
    "   - **L2 Cache** Larger but slower\n",
    "   - **L3 Cache** Shared among CPU cores, largest and slowest.\n",
    "###   Virtual Memory\n",
    "- Located on hard drive or SSD\n",
    "- used as \"backup\" when RAM is physically full\n",
    "###   ROM (Read-Only Memory)\n",
    "- Non-volatile memory (persists after computer shuts down)\n",
    "- Used to boot up computer\n",
    "###   Register Memory\n",
    "- Located inside CPU, used to store data being processed at the moment\n",
    "\n",
    "\n",
    "---\n",
    "\n",
    "## Storage Drive\n",
    "   - **Types**:\n",
    "     - **Hard Disk Drive (HDD)**: Uses spinning disks to store data magnetically; slower but cheaper.\n",
    "     - **Solid State Drive (SSD)**: Uses flash memory; faster, more durable, and energy-efficient.\n",
    "   - **Function**: Stores the operating system, applications, and user files permanently.\n",
    "\n",
    "---\n",
    "## Graphics Processing Unit (GPU)\n",
    "   - **Function**: Specialized for rendering images, video, and animations. Also used for parallel processing in tasks like machine learning and simulations.\n",
    "   - **Integrated vs. Dedicated**:\n",
    "     - **Integrated GPU**: Built into the CPU, suitable for general tasks.\n",
    "     - **Dedicated GPU**: Separate hardware for high-performance tasks like gaming or 3D modeling.\n",
    "\n",
    "---"
   ]
  },
  {
   "cell_type": "markdown",
   "id": "519efc4f-c9bb-4d39-ab45-f9b454c9923d",
   "metadata": {},
   "source": [
    "# 2. Role of Python Interpreter\n",
    "The Python Interpreter is responsible for the following:\n",
    "\n",
    "I. **Read and convert** human readable Python Source Code (*.py file) **to bytecode**.\n",
    "   * Compiles the entire file\n",
    "   * Creates sequence of bytecode instructions (control-flow structures, function calls..)\n",
    "     \n",
    "II. **Execute code** (line by line)\n",
    "   1. **Fetch Data**\n",
    "      * Retrieve data stored in heap\n",
    "      * Look up metadata and ensure operations are valid\n",
    "   2. **Perform Operations**\n",
    "      * Arithmetic operations\n",
    "      * String manipulations\n",
    "      * Type conversions\n",
    "   3. **Handling Control-Flow Operations**\n",
    "      * Conditionals (if statement), Loops (for, while),  exceptions (try-except)\n",
    "      * Evaluate True/False statements (x>0)\n",
    "      * Allows program to make decisions and repeat tasks\n",
    "   4. **Calling and Executing Functions (from heap)**\n",
    "      * Creates stack frame to hold functions local variables and execute content\n",
    "      * Execute functions bytecode step-by-step\n",
    "      * Clean stack frame and return result\n",
    "   5. **Return and Store Results**\n",
    "      * Create new Python objects\n",
    "      * Store new objects on heap\n"
   ]
  },
  {
   "cell_type": "markdown",
   "id": "ab13fb64-ee31-4a9e-8d59-c0d05fbe3d23",
   "metadata": {},
   "source": [
    "# 3. Steps When Running Jupyter Lab:\n",
    "1. **Launch Jupyter Lab**:\n",
    "   - A Conda environment with Jupyter is activated.\n",
    "   - The `jupyter-lab` command starts a local server, which the OS runs as a process.\n",
    "   - The server uses OS (Ubuntu) network interfaces to open a port (e.g., `localhost:8888`) for browser-based access. Note, you can run more than one localhost address at the same time.\n",
    "\n",
    "2. **Open a Notebook**:\n",
    "   - The Jupyter Lab interface sends a request to the server to open a `.ipynb` file.\n",
    "   - The server spawns a kernel (IPython process) for the environment in which the notebook is running.\n",
    "   - This kernel is connected to the Conda Environment to ensure the needed libraries are available.\n",
    "\n",
    "3. **Code Execution**:\n",
    "   - When you run a code cell, the code is sent to the kernel.\n",
    "   - The kernel interacts with the Python interpreter within the Conda environment, which executes the code.\n",
    "   - Outputs are sent back to the notebook via the server.\n",
    "\n",
    "4. **File Access and Visualization**:\n",
    "   - The notebook can read/write files on the system via Python, using OS file system APIs.\n",
    "   - Visualizations (e.g., plots) are rendered in the notebook interface using  libraries like matplotlib.\n"
   ]
  },
  {
   "cell_type": "markdown",
   "id": "caed3e8d-0008-4544-a57a-8c7a05628998",
   "metadata": {},
   "source": [
    "# Acknowledgements\n",
    "This content was developed with assistance from [Perplexity AI](https://www.perplexity.ai/) and [Chat GPT](https://chatgpt.com/). Multiple queries were made during the Fall 2024 and the Spring 2025."
   ]
  }
 ],
 "metadata": {
  "kernelspec": {
   "display_name": "Python (py4sci)",
   "language": "python",
   "name": "py4sci"
  },
  "language_info": {
   "codemirror_mode": {
    "name": "ipython",
    "version": 3
   },
   "file_extension": ".py",
   "mimetype": "text/x-python",
   "name": "python",
   "nbconvert_exporter": "python",
   "pygments_lexer": "ipython3",
   "version": "3.10.17"
  }
 },
 "nbformat": 4,
 "nbformat_minor": 5
}