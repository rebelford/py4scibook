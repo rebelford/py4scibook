{
 "cells": [
  {
   "cell_type": "code",
   "execution_count": 1,
   "id": "77b81001-e0e9-4893-9e82-7118c04581d2",
   "metadata": {},
   "outputs": [
    {
     "name": "stdout",
     "output_type": "stream",
     "text": [
      "[51 92 14 71 60 20 82 86]\n",
      "random_arrayA is an object of <class 'numpy.ndarray'>.\n",
      "[34  3 64 87 17 17  1 79]\n",
      "random_arrayB is an object of <class 'numpy.ndarray'>.\n"
     ]
    }
   ],
   "source": [
    "'''In the next cell we are importing numpy with the alias np.  This will give us \n",
    "access to the resources withing the numpy package. We will first set a seed for the\n",
    "numpy random integer generator so that it will provide the same random numbers, \n",
    "and then we will create two arrays of 8 numbers between 0 and 99.'''\n",
    "\n",
    "import numpy as np\n",
    "\n",
    "# Set the seed for reproducibility\n",
    "np.random.seed(42)\n",
    "\n",
    "# Create a random 1D NumPy array of 8 integers between 0 and 99 inclusive\n",
    "random_arrayA = np.random.randint(0, 100, 8)\n",
    "\n",
    "# Set the seed for reproducibility\n",
    "np.random.seed(24)\n",
    "\n",
    "# Create a random 1D NumPy array of 8 integers between 0 and 99 inclusive\n",
    "random_arrayB = np.random.randint(0, 100, 8)\n",
    "\n",
    "# Print the arrays and their type.\n",
    "print(random_arrayA)\n",
    "print(f\"random_arrayA is an object of {type(random_arrayA)}.\")\n",
    "print(random_arrayB)\n",
    "print(f\"random_arrayB is an object of {type(random_arrayB)}.\")"
   ]
  },
  {
   "cell_type": "code",
   "execution_count": 2,
   "id": "4bfa60e0-08a1-4b26-adf0-79b340ab3c54",
   "metadata": {},
   "outputs": [
    {
     "name": "stdout",
     "output_type": "stream",
     "text": [
      "random_arrayA: [51 92 14 71 60 20 82 86] with sum: 476\n",
      "random_arrayB: [34  3 64 87 17 17  1 79] with sum: 302\n"
     ]
    }
   ],
   "source": [
    "'''Each position of a list has an index number, and here we use a procedural approach to \n",
    "sum up the values at each index position.'''\n",
    "\n",
    "# Initialize the sum and set counters = 0.  Note, the equal sign is the assignment operator.\n",
    "totalA = 0\n",
    "totalB = 0\n",
    "# Loop through the list by its index numbers and add each number to the sum\n",
    "for index in range(0,8):\n",
    "    totalA = totalA + random_arrayA[index]\n",
    "for index in range(0,8):\n",
    "    totalB = totalB + random_arrayB[index]\n",
    "    \n",
    "# Print the list and the sum\n",
    "print(f\"random_arrayA: {random_arrayA} with sum: {totalA}\")\n",
    "print(f\"random_arrayB: {random_arrayB} with sum: {totalB}\")\n"
   ]
  },
  {
   "cell_type": "code",
   "execution_count": 3,
   "id": "fd70dd4a-faff-47b7-96a4-bb02d85cbe56",
   "metadata": {},
   "outputs": [
    {
     "name": "stdout",
     "output_type": "stream",
     "text": [
      "random_arrayA: [51 92 14 71 60 20 82 86] with sum: 476\n",
      "random_arrayB: [34  3 64 87 17 17  1 79] with sum: 302\n"
     ]
    }
   ],
   "source": [
    "#Here we are looking at the sum as a method\n",
    "array_sumA =random_arrayA.sum()\n",
    "array_sumB =random_arrayB.sum()\n",
    "\n",
    "# print the array and sum in an f-string.  This is a way of formatting \n",
    "# print statements and we will cover it later\n",
    "print(f\"random_arrayA: {random_arrayA} with sum: {array_sumA}\")\n",
    "print(f\"random_arrayB: {random_arrayB} with sum: {array_sumB}\")"
   ]
  },
  {
   "cell_type": "code",
   "execution_count": 4,
   "id": "45ab5857-4dee-4bd0-be31-696321e29960",
   "metadata": {},
   "outputs": [
    {
     "name": "stdout",
     "output_type": "stream",
     "text": [
      "random_arrayA: [51 92 14 71 60 20 82 86] with sum: 476\n",
      "random_arrayB: [34  3 64 87 17 17  1 79] with sum: 302\n"
     ]
    }
   ],
   "source": [
    "# here we are looking at sum as a function\n",
    "array_sumAf = np.sum(random_arrayA)\n",
    "array_sumBf = np.sum(random_arrayB)\n",
    "\n",
    "print(f\"random_arrayA: {random_arrayA} with sum: {array_sumAf}\")\n",
    "print(f\"random_arrayB: {random_arrayB} with sum: {array_sumBf}\")\n"
   ]
  },
  {
   "cell_type": "code",
   "execution_count": 5,
   "id": "4f8b40d3-e6c1-4973-9695-40f0b2707d87",
   "metadata": {},
   "outputs": [
    {
     "name": "stdout",
     "output_type": "stream",
     "text": [
      "random_arrayA: [51 92 14 71 60 20 82 86] with sum: 476\n",
      "random_arrayB: [34  3 64 87 17 17  1 79] with sum: 302\n"
     ]
    }
   ],
   "source": [
    "# Here we are looking at sum as a method\n",
    "print(f\"random_arrayA: {random_arrayA} with sum: {random_arrayA.sum()}\\nrandom_arrayB: {random_arrayB} with sum: {random_arrayB.sum()}\")\n"
   ]
  },
  {
   "cell_type": "code",
   "execution_count": 6,
   "id": "52e19eda-f3db-4a11-abf4-29ace8435bc4",
   "metadata": {},
   "outputs": [
    {
     "name": "stdout",
     "output_type": "stream",
     "text": [
      "random_arrayA: [51 92 14 71 60 20 82 86] with sum: 476 \n",
      "random_arrayB: [34  3 64 87 17 17  1 79] with sum: 302\n"
     ]
    }
   ],
   "source": [
    "# here we are looking at sum as a function\n",
    "print(f\"random_arrayA: {random_arrayA} with sum: {array_sumAf} \\nrandom_arrayB: {random_arrayB} with sum: {array_sumBf}\")\n"
   ]
  },
  {
   "cell_type": "code",
   "execution_count": 7,
   "id": "5c663044-c228-43bb-8900-e3bed099d7f1",
   "metadata": {},
   "outputs": [],
   "source": [
    "import math\n",
    "# uncomment the following line and it will give an an error\n",
    "#sqrt(4)"
   ]
  },
  {
   "cell_type": "code",
   "execution_count": 8,
   "id": "91d282d3-19e9-409b-b4e6-800732fb7d37",
   "metadata": {},
   "outputs": [
    {
     "data": {
      "text/plain": [
       "2.0"
      ]
     },
     "execution_count": 8,
     "metadata": {},
     "output_type": "execute_result"
    }
   ],
   "source": [
    "math.sqrt(4)"
   ]
  },
  {
   "cell_type": "code",
   "execution_count": 9,
   "id": "f74c9518-871c-4bf9-b301-5a40988c7176",
   "metadata": {},
   "outputs": [
    {
     "data": {
      "text/plain": [
       "2.0"
      ]
     },
     "execution_count": 9,
     "metadata": {},
     "output_type": "execute_result"
    }
   ],
   "source": [
    "from math import sqrt\n",
    "sqrt(4)"
   ]
  }
 ],
 "metadata": {
  "kernelspec": {
   "display_name": "Python (py4sci)",
   "language": "python",
   "name": "py4sci"
  },
  "language_info": {
   "codemirror_mode": {
    "name": "ipython",
    "version": 3
   },
   "file_extension": ".py",
   "mimetype": "text/x-python",
   "name": "python",
   "nbconvert_exporter": "python",
   "pygments_lexer": "ipython3",
   "version": "3.10.17"
  }
 },
 "nbformat": 4,
 "nbformat_minor": 5
}