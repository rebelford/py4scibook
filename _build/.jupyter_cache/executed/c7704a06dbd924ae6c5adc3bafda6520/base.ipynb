{
 "cells": [
  {
   "cell_type": "code",
   "execution_count": 1,
   "id": "9f8f153f-30b6-476b-9935-9ac779363a4d",
   "metadata": {},
   "outputs": [],
   "source": [
    "import sqlite3\n",
    "import os\n",
    "\n",
    "# Define the directory structure\n",
    "sandbox_dir = os.path.expanduser(\"~/sandbox\")  # Parent directory\n",
    "os.makedirs(sandbox_dir, exist_ok=True)  # Ensure directories exist\n",
    "halogens_db_sbpath = os.path.join(sandbox_dir, \"halogens.db\")  # SQLite database file\n",
    "\n",
    "# Connect to SQLite database (creates file if it doesn't exist)\n",
    "conn = sqlite3.connect(halogens_db_sbpath)\n",
    "cursor = conn.cursor()\n",
    "\n",
    "# Create a table called elements\n",
    "cursor.execute('''\n",
    "    CREATE TABLE IF NOT EXISTS elements (\n",
    "        AtomicNumber INTEGER PRIMARY KEY,\n",
    "        Name TEXT NOT NULL,\n",
    "        Symbol TEXT NOT NULL,\n",
    "        AtomicMass REAL NOT NULL\n",
    "    )\n",
    "''')\n",
    "\n",
    "# Commit changes and close connection\n",
    "conn.commit()\n",
    "conn.close()"
   ]
  },
  {
   "cell_type": "code",
   "execution_count": 2,
   "id": "16c38ae7-9344-4650-aa16-25c6c0ffd404",
   "metadata": {},
   "outputs": [
    {
     "name": "stdout",
     "output_type": "stream",
     "text": [
      "(0, 'Element', 'TEXT', 0, None, 0)\n",
      "(1, 'AtomicNumber', 'INTEGER', 0, None, 0)\n",
      "(2, 'AtomicMass', 'REAL', 0, None, 0)\n",
      "(3, 'Electronegativity', 'REAL', 0, None, 0)\n"
     ]
    }
   ],
   "source": [
    "import sqlite3\n",
    "\n",
    "conn = sqlite3.connect(halogens_db_sbpath)\n",
    "cursor = conn.cursor()\n",
    "\n",
    "cursor.execute(\"PRAGMA table_info(elements)\")\n",
    "schema = cursor.fetchall()\n",
    "for col in schema:\n",
    "    print(col)\n",
    "\n",
    "conn.close()\n"
   ]
  },
  {
   "cell_type": "code",
   "execution_count": 3,
   "id": "cac57467-80d2-408c-bbe7-e46b00bb2428",
   "metadata": {},
   "outputs": [
    {
     "name": "stdout",
     "output_type": "stream",
     "text": [
      "('F', 9, 18.998, 3.98)\n",
      "('Cl', 17, 35.45, 3.16)\n",
      "('Br', 35, 79.904, 2.96)\n",
      "('I', 53, 126.9, 2.66)\n",
      "('At', 85, 210.0, 2.2)\n",
      "('Ts', 117, 294.0, None)\n"
     ]
    }
   ],
   "source": [
    "import sqlite3\n",
    "\n",
    "# Connect to your database\n",
    "conn = sqlite3.connect(halogens_db_sbpath)\n",
    "cursor = conn.cursor()\n",
    "\n",
    "# Select all rows from the elements table\n",
    "cursor.execute(\"SELECT * FROM elements\")\n",
    "rows = cursor.fetchall()\n",
    "\n",
    "# Print each row\n",
    "for row in rows:\n",
    "    print(row)\n",
    "\n",
    "# Close the connection\n",
    "conn.close()\n"
   ]
  },
  {
   "cell_type": "code",
   "execution_count": 4,
   "id": "4068e919-2d5c-4fe0-9063-517c929f19f9",
   "metadata": {},
   "outputs": [],
   "source": [
    "import sqlite3\n",
    "\n",
    "# Reconnect to the database\n",
    "conn = sqlite3.connect(halogens_db_sbpath)\n",
    "cursor = conn.cursor()\n",
    "\n",
    "# Insert element data\n",
    "elements_data = [\n",
    "    (\"H\", 1, 1.008, 2.4),\n",
    "    (\"Li\", 3, 6.94, 1.0)\n",
    "]\n",
    "\n",
    "cursor.executemany(\"INSERT INTO elements VALUES (?, ?, ?, ?)\", elements_data)\n",
    "\n",
    "# Commit changes and close connection\n",
    "conn.commit()\n",
    "conn.close()"
   ]
  },
  {
   "cell_type": "code",
   "execution_count": 5,
   "id": "56b50b0b-c029-4b2a-b937-b5712aae52ad",
   "metadata": {},
   "outputs": [
    {
     "name": "stdout",
     "output_type": "stream",
     "text": [
      "('F', 9, 18.998, 3.98)\n",
      "('Cl', 17, 35.45, 3.16)\n",
      "('Br', 35, 79.904, 2.96)\n",
      "('I', 53, 126.9, 2.66)\n",
      "('At', 85, 210.0, 2.2)\n",
      "('Ts', 117, 294.0, None)\n",
      "('H', 1, 1.008, 2.4)\n",
      "('Li', 3, 6.94, 1.0)\n"
     ]
    }
   ],
   "source": [
    "import sqlite3\n",
    "\n",
    "# Connect to your database\n",
    "conn = sqlite3.connect(halogens_db_sbpath)\n",
    "cursor = conn.cursor()\n",
    "\n",
    "# Select all rows from the elements table\n",
    "cursor.execute(\"SELECT * FROM elements\")\n",
    "rows = cursor.fetchall()\n",
    "\n",
    "# Print each row\n",
    "for row in rows:\n",
    "    print(row)\n",
    "\n",
    "# Close the connection\n",
    "conn.close()\n"
   ]
  },
  {
   "cell_type": "code",
   "execution_count": 6,
   "id": "3a7d568b-94d9-41f2-965c-f9307e8e7772",
   "metadata": {},
   "outputs": [],
   "source": [
    "import sqlite3\n",
    "\n",
    "# Connect to your database\n",
    "conn = sqlite3.connect(halogens_db_sbpath)\n",
    "cursor = conn.cursor()\n",
    "\n",
    "# Update Electronegativity for Hydrogen and Lithium\n",
    "cursor.execute(\"\"\"\n",
    "    UPDATE elements\n",
    "    SET Electronegativity = 2.2\n",
    "    WHERE Element = 'H'\n",
    "\"\"\")\n",
    "\n",
    "cursor.execute(\"\"\"\n",
    "    UPDATE elements\n",
    "    SET Electronegativity = 0.98\n",
    "    WHERE Element = 'Li'\n",
    "\"\"\")\n",
    "\n",
    "# Commit changes and close connection\n",
    "conn.commit()\n",
    "conn.close()\n"
   ]
  },
  {
   "cell_type": "code",
   "execution_count": 7,
   "id": "b5bae543-6cdc-49fd-aca0-eb5627d4da34",
   "metadata": {},
   "outputs": [
    {
     "name": "stdout",
     "output_type": "stream",
     "text": [
      "('F', 9, 18.998, 3.98)\n",
      "('Cl', 17, 35.45, 3.16)\n",
      "('Br', 35, 79.904, 2.96)\n",
      "('I', 53, 126.9, 2.66)\n",
      "('At', 85, 210.0, 2.2)\n",
      "('Ts', 117, 294.0, None)\n",
      "('H', 1, 1.008, 2.2)\n",
      "('Li', 3, 6.94, 0.98)\n"
     ]
    }
   ],
   "source": [
    "import sqlite3\n",
    "\n",
    "# Connect to your database\n",
    "conn = sqlite3.connect(halogens_db_sbpath)\n",
    "cursor = conn.cursor()\n",
    "\n",
    "# Select all rows from the elements table\n",
    "cursor.execute(\"SELECT * FROM elements\")\n",
    "rows = cursor.fetchall()\n",
    "\n",
    "# Print each row\n",
    "for row in rows:\n",
    "    print(row)\n",
    "\n",
    "# Close the connection\n",
    "conn.close()\n"
   ]
  },
  {
   "cell_type": "code",
   "execution_count": 8,
   "id": "b46c360f-9390-4853-874c-a6f25b965a40",
   "metadata": {},
   "outputs": [],
   "source": [
    "import sqlite3\n",
    "\n",
    "conn = sqlite3.connect(halogens_db_sbpath)\n",
    "cursor = conn.cursor()\n",
    "\n",
    "# Delete incorrect rows based on suspicious 'Element' values\n",
    "cursor.execute(\"DELETE FROM elements WHERE Element IN ('H', 'Li')\")\n",
    "\n",
    "conn.commit()\n",
    "conn.close()\n"
   ]
  },
  {
   "cell_type": "code",
   "execution_count": 9,
   "id": "630b57f7-cb4d-4a9a-a22e-284a3b887d67",
   "metadata": {},
   "outputs": [
    {
     "name": "stdout",
     "output_type": "stream",
     "text": [
      "('F', 9, 18.998, 3.98)\n",
      "('Cl', 17, 35.45, 3.16)\n",
      "('Br', 35, 79.904, 2.96)\n",
      "('I', 53, 126.9, 2.66)\n",
      "('At', 85, 210.0, 2.2)\n",
      "('Ts', 117, 294.0, None)\n"
     ]
    }
   ],
   "source": [
    "import sqlite3\n",
    "\n",
    "# Connect to your database\n",
    "conn = sqlite3.connect(halogens_db_sbpath)\n",
    "cursor = conn.cursor()\n",
    "\n",
    "# Select all rows from the elements table\n",
    "cursor.execute(\"SELECT * FROM elements\")\n",
    "rows = cursor.fetchall()\n",
    "\n",
    "# Print each row\n",
    "for row in rows:\n",
    "    print(row)\n",
    "\n",
    "# Close the connection\n",
    "conn.close()\n"
   ]
  },
  {
   "cell_type": "code",
   "execution_count": 10,
   "id": "011676c7-0edb-4baa-9d4b-85df5e22accb",
   "metadata": {},
   "outputs": [
    {
     "name": "stdout",
     "output_type": "stream",
     "text": [
      "('Cl', 17)\n",
      "('Br', 35)\n",
      "('I', 53)\n",
      "('At', 85)\n",
      "('Ts', 117)\n"
     ]
    }
   ],
   "source": [
    "import sqlite3\n",
    "\n",
    "# Reconnect and create a cursor\n",
    "conn = sqlite3.connect(halogens_db_sbpath)\n",
    "cursor = conn.cursor()\n",
    "\n",
    "# Run a query\n",
    "#cursor.execute(\"SELECT Element FROM elements WHERE AtomicNumber >= 10\")\n",
    "cursor.execute(\"SELECT Element, AtomicNumber FROM elements WHERE AtomicNumber >= 10\")\n",
    "\n",
    "\n",
    "# Fetch and print results\n",
    "results = cursor.fetchall()\n",
    "for row in results:\n",
    "    print(row)  # Each row is a tuple (Name, Symbol)\n",
    "\n",
    "# Close connection\n",
    "conn.close()"
   ]
  },
  {
   "cell_type": "code",
   "execution_count": 11,
   "id": "22a3da87-0cba-4e2e-a789-e8577c24dd91",
   "metadata": {},
   "outputs": [
    {
     "name": "stdout",
     "output_type": "stream",
     "text": [
      "  Element  AtomicNumber  AtomicMass  Electronegativity\n",
      "0       F             9      18.998               3.98\n",
      "1      Cl            17      35.450               3.16\n",
      "2      Br            35      79.904               2.96\n",
      "3       I            53     126.900               2.66\n",
      "4      At            85     210.000               2.20\n",
      "5      Ts           117     294.000                NaN\n"
     ]
    }
   ],
   "source": [
    "import sqlite3\n",
    "import pandas as pd\n",
    "\n",
    "# Reconnect to the database\n",
    "conn = sqlite3.connect(halogens_db_sbpath)\n",
    "\n",
    "# Read SQL query into DataFrame\n",
    "df = pd.read_sql_query(\"SELECT * FROM elements\", conn)\n",
    "\n",
    "# Display DataFrame\n",
    "print(df.head(10))\n",
    "\n",
    "# Close connection\n",
    "conn.close()"
   ]
  },
  {
   "cell_type": "code",
   "execution_count": 12,
   "id": "9e22d900-e89b-400f-b594-7e7e21055452",
   "metadata": {},
   "outputs": [],
   "source": [
    "import sqlite3\n",
    "import pandas as pd\n",
    "import os\n",
    "\n",
    "# Define the directory structure\n",
    "sandbox_dir = os.path.expanduser(\"~/sandbox\")  # Parent directory\n",
    "os.makedirs(sandbox_dir, exist_ok=True)  # Ensure directories exist\n",
    "\n",
    "# Define file paths\n",
    "halogens_csv_sbpath = os.path.join(sandbox_dir, \"halogens.csv\")\n",
    "halogens_db_sbpath = os.path.join(sandbox_dir, \"halogens.db\")  # SQLite database file\n",
    "\n",
    "# Load CSV file into Pandas DataFrame\n",
    "df = pd.read_csv(halogens_csv_sbpath)\n",
    "\n",
    "# Connect to SQLite database (creates the file if it doesn’t exist)\n",
    "conn = sqlite3.connect(halogens_db_sbpath)\n",
    "cursor = conn.cursor()\n",
    "\n",
    "# Create table (adjust column names to match CSV headers)\n",
    "cursor.execute(\"\"\"\n",
    "    CREATE TABLE IF NOT EXISTS elements (\n",
    "        Element TEXT NOT NULL,\n",
    "        atomic_number INTEGER PRIMARY KEY,\n",
    "        atomic_mass REAL,\n",
    "        Electronegativity REAL\n",
    "    )\n",
    "\"\"\")\n",
    "\n",
    "# Insert data from DataFrame into SQLite table, this replaces  the data\n",
    "df.to_sql(\"elements\", conn, if_exists=\"replace\", index=False)\n",
    "\n",
    "# Commit changes and close connection\n",
    "conn.commit()\n",
    "conn.close()"
   ]
  },
  {
   "cell_type": "code",
   "execution_count": 13,
   "id": "8da2b8ff-749d-4822-a22c-d9c678b499b4",
   "metadata": {},
   "outputs": [
    {
     "name": "stdout",
     "output_type": "stream",
     "text": [
      "Tables in the database: [('elements',)]\n"
     ]
    }
   ],
   "source": [
    "import sqlite3\n",
    "\n",
    "conn = sqlite3.connect(halogens_db_sbpath)\n",
    "cursor = conn.cursor()\n",
    "\n",
    "cursor.execute(\"SELECT name FROM sqlite_master WHERE type='table';\")\n",
    "tables = cursor.fetchall()\n",
    "\n",
    "print(\"Tables in the database:\", tables)\n",
    "conn.close()"
   ]
  },
  {
   "cell_type": "code",
   "execution_count": 14,
   "id": "0da11d33-59f5-41b2-9397-ebdd2a83d619",
   "metadata": {},
   "outputs": [
    {
     "name": "stdout",
     "output_type": "stream",
     "text": [
      "Fields in the 'elements' table: ['Element', 'Atomic Number', 'Atomic Mass', 'Electronegativity']\n"
     ]
    }
   ],
   "source": [
    "conn = sqlite3.connect(halogens_db_sbpath)\n",
    "cursor = conn.cursor()\n",
    "\n",
    "cursor.execute(\"PRAGMA table_info(elements);\")\n",
    "fields = [row[1] for row in cursor.fetchall()]\n",
    "\n",
    "print(\"Fields in the 'elements' table:\", fields)\n",
    "conn.close()"
   ]
  },
  {
   "cell_type": "code",
   "execution_count": 15,
   "id": "34cb6df7-8a9d-42e4-b6c8-c8471d8cc283",
   "metadata": {},
   "outputs": [
    {
     "name": "stdout",
     "output_type": "stream",
     "text": [
      "Fields in the 'elements' table: ['Element', 'AtomicNumber', 'AtomicMass', 'Electronegativity']\n"
     ]
    }
   ],
   "source": [
    "conn = sqlite3.connect(halogens_db_sbpath)\n",
    "cursor = conn.cursor()\n",
    "cursor.execute('ALTER TABLE elements RENAME COLUMN \"Atomic Mass\" TO AtomicMass;')\n",
    "cursor.execute('ALTER TABLE elements RENAME COLUMN \"Atomic Number\" TO AtomicNumber;')\n",
    "\n",
    "cursor.execute(\"PRAGMA table_info(elements);\")\n",
    "fields = [row[1] for row in cursor.fetchall()]\n",
    "\n",
    "print(\"Fields in the 'elements' table:\", fields)\n",
    "conn.close()"
   ]
  },
  {
   "cell_type": "code",
   "execution_count": 16,
   "id": "19d5a262-8efd-4981-a4b8-2d8e53aede50",
   "metadata": {},
   "outputs": [
    {
     "name": "stdout",
     "output_type": "stream",
     "text": [
      "('F', 9, 18.998, 3.98)\n",
      "('Cl', 17, 35.45, 3.16)\n",
      "('Br', 35, 79.904, 2.96)\n",
      "('I', 53, 126.9, 2.66)\n",
      "('At', 85, 210.0, 2.2)\n"
     ]
    }
   ],
   "source": [
    "conn = sqlite3.connect(halogens_db_sbpath)\n",
    "cursor = conn.cursor()\n",
    "\n",
    "cursor.execute(\"SELECT * FROM elements LIMIT 5;\")\n",
    "records = cursor.fetchall()\n",
    "\n",
    "for record in records:\n",
    "    print(record)\n",
    "\n",
    "conn.close()"
   ]
  },
  {
   "cell_type": "code",
   "execution_count": 17,
   "id": "3b86d1ff-9f13-4c3c-9373-2e25726b986c",
   "metadata": {},
   "outputs": [
    {
     "name": "stdout",
     "output_type": "stream",
     "text": [
      "Elements that weight less than 50 amu:\n",
      "('F',)\n",
      "('Cl',)\n",
      "[(35.45,)]\n",
      "<class 'list'>\n"
     ]
    }
   ],
   "source": [
    "conn = sqlite3.connect(halogens_db_sbpath)\n",
    "cursor = conn.cursor()\n",
    "\n",
    "cursor.execute(\"SELECT Element FROM elements WHERE AtomicMass < 50;\")\n",
    "light_elements = cursor.fetchall()\n",
    "\n",
    "print(\"Elements that weight less than 50 amu:\")\n",
    "for element in light_elements:\n",
    "    print(element)\n",
    "cursor.execute(\"SELECT AtomicMass FROM elements WHERE Element LIKE 'Cl';\")\n",
    "var=cursor.fetchall()\n",
    "conn.close()\n",
    "print(var)\n",
    "print(type(var))"
   ]
  },
  {
   "cell_type": "code",
   "execution_count": 18,
   "id": "6cd2a990-ce97-4c3e-9870-f4740b535912",
   "metadata": {},
   "outputs": [
    {
     "name": "stdout",
     "output_type": "stream",
     "text": [
      "35.45 <class 'float'>\n"
     ]
    }
   ],
   "source": [
    "conn = sqlite3.connect(halogens_db_sbpath)\n",
    "cursor = conn.cursor()\n",
    "\n",
    "cursor.execute(\"SELECT AtomicMass FROM elements WHERE Element LIKE 'Cl';\")\n",
    "var = cursor.fetchone()  # Use fetchone() for a single value\n",
    "conn.close()\n",
    "atomic_mass = var[0]  # Extract float value\n",
    "print(atomic_mass, type(atomic_mass))  # Output: 35.45 <class 'float'>\n",
    "\n"
   ]
  },
  {
   "cell_type": "code",
   "execution_count": 19,
   "id": "81086a92-ff64-427f-bf2c-ea7f7e455e95",
   "metadata": {},
   "outputs": [
    {
     "name": "stdout",
     "output_type": "stream",
     "text": [
      "Heaviest element: ('Ts', 294.0)\n"
     ]
    }
   ],
   "source": [
    "conn = sqlite3.connect(halogens_db_sbpath)\n",
    "cursor = conn.cursor()\n",
    "\n",
    "cursor.execute(\"SELECT Element, AtomicMass FROM elements ORDER BY AtomicMass DESC LIMIT 1;\")\n",
    "heaviest_element = cursor.fetchone()\n",
    "\n",
    "print(\"Heaviest element:\", heaviest_element)\n",
    "conn.close()"
   ]
  },
  {
   "cell_type": "code",
   "execution_count": 20,
   "id": "2a6fbb94-ca82-4c47-bc8e-a43e302e031e",
   "metadata": {},
   "outputs": [
    {
     "name": "stdout",
     "output_type": "stream",
     "text": [
      "  Element  AtomicNumber  AtomicMass  Electronegativity\n",
      "0       F             9      18.998               3.98\n",
      "1      Cl            17      35.450               3.16\n",
      "2      Br            35      79.904               2.96\n",
      "3       I            53     126.900               2.66\n",
      "4      At            85     210.000               2.20\n",
      "5      Ts           117     294.000                NaN\n"
     ]
    }
   ],
   "source": [
    "import sqlite3\n",
    "import pandas as pd\n",
    "\n",
    "# Connect to SQLite database\n",
    "conn = sqlite3.connect(halogens_db_sbpath)\n",
    "\n",
    "# Load entire 'elements' table into a DataFrame\n",
    "df = pd.read_sql_query(\"SELECT * FROM elements;\", conn)\n",
    "\n",
    "# Close connection\n",
    "conn.close()\n",
    "\n",
    "# Display DataFrame\n",
    "print(df)\n"
   ]
  }
 ],
 "metadata": {
  "kernelspec": {
   "display_name": "Python (py4sci)",
   "language": "python",
   "name": "py4sci"
  },
  "language_info": {
   "codemirror_mode": {
    "name": "ipython",
    "version": 3
   },
   "file_extension": ".py",
   "mimetype": "text/x-python",
   "name": "python",
   "nbconvert_exporter": "python",
   "pygments_lexer": "ipython3",
   "version": "3.10.17"
  }
 },
 "nbformat": 4,
 "nbformat_minor": 5
}