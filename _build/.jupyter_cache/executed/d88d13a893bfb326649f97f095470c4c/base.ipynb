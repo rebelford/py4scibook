{
 "cells": [
  {
   "cell_type": "code",
   "execution_count": 1,
   "id": "18378726-a7bc-4f29-a9a0-6f97bc5b25ae",
   "metadata": {},
   "outputs": [
    {
     "name": "stdout",
     "output_type": "stream",
     "text": [
      "File Contents:\n",
      "\n",
      "Chemical Safety Log\n",
      "==============================\n",
      "Date: 2025-02-13\n",
      "Chemical: Acetone\n",
      "Incident: Small spill in lab. Cleaned with absorbent pads.\n",
      "Preventive Action: Ensure lid is tightly sealed after use.\n",
      "\n",
      "Date: 2025-02-14\n",
      "Chemical: Hydrochloric Acid (HCl)\n",
      "Incident: Minor exposure on gloves. No injury.\n",
      "Preventive Action: Double-check gloves for leaks before use.\n",
      "\n",
      "Date: 2025-02-14\n",
      "Chemical: Hydrochloric Acid (HCl)\n",
      "Incident: Minor exposure on gloves. No injury.\n",
      "Preventive Action: Double-check gloves for leaks before use.\n",
      "\n",
      "Date: 2025-02-14\n",
      "Chemical: Hydrochloric Acid (HCl)\n",
      "Incident: Minor exposure on gloves. No injury.\n",
      "Preventive Action: Double-check gloves for leaks before use.\n",
      "\n",
      "Date: 2025-02-14\n",
      "Chemical: Hydrochloric Acid (HCl)\n",
      "Incident: Minor exposure on gloves. No injury.\n",
      "Preventive Action: Double-check gloves for leaks before use.\n",
      "\n",
      "Date: 2025-02-14\n",
      "Chemical: Hydrochloric Acid (HCl)\n",
      "Incident: Minor exposure on gloves. No injury.\n",
      "Preventive Action: Double-check gloves for leaks before use.\n",
      "\n",
      "Date: 2025-02-14\n",
      "Chemical: Hydrochloric Acid (HCl)\n",
      "Incident: Minor exposure on gloves. No injury.\n",
      "Preventive Action: Double-check gloves for leaks before use.\n",
      "\n",
      "Date: 2025-02-14\n",
      "Chemical: Hydrochloric Acid (HCl)\n",
      "Incident: Minor exposure on gloves. No injury.\n",
      "Preventive Action: Double-check gloves for leaks before use.\n",
      "\n",
      "Date: 2025-02-14\n",
      "Chemical: Hydrochloric Acid (HCl)\n",
      "Incident: Minor exposure on gloves. No injury.\n",
      "Preventive Action: Double-check gloves for leaks before use.\n",
      "\n",
      "Date: 2025-02-14\n",
      "Chemical: Hydrochloric Acid (HCl)\n",
      "Incident: Minor exposure on gloves. No injury.\n",
      "Preventive Action: Double-check gloves for leaks before use.\n",
      "\n",
      "Date: 2025-02-14\n",
      "Chemical: Hydrochloric Acid (HCl)\n",
      "Incident: Minor exposure on gloves. No injury.\n",
      "Preventive Action: Double-check gloves for leaks before use.\n",
      "\n",
      "\n"
     ]
    }
   ],
   "source": [
    "import os\n",
    "\n",
    "# Define file path in ~/sandbox/\n",
    "# Assign to variable chem_safety_log_sbpath (chemical safety log sandbox path)\n",
    "sandbox_dir = os.path.expanduser(\"~/sandbox/\")\n",
    "chem_safety_log_sbpath = os.path.join(sandbox_dir, \"chemical_safety_log.txt\")\n",
    "\n",
    "# Ensure the ~/sandbox/ directory exists\n",
    "os.makedirs(sandbox_dir, exist_ok=True)\n",
    "\n",
    "# Create the file if it does not exist\n",
    "if not os.path.exists(chem_safety_log_sbpath):\n",
    "    with open(chem_safety_log_sbpath, \"w\", encoding=\"utf-8\") as file:\n",
    "        file.write(\"Chemical Safety Log\\n\")\n",
    "        file.write(\"=\"*30 + \"\\n\")\n",
    "        file.write(\"Date: 2025-02-13\\n\")\n",
    "        file.write(\"Chemical: Acetone\\n\")\n",
    "        file.write(\"Incident: Small spill in lab. Cleaned with absorbent pads.\\n\")\n",
    "        file.write(\"Preventive Action: Ensure lid is tightly sealed after use.\\n\\n\")\n",
    "    print(\"Initial Safety Log created\")\n",
    "\n",
    "# Now, read the file safely\n",
    "with open(chem_safety_log_sbpath, \"r\", encoding=\"utf-8\") as file:\n",
    "    content = file.read()\n",
    "    print(\"File Contents:\\n\")\n",
    "    print(content)\n"
   ]
  },
  {
   "cell_type": "code",
   "execution_count": 2,
   "id": "8e002fe2-705d-443d-bdf2-6a682e8cba29",
   "metadata": {},
   "outputs": [
    {
     "name": "stdout",
     "output_type": "stream",
     "text": [
      "Chemical Safety Log\n",
      "==============================\n",
      "Date: 2025-02-13\n",
      "Chemical: Acetone\n",
      "Incident: Small spill in lab. Cleaned with absorbent pads.\n",
      "Preventive Action: Ensure lid is tightly sealed after use.\n",
      "\n",
      "Date: 2025-02-14\n",
      "Chemical: Hydrochloric Acid (HCl)\n",
      "Incident: Minor exposure on gloves. No injury.\n",
      "Preventive Action: Double-check gloves for leaks before use.\n",
      "\n",
      "Date: 2025-02-14\n",
      "Chemical: Hydrochloric Acid (HCl)\n",
      "Incident: Minor exposure on gloves. No injury.\n",
      "Preventive Action: Double-check gloves for leaks before use.\n",
      "\n",
      "Date: 2025-02-14\n",
      "Chemical: Hydrochloric Acid (HCl)\n",
      "Incident: Minor exposure on gloves. No injury.\n",
      "Preventive Action: Double-check gloves for leaks before use.\n",
      "\n",
      "Date: 2025-02-14\n",
      "Chemical: Hydrochloric Acid (HCl)\n",
      "Incident: Minor exposure on gloves. No injury.\n",
      "Preventive Action: Double-check gloves for leaks before use.\n",
      "\n",
      "Date: 2025-02-14\n",
      "Chemical: Hydrochloric Acid (HCl)\n",
      "Incident: Minor exposure on gloves. No injury.\n",
      "Preventive Action: Double-check gloves for leaks before use.\n",
      "\n",
      "Date: 2025-02-14\n",
      "Chemical: Hydrochloric Acid (HCl)\n",
      "Incident: Minor exposure on gloves. No injury.\n",
      "Preventive Action: Double-check gloves for leaks before use.\n",
      "\n",
      "Date: 2025-02-14\n",
      "Chemical: Hydrochloric Acid (HCl)\n",
      "Incident: Minor exposure on gloves. No injury.\n",
      "Preventive Action: Double-check gloves for leaks before use.\n",
      "\n",
      "Date: 2025-02-14\n",
      "Chemical: Hydrochloric Acid (HCl)\n",
      "Incident: Minor exposure on gloves. No injury.\n",
      "Preventive Action: Double-check gloves for leaks before use.\n",
      "\n",
      "Date: 2025-02-14\n",
      "Chemical: Hydrochloric Acid (HCl)\n",
      "Incident: Minor exposure on gloves. No injury.\n",
      "Preventive Action: Double-check gloves for leaks before use.\n",
      "\n",
      "Date: 2025-02-14\n",
      "Chemical: Hydrochloric Acid (HCl)\n",
      "Incident: Minor exposure on gloves. No injury.\n",
      "Preventive Action: Double-check gloves for leaks before use.\n",
      "\n",
      "\n"
     ]
    }
   ],
   "source": [
    "import os\n",
    "\n",
    "file_path = os.path.expanduser(\"~/sandbox/chemical_safety_log.txt\")\n",
    "\n",
    "with open(file_path, \"r\", encoding=\"utf-8\") as file:\n",
    "    content = file.read()\n",
    "    print(content)\n"
   ]
  },
  {
   "cell_type": "code",
   "execution_count": 3,
   "id": "1781bfe8-7542-4bb3-a3bc-d5f2bc3437b8",
   "metadata": {},
   "outputs": [
    {
     "name": "stdout",
     "output_type": "stream",
     "text": [
      "Chemical Safety Log\n",
      "==============================\n",
      "Date: 2025-02-13\n",
      "Chemical: Acetone\n",
      "Incident: Small spill in lab. Cleaned with absorbent pads.\n",
      "Preventive Action: Ensure lid is tightly sealed after use.\n",
      "\n",
      "Date: 2025-02-14\n",
      "Chemical: Hydrochloric Acid (HCl)\n",
      "Incident: Minor exposure on gloves. No injury.\n",
      "Preventive Action: Double-check gloves for leaks before use.\n",
      "\n",
      "Date: 2025-02-14\n",
      "Chemical: Hydrochloric Acid (HCl)\n",
      "Incident: Minor exposure on gloves. No injury.\n",
      "Preventive Action: Double-check gloves for leaks before use.\n",
      "\n",
      "Date: 2025-02-14\n",
      "Chemical: Hydrochloric Acid (HCl)\n",
      "Incident: Minor exposure on gloves. No injury.\n",
      "Preventive Action: Double-check gloves for leaks before use.\n",
      "\n",
      "Date: 2025-02-14\n",
      "Chemical: Hydrochloric Acid (HCl)\n",
      "Incident: Minor exposure on gloves. No injury.\n",
      "Preventive Action: Double-check gloves for leaks before use.\n",
      "\n",
      "Date: 2025-02-14\n",
      "Chemical: Hydrochloric Acid (HCl)\n",
      "Incident: Minor exposure on gloves. No injury.\n",
      "Preventive Action: Double-check gloves for leaks before use.\n",
      "\n",
      "Date: 2025-02-14\n",
      "Chemical: Hydrochloric Acid (HCl)\n",
      "Incident: Minor exposure on gloves. No injury.\n",
      "Preventive Action: Double-check gloves for leaks before use.\n",
      "\n",
      "Date: 2025-02-14\n",
      "Chemical: Hydrochloric Acid (HCl)\n",
      "Incident: Minor exposure on gloves. No injury.\n",
      "Preventive Action: Double-check gloves for leaks before use.\n",
      "\n",
      "Date: 2025-02-14\n",
      "Chemical: Hydrochloric Acid (HCl)\n",
      "Incident: Minor exposure on gloves. No injury.\n",
      "Preventive Action: Double-check gloves for leaks before use.\n",
      "\n",
      "Date: 2025-02-14\n",
      "Chemical: Hydrochloric Acid (HCl)\n",
      "Incident: Minor exposure on gloves. No injury.\n",
      "Preventive Action: Double-check gloves for leaks before use.\n",
      "\n",
      "Date: 2025-02-14\n",
      "Chemical: Hydrochloric Acid (HCl)\n",
      "Incident: Minor exposure on gloves. No injury.\n",
      "Preventive Action: Double-check gloves for leaks before use.\n",
      "\n",
      "\n"
     ]
    }
   ],
   "source": [
    "# Option 1, be sure to replace rebelford with your username\n",
    "with open(\"/home/rebelford/sandbox/chemical_safety_log.txt\", \"r\", encoding=\"utf-8\") as file:\n",
    "    content = file.read()\n",
    "    print(content)\n"
   ]
  },
  {
   "cell_type": "code",
   "execution_count": 4,
   "id": "07457cc6-dfcb-4ca4-a443-df5daa320470",
   "metadata": {},
   "outputs": [
    {
     "name": "stdout",
     "output_type": "stream",
     "text": [
      "Chemical Safety Log\n",
      "==============================\n",
      "Date: 2025-02-13\n",
      "Chemical: Acetone\n",
      "Incident: Small spill in lab. Cleaned with absorbent pads.\n",
      "Preventive Action: Ensure lid is tightly sealed after use.\n",
      "\n",
      "Date: 2025-02-14\n",
      "Chemical: Hydrochloric Acid (HCl)\n",
      "Incident: Minor exposure on gloves. No injury.\n",
      "Preventive Action: Double-check gloves for leaks before use.\n",
      "\n",
      "Date: 2025-02-14\n",
      "Chemical: Hydrochloric Acid (HCl)\n",
      "Incident: Minor exposure on gloves. No injury.\n",
      "Preventive Action: Double-check gloves for leaks before use.\n",
      "\n",
      "Date: 2025-02-14\n",
      "Chemical: Hydrochloric Acid (HCl)\n",
      "Incident: Minor exposure on gloves. No injury.\n",
      "Preventive Action: Double-check gloves for leaks before use.\n",
      "\n",
      "Date: 2025-02-14\n",
      "Chemical: Hydrochloric Acid (HCl)\n",
      "Incident: Minor exposure on gloves. No injury.\n",
      "Preventive Action: Double-check gloves for leaks before use.\n",
      "\n",
      "Date: 2025-02-14\n",
      "Chemical: Hydrochloric Acid (HCl)\n",
      "Incident: Minor exposure on gloves. No injury.\n",
      "Preventive Action: Double-check gloves for leaks before use.\n",
      "\n",
      "Date: 2025-02-14\n",
      "Chemical: Hydrochloric Acid (HCl)\n",
      "Incident: Minor exposure on gloves. No injury.\n",
      "Preventive Action: Double-check gloves for leaks before use.\n",
      "\n",
      "Date: 2025-02-14\n",
      "Chemical: Hydrochloric Acid (HCl)\n",
      "Incident: Minor exposure on gloves. No injury.\n",
      "Preventive Action: Double-check gloves for leaks before use.\n",
      "\n",
      "Date: 2025-02-14\n",
      "Chemical: Hydrochloric Acid (HCl)\n",
      "Incident: Minor exposure on gloves. No injury.\n",
      "Preventive Action: Double-check gloves for leaks before use.\n",
      "\n",
      "Date: 2025-02-14\n",
      "Chemical: Hydrochloric Acid (HCl)\n",
      "Incident: Minor exposure on gloves. No injury.\n",
      "Preventive Action: Double-check gloves for leaks before use.\n",
      "\n",
      "Date: 2025-02-14\n",
      "Chemical: Hydrochloric Acid (HCl)\n",
      "Incident: Minor exposure on gloves. No injury.\n",
      "Preventive Action: Double-check gloves for leaks before use.\n",
      "\n",
      "\n"
     ]
    }
   ],
   "source": [
    "with open(chem_safety_log_sbpath, \"r\", encoding=\"utf-8\") as file:\n",
    "    content = file.read()\n",
    "    print(content)"
   ]
  },
  {
   "cell_type": "code",
   "execution_count": 5,
   "id": "77b84975-fc9e-4d9f-ba3f-7a0196fe83e1",
   "metadata": {},
   "outputs": [
    {
     "name": "stdout",
     "output_type": "stream",
     "text": [
      "Chemical Safety Log\n",
      "==============================\n",
      "Date: 2025-02-13\n",
      "Chemical: Acetone\n",
      "Incident: Small spill in lab. Cleaned with absorbent pads.\n",
      "Preventive Action: Ensure lid is tightly sealed after use.\n",
      "\n",
      "Date: 2025-02-14\n",
      "Chemical: Hydrochloric Acid (HCl)\n",
      "Incident: Minor exposure on gloves. No injury.\n",
      "Preventive Action: Double-check gloves for leaks before use.\n",
      "\n",
      "Date: 2025-02-14\n",
      "Chemical: Hydrochloric Acid (HCl)\n",
      "Incident: Minor exposure on gloves. No injury.\n",
      "Preventive Action: Double-check gloves for leaks before use.\n",
      "\n",
      "Date: 2025-02-14\n",
      "Chemical: Hydrochloric Acid (HCl)\n",
      "Incident: Minor exposure on gloves. No injury.\n",
      "Preventive Action: Double-check gloves for leaks before use.\n",
      "\n",
      "Date: 2025-02-14\n",
      "Chemical: Hydrochloric Acid (HCl)\n",
      "Incident: Minor exposure on gloves. No injury.\n",
      "Preventive Action: Double-check gloves for leaks before use.\n",
      "\n",
      "Date: 2025-02-14\n",
      "Chemical: Hydrochloric Acid (HCl)\n",
      "Incident: Minor exposure on gloves. No injury.\n",
      "Preventive Action: Double-check gloves for leaks before use.\n",
      "\n",
      "Date: 2025-02-14\n",
      "Chemical: Hydrochloric Acid (HCl)\n",
      "Incident: Minor exposure on gloves. No injury.\n",
      "Preventive Action: Double-check gloves for leaks before use.\n",
      "\n",
      "Date: 2025-02-14\n",
      "Chemical: Hydrochloric Acid (HCl)\n",
      "Incident: Minor exposure on gloves. No injury.\n",
      "Preventive Action: Double-check gloves for leaks before use.\n",
      "\n",
      "Date: 2025-02-14\n",
      "Chemical: Hydrochloric Acid (HCl)\n",
      "Incident: Minor exposure on gloves. No injury.\n",
      "Preventive Action: Double-check gloves for leaks before use.\n",
      "\n",
      "Date: 2025-02-14\n",
      "Chemical: Hydrochloric Acid (HCl)\n",
      "Incident: Minor exposure on gloves. No injury.\n",
      "Preventive Action: Double-check gloves for leaks before use.\n",
      "\n",
      "Date: 2025-02-14\n",
      "Chemical: Hydrochloric Acid (HCl)\n",
      "Incident: Minor exposure on gloves. No injury.\n",
      "Preventive Action: Double-check gloves for leaks before use.\n",
      "\n",
      "\n"
     ]
    }
   ],
   "source": [
    "with open(chem_safety_log_sbpath, \"r\", encoding=\"utf-8\") as file:\n",
    "    content = file.read()\n",
    "    print(content)"
   ]
  },
  {
   "cell_type": "code",
   "execution_count": 6,
   "id": "a8493acd-18cb-46c5-8735-aedc7392b264",
   "metadata": {},
   "outputs": [
    {
     "name": "stdout",
     "output_type": "stream",
     "text": [
      "Chemical Safety Log\n",
      "==============================\n",
      "Date: 2025-02-13\n",
      "Chemical: Acetone\n",
      "Incident: Small spill in lab. Cleaned with absorbent pads.\n",
      "Preventive Action: Ensure lid is tightly sealed after use.\n",
      "\n",
      "Date: 2025-02-14\n",
      "Chemical: Hydrochloric Acid (HCl)\n",
      "Incident: Minor exposure on gloves. No injury.\n",
      "Preventive Action: Double-check gloves for leaks before use.\n",
      "\n",
      "Date: 2025-02-14\n",
      "Chemical: Hydrochloric Acid (HCl)\n",
      "Incident: Minor exposure on gloves. No injury.\n",
      "Preventive Action: Double-check gloves for leaks before use.\n",
      "\n",
      "Date: 2025-02-14\n",
      "Chemical: Hydrochloric Acid (HCl)\n",
      "Incident: Minor exposure on gloves. No injury.\n",
      "Preventive Action: Double-check gloves for leaks before use.\n",
      "\n",
      "Date: 2025-02-14\n",
      "Chemical: Hydrochloric Acid (HCl)\n",
      "Incident: Minor exposure on gloves. No injury.\n",
      "Preventive Action: Double-check gloves for leaks before use.\n",
      "\n",
      "Date: 2025-02-14\n",
      "Chemical: Hydrochloric Acid (HCl)\n",
      "Incident: Minor exposure on gloves. No injury.\n",
      "Preventive Action: Double-check gloves for leaks before use.\n",
      "\n",
      "Date: 2025-02-14\n",
      "Chemical: Hydrochloric Acid (HCl)\n",
      "Incident: Minor exposure on gloves. No injury.\n",
      "Preventive Action: Double-check gloves for leaks before use.\n",
      "\n",
      "Date: 2025-02-14\n",
      "Chemical: Hydrochloric Acid (HCl)\n",
      "Incident: Minor exposure on gloves. No injury.\n",
      "Preventive Action: Double-check gloves for leaks before use.\n",
      "\n",
      "Date: 2025-02-14\n",
      "Chemical: Hydrochloric Acid (HCl)\n",
      "Incident: Minor exposure on gloves. No injury.\n",
      "Preventive Action: Double-check gloves for leaks before use.\n",
      "\n",
      "Date: 2025-02-14\n",
      "Chemical: Hydrochloric Acid (HCl)\n",
      "Incident: Minor exposure on gloves. No injury.\n",
      "Preventive Action: Double-check gloves for leaks before use.\n",
      "\n",
      "Date: 2025-02-14\n",
      "Chemical: Hydrochloric Acid (HCl)\n",
      "Incident: Minor exposure on gloves. No injury.\n",
      "Preventive Action: Double-check gloves for leaks before use.\n",
      "\n",
      "\n"
     ]
    }
   ],
   "source": [
    "import os\n",
    "\n",
    "chem_safety_log_sbpath = os.path.expanduser(\"~/sandbox/chemical_safety_log.txt\")  # Expands '~' to full path\n",
    "\n",
    "with open(chem_safety_log_sbpath, \"r\", encoding=\"utf-8\") as file:\n",
    "    content = file.read()\n",
    "    print(content)"
   ]
  },
  {
   "cell_type": "code",
   "execution_count": 7,
   "id": "42ceaf64-28b0-4733-89e2-90f5ed42d7c2",
   "metadata": {},
   "outputs": [
    {
     "name": "stdout",
     "output_type": "stream",
     "text": [
      "New entry added to safety log.\n"
     ]
    }
   ],
   "source": [
    "# Appending a new safety log entry\n",
    "# Note, we are using the variable chem_safety_log_sbpath instead of the path to the file\n",
    "with open(chem_safety_log_sbpath, \"a\", encoding=\"utf-8\") as file:\n",
    "    file.write(\"Date: 2025-02-14\\n\")\n",
    "    file.write(\"Chemical: Hydrochloric Acid (HCl)\\n\")\n",
    "    file.write(\"Incident: Minor exposure on gloves. No injury.\\n\")\n",
    "    file.write(\"Preventive Action: Double-check gloves for leaks before use.\\n\\n\")\n",
    "\n",
    "print(\"New entry added to safety log.\")\n"
   ]
  },
  {
   "cell_type": "code",
   "execution_count": 8,
   "id": "b146b92a-78fc-4994-a68a-076541eeaca8",
   "metadata": {},
   "outputs": [
    {
     "name": "stdout",
     "output_type": "stream",
     "text": [
      "Chemical Safety Log\n",
      "==============================\n",
      "Date: 2025-02-13\n",
      "Chemical: Acetone\n",
      "Incident: Small spill in lab. Cleaned with absorbent pads.\n",
      "Preventive Action: Ensure lid is tightly sealed after use.\n",
      "\n",
      "Date: 2025-02-14\n",
      "Chemical: Hydrochloric Acid (HCl)\n",
      "Incident: Minor exposure on gloves. No injury.\n",
      "Preventive Action: Double-check gloves for leaks before use.\n",
      "\n",
      "Date: 2025-02-14\n",
      "Chemical: Hydrochloric Acid (HCl)\n",
      "Incident: Minor exposure on gloves. No injury.\n",
      "Preventive Action: Double-check gloves for leaks before use.\n",
      "\n",
      "Date: 2025-02-14\n",
      "Chemical: Hydrochloric Acid (HCl)\n",
      "Incident: Minor exposure on gloves. No injury.\n",
      "Preventive Action: Double-check gloves for leaks before use.\n",
      "\n",
      "Date: 2025-02-14\n",
      "Chemical: Hydrochloric Acid (HCl)\n",
      "Incident: Minor exposure on gloves. No injury.\n",
      "Preventive Action: Double-check gloves for leaks before use.\n",
      "\n",
      "Date: 2025-02-14\n",
      "Chemical: Hydrochloric Acid (HCl)\n",
      "Incident: Minor exposure on gloves. No injury.\n",
      "Preventive Action: Double-check gloves for leaks before use.\n",
      "\n",
      "Date: 2025-02-14\n",
      "Chemical: Hydrochloric Acid (HCl)\n",
      "Incident: Minor exposure on gloves. No injury.\n",
      "Preventive Action: Double-check gloves for leaks before use.\n",
      "\n",
      "Date: 2025-02-14\n",
      "Chemical: Hydrochloric Acid (HCl)\n",
      "Incident: Minor exposure on gloves. No injury.\n",
      "Preventive Action: Double-check gloves for leaks before use.\n",
      "\n",
      "Date: 2025-02-14\n",
      "Chemical: Hydrochloric Acid (HCl)\n",
      "Incident: Minor exposure on gloves. No injury.\n",
      "Preventive Action: Double-check gloves for leaks before use.\n",
      "\n",
      "Date: 2025-02-14\n",
      "Chemical: Hydrochloric Acid (HCl)\n",
      "Incident: Minor exposure on gloves. No injury.\n",
      "Preventive Action: Double-check gloves for leaks before use.\n",
      "\n",
      "Date: 2025-02-14\n",
      "Chemical: Hydrochloric Acid (HCl)\n",
      "Incident: Minor exposure on gloves. No injury.\n",
      "Preventive Action: Double-check gloves for leaks before use.\n",
      "\n",
      "Date: 2025-02-14\n",
      "Chemical: Hydrochloric Acid (HCl)\n",
      "Incident: Minor exposure on gloves. No injury.\n",
      "Preventive Action: Double-check gloves for leaks before use.\n",
      "\n",
      "\n"
     ]
    }
   ],
   "source": [
    "# Read the file using the predefined variable\n",
    "with open(chem_safety_log_sbpath, \"r\", encoding=\"utf-8\") as file:\n",
    "    content = file.read()\n",
    "    print(content)\n"
   ]
  },
  {
   "cell_type": "code",
   "execution_count": 9,
   "id": "7a79bea5-2677-452a-b348-bfab007d13d2",
   "metadata": {},
   "outputs": [
    {
     "name": "stdout",
     "output_type": "stream",
     "text": [
      "[('F', 9, 18.998, 3.98), ('Cl', 17, 35.45, 3.16), ('Br', 35, 79.904, 2.96), ('I', 53, 126.9, 2.66), ('At', 85, 210, 2.2), ('Ts', 117, 294, None)]\n",
      "CSV file created successfully at: /home/rebelford/sandbox/halogens.csv\n"
     ]
    }
   ],
   "source": [
    "import csv\n",
    "import os\n",
    "\n",
    "# Define file path in ~/sandbox/\n",
    "sandbox_dir = os.path.expanduser(\"~/sandbox/\")\n",
    "halogen_csv_sbpath = os.path.join(sandbox_dir, \"halogens.csv\")\n",
    "\n",
    "# Data lists\n",
    "halogens = ['F', 'Cl', 'Br', 'I', 'At', 'Ts']\n",
    "atomic_numbers = [9, 17, 35, 53, 85, 117]\n",
    "atomic_masses = [18.998, 35.45, 79.904, 126.9, 210, 294]\n",
    "electronegativities = [3.98, 3.16, 2.96, 2.66, 2.2, None]\n",
    "\n",
    "# Combine into rows\n",
    "data = list(zip(halogens, atomic_numbers, atomic_masses, electronegativities))  # Convert to list to avoid exhaustion\n",
    "print(data)  # Debugging: Check if data is structured correctly\n",
    "\n",
    "# Write to CSV file\n",
    "with open(halogen_csv_sbpath, mode=\"w\", newline=\"\", encoding=\"utf-8\") as file:\n",
    "    writer = csv.writer(file)\n",
    "    writer.writerow([\"Element\", \"Atomic Number\", \"Atomic Mass\", \"Electronegativity\"])  # Header\n",
    "    writer.writerows(data)  # Data rows\n",
    "\n",
    "print(f\"CSV file created successfully at: {halogen_csv_sbpath}\")\n"
   ]
  },
  {
   "cell_type": "code",
   "execution_count": 10,
   "id": "a593a112-bbab-4258-b886-6c0bf4d5e7d3",
   "metadata": {},
   "outputs": [
    {
     "name": "stdout",
     "output_type": "stream",
     "text": [
      "['Element', 'Atomic Number', 'Atomic Mass', 'Electronegativity']\n",
      "['F', '9', '18.998', '3.98']\n",
      "['Cl', '17', '35.45', '3.16']\n",
      "['Br', '35', '79.904', '2.96']\n",
      "['I', '53', '126.9', '2.66']\n",
      "['At', '85', '210', '2.2']\n",
      "['Ts', '117', '294', '']\n",
      "<class '_csv.reader'>\n"
     ]
    }
   ],
   "source": [
    "import csv\n",
    "import os\n",
    "\n",
    "# Define file path in ~/sandbox/\n",
    "sandbox_dir = os.path.expanduser(\"~/sandbox/\")\n",
    "halogen_csv_sbpath = os.path.join(sandbox_dir, \"halogens.csv\")\n",
    "\n",
    "with open(halogen_csv_sbpath, mode=\"r\") as file:\n",
    "    reader = csv.reader(file)\n",
    "    for row in reader:\n",
    "        print(row)  # Each row is a list\n",
    "print(type(reader))"
   ]
  },
  {
   "cell_type": "code",
   "execution_count": 11,
   "id": "c545116d-04f4-4f17-b9dc-e3715fb31c95",
   "metadata": {},
   "outputs": [
    {
     "name": "stdout",
     "output_type": "stream",
     "text": [
      "[['Element', 'Atomic Number', 'Atomic Mass', 'Electronegativity'], ['F', '9', '18.998', '3.98'], ['Cl', '17', '35.45', '3.16'], ['Br', '35', '79.904', '2.96'], ['I', '53', '126.9', '2.66'], ['At', '85', '210', '2.2'], ['Ts', '117', '294', '']]\n",
      "<class 'list'>\n"
     ]
    }
   ],
   "source": [
    "with open(halogen_csv_sbpath, mode=\"r\", newline=\"\") as file:\n",
    "    reader = csv.reader(file)\n",
    "    halogens_data = list(reader)\n",
    "\n",
    "# Display the data\n",
    "\n",
    "print(halogens_data)\n",
    "print(type(halogens_data))"
   ]
  },
  {
   "cell_type": "code",
   "execution_count": 12,
   "id": "906c9a9b-efe2-44ab-a310-f3cae8df01bd",
   "metadata": {},
   "outputs": [
    {
     "name": "stdout",
     "output_type": "stream",
     "text": [
      "['Element', 'Atomic Number', 'Atomic Mass', 'Electronegativity'] \n",
      "\n",
      "[['F', '9', '18.998', '3.98'], ['Cl', '17', '35.45', '3.16'], ['Br', '35', '79.904', '2.96'], ['I', '53', '126.9', '2.66'], ['At', '85', '210', '2.2'], ['Ts', '117', '294', '']]\n"
     ]
    }
   ],
   "source": [
    "with open(halogen_csv_sbpath, mode=\"r\", newline=\"\") as file:\n",
    "    reader = csv.reader(file)\n",
    "    header = next(reader)  # Reads the first row (header)\n",
    "    halogens_data = list(reader)  # Reads the remaining rows\n",
    "print(header,'\\n')    \n",
    "print(halogens_data)"
   ]
  },
  {
   "cell_type": "code",
   "execution_count": 13,
   "id": "76efe002-c571-4d7f-9de9-88939623cab1",
   "metadata": {},
   "outputs": [
    {
     "name": "stdout",
     "output_type": "stream",
     "text": [
      "{'Element': 'F', 'Atomic Number': '9', 'Atomic Mass': '18.998', 'Electronegativity': '3.98'}\n",
      "{'Element': 'Cl', 'Atomic Number': '17', 'Atomic Mass': '35.45', 'Electronegativity': '3.16'}\n",
      "{'Element': 'Br', 'Atomic Number': '35', 'Atomic Mass': '79.904', 'Electronegativity': '2.96'}\n",
      "{'Element': 'I', 'Atomic Number': '53', 'Atomic Mass': '126.9', 'Electronegativity': '2.66'}\n",
      "{'Element': 'At', 'Atomic Number': '85', 'Atomic Mass': '210', 'Electronegativity': '2.2'}\n",
      "{'Element': 'Ts', 'Atomic Number': '117', 'Atomic Mass': '294', 'Electronegativity': ''}\n"
     ]
    }
   ],
   "source": [
    "with open(halogen_csv_sbpath, mode=\"r\") as file:\n",
    "    reader = csv.DictReader(file)\n",
    "    for row in reader:\n",
    "        print(row)  # Each row is a dictionary"
   ]
  },
  {
   "cell_type": "code",
   "execution_count": 14,
   "id": "831a8170-2b0a-424d-bf2e-02b791d1bd9d",
   "metadata": {},
   "outputs": [
    {
     "name": "stdout",
     "output_type": "stream",
     "text": [
      "F: {'Atomic Number': '9', 'Atomic Mass': '18.998', 'Electronegativity': '3.98'}\n",
      "Cl: {'Atomic Number': '17', 'Atomic Mass': '35.45', 'Electronegativity': '3.16'}\n",
      "Br: {'Atomic Number': '35', 'Atomic Mass': '79.904', 'Electronegativity': '2.96'}\n",
      "I: {'Atomic Number': '53', 'Atomic Mass': '126.9', 'Electronegativity': '2.66'}\n",
      "At: {'Atomic Number': '85', 'Atomic Mass': '210', 'Electronegativity': '2.2'}\n",
      "Ts: {'Atomic Number': '117', 'Atomic Mass': '294', 'Electronegativity': ''}\n"
     ]
    }
   ],
   "source": [
    "import csv\n",
    "\n",
    "# Initialize an empty dictionary to store each halogen's data\n",
    "halogens_dict = {}\n",
    "\n",
    "# Open and read the CSV file\n",
    "with open(halogen_csv_sbpath, mode=\"r\", newline=\"\") as file:\n",
    "    # Create a DictReader with specified field names\n",
    "    reader = csv.DictReader(file, fieldnames=[\"symbol\", \"Atomic Number\", \"Atomic Mass\", \"Electronegativity\"])\n",
    "    next(reader)  # Skip the header row if it exists\n",
    "    for row in reader:\n",
    "        # Use the symbol as the key and store the rest of the data as a dictionary\n",
    "        symbol = row.pop(\"symbol\")\n",
    "        halogens_dict[symbol] = row\n",
    "\n",
    "# Display the data\n",
    "for symbol, data in halogens_dict.items():\n",
    "    print(f\"{symbol}: {data}\")\n"
   ]
  },
  {
   "cell_type": "code",
   "execution_count": 15,
   "id": "f6b7e6cd-4d01-43b3-bdc7-50b46627baa1",
   "metadata": {},
   "outputs": [
    {
     "name": "stdout",
     "output_type": "stream",
     "text": [
      "{'F': {'Atomic Number': '9', 'Atomic Mass': '18.998', 'Electronegativity': '3.98'}, 'Cl': {'Atomic Number': '17', 'Atomic Mass': '35.45', 'Electronegativity': '3.16'}, 'Br': {'Atomic Number': '35', 'Atomic Mass': '79.904', 'Electronegativity': '2.96'}, 'I': {'Atomic Number': '53', 'Atomic Mass': '126.9', 'Electronegativity': '2.66'}, 'At': {'Atomic Number': '85', 'Atomic Mass': '210', 'Electronegativity': '2.2'}, 'Ts': {'Atomic Number': '117', 'Atomic Mass': '294', 'Electronegativity': ''}}\n"
     ]
    }
   ],
   "source": [
    "import csv\n",
    "\n",
    "# create empty dictionary\n",
    "halogen_dict = {}\n",
    "\n",
    "with open(halogen_csv_sbpath, mode=\"r\", newline=\"\") as file:\n",
    "    reader = csv.DictReader(file)\n",
    "    for row in reader:\n",
    "        symbol = row.pop(\"Element\")  # Extract the symbol and remove it from the row dictionary\n",
    "        halogen_dict[symbol] = row   # Assign the remaining data to the symbol key\n",
    "\n",
    "print(halogen_dict)"
   ]
  },
  {
   "cell_type": "code",
   "execution_count": 16,
   "id": "a1cd1965-efb1-417b-b1d9-de4e2283b553",
   "metadata": {},
   "outputs": [
    {
     "name": "stdout",
     "output_type": "stream",
     "text": [
      "The atomic mass of Iodine is 126.9 amu.\n"
     ]
    }
   ],
   "source": [
    "print(f\"The atomic mass of Iodine is {halogen_dict['I']['Atomic Mass']} amu.\")\n"
   ]
  },
  {
   "cell_type": "code",
   "execution_count": 17,
   "id": "992939b3-b9c4-4868-a896-89de9300ab8b",
   "metadata": {},
   "outputs": [
    {
     "name": "stdout",
     "output_type": "stream",
     "text": [
      "{'Fluorine': {'symbol': 'F', 'atomic_number': 9, 'atomic_mass': 18.998, 'electronegativity': 3.98}, 'Chlorine': {'symbol': 'Cl', 'atomic_number': 17, 'atomic_mass': 35.45, 'electronegativity': 3.16}, 'Bromine': {'symbol': 'Br', 'atomic_number': 35, 'atomic_mass': 79.904, 'electronegativity': 2.96}, 'Iodine': {'symbol': 'I', 'atomic_number': 53, 'atomic_mass': 126.9, 'electronegativity': 2.66}, 'Astatine': {'symbol': 'At', 'atomic_number': 85, 'atomic_mass': 210.0, 'electronegativity': 2.2}, 'Tennessine': {'symbol': 'Ts', 'atomic_number': 117, 'atomic_mass': 294.0, 'electronegativity': None}}\n",
      "JSON file '/home/rebelford/sandbox/halogens.json' has been created.\n"
     ]
    }
   ],
   "source": [
    "import os\n",
    "import csv\n",
    "import json\n",
    "# Define file path in ~/sandbox/\n",
    "sandbox_dir = os.path.expanduser(\"~/sandbox/\")\n",
    "halogen_csv_sbpath = os.path.join(sandbox_dir, \"halogens.csv\")\n",
    "halogen_json_sbpath = os.path.join(sandbox_dir, \"halogens.json\")\n",
    "\n",
    "# Halogen name mappings (to match symbol to full element name)\n",
    "halogen_names = {\n",
    "    \"F\": \"Fluorine\",\n",
    "    \"Cl\": \"Chlorine\",\n",
    "    \"Br\": \"Bromine\",\n",
    "    \"I\": \"Iodine\",\n",
    "    \"At\": \"Astatine\",\n",
    "    \"Ts\": \"Tennessine\"\n",
    "}\n",
    "\n",
    "# Read CSV and convert to a dictionary of dictionaries\n",
    "halogen_data = {}\n",
    "with open(halogen_csv_sbpath, mode=\"r\", newline=\"\", encoding=\"utf-8\") as csv_file:\n",
    "    reader = csv.DictReader(csv_file, delimiter=\",\")  # Use ',' if comma-separated\n",
    "    for row in reader:\n",
    "        element_name = halogen_names[row[\"Element\"]]  # Convert symbol to full name\n",
    "        halogen_data[element_name] = {\n",
    "            \"symbol\": row[\"Element\"],  # Include symbol inside the dictionary\n",
    "            \"atomic_number\": int(row[\"Atomic Number\"]),\n",
    "            \"atomic_mass\": float(row[\"Atomic Mass\"]),\n",
    "            \"electronegativity\": float(row[\"Electronegativity\"]) if row[\"Electronegativity\"] else None\n",
    "        }\n",
    "print(halogen_data)\n",
    "# Write to JSON\n",
    "with open(halogen_json_sbpath, mode=\"w\", encoding=\"utf-8\") as json_file:\n",
    "    json.dump(halogen_data, json_file, indent=4)\n",
    "\n",
    "print(f\"JSON file '{halogen_json_sbpath}' has been created.\")\n"
   ]
  },
  {
   "cell_type": "code",
   "execution_count": 18,
   "id": "5013d169-d246-4197-bc30-be7e800e88ce",
   "metadata": {},
   "outputs": [
    {
     "name": "stdout",
     "output_type": "stream",
     "text": [
      "{'Fluorine': {'symbol': 'F', 'atomic_number': 9, 'atomic_mass': 18.998, 'electronegativity': 3.98}, 'Chlorine': {'symbol': 'Cl', 'atomic_number': 17, 'atomic_mass': 35.45, 'electronegativity': 3.16}, 'Bromine': {'symbol': 'Br', 'atomic_number': 35, 'atomic_mass': 79.904, 'electronegativity': 2.96}, 'Iodine': {'symbol': 'I', 'atomic_number': 53, 'atomic_mass': 126.9, 'electronegativity': 2.66}, 'Astatine': {'symbol': 'At', 'atomic_number': 85, 'atomic_mass': 210.0, 'electronegativity': 2.2}, 'Tennessine': {'symbol': 'Ts', 'atomic_number': 117, 'atomic_mass': 294.0, 'electronegativity': None}} \n",
      "\n"
     ]
    }
   ],
   "source": [
    "import os\n",
    "import json\n",
    "# Define file path in ~/sandbox/\n",
    "sandbox_dir = os.path.expanduser(\"~/sandbox/\")\n",
    "halogen_json_sbpath = os.path.join(sandbox_dir, \"halogens.json\")\n",
    "\n",
    "with open(halogen_json_sbpath, \"r\") as file:\n",
    "    halogen_dict = json.load(file)\n",
    "    print(halogen_dict,'\\n')\n"
   ]
  },
  {
   "cell_type": "code",
   "execution_count": 19,
   "id": "3c67f0b9-dcf9-4cd4-a4c7-cca3a3b593b8",
   "metadata": {
    "scrolled": true
   },
   "outputs": [
    {
     "name": "stdout",
     "output_type": "stream",
     "text": [
      "dict_keys(['Fluorine', 'Chlorine', 'Bromine', 'Iodine', 'Astatine', 'Tennessine']) \n",
      "\n",
      "\n",
      "Properties: ['symbol', 'atomic_number', 'atomic_mass', 'electronegativity']\n",
      "\n",
      "The atomic mass of Chlorine is 35.45 amu.\n"
     ]
    }
   ],
   "source": [
    "print(halogen_dict.keys(),\"\\n\")\n",
    "for element, properties in halogen_dict.items():\n",
    "    # Print the element symbol (key of the outer dictionary)\n",
    " #   print(f\"Element: {element}\")\n",
    "\n",
    "    # Since all inner dictionaries have the same keys, we can break after the first iteration\n",
    "    break\n",
    "\n",
    "print(\"\\nProperties:\", list(properties.keys()))\n",
    "print(f\"\\nThe atomic mass of Chlorine is {halogen_dict['Chlorine']['atomic_mass']} amu.\")"
   ]
  },
  {
   "cell_type": "code",
   "execution_count": 20,
   "id": "9c518fc4-a058-4091-b590-d3e0076d1c5c",
   "metadata": {},
   "outputs": [
    {
     "name": "stdout",
     "output_type": "stream",
     "text": [
      "{'Fluorine': {'symbol': 'F', 'atomic_number': 9, 'atomic_mass': 18.998, 'electronegativity': 3.98}, 'Chlorine': {'symbol': 'Cl', 'atomic_number': 17, 'atomic_mass': 35.45, 'electronegativity': 3.16}, 'Bromine': {'symbol': 'Br', 'atomic_number': 35, 'atomic_mass': 79.904, 'electronegativity': 2.96}, 'Iodine': {'symbol': 'I', 'atomic_number': 53, 'atomic_mass': 126.9, 'electronegativity': 2.66}, 'Astatine': {'symbol': 'At', 'atomic_number': 85, 'atomic_mass': 210.0, 'electronegativity': 2.2}, 'Tennessine': {'symbol': 'Ts', 'atomic_number': 117, 'atomic_mass': 294.0, 'electronegativity': None}} \n",
      "\n",
      "Periodic table data pickled at: /home/rebelford/sandbox/halogen.pkl\n"
     ]
    }
   ],
   "source": [
    "import os\n",
    "import pickle\n",
    "import json\n",
    "\n",
    "# Define paths in ~/sandbox/\n",
    "sandbox_dir = os.path.expanduser(\"~/sandbox/\")\n",
    "halogen_pkl_sbpath = os.path.join(sandbox_dir, \"halogen.pkl\")\n",
    "halogen_json_sbpath = os.path.join(sandbox_dir, \"halogens.json\")\n",
    "\n",
    "# Open the dictionary\n",
    "with open(halogen_json_sbpath, \"r\") as file:\n",
    "    halogen_dict = json.load(file)\n",
    "    print(halogen_dict,'\\n')\n",
    "\n",
    "\n",
    "# Define pickle path in ~/sandbox/\n",
    "sandbox_dir = os.path.expanduser(\"~/sandbox/\")\n",
    "halogen_pkl_sbpath = os.path.join(sandbox_dir, \"halogen.pkl\")\n",
    "\n",
    "# Save the dictionary as a Pickle file\n",
    "with open(halogen_pkl_sbpath, \"wb\") as pickle_file:\n",
    "    pickle.dump(halogen_dict, pickle_file)\n",
    "\n",
    "print(f\"Periodic table data pickled at: {halogen_pkl_sbpath}\")"
   ]
  },
  {
   "cell_type": "code",
   "execution_count": 21,
   "id": "09d54f26-4b10-475d-8775-5e04f8da9fbd",
   "metadata": {},
   "outputs": [
    {
     "name": "stdout",
     "output_type": "stream",
     "text": [
      "{'Fluorine': {'symbol': 'F', 'atomic_number': 9, 'atomic_mass': 18.998, 'electronegativity': 3.98}, 'Chlorine': {'symbol': 'Cl', 'atomic_number': 17, 'atomic_mass': 35.45, 'electronegativity': 3.16}, 'Bromine': {'symbol': 'Br', 'atomic_number': 35, 'atomic_mass': 79.904, 'electronegativity': 2.96}, 'Iodine': {'symbol': 'I', 'atomic_number': 53, 'atomic_mass': 126.9, 'electronegativity': 2.66}, 'Astatine': {'symbol': 'At', 'atomic_number': 85, 'atomic_mass': 210.0, 'electronegativity': 2.2}, 'Tennessine': {'symbol': 'Ts', 'atomic_number': 117, 'atomic_mass': 294.0, 'electronegativity': None}}\n",
      "\n",
      "Data for Oxygen (from Pickle):\n",
      "Element not found!\n",
      "\n",
      "Data for chlorine (from Pickle):\n",
      "{'symbol': 'Cl', 'atomic_number': 17, 'atomic_mass': 35.45, 'electronegativity': 3.16}\n",
      "\n",
      "Electronegativity data for chlorine (from Pickle):\n",
      "3.16\n"
     ]
    }
   ],
   "source": [
    "import os\n",
    "import pickle\n",
    "\n",
    "# Define path in ~/sandbox/\n",
    "sandbox_dir = os.path.expanduser(\"~/sandbox/\")\n",
    "halogen_pkl_sbpath = os.path.join(sandbox_dir, \"halogen.pkl\")\n",
    "\n",
    "# Load the Pickle file\n",
    "with open(halogen_pkl_sbpath, \"rb\") as pickle_file:\n",
    "    unpickled_halogens = pickle.load(pickle_file)\n",
    "\n",
    "# Display a sample element (Oxygen)\n",
    "print(unpickled_halogens)\n",
    "print(f\"\\nData for Oxygen (from Pickle):\")\n",
    "print(unpickled_halogens.get(\"Oxygen\", \"Element not found!\"))\n",
    "print(f\"\\nData for chlorine (from Pickle):\")\n",
    "print(unpickled_halogens.get(\"Chlorine\", \"Element not found!\"))\n",
    "print(f\"\\nElectronegativity data for chlorine (from Pickle):\")\n",
    "print(unpickled_halogens['Chlorine']['electronegativity'])"
   ]
  },
  {
   "cell_type": "code",
   "execution_count": 22,
   "id": "64deddf2-0ef5-4942-bf33-487becb5e74b",
   "metadata": {},
   "outputs": [
    {
     "name": "stdout",
     "output_type": "stream",
     "text": [
      "Downloading PubChem CSV to: /home/rebelford/data/pubchem_data/PubChemElements_all.csv ...\n"
     ]
    },
    {
     "name": "stdout",
     "output_type": "stream",
     "text": [
      "Download complete!\n",
      "File successfully saved at: /home/rebelford/data/pubchem_data/PubChemElements_all.csv\n",
      "\n",
      "First few rows of the dataset:\n",
      "   AtomicNumber Symbol       Name  AtomicMass CPKHexColor  \\\n",
      "0             1      H   Hydrogen    1.008000      FFFFFF   \n",
      "1             2     He     Helium    4.002600      D9FFFF   \n",
      "2             3     Li    Lithium    7.000000      CC80FF   \n",
      "3             4     Be  Beryllium    9.012183      C2FF00   \n",
      "4             5      B      Boron   10.810000      FFB5B5   \n",
      "\n",
      "  ElectronConfiguration  Electronegativity  AtomicRadius  IonizationEnergy  \\\n",
      "0                   1s1               2.20         120.0            13.598   \n",
      "1                   1s2                NaN         140.0            24.587   \n",
      "2               [He]2s1               0.98         182.0             5.392   \n",
      "3               [He]2s2               1.57         153.0             9.323   \n",
      "4           [He]2s2 2p1               2.04         192.0             8.298   \n",
      "\n",
      "   ElectronAffinity OxidationStates StandardState  MeltingPoint  BoilingPoint  \\\n",
      "0             0.754          +1, -1           Gas         13.81         20.28   \n",
      "1               NaN               0           Gas          0.95          4.22   \n",
      "2             0.618              +1         Solid        453.65       1615.00   \n",
      "3               NaN              +2         Solid       1560.00       2744.00   \n",
      "4             0.277              +3         Solid       2348.00       4273.00   \n",
      "\n",
      "    Density            GroupBlock YearDiscovered  \n",
      "0  0.000090              Nonmetal           1766  \n",
      "1  0.000179             Noble gas           1868  \n",
      "2  0.534000          Alkali metal           1817  \n",
      "3  1.850000  Alkaline earth metal           1798  \n",
      "4  2.370000             Metalloid           1808  \n"
     ]
    }
   ],
   "source": [
    "import os\n",
    "import urllib.request\n",
    "import pandas as pd\n",
    "\n",
    "# Define the directory structure\n",
    "base_data_dir = os.path.expanduser(\"~/data\")  # Parent directory\n",
    "pubchem_data_dir = os.path.join(base_data_dir, \"pubchem_data\")  # Subdirectory for PubChem\n",
    "os.makedirs(pubchem_data_dir, exist_ok=True)  # Ensure directories exist\n",
    "\n",
    "# Define file URL and local path\n",
    "file_url = \"https://pubchem.ncbi.nlm.nih.gov/rest/pug/periodictable/CSV?response_type=save&response_basename=PubChemElements_all\"\n",
    "local_file_path = os.path.join(pubchem_data_dir, \"PubChemElements_all.csv\")\n",
    "\n",
    "# Download the file\n",
    "print(f\"Downloading PubChem CSV to: {local_file_path} ...\")\n",
    "urllib.request.urlretrieve(file_url, local_file_path)\n",
    "print(\"Download complete!\")\n",
    "\n",
    "# Verify if the file was saved\n",
    "if os.path.exists(local_file_path):\n",
    "    print(f\"File successfully saved at: {local_file_path}\")\n",
    "\n",
    "    # Load into Pandas DataFrame\n",
    "    df = pd.read_csv(local_file_path)\n",
    "    print(\"\\nFirst few rows of the dataset:\")\n",
    "    print(df.head())  # Display first few rows\n",
    "\n",
    "else:\n",
    "    print(\"Download failed!\")"
   ]
  }
 ],
 "metadata": {
  "kernelspec": {
   "display_name": "Python (py4sci)",
   "language": "python",
   "name": "py4sci"
  },
  "language_info": {
   "codemirror_mode": {
    "name": "ipython",
    "version": 3
   },
   "file_extension": ".py",
   "mimetype": "text/x-python",
   "name": "python",
   "nbconvert_exporter": "python",
   "pygments_lexer": "ipython3",
   "version": "3.10.17"
  }
 },
 "nbformat": 4,
 "nbformat_minor": 5
}