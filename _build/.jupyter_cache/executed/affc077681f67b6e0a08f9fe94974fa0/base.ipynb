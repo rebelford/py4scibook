{
 "cells": [
  {
   "cell_type": "code",
   "execution_count": 1,
   "id": "c704060f-79fa-478d-a174-599f3c1603b0",
   "metadata": {},
   "outputs": [
    {
     "name": "stdout",
     "output_type": "stream",
     "text": [
      "Random float (0-1): 0.6394267984578837\n",
      "Random integer (1-10): 1\n",
      "Random float (10-20): 17.41550499759833\n",
      "Random element: He\n",
      "Random sample of 3 elements: ['He', 'B', 'Li']\n",
      "Shuffled elements: ['Be', 'He', 'Li', 'B', 'H']\n",
      "Random number from normal distribution (mean=0, std=1): 0.4347603342594289\n"
     ]
    }
   ],
   "source": [
    "import random\n",
    "\n",
    "# Seeding for reproducibility\n",
    "random.seed(42)\n",
    "\n",
    "# Generate random float\n",
    "print(\"Random float (0-1):\", random.random())\n",
    "\n",
    "# Generate random integer\n",
    "print(\"Random integer (1-10):\", random.randint(1, 10))\n",
    "\n",
    "# Generate a random float in a range\n",
    "print(\"Random float (10-20):\", random.uniform(10, 20))\n",
    "\n",
    "# Random choice from a list\n",
    "elements = ['H', 'He', 'Li', 'Be', 'B']\n",
    "print(\"Random element:\", random.choice(elements))\n",
    "\n",
    "# Random sample (without replacement)\n",
    "print(\"Random sample of 3 elements:\", random.sample(elements, 3))\n",
    "\n",
    "# Shuffle a list\n",
    "random.shuffle(elements)\n",
    "print(\"Shuffled elements:\", elements)\n",
    "\n",
    "# Normal distribution\n",
    "print(\"Random number from normal distribution (mean=0, std=1):\", random.gauss(0, 1))"
   ]
  },
  {
   "cell_type": "code",
   "execution_count": 2,
   "id": "98889a78-1c0e-45eb-a9cf-aded149b2710",
   "metadata": {},
   "outputs": [
    {
     "name": "stdout",
     "output_type": "stream",
     "text": [
      "[56.13, 53.24, 42.97, 70.28, 34.04, 50.38, 59.64, 57.02, 56.71, 39.86]\n"
     ]
    },
    {
     "data": {
      "image/png": "[encoded data removed]",
      "text/plain": [
       "<Figure size 800x500 with 1 Axes>"
      ]
     },
     "metadata": {},
     "output_type": "display_data"
    }
   ],
   "source": [
    "import random\n",
    "import matplotlib.pyplot as plt\n",
    "\n",
    "# Set seed for reproducibility\n",
    "random.seed(32)\n",
    "\n",
    "# Generate 100 data points with a normal distribution (mean = 50, stdev = 10)\n",
    "data = [random.gauss(50, 10) for _ in range(100)]\n",
    "\n",
    "# Optional: Round values for simpler interpretation\n",
    "data = [round(num, 2) for num in data]\n",
    "\n",
    "# Preview first 10 values\n",
    "print(data[:10])\n",
    "plt.figure(figsize=(8, 5))\n",
    "plt.hist(data, bins=10, edgecolor='black')\n",
    "plt.title('Histogram of Normally Distributed Data')\n",
    "plt.xlabel('Value')\n",
    "plt.ylabel('Frequency')\n",
    "plt.grid(True)\n",
    "plt.show()\n",
    "\n"
   ]
  },
  {
   "cell_type": "code",
   "execution_count": 3,
   "id": "91ff7e19-90c1-4568-9ed2-213c9f06d2ba",
   "metadata": {},
   "outputs": [
    {
     "name": "stdout",
     "output_type": "stream",
     "text": [
      "Mean: 49.4651\n"
     ]
    }
   ],
   "source": [
    "import statistics\n",
    "\n",
    "mean_value = statistics.mean(data)\n",
    "print(f\"Mean: {mean_value}\")"
   ]
  },
  {
   "cell_type": "code",
   "execution_count": 4,
   "id": "5d027396-9bcf-493a-bede-bc7a976e6844",
   "metadata": {},
   "outputs": [
    {
     "name": "stdout",
     "output_type": "stream",
     "text": [
      "Median: 50.33\n"
     ]
    }
   ],
   "source": [
    "median_value = statistics.median(data)\n",
    "print(f\"Median: {median_value}\")"
   ]
  },
  {
   "cell_type": "code",
   "execution_count": 5,
   "id": "2ff4d4f1-9a50-40f4-91e4-9fdde3e926d0",
   "metadata": {},
   "outputs": [
    {
     "name": "stdout",
     "output_type": "stream",
     "text": [
      "Mode: 52.66\n"
     ]
    }
   ],
   "source": [
    "mode_value = statistics.mode(data)\n",
    "print(f\"Mode: {mode_value}\")"
   ]
  },
  {
   "cell_type": "code",
   "execution_count": 6,
   "id": "5d13fbe1-7940-4f3c-8a84-67c75531985e",
   "metadata": {},
   "outputs": [
    {
     "name": "stdout",
     "output_type": "stream",
     "text": [
      "Multimode: [52.66]\n",
      "<class 'list'>\n"
     ]
    }
   ],
   "source": [
    "multimode_values = statistics.multimode(data)\n",
    "print(f\"Multimode: {multimode_values}\")\n",
    "print(type(multimode_values))"
   ]
  },
  {
   "cell_type": "code",
   "execution_count": 7,
   "id": "13981b13-f1c0-49c5-8f98-7fd10f881781",
   "metadata": {},
   "outputs": [
    {
     "name": "stdout",
     "output_type": "stream",
     "text": [
      "Sample Variance: 112.42942120202021\n"
     ]
    }
   ],
   "source": [
    "sample_variance = statistics.variance(data)\n",
    "print(f\"Sample Variance: {sample_variance}\")"
   ]
  },
  {
   "cell_type": "code",
   "execution_count": 8,
   "id": "da82b7c0-cd76-4fc2-93b9-29301b22bfe9",
   "metadata": {},
   "outputs": [
    {
     "name": "stdout",
     "output_type": "stream",
     "text": [
      "Sample Standard Deviation: 10.603274079359648\n"
     ]
    }
   ],
   "source": [
    "sample_stdev = statistics.stdev(data)\n",
    "print(f\"Sample Standard Deviation: {sample_stdev}\")"
   ]
  },
  {
   "cell_type": "code",
   "execution_count": 9,
   "id": "fd330568-1991-413f-8a19-c13613958b05",
   "metadata": {},
   "outputs": [
    {
     "name": "stdout",
     "output_type": "stream",
     "text": [
      "Population Variance: 111.30512699\n",
      "Population Standard Deviation: 10.550124501161113\n"
     ]
    }
   ],
   "source": [
    "population_variance = statistics.pvariance(data)\n",
    "population_stdev = statistics.pstdev(data)\n",
    "\n",
    "print(f\"Population Variance: {population_variance}\")\n",
    "print(f\"Population Standard Deviation: {population_stdev}\")"
   ]
  },
  {
   "cell_type": "code",
   "execution_count": 10,
   "id": "d2b54d6b-8a4f-434b-b641-7e2b163efd52",
   "metadata": {},
   "outputs": [
    {
     "name": "stdout",
     "output_type": "stream",
     "text": [
      "Quartiles: [43.53, 50.33, 54.805]\n"
     ]
    }
   ],
   "source": [
    "quartiles = statistics.quantiles(data, n=4)\n",
    "print(f\"Quartiles: {quartiles}\")"
   ]
  },
  {
   "cell_type": "code",
   "execution_count": 11,
   "id": "b445d800-e196-4cbd-845f-7ba2378d6f29",
   "metadata": {},
   "outputs": [
    {
     "name": "stdout",
     "output_type": "stream",
     "text": [
      "Geometric Mean: 48.25233824320789\n"
     ]
    }
   ],
   "source": [
    "geo_mean = statistics.geometric_mean(data)\n",
    "print(f\"Geometric Mean: {geo_mean}\")"
   ]
  },
  {
   "cell_type": "code",
   "execution_count": 12,
   "id": "e5032bc9-9bbd-447c-8c41-7b9f7feffbd7",
   "metadata": {},
   "outputs": [
    {
     "name": "stdout",
     "output_type": "stream",
     "text": [
      "Correlation: 0.9514448415358394\n",
      "Covariance: 113.6918302929293\n"
     ]
    }
   ],
   "source": [
    "# Generate a second variable (y) that tracks x with some noise\n",
    "x = list(range(25))\n",
    "y = [d + random.randint(-5, 5) for d in data]\n",
    "\n",
    "corr = statistics.correlation(data, y)\n",
    "cov = statistics.covariance(data, y)\n",
    "\n",
    "print(f\"Correlation: {corr}\")\n",
    "print(f\"Covariance: {cov}\")"
   ]
  }
 ],
 "metadata": {
  "kernelspec": {
   "display_name": "Python (py4sci)",
   "language": "python",
   "name": "py4sci"
  },
  "language_info": {
   "codemirror_mode": {
    "name": "ipython",
    "version": 3
   },
   "file_extension": ".py",
   "mimetype": "text/x-python",
   "name": "python",
   "nbconvert_exporter": "python",
   "pygments_lexer": "ipython3",
   "version": "3.10.17"
  }
 },
 "nbformat": 4,
 "nbformat_minor": 5
}