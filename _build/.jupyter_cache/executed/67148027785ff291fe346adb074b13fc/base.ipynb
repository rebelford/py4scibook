{
 "cells": [
  {
   "cell_type": "code",
   "execution_count": 1,
   "id": "7d33d960-82ee-435b-b22b-0f12f7084cdc",
   "metadata": {},
   "outputs": [
    {
     "name": "stdout",
     "output_type": "stream",
     "text": [
      "['He', 'Ne', 'Ar', 'Kr', 'Xe', 'Rn', 'Og']\n",
      "[4.22, 27.07, 87.3, 119.93, 165.03, 211.3, None]\n"
     ]
    }
   ],
   "source": [
    "noble_gases = [\"He\", \"Ne\", \"Ar\", \"Kr\", \"Xe\", \"Rn\", \"Og\"]\n",
    "atomic_masses = [4.0026, 20.180, 39.948, 83.798, 131.293, 222, 294]  # g/mol\n",
    "atomic_numbers = [2, 10, 18, 36, 54, 86, 118]  # Atomic numbers\n",
    "boiling_points = [4.22, 27.07, 87.30, 119.93, 165.03, 211.3, None]  # K (Og unknown)\n",
    "print(noble_gases)\n",
    "print(boiling_points)"
   ]
  },
  {
   "cell_type": "code",
   "execution_count": 2,
   "id": "7252498c-7913-44fd-9cb9-79392f393710",
   "metadata": {},
   "outputs": [
    {
     "name": "stdout",
     "output_type": "stream",
     "text": [
      "['Methane', 'Ethane', 'Propane', 'Butane', 'Pentane', 'Hexane', 'Heptane', 'Octane', 'Nonane', 'Decane']\n",
      "[-161.5, -88.5, -42.1, -0.5, 36.1, 68.7, 98.4, 125.7, 150.8, 174.1]\n"
     ]
    }
   ],
   "source": [
    "alkanes = list((\"Methane\", \"Ethane\", \"Propane\", \"Butane\", \"Pentane\",\n",
    "                \"Hexane\", \"Heptane\", \"Octane\", \"Nonane\", \"Decane\"))\n",
    "\n",
    "alkane_bp = list((-161.5, -88.5, -42.1, -0.5, 36.1,\n",
    "                  68.7, 98.4, 125.7, 150.8, 174.1))  # Boiling points in °C\n",
    "\n",
    "print(alkanes)\n",
    "print(alkane_bp)"
   ]
  },
  {
   "cell_type": "code",
   "execution_count": 3,
   "id": "f5003b18-ce55-49b9-aea5-a8588a1fdb3a",
   "metadata": {},
   "outputs": [
    {
     "name": "stdout",
     "output_type": "stream",
     "text": [
      "[]\n"
     ]
    }
   ],
   "source": [
    "my_sum = []\n",
    "print(my_sum)"
   ]
  },
  {
   "cell_type": "code",
   "execution_count": 4,
   "id": "c3fa3773-b7b3-4d4e-abfd-3444f9cb8307",
   "metadata": {},
   "outputs": [
    {
     "name": "stdout",
     "output_type": "stream",
     "text": [
      "['hydrogen', 'helium']\n"
     ]
    }
   ],
   "source": [
    "elements = [\"hydrogen\", \"helium\"]\n",
    "print(elements)"
   ]
  },
  {
   "cell_type": "code",
   "execution_count": 5,
   "id": "ee8d88e9-44e2-4c6f-bbac-64ef33e961d3",
   "metadata": {},
   "outputs": [
    {
     "name": "stdout",
     "output_type": "stream",
     "text": [
      "['hydrogen', 1.00784, 'helium', 4.002602, 'lithium', 6.941, 'beryllium', 9.012182]\n"
     ]
    }
   ],
   "source": [
    "# Create and print a list\n",
    "molar_mass=['hydrogen',1.00784,'helium',4.002602,'lithium', 6.941, 'beryllium', 9.012182]\n",
    "print(molar_mass)"
   ]
  },
  {
   "cell_type": "code",
   "execution_count": 6,
   "id": "85fa6036-195f-4fbd-9e78-9955c78d0a3c",
   "metadata": {},
   "outputs": [
    {
     "name": "stdout",
     "output_type": "stream",
     "text": [
      "8\n",
      "There are 8 items in the list molar_Mass\n"
     ]
    }
   ],
   "source": [
    "# determine the length of a list\n",
    "print(len(molar_mass))\n",
    "print(f\"There are {len(molar_mass)} items in the list molar_Mass\")"
   ]
  },
  {
   "cell_type": "code",
   "execution_count": 7,
   "id": "ac40954d-a627-44fe-94a2-ca244d6d41ed",
   "metadata": {},
   "outputs": [
    {
     "name": "stdout",
     "output_type": "stream",
     "text": [
      "['hydrogen', 'helium', 'lithium', 'beryllium']\n",
      "[1.00784, 4.002602, 6.941, 9.012182]\n"
     ]
    }
   ],
   "source": [
    "# use indexing to print even items (starting with zero)\n",
    "print(molar_mass[0::2])\n",
    "print(molar_mass[1::2])"
   ]
  },
  {
   "cell_type": "code",
   "execution_count": 8,
   "id": "7285703e-7376-48c4-8912-1da8b35e4fc7",
   "metadata": {},
   "outputs": [
    {
     "name": "stdout",
     "output_type": "stream",
     "text": [
      "[1.00784, 4.002602, 6.941, 9.012182]\n",
      "<class 'list'>\n",
      "20.963624\n"
     ]
    }
   ],
   "source": [
    "# summing the masses\n",
    "masses = molar_mass[1::2]\n",
    "print(masses)\n",
    "print(type(masses))\n",
    "print(sum(masses))"
   ]
  },
  {
   "cell_type": "code",
   "execution_count": 9,
   "id": "5f0732d8-9abb-4221-8076-4630ff2b93f8",
   "metadata": {},
   "outputs": [
    {
     "name": "stdout",
     "output_type": "stream",
     "text": [
      "5.240906\n"
     ]
    }
   ],
   "source": [
    "# calculate the average molar mass\n",
    "ave = sum(molar_mass[1::2])/len(molar_mass[1::2])\n",
    "print(ave)"
   ]
  },
  {
   "cell_type": "code",
   "execution_count": 10,
   "id": "424ffffe-2f08-4f83-b404-4162d0490fac",
   "metadata": {},
   "outputs": [
    {
     "name": "stdout",
     "output_type": "stream",
     "text": [
      "5.240906\n"
     ]
    }
   ],
   "source": [
    "import statistics\n",
    "print(statistics.mean(molar_mass[1::2]))"
   ]
  },
  {
   "cell_type": "code",
   "execution_count": 11,
   "id": "e42dc4b8-1f29-4545-84e9-1e1619961478",
   "metadata": {},
   "outputs": [],
   "source": [
    "noble_gases = [\"He\", \"Ne\", \"Ar\", \"Kr\", \"Xe\", \"Rn\", \"Og\"]\n",
    "ng_atomic_masses = [4.0026, 20.180, 39.948, 83.798, 131.293, 222, 294]\n",
    "ng_atomic_numbers = [2, 10, 18, 36, 54, 86, 118]  # Atomic numbers\n",
    "ng_boiling_points = [4.22, 27.07, 87.30, 119.93, 165.03, 211.3, None]  # K (Og unknown)"
   ]
  },
  {
   "cell_type": "code",
   "execution_count": 12,
   "id": "cadaefed-66aa-4f28-8b03-7f89c662318d",
   "metadata": {},
   "outputs": [
    {
     "name": "stdout",
     "output_type": "stream",
     "text": [
      "Noble gases: \t['He', 'Ne', 'Ar', 'Kr', 'Xe', 'Rn', 'Og'] \n",
      "Atomic masses: \t[4.0026, 20.18, 39.948, 83.798, 131.293, 222, 294] \n",
      "Atomic numbers: [2, 10, 18, 36, 54, 86, 118]\n",
      "Boiling Points: [4.22, 27.07, 87.3, 119.93, 165.03, 211.3, None] \n"
     ]
    }
   ],
   "source": [
    "print(f\"Noble gases: \\t{noble_gases} \\nAtomic masses: \\t{ng_atomic_masses} \\\n",
    "\\nAtomic numbers: {ng_atomic_numbers}\\nBoiling Points: {ng_boiling_points} \")"
   ]
  },
  {
   "cell_type": "code",
   "execution_count": 13,
   "id": "2712d709-2684-4dd8-99d7-b116cf376b86",
   "metadata": {},
   "outputs": [
    {
     "name": "stdout",
     "output_type": "stream",
     "text": [
      " The boiling point of Ne is 27.07\n"
     ]
    }
   ],
   "source": [
    "# Using Indexing\n",
    "print(f\" The boiling point of {noble_gases[1]} is {ng_boiling_points[1]}\")"
   ]
  },
  {
   "cell_type": "code",
   "execution_count": 14,
   "id": "e757b284-f0a3-4fec-9f50-8de6f7349185",
   "metadata": {},
   "outputs": [
    {
     "name": "stdout",
     "output_type": "stream",
     "text": [
      "The boiling point of He is 4.22 K.\n",
      "The boiling point of Ne is 27.07 K.\n",
      "The boiling point of Ar is 87.3 K.\n",
      "The boiling point of Kr is 119.93 K.\n",
      "The boiling point of Xe is 165.03 K.\n",
      "The boiling point of Rn is 211.3 K.\n",
      "The boiling point of Og is unknown.\n"
     ]
    }
   ],
   "source": [
    "# Loop through each index and print the name and boiling point\n",
    "noble_gases = [\"He\", \"Ne\", \"Ar\", \"Kr\", \"Xe\", \"Rn\", \"Og\"]\n",
    "ng_boiling_points = [4.22, 27.07, 87.3, 119.93, 165.03, 211.3, None] \n",
    "\n",
    "for i in range(len(noble_gases)):\n",
    "    if ng_boiling_points[i] is None:\n",
    "        print(f\"The boiling point of {noble_gases[i]} is unknown.\")\n",
    "    else:\n",
    "        print(f\"The boiling point of {noble_gases[i]} is {ng_boiling_points[i]} K.\")\n"
   ]
  },
  {
   "cell_type": "code",
   "execution_count": 15,
   "id": "3d407752-8fc5-489b-8d5c-9bf14df56d7f",
   "metadata": {},
   "outputs": [
    {
     "name": "stdout",
     "output_type": "stream",
     "text": [
      "['He', 4.22, 'Ne', 27.07, 'Ar', 87.3, 'Kr', 119.93, 'Xe', 165.03, 'Rn', 211.3, 'Og', None]\n"
     ]
    }
   ],
   "source": [
    "noble_gases = [\"He\", \"Ne\", \"Ar\", \"Kr\", \"Xe\", \"Rn\", \"Og\"]\n",
    "ng_boiling_points = [4.22, 27.07, 87.3, 119.93, 165.03, 211.3, None] \n",
    "\n",
    "combined_list = []\n",
    "for gas, bp in zip(noble_gases, ng_boiling_points):\n",
    "    combined_list.append(gas)\n",
    "    combined_list.append(bp)\n",
    "\n",
    "print(combined_list)\n"
   ]
  },
  {
   "cell_type": "code",
   "execution_count": 16,
   "id": "ea82b2cd-65ce-4efb-8368-66941f7267eb",
   "metadata": {},
   "outputs": [
    {
     "name": "stdout",
     "output_type": "stream",
     "text": [
      "102.47500000000001\n"
     ]
    }
   ],
   "source": [
    "cleaned_molarmass = [x for x in combined_list[1::2] if x is not None]\n",
    "average = statistics.mean(cleaned_molarmass)\n",
    "print(average)  \n"
   ]
  },
  {
   "cell_type": "code",
   "execution_count": 17,
   "id": "0c716c48-816e-4e16-985e-b062db480627",
   "metadata": {},
   "outputs": [
    {
     "name": "stdout",
     "output_type": "stream",
     "text": [
      "Zipped List of Tuples:\n",
      "[('He', 4.22), ('Ne', 27.07), ('Ar', 87.3), ('Kr', 119.93), ('Xe', 165.03), ('Rn', 211.3), ('Og', None)]\n"
     ]
    }
   ],
   "source": [
    "noble_gases = [\"He\", \"Ne\", \"Ar\", \"Kr\", \"Xe\", \"Rn\", \"Og\"]\n",
    "ng_boiling_points = [4.22, 27.07, 87.3, 119.93, 165.03, 211.3, None]\n",
    "\n",
    "# Convert zip object to a list of tuples\n",
    "zipped_list = list(zip(noble_gases, ng_boiling_points))\n",
    "\n",
    "print(\"Zipped List of Tuples:\")\n",
    "print(zipped_list)"
   ]
  },
  {
   "cell_type": "code",
   "execution_count": 18,
   "id": "5bfc4fca-b298-419c-bb99-961c320128db",
   "metadata": {},
   "outputs": [
    {
     "name": "stdout",
     "output_type": "stream",
     "text": [
      "Tuples from zip(noble_gases, ng_boiling_points):\n",
      "('He', 4.22)\n",
      "('Ne', 27.07)\n",
      "('Ar', 87.3)\n",
      "('Kr', 119.93)\n",
      "('Xe', 165.03)\n",
      "('Rn', 211.3)\n",
      "('Og', None)\n"
     ]
    }
   ],
   "source": [
    "print(\"Tuples from zip(noble_gases, ng_boiling_points):\")\n",
    "for pair in zip(noble_gases, ng_boiling_points):\n",
    "    print(pair)"
   ]
  },
  {
   "cell_type": "code",
   "execution_count": 19,
   "id": "e8075b3a-ab37-479c-ac30-325e6b82fd7f",
   "metadata": {},
   "outputs": [
    {
     "name": "stdout",
     "output_type": "stream",
     "text": [
      "He\n",
      "Og\n"
     ]
    }
   ],
   "source": [
    "noble_gases = (\"He\", \"Ne\", \"Ar\", \"Kr\", \"Xe\", \"Rn\", \"Og\")\n",
    "\n",
    "print(noble_gases[0])  # 'He'\n",
    "print(noble_gases[-1]) # 'Og' (Last element)\n"
   ]
  },
  {
   "cell_type": "code",
   "execution_count": 20,
   "id": "7236b81d-2145-4071-bdfb-0e5dab3bf797",
   "metadata": {},
   "outputs": [
    {
     "name": "stdout",
     "output_type": "stream",
     "text": [
      "('He', 'Ne', 'Ar', 'Kr', 'Xe', 'Rn', 'Og')\n",
      "('Ne', 'Ar', 'Kr')\n",
      "('He', 'Ne', 'Ar')\n",
      "('Xe', 'Rn', 'Og')\n"
     ]
    }
   ],
   "source": [
    "print(noble_gases)\n",
    "print(noble_gases[1:4])  # ('Ne', 'Ar', 'Kr')  -> Extracts elements 1 to 3\n",
    "print(noble_gases[:3])   # ('He', 'Ne', 'Ar')  -> First three elements\n",
    "print(noble_gases[4:])   # ('Xe', 'Rn', 'Og')  -> From index 4 to end\n"
   ]
  },
  {
   "cell_type": "code",
   "execution_count": 21,
   "id": "d1170c21-c56a-4659-8664-d257ed0825f6",
   "metadata": {},
   "outputs": [
    {
     "name": "stdout",
     "output_type": "stream",
     "text": [
      "He\n",
      "Ne\n",
      "Ar\n",
      "Kr\n",
      "Xe\n",
      "Rn\n",
      "Og\n"
     ]
    }
   ],
   "source": [
    "for gas in noble_gases:\n",
    "    print(gas)\n"
   ]
  },
  {
   "cell_type": "code",
   "execution_count": 22,
   "id": "96a9addc-5c34-4e1e-8b5a-8ad539d89d28",
   "metadata": {},
   "outputs": [
    {
     "name": "stdout",
     "output_type": "stream",
     "text": [
      "H\n",
      "He\n",
      "Li\n"
     ]
    }
   ],
   "source": [
    "element1, element2, element3 = (\"H\", \"He\", \"Li\")\n",
    "\n",
    "print(element1)  # H\n",
    "print(element2)  # He\n",
    "print(element3)  # Li\n"
   ]
  },
  {
   "cell_type": "code",
   "execution_count": 23,
   "id": "5bc5c273-73d0-4e26-8ee0-82d3cb38a2ff",
   "metadata": {},
   "outputs": [
    {
     "name": "stdout",
     "output_type": "stream",
     "text": [
      "[('He', 4.22), ('Ne', 27.07), ('Ar', 87.3), ('Kr', 119.93), ('Xe', 165.03), ('Rn', 211.3), ('Og', None)]\n"
     ]
    }
   ],
   "source": [
    "noble_gases = (\"He\", \"Ne\", \"Ar\", \"Kr\", \"Xe\", \"Rn\", \"Og\")\n",
    "boiling_points = (4.22, 27.07, 87.3, 119.93, 165.03, 211.3, None)\n",
    "\n",
    "zipped_data = list(zip(noble_gases, boiling_points))\n",
    "print(zipped_data)\n"
   ]
  },
  {
   "cell_type": "code",
   "execution_count": 24,
   "id": "069617b1-7eba-4c74-8e9a-8d7c86f4e5ea",
   "metadata": {},
   "outputs": [
    {
     "name": "stdout",
     "output_type": "stream",
     "text": [
      "[('Hydrogen', 'H', 1.008), ('Helium', 'He', 4.0026), ('Lithium', 'Li', 6.94)]\n"
     ]
    }
   ],
   "source": [
    "names = [\"Hydrogen\", \"Helium\", \"Lithium\"]\n",
    "symbols = [\"H\", \"He\", \"Li\"]\n",
    "atomic_weights = [1.008, 4.0026, 6.94]\n",
    "\n",
    "zipped_data = list(zip(names, symbols, atomic_weights))\n",
    "print(zipped_data)\n"
   ]
  },
  {
   "cell_type": "code",
   "execution_count": 25,
   "id": "3d128587-d3f9-4008-926e-2cc455899272",
   "metadata": {},
   "outputs": [
    {
     "name": "stdout",
     "output_type": "stream",
     "text": [
      "('Hydrogen', 'Helium', 'Lithium')\n",
      "('H', 'He', 'Li')\n",
      "(1.008, 4.0026, 6.94)\n"
     ]
    }
   ],
   "source": [
    "m_names, m_symbols, m_atomic_weights=zip(*zipped_data)\n",
    "print(m_names)\n",
    "print(m_symbols)\n",
    "print(m_atomic_weights)"
   ]
  },
  {
   "cell_type": "code",
   "execution_count": 26,
   "id": "6f625f78-2c97-4a35-9b2b-3497cd497a4c",
   "metadata": {},
   "outputs": [
    {
     "name": "stdout",
     "output_type": "stream",
     "text": [
      "{'H', 'Be', 'Li', 'He'}\n",
      "{1, 2, 3, 4}\n"
     ]
    }
   ],
   "source": [
    "# Creating sets\n",
    "chemical_elements = {\"H\", \"He\", \"Li\", \"Be\"}\n",
    "print(chemical_elements)  # Output: {'H', 'He', 'Li', 'Be'}\n",
    "\n",
    "# Using set() constructor\n",
    "unique_numbers = set([1, 2, 2, 3, 4, 4])\n",
    "print(unique_numbers)  # Output: {1, 2, 3, 4}"
   ]
  },
  {
   "cell_type": "code",
   "execution_count": 27,
   "id": "f893941c-1cc3-4f83-96f8-9fa050d8f641",
   "metadata": {},
   "outputs": [
    {
     "name": "stdout",
     "output_type": "stream",
     "text": [
      "Index 0: Element H\n",
      "Index 1: Element Be\n",
      "Index 2: Element Li\n",
      "Index 3: Element He\n"
     ]
    }
   ],
   "source": [
    "for index, element in enumerate(chemical_elements):\n",
    "    print(f\"Index {index}: Element {element}\")\n"
   ]
  },
  {
   "cell_type": "code",
   "execution_count": 28,
   "id": "034cdacb-4d90-4666-a460-80b46327670e",
   "metadata": {},
   "outputs": [
    {
     "name": "stdout",
     "output_type": "stream",
     "text": [
      "{'C-13', 'C-12', 'C-14'}\n"
     ]
    }
   ],
   "source": [
    "isotopes = [\"C-12\", \"C-13\", \"C-12\", \"C-14\", \"C-13\", \"C-14\"]\n",
    "unique_isotopes = set(isotopes)\n",
    "print(unique_isotopes)  # Expected Output: {'C-12', 'C-13', 'C-14'}"
   ]
  },
  {
   "cell_type": "code",
   "execution_count": 29,
   "id": "d0213c58-9461-4df9-8357-34e187990264",
   "metadata": {},
   "outputs": [
    {
     "name": "stdout",
     "output_type": "stream",
     "text": [
      "Union: {'Mg', 'Al', 'P', 'Na', 'S', 'Si'}\n",
      "Intersection: {'Si', 'Mg'}\n",
      "Difference (group1 - group2): {'Na', 'Al'}\n",
      "Symmetric Difference: {'Al', 'P', 'Na', 'S'}\n"
     ]
    }
   ],
   "source": [
    "group1 = {\"Na\", \"Mg\", \"Al\", \"Si\"}\n",
    "group2 = {\"Mg\", \"Si\", \"P\", \"S\"}\n",
    "\n",
    "print(\"Union:\", group1.union(group2))\n",
    "print(\"Intersection:\", group1.intersection(group2))\n",
    "print(\"Difference (group1 - group2):\", group1.difference(group2))\n",
    "print(\"Symmetric Difference:\", group1.symmetric_difference(group2))"
   ]
  },
  {
   "cell_type": "code",
   "execution_count": 30,
   "id": "1f272b3f-5626-4a65-a5c5-06a69c245b31",
   "metadata": {},
   "outputs": [
    {
     "name": "stdout",
     "output_type": "stream",
     "text": [
      "Are alkali metals a subset of metals? True\n",
      "Are metals a superset of alkali metals? True\n"
     ]
    }
   ],
   "source": [
    "alkali_metals = {\"Li\", \"Na\", \"K\", \"Rb\", \"Cs\"}\n",
    "metals = {\"Li\", \"Na\", \"K\", \"Rb\", \"Cs\", \"Mg\", \"Al\", \"Fe\"}\n",
    "\n",
    "print(\"Are alkali metals a subset of metals?\", alkali_metals.issubset(metals))\n",
    "print(\"Are metals a superset of alkali metals?\", metals.issuperset(alkali_metals))"
   ]
  },
  {
   "cell_type": "code",
   "execution_count": 31,
   "id": "2a6a301c-3a64-44d7-9eaa-125c440a657f",
   "metadata": {},
   "outputs": [
    {
     "name": "stdout",
     "output_type": "stream",
     "text": [
      "Reactants: {'O2', 'CH4'}\n",
      "Products: {'H2O', 'CO2'}\n"
     ]
    }
   ],
   "source": [
    "# Define sets for reactants and products\n",
    "reactants = {\"CH4\", \"O2\"}\n",
    "products = {\"CO2\", \"H2O\"}\n",
    "\n",
    "# Print them\n",
    "print(\"Reactants:\", reactants)\n",
    "print(\"Products:\", products)"
   ]
  },
  {
   "cell_type": "code",
   "execution_count": 32,
   "id": "063629ed-d73f-44bd-904a-a7147f55de11",
   "metadata": {},
   "outputs": [
    {
     "name": "stdout",
     "output_type": "stream",
     "text": [
      "Common species in both reactants and products: set()\n",
      "Species consumed in the reaction: {'O2', 'CH4'}\n",
      "Species formed in the reaction: {'H2O', 'CO2'}\n"
     ]
    }
   ],
   "source": [
    "# Find common species between reactants and products\n",
    "common_species = reactants & products\n",
    "print(\"Common species in both reactants and products:\", common_species)\n",
    "\n",
    "# Find species that are in reactants but not in products\n",
    "consumed_species = reactants - products\n",
    "print(\"Species consumed in the reaction:\", consumed_species)\n",
    "\n",
    "# Find species that appear only in products\n",
    "formed_species = products - reactants\n",
    "print(\"Species formed in the reaction:\", formed_species)\n"
   ]
  },
  {
   "cell_type": "code",
   "execution_count": 33,
   "id": "93234879-d3c0-4ac2-bf57-f198605f68ae",
   "metadata": {},
   "outputs": [
    {
     "name": "stdout",
     "output_type": "stream",
     "text": [
      "Flammable chemicals in stockroom: {'Methane', 'Acetic Acid', 'Ethanol'}\n",
      "Non-flammable chemicals in stockroom: {'Water', 'Carbon Dioxide'}\n"
     ]
    }
   ],
   "source": [
    "# Set of flammable chemicals\n",
    "flammable_chemicals = {\"Methane\", \"Ethane\", \"Hydrogen Peroxide\", \"Carbon Monoxide\", \"Ethanol\", \"Acetic Acid\"}\n",
    "\n",
    "# List of stockroom chemicals (with duplicates)\n",
    "stockroom_chemicals_list = [\"Methane\", \"Water\", \"Ethanol\", \"Ethanol\", \"Carbon Dioxide\", \"Acetic Acid\", \"Water\"]\n",
    "\n",
    "# Convert list to set to remove duplicates\n",
    "stockroom_chemicals = set(stockroom_chemicals_list)\n",
    "\n",
    "# Identify flammable chemicals in the stockroom\n",
    "flammable_in_stockroom = stockroom_chemicals & flammable_chemicals\n",
    "\n",
    "# Identify non-flammable chemicals in the stockroom\n",
    "non_flammable_in_stockroom = stockroom_chemicals - flammable_chemicals\n",
    "\n",
    "# Display results\n",
    "print(\"Flammable chemicals in stockroom:\", flammable_in_stockroom)\n",
    "print(\"Non-flammable chemicals in stockroom:\", non_flammable_in_stockroom)\n"
   ]
  },
  {
   "cell_type": "code",
   "execution_count": 34,
   "id": "1d712e77-7bac-4801-8853-deddd1fa766c",
   "metadata": {},
   "outputs": [
    {
     "name": "stdout",
     "output_type": "stream",
     "text": [
      "Flammable chemicals in stockroom: {'Methane', 'Acetic Acid', 'Ethanol'}\n",
      "Non-flammable chemicals in stockroom: {'Water', 'Carbon Dioxide'}\n"
     ]
    }
   ],
   "source": [
    "# Identify flammable chemicals in the stockroom\n",
    "flammable_in_stockroom = stockroom_chemicals.intersection(flammable_chemicals)\n",
    "\n",
    "# Identify non-flammable chemicals in the stockroom\n",
    "non_flammable_in_stockroom = stockroom_chemicals.difference(flammable_chemicals)\n",
    "\n",
    "# Display results\n",
    "print(\"Flammable chemicals in stockroom:\", flammable_in_stockroom)\n",
    "print(\"Non-flammable chemicals in stockroom:\", non_flammable_in_stockroom)"
   ]
  },
  {
   "cell_type": "code",
   "execution_count": 35,
   "id": "37235218-759f-4342-847e-d6005a286019",
   "metadata": {},
   "outputs": [
    {
     "name": "stdout",
     "output_type": "stream",
     "text": [
      "List: ['Hydrogen', 'Oxygen', 'Carbon', 'Nitrogen', 'Oxygen']\n",
      "Tuple: ('Hydrogen', 'Oxygen', 'Carbon', 'Nitrogen', 'Oxygen')\n",
      "Set: {'Hydrogen', 'Oxygen', 'Carbon', 'Nitrogen'}\n"
     ]
    }
   ],
   "source": [
    "# Define a list, tuple, and set of common chemical elements\n",
    "chemical_list = [\"Hydrogen\", \"Oxygen\", \"Carbon\", \"Nitrogen\", \"Oxygen\"]\n",
    "chemical_tuple = (\"Hydrogen\", \"Oxygen\", \"Carbon\", \"Nitrogen\", \"Oxygen\")\n",
    "chemical_set = {\"Hydrogen\", \"Oxygen\", \"Carbon\", \"Nitrogen\", \"Oxygen\"}\n",
    "\n",
    "# Print each collection\n",
    "print(\"List:\", chemical_list)\n",
    "print(\"Tuple:\", chemical_tuple)\n",
    "print(\"Set:\", chemical_set)\n"
   ]
  },
  {
   "cell_type": "code",
   "execution_count": 36,
   "id": "cfaf96a9-79de-4543-ac75-c9612e6f9a68",
   "metadata": {},
   "outputs": [
    {
     "name": "stdout",
     "output_type": "stream",
     "text": [
      "First element in list: Hydrogen\n",
      "First element in tuple: Hydrogen\n",
      "Error: 'set' object is not subscriptable\n"
     ]
    }
   ],
   "source": [
    "# Access elements from the list and tuple\n",
    "print(\"First element in list:\", chemical_list[0])\n",
    "print(\"First element in tuple:\", chemical_tuple[0])\n",
    "\n",
    "# Attempting to access elements in a set (this will cause an error)\n",
    "try:\n",
    "    print(\"First element in set:\", chemical_set[0])\n",
    "except TypeError as e:\n",
    "    print(\"Error:\", e)\n"
   ]
  },
  {
   "cell_type": "code",
   "execution_count": 37,
   "id": "6af2f158-5245-4715-adfb-32c0a7fe8300",
   "metadata": {},
   "outputs": [
    {
     "name": "stdout",
     "output_type": "stream",
     "text": [
      "{'H': 'Hydrogen', 'He': 'Helium', 'O': 'Oxygen'}\n"
     ]
    }
   ],
   "source": [
    "symbols = [\"H\", \"He\", \"O\"]\n",
    "names = [\"Hydrogen\", \"Helium\", \"Oxygen\"]\n",
    "elements = dict(zip(symbols, names))\n",
    "print(elements)"
   ]
  },
  {
   "cell_type": "code",
   "execution_count": 38,
   "id": "ffae6bce-2df0-459d-8e22-a4e2562a9b64",
   "metadata": {},
   "outputs": [
    {
     "name": "stdout",
     "output_type": "stream",
     "text": [
      "{'H': 'Hydrogen', 'O': 'Oxygen-16', 'C': 'Carbon'}\n"
     ]
    }
   ],
   "source": [
    "elements[\"C\"] = \"Carbon\"  # Adding a new key-value pair\n",
    "elements[\"O\"] = \"Oxygen-16\"  # Updating an existing key\n",
    "del elements['He']  # Removes helium\n",
    "print(elements)"
   ]
  },
  {
   "cell_type": "code",
   "execution_count": 39,
   "id": "a6bcd10d-9320-44bc-a1c1-e87ddc06573a",
   "metadata": {},
   "outputs": [
    {
     "name": "stdout",
     "output_type": "stream",
     "text": [
      "{'H': 'Hydrogen', 'C': 'Carbon'}\n",
      "Oxygen-16\n"
     ]
    }
   ],
   "source": [
    "oxygen = elements.pop('O')\n",
    "print(elements)\n",
    "print(oxygen)"
   ]
  },
  {
   "cell_type": "code",
   "execution_count": 40,
   "id": "b46e15f4-d7bd-4e1d-ac66-fb3aa8d2142c",
   "metadata": {},
   "outputs": [
    {
     "name": "stdout",
     "output_type": "stream",
     "text": [
      "halogens = ['F', 'Cl', 'Br', 'I', 'At', 'Ts'] \n",
      "atomic number = [9, 17, 35, 53, 85, 117] \n",
      "atomic_masses = [18.998, 35.45, 79.904, 126.9, 210, 294] \n",
      "electronegativities = [3.98, 3.16, 2.96, 2.66, 2.2, None]\n"
     ]
    }
   ],
   "source": [
    "# List of halogen symbols\n",
    "halogens = [\"F\", \"Cl\", \"Br\", \"I\", \"At\", \"Ts\"]\n",
    "\n",
    "# Atomic numbers\n",
    "atomic_numbers = [9, 17, 35, 53, 85, 117]\n",
    "\n",
    "# Atomic masses (g/mol)\n",
    "atomic_masses = [18.998, 35.45, 79.904, 126.90, 210, 294]\n",
    "\n",
    "# Electronegativity (Pauling scale)\n",
    "electronegativities = [3.98, 3.16, 2.96, 2.66, 2.2, None]  # Ts unknown\n",
    "\n",
    "# Boiling points (K)\n",
    "boiling_points = [85.03, 239.11, 332.0, 457.4, 610, None]  # Ts unknown\n",
    "print(f\"halogens = {halogens} \\natomic number = {atomic_numbers} \\natomic_masses = {atomic_masses} \\\n",
    "\\nelectronegativities = {electronegativities}\")"
   ]
  },
  {
   "cell_type": "code",
   "execution_count": 41,
   "id": "061f4242-77fb-4c5c-b47d-5e2ca072f9aa",
   "metadata": {},
   "outputs": [
    {
     "name": "stdout",
     "output_type": "stream",
     "text": [
      "{'F': {'atomic_number': 9, 'atomic_mass': 18.998, 'electronegativity': 3.98, 'boiling_point': 85.03}, 'Cl': {'atomic_number': 17, 'atomic_mass': 35.45, 'electronegativity': 3.16, 'boiling_point': 239.11}, 'Br': {'atomic_number': 35, 'atomic_mass': 79.904, 'electronegativity': 2.96, 'boiling_point': 332.0}, 'I': {'atomic_number': 53, 'atomic_mass': 126.9, 'electronegativity': 2.66, 'boiling_point': 457.4}, 'At': {'atomic_number': 85, 'atomic_mass': 210, 'electronegativity': 2.2, 'boiling_point': 610}, 'Ts': {'atomic_number': 117, 'atomic_mass': 294, 'electronegativity': None, 'boiling_point': None}}\n"
     ]
    }
   ],
   "source": [
    "# Use zip to pair each element with its properties\n",
    "halogen_properties = zip(halogens, atomic_numbers, atomic_masses, electronegativities, boiling_points)\n",
    "\n",
    "# Create a dictionary of dictionaries\n",
    "halogen_dict = {\n",
    "    element: {\n",
    "        \"atomic_number\": num,\n",
    "        \"atomic_mass\": mass,\n",
    "        \"electronegativity\": en,\n",
    "        \"boiling_point\": bp\n",
    "    }\n",
    "    for element, num, mass, en, bp in halogen_properties\n",
    "}\n",
    "print(halogen_dict)"
   ]
  },
  {
   "cell_type": "code",
   "execution_count": 42,
   "id": "ace3814c-1406-4dfc-9842-e691b20e0f3d",
   "metadata": {},
   "outputs": [
    {
     "name": "stdout",
     "output_type": "stream",
     "text": [
      "halogen_dict[F] = {'atomic_number': 9, 'atomic_mass': 18.998, 'electronegativity': 3.98, 'boiling_point': 85.03}\n",
      "\n",
      "Iodine's boiling point: 457.4 K\n",
      "\n",
      "Astatine's electronegativity: 2.2\n"
     ]
    }
   ],
   "source": [
    "# Print all properties of Fluorine\n",
    "print(f'halogen_dict[F] = {halogen_dict[\"F\"]}\\n')\n",
    "\n",
    "# Get just the boiling point of Iodine\n",
    "print(f\"Iodine's boiling point: {halogen_dict['I']['boiling_point']} K\\n\")\n",
    "\n",
    "# Check if Astatine has a known electronegativity\n",
    "print(f\"Astatine's electronegativity: {halogen_dict['At'].get('electronegativity', 'Unknown')}\")"
   ]
  }
 ],
 "metadata": {
  "kernelspec": {
   "display_name": "Python (py4sci)",
   "language": "python",
   "name": "py4sci"
  },
  "language_info": {
   "codemirror_mode": {
    "name": "ipython",
    "version": 3
   },
   "file_extension": ".py",
   "mimetype": "text/x-python",
   "name": "python",
   "nbconvert_exporter": "python",
   "pygments_lexer": "ipython3",
   "version": "3.10.17"
  }
 },
 "nbformat": 4,
 "nbformat_minor": 5
}