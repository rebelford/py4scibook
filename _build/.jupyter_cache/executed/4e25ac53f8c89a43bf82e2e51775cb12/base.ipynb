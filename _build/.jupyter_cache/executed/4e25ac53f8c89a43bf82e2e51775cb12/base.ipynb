{
 "cells": [
  {
   "cell_type": "code",
   "execution_count": 1,
   "id": "c1ce3ad0-bf83-41da-b444-d655f2b3ad63",
   "metadata": {
    "editable": true,
    "slideshow": {
     "slide_type": ""
    },
    "tags": []
   },
   "outputs": [
    {
     "name": "stdout",
     "output_type": "stream",
     "text": [
      "Your molar mass makes no sense\n",
      "The molar mass you entered is: 0.098g/mol\n"
     ]
    }
   ],
   "source": [
    "molar_mass = 0.098\n",
    "#molar_mass=float(input(\"Enter the molar mass of a molecule in units of g/mol\"))\n",
    "\n",
    "if molar_mass < 2.0:\n",
    "    print(\"Your molar mass makes no sense\")\n",
    "    \n",
    "print(f\"The molar mass you entered is: {molar_mass}g/mol\")"
   ]
  },
  {
   "cell_type": "code",
   "execution_count": 2,
   "id": "5100695c-3ea1-4bb1-9d4f-cd45ec7ae5c4",
   "metadata": {
    "editable": true,
    "raw_mimetype": "",
    "slideshow": {
     "slide_type": ""
    },
    "tags": []
   },
   "outputs": [
    {
     "name": "stdout",
     "output_type": "stream",
     "text": [
      "The molar mass you entered is: 4g/mol\n"
     ]
    }
   ],
   "source": [
    "\n",
    "# molar_mass=float(input(\"Enter the molar mass of a molecule in units of g/mol \"))\n",
    "molar_mass = 4\n",
    "if molar_mass >= 2.0:\n",
    "    print(f\"The molar mass you entered is: {molar_mass}g/mol\")\n",
    "else:\n",
    "    molar_mass=float(input(\"Enter a molar mass greater than or equal to diatomic hydrogen \"))\n",
    "    print(f\"The molar mass you entered is: {molar_mass}g/mol\")"
   ]
  },
  {
   "cell_type": "code",
   "execution_count": 3,
   "id": "71daf6ee-4a00-4220-b954-f8e50ed15e2f",
   "metadata": {},
   "outputs": [
    {
     "name": "stdout",
     "output_type": "stream",
     "text": [
      "Silicon belongs to the nonmetal family.\n"
     ]
    }
   ],
   "source": [
    "element=\"Silicon\"\n",
    "#element = input(\"Enter the element you want to know the family of: \")\n",
    "\n",
    "if element == \"Hydrogen\":\n",
    "    print(\"Hydrogen belongs to the nonmetal family.\")\n",
    "elif element in [\"Lithium\", \"Sodium\", \"Potassium\", \"Rubidium\", \"Cesium\", \"Francium\"]:\n",
    "    print(f\"{element} belongs to the alkali metal family.\")\n",
    "elif element in [\"Beryllium\", \"Magnesium\", \"Calcium\", \"Strontium\", \"Barium\", \"Radium\"]:\n",
    "    print(f\"{element} belongs to the alkaline earth metal family.\")\n",
    "elif element in [\"Boron\", \"Aluminum\", \"Gallium\", \"Indium\", \"Thallium\"]:\n",
    "    print(f\"{element} belongs to the metalloid family.\")\n",
    "elif element in [\"Carbon\", \"Silicon\", \"Germanium\", \"Tin\", \"Lead\"]:\n",
    "    print(f\"{element} belongs to the nonmetal family.\")\n",
    "elif element in [\"Nitrogen\", \"Phosphorus\", \"Arsenic\", \"Antimony\", \"Bismuth\"]:\n",
    "    print(f\"{element} belongs to the pnictogen family.\")\n",
    "elif element in [\"Oxygen\", \"Sulfur\", \"Selenium\", \"Tellurium\", \"Polonium\"]:\n",
    "    print(f\"{element} belongs to the chalcogen family.\")\n",
    "elif element in [\"Fluorine\", \"Chlorine\", \"Bromine\", \"Iodine\", \"Astatine\"]:\n",
    "    print(f\"{element} belongs to the halogen family.\")\n",
    "elif element in [\"Helium\", \"Neon\", \"Argon\", \"Krypton\", \"Xenon\", \"Radon\"]:\n",
    "    print(f\"{element} belongs to the noble gas family.\")\n",
    "elif element in [\"Cerium\", \"Praseodymium\", \"Neodymium\", \"Promethium\", \"Samarium\", \n",
    "               \"Europium\", \"Gadolinium\", \"Terbium\", \"Dysprosium\", \"Holmium\", \n",
    "               \"Erbium\", \"Thulium\", \"Ytterbium\", \"Lutetium\"]:\n",
    "    print(f'{element} is a lanthanide')\n",
    "elif element in [\"Thorium\", \"Protactinium\", \"Uranium\", \"Neptunium\", \"Plutonium\", \n",
    "             \"Americium\", \"Curium\", \"Berkelium\", \"Californium\", \"Einsteinium\", \n",
    "             \"Fermium\", \"Mendelevium\", \"Nobelium\", \"Lawrencium\", \"Rutherfordium\", \n",
    "             \"Dubnium\", \"Seaborgium\", \"Bohrium\", \"Hassium\", \"Meitnerium\", \"Darmstadtium\", \n",
    "             \"Roentgenium\", \"Copernicium\", \"Nihonium\", \"Flerovium\", \"Moscovium\", \"Livermorium\", \"Tennessine\", \"Oganesson\"]:\n",
    "    print(f'{element} is an actinide')\n",
    "else:\n",
    "    print(f'element is a transition metal')"
   ]
  },
  {
   "cell_type": "code",
   "execution_count": 4,
   "id": "70a1a968-33ef-46ac-b383-0f0734ac5b6e",
   "metadata": {},
   "outputs": [
    {
     "name": "stdout",
     "output_type": "stream",
     "text": [
      "A reaction with enthalpy = -4 kJ and entropy = -34 J/K is enthalpy driven and spontaneous at low T\n"
     ]
    }
   ],
   "source": [
    "#Temperature and reaction spontaneity\n",
    "enthalpy =  -4\n",
    "entropy = -34\n",
    "#enthalpy=float(input(\"Enter a reaction enthalpy in units of kJ and include the sign: \"))\n",
    "#entropy=float(input(\"Enter a reaction entropy in units of j/K and include the sign: \"))\n",
    "\n",
    "if enthalpy > 0 and entropy < 0:\n",
    "    print(f\"A reaction with enthalpy = {enthalpy} kJ and entropy = {entropy} J/K is never spontaneous\")\n",
    "elif enthalpy > 0 and entropy > 0:\n",
    "    print(f\"A reaction with enthalpy = {enthalpy} kJ and entropy = {entropy} J/K is entropy driven and spontaneous at high T\")\n",
    "elif enthalpy < 0 and entropy < 0:\n",
    "    print(f\"A reaction with enthalpy = {enthalpy} kJ and entropy = {entropy} J/K is enthalpy driven and spontaneous at low T\")\n",
    "else:\n",
    "    print(f\"A reaction with enthalpy = {enthalpy} kJ and entropy = {entropy} J/K is enthalpy  and entropy driven and spontaneous at all T\")"
   ]
  },
  {
   "cell_type": "code",
   "execution_count": 5,
   "id": "abf61242-0359-4971-9df8-f160532ecfb3",
   "metadata": {},
   "outputs": [
    {
     "name": "stdout",
     "output_type": "stream",
     "text": [
      "Barium is an alkaline earth metal\n"
     ]
    }
   ],
   "source": [
    "#is an element an alkaline earth metal?\n",
    "atom = \"barium\"\n",
    "#atom=input(\"Enter name of element: \").capitalize()\n",
    "atom=atom.capitalize()\n",
    "if atom == \"Beryllium\" or atom == \"Magnesium\" or atom == \"Calcium\" or \\\n",
    "   atom == \"Barium\" or atom == \"Strontium\" or atom == \"Radium\":\n",
    "    print(f\"{atom} is an alkaline earth metal\")\n",
    "else:\n",
    "    print(f\"{atom} is not an alkaline earth metal\")"
   ]
  },
  {
   "cell_type": "code",
   "execution_count": 6,
   "id": "ba9eb524-10b9-4cff-8e58-bb59aae0058a",
   "metadata": {},
   "outputs": [
    {
     "name": "stdout",
     "output_type": "stream",
     "text": [
      "Substance is a liquid\n"
     ]
    }
   ],
   "source": [
    "#What is the phase of a substance?\n",
    "melting_point,boiling_point,temperature = 0.0, 100.0, 45.0 \n",
    "#melting_point=float(input(\"What is the melting point of your substance? \"))\n",
    "#boiling_point=float(input(\"What is the boiling point of your substance? \"))\n",
    "#temperature=float(input(\"What is the temperature you wish to know the phase at? \"))\n",
    "\n",
    "if temperature <= melting_point:\n",
    "    if temperature == melting_point:\n",
    "        print(f\"It is at the melting point, could be solid, liquid or both coexisting together\")\n",
    "    else :\n",
    "        print(f\"It is a solid\")\n",
    "elif temperature > melting_point and temperature < boiling_point:\n",
    "    print(f\"Substance is a liquid\")\n",
    "else :\n",
    "    if temperature == boiling_point:\n",
    "        print(f\"It is at the boiling point and could be liquid, gas or both\")\n",
    "    else:\n",
    "        print(f\"It is a gas\")"
   ]
  },
  {
   "cell_type": "code",
   "execution_count": 7,
   "id": "bb93418c-1bc7-41b1-af7f-fbaecdf177b7",
   "metadata": {},
   "outputs": [
    {
     "name": "stdout",
     "output_type": "stream",
     "text": [
      "Error: Please enter numeric values for all inputs.\n"
     ]
    }
   ],
   "source": [
    "#What is the phase of a substance?\n",
    "\n",
    "try:\n",
    "    melting_point,boiling_point,temperature = 0.0, 100.0, float(\"ten\")\n",
    "    #melting_point = float(input(\"What is the melting point of your substance? \"))\n",
    "    #boiling_point = float(input(\"What is the boiling point of your substance? \"))\n",
    "    #temperature = float(input(\"What is the temperature you wish to know the phase at? \"))\n",
    "\n",
    "    if temperature <= melting_point:\n",
    "        if temperature == melting_point:\n",
    "            print(\"It is at the melting point, could be solid, liquid, or both coexisting together\")\n",
    "        else:\n",
    "            \n",
    "            \n",
    "            print(\"It is a solid\")\n",
    "    elif melting_point < temperature < boiling_point:\n",
    "        print(\"Substance is a liquid\")\n",
    "    else:\n",
    "        if temperature == boiling_point:\n",
    "            print(\"It is at the boiling point and could be liquid, gas, or both\")\n",
    "        else:\n",
    "            print(\"It is a gas\")\n",
    "\n",
    "except ValueError:\n",
    "    print(\"Error: Please enter numeric values for all inputs.\")\n"
   ]
  },
  {
   "cell_type": "code",
   "execution_count": 8,
   "id": "8448dc8c-a822-4d32-9b08-28bcb5372876",
   "metadata": {},
   "outputs": [
    {
     "name": "stdout",
     "output_type": "stream",
     "text": [
      "['Hydrogen', 'Helium', 'Lithium', 'Beryllium', 'Boron', 'Carbon', 'Nitrogen', 'Oxygen', 'Fluorine', 'Neon', 'Sodium', 'Magnesium', 'Aluminium', 'Silicon', 'Phosphorus', 'Sulfur', 'Chlorine', 'Argon', 'Potassium', 'Calcium', 'Scandium', 'Titanium', 'Vanadium', 'Chromium', 'Manganese', 'Iron', 'Cobalt', 'Nickel', 'Copper', 'Zinc', 'Gallium', 'Germanium', 'Arsenic', 'Selenium', 'Bromine', 'Krypton', 'Rubidium', 'Strontium', 'Yttrium', 'Zirconium', 'Niobium', 'Molybdenum', 'Technetium', 'Ruthenium', 'Rhodium', 'Palladium', 'Silver', 'Cadmium', 'Indium', 'Tin', 'Antimony', 'Tellurium', 'Iodine', 'Xenon', 'Caesium', 'Barium', 'Lanthanum', 'Cerium', 'Praseodymium', 'Neodymium', 'Promethium', 'Samarium', 'Europium', 'Gadolinium', 'Terbium', 'Dysprosium', 'Holmium', 'Erbium', 'Thulium', 'Ytterbium', 'Lutetium', 'Hafnium', 'Tantalum', 'Tungsten', 'Rhenium', 'Osmium', 'Iridium', 'Platinum', 'Gold', 'Mercury', 'Thallium', 'Lead', 'Bismuth', 'Polonium', 'Astatine', 'Radon', 'Francium', 'Radium', 'Actinium', 'Thorium', 'Protactinium', 'Uranium', 'Neptunium', 'Plutonium', 'Americium', 'Curium', 'Berkelium', 'Californium', 'Einsteinium', 'Fermium', 'Mendelevium', 'Nobelium', 'Lawrencium', 'Rutherfordium', 'Dubnium', 'Seaborgium', 'Bohrium', 'Hassium', 'Meitnerium', 'Darmstadtium', 'Roentgenium', 'Copernicium', 'Nihonium', 'Flerovium', 'Moscovium', 'Livermorium', 'Tennessine', 'Oganesson']\n",
      "<class 'list'>\n"
     ]
    }
   ],
   "source": [
    "element_list = ['Hydrogen', 'Helium', 'Lithium', 'Beryllium', 'Boron', 'Carbon', 'Nitrogen', 'Oxygen', 'Fluorine', \\\n",
    "                'Neon', 'Sodium', 'Magnesium', 'Aluminium', 'Silicon', 'Phosphorus', 'Sulfur', 'Chlorine', 'Argon', \\\n",
    "                'Potassium', 'Calcium', 'Scandium', 'Titanium', 'Vanadium', 'Chromium', 'Manganese', 'Iron', 'Cobalt', \n",
    "                'Nickel', 'Copper', 'Zinc', 'Gallium', 'Germanium', 'Arsenic', 'Selenium', 'Bromine', 'Krypton', 'Rubidium', \\\n",
    "                'Strontium', 'Yttrium', 'Zirconium', 'Niobium', 'Molybdenum', 'Technetium', 'Ruthenium', 'Rhodium', \\\n",
    "                'Palladium', 'Silver', 'Cadmium', 'Indium', 'Tin', 'Antimony', 'Tellurium', 'Iodine', 'Xenon', 'Caesium', \\\n",
    "                'Barium', 'Lanthanum', 'Cerium', 'Praseodymium', 'Neodymium', 'Promethium', 'Samarium', 'Europium', \\\n",
    "                'Gadolinium', 'Terbium', 'Dysprosium', 'Holmium', 'Erbium', 'Thulium', 'Ytterbium', 'Lutetium', 'Hafnium', \\\n",
    "                'Tantalum', 'Tungsten', 'Rhenium', 'Osmium', 'Iridium', 'Platinum', 'Gold', 'Mercury', 'Thallium', 'Lead', \\\n",
    "                'Bismuth', 'Polonium', 'Astatine', 'Radon', 'Francium', 'Radium', 'Actinium', 'Thorium', 'Protactinium', \\\n",
    "                'Uranium', 'Neptunium', 'Plutonium', 'Americium', 'Curium', 'Berkelium', 'Californium', 'Einsteinium', \\\n",
    "                'Fermium', 'Mendelevium', 'Nobelium', 'Lawrencium', 'Rutherfordium', 'Dubnium', 'Seaborgium', 'Bohrium', \\\n",
    "                'Hassium', 'Meitnerium', 'Darmstadtium', 'Roentgenium', 'Copernicium', 'Nihonium', 'Flerovium', 'Moscovium', \\\n",
    "                'Livermorium', 'Tennessine', 'Oganesson']\n",
    "print(element_list)\n",
    "print(type(element_list))"
   ]
  },
  {
   "cell_type": "code",
   "execution_count": 9,
   "id": "d797aac0-8aff-41e2-baa2-9242e13470b1",
   "metadata": {},
   "outputs": [
    {
     "name": "stdout",
     "output_type": "stream",
     "text": [
      "Hydrogen\n",
      "Helium\n",
      "Lithium\n",
      "Beryllium\n",
      "Boron\n",
      "Carbon\n",
      "Nitrogen\n",
      "Oxygen\n",
      "Fluorine\n",
      "Neon\n",
      "Sodium\n",
      "Magnesium\n",
      "Aluminium\n",
      "Silicon\n",
      "Phosphorus\n",
      "Sulfur\n",
      "Chlorine\n",
      "Argon\n",
      "Potassium\n",
      "Calcium\n",
      "Scandium\n",
      "Titanium\n",
      "Vanadium\n",
      "Chromium\n",
      "Manganese\n",
      "Iron\n",
      "Cobalt\n",
      "Nickel\n",
      "Copper\n",
      "Zinc\n",
      "Gallium\n",
      "Germanium\n",
      "Arsenic\n",
      "Selenium\n",
      "Bromine\n",
      "Krypton\n",
      "Rubidium\n",
      "Strontium\n",
      "Yttrium\n",
      "Zirconium\n",
      "Niobium\n",
      "Molybdenum\n",
      "Technetium\n",
      "Ruthenium\n",
      "Rhodium\n",
      "Palladium\n",
      "Silver\n",
      "Cadmium\n",
      "Indium\n",
      "Tin\n",
      "Antimony\n",
      "Tellurium\n",
      "Iodine\n",
      "Xenon\n",
      "Caesium\n",
      "Barium\n",
      "Lanthanum\n",
      "Cerium\n",
      "Praseodymium\n",
      "Neodymium\n",
      "Promethium\n",
      "Samarium\n",
      "Europium\n",
      "Gadolinium\n",
      "Terbium\n",
      "Dysprosium\n",
      "Holmium\n",
      "Erbium\n",
      "Thulium\n",
      "Ytterbium\n",
      "Lutetium\n",
      "Hafnium\n",
      "Tantalum\n",
      "Tungsten\n",
      "Rhenium\n",
      "Osmium\n",
      "Iridium\n",
      "Platinum\n",
      "Gold\n",
      "Mercury\n",
      "Thallium\n",
      "Lead\n",
      "Bismuth\n",
      "Polonium\n",
      "Astatine\n",
      "Radon\n",
      "Francium\n",
      "Radium\n",
      "Actinium\n",
      "Thorium\n",
      "Protactinium\n",
      "Uranium\n",
      "Neptunium\n",
      "Plutonium\n",
      "Americium\n",
      "Curium\n",
      "Berkelium\n",
      "Californium\n",
      "Einsteinium\n",
      "Fermium\n",
      "Mendelevium\n",
      "Nobelium\n",
      "Lawrencium\n",
      "Rutherfordium\n",
      "Dubnium\n",
      "Seaborgium\n",
      "Bohrium\n",
      "Hassium\n",
      "Meitnerium\n",
      "Darmstadtium\n",
      "Roentgenium\n",
      "Copernicium\n",
      "Nihonium\n",
      "Flerovium\n",
      "Moscovium\n",
      "Livermorium\n",
      "Tennessine\n",
      "Oganesson\n",
      "\n",
      " \n",
      " The variable element_list is of class <class 'list'>,.\n",
      " The variable element is of class <class 'str'>. \n"
     ]
    }
   ],
   "source": [
    "for element in element_list:\n",
    "    print(element)\n",
    "\n",
    "print(f'\\n \\n The variable element_list is of class {type(element_list)},.\\n \\\n",
    "The variable element is of class {type(element)}. ')"
   ]
  },
  {
   "cell_type": "code",
   "execution_count": 10,
   "id": "c3788811-7e76-4b8f-92cd-f69791ba330d",
   "metadata": {},
   "outputs": [
    {
     "name": "stdout",
     "output_type": "stream",
     "text": [
      "Hydrogen, Helium, Lithium, Beryllium, Boron, Carbon, Nitrogen, Oxygen, Fluorine, Neon, Sodium, Magnesium, Aluminium, Silicon, Phosphorus, Sulfur, Chlorine, Argon, Potassium, Calcium, Scandium, Titanium, Vanadium, Chromium, Manganese, Iron, Cobalt, Nickel, Copper, Zinc, Gallium, Germanium, Arsenic, Selenium, Bromine, Krypton, Rubidium, Strontium, Yttrium, Zirconium, Niobium, Molybdenum, Technetium, Ruthenium, Rhodium, Palladium, Silver, Cadmium, Indium, Tin, Antimony, Tellurium, Iodine, Xenon, Caesium, Barium, Lanthanum, Cerium, Praseodymium, Neodymium, Promethium, Samarium, Europium, Gadolinium, Terbium, Dysprosium, Holmium, Erbium, Thulium, Ytterbium, Lutetium, Hafnium, Tantalum, Tungsten, Rhenium, Osmium, Iridium, Platinum, Gold, Mercury, Thallium, Lead, Bismuth, Polonium, Astatine, Radon, Francium, Radium, Actinium, Thorium, Protactinium, Uranium, Neptunium, Plutonium, Americium, Curium, Berkelium, Californium, Einsteinium, Fermium, Mendelevium, Nobelium, Lawrencium, Rutherfordium, Dubnium, Seaborgium, Bohrium, Hassium, Meitnerium, Darmstadtium, Roentgenium, Copernicium, Nihonium, Flerovium, Moscovium, Livermorium, Tennessine, Oganesson, "
     ]
    }
   ],
   "source": [
    "# To type on one line:\n",
    "for element in element_list:\n",
    "    print(element, end=', ')\n"
   ]
  },
  {
   "cell_type": "code",
   "execution_count": 11,
   "id": "7f5e46b1-cc29-444c-a53d-6d8b0856b955",
   "metadata": {},
   "outputs": [
    {
     "name": "stdout",
     "output_type": "stream",
     "text": [
      "1 is odd\n",
      "2 is even\n",
      "3 is odd\n",
      "4 is even\n",
      "5 is odd\n",
      "6 is even\n",
      "7 is odd\n",
      "8 is even\n",
      "9 is odd\n",
      "10 is even\n"
     ]
    }
   ],
   "source": [
    "list1 = [1,2,3,4,5,6,7,8,9,10]\n",
    "for num in list1:\n",
    "    print(f'{num} is even') if not num % 2 else print(f'{num} is odd')"
   ]
  },
  {
   "cell_type": "code",
   "execution_count": 12,
   "id": "20601a90-7104-4b6e-9e84-081f4bb1437a",
   "metadata": {},
   "outputs": [
    {
     "name": "stdout",
     "output_type": "stream",
     "text": [
      "Even numbers: [2, 4, 6, 8, 10]\n",
      "Odd numbers: [1, 3, 5, 7, 9]\n"
     ]
    }
   ],
   "source": [
    "list1 = [1,2,3,4,5,6,7,8,9,10]\n",
    "even_numbers = []\n",
    "odd_numbers = []\n",
    "\n",
    "for num in list1:\n",
    "    if num % 2 == 0:\n",
    "        even_numbers.append(num)\n",
    "    else:\n",
    "        odd_numbers.append(num)\n",
    "\n",
    "print(\"Even numbers:\", even_numbers)\n",
    "print(\"Odd numbers:\", odd_numbers)"
   ]
  },
  {
   "cell_type": "code",
   "execution_count": 13,
   "id": "745157fc-d6ed-4c4e-9b04-e8c5cb7ef7b4",
   "metadata": {},
   "outputs": [
    {
     "name": "stdout",
     "output_type": "stream",
     "text": [
      "0\n",
      "1\n",
      "2\n",
      "3\n",
      "4\n"
     ]
    }
   ],
   "source": [
    "for num in range(5):\n",
    "    print(num)"
   ]
  },
  {
   "cell_type": "code",
   "execution_count": 14,
   "id": "e38e6aa3-afb4-42d8-a83a-6b9a4785ceaf",
   "metadata": {},
   "outputs": [
    {
     "name": "stdout",
     "output_type": "stream",
     "text": [
      "1\n",
      "3\n"
     ]
    }
   ],
   "source": [
    "for num in range(1,5,2):\n",
    "    print(num)"
   ]
  },
  {
   "cell_type": "code",
   "execution_count": 15,
   "id": "07648d74-f1c3-4e08-b807-ceff20bd539e",
   "metadata": {},
   "outputs": [
    {
     "name": "stdout",
     "output_type": "stream",
     "text": [
      "Element 1 index=0: F\n",
      "Element 2 index=1: Cl\n",
      "Element 3 index=2: Br\n",
      "Element 4 index=3: I\n",
      "Element 5 index=4: At\n"
     ]
    }
   ],
   "source": [
    "halogens = [\"F\", \"Cl\", \"Br\", \"I\", \"At\"]\n",
    "\n",
    "# Using range() to iterate with indices\n",
    "for i in range(len(halogens)):\n",
    "    print(f\"Element {i + 1} index={i}: {halogens[i]}\")"
   ]
  },
  {
   "cell_type": "code",
   "execution_count": 16,
   "id": "c13464d1-403a-46a0-ac4d-392186f679f7",
   "metadata": {},
   "outputs": [
    {
     "name": "stdout",
     "output_type": "stream",
     "text": [
      "15\n"
     ]
    }
   ],
   "source": [
    "total = 0\n",
    "for i in range(1, 6):\n",
    "    total += i  # Adds each number to total\n",
    "print(total)  # 1 + 2 + 3 + 4 + 5 = 15"
   ]
  },
  {
   "cell_type": "code",
   "execution_count": 17,
   "id": "ec803703-63c2-4b23-ab9b-18e6db5b7525",
   "metadata": {},
   "outputs": [
    {
     "name": "stdout",
     "output_type": "stream",
     "text": [
      "[63.94, 2.51, 27.51, 22.33, 73.64, 67.67, 89.21, 8.7, 42.19, 2.99]\n"
     ]
    }
   ],
   "source": [
    "import random\n",
    "\n",
    "# Set seed for reproducibility\n",
    "random.seed(42)\n",
    "\n",
    "# Generate 10 random floats between 0 and 100, rounded to 2 decimal places\n",
    "random_floats = [round(random.uniform(0.01, 99.99), 2) for _ in range(10)]\n",
    "\n",
    "# Print the generated list\n",
    "print(random_floats)\n"
   ]
  },
  {
   "cell_type": "code",
   "execution_count": 18,
   "id": "0232f19b-cd06-4e2d-97b6-411b93732e19",
   "metadata": {},
   "outputs": [
    {
     "name": "stdout",
     "output_type": "stream",
     "text": [
      "[63.94, 2.51, 27.51, 22.33, 73.64, 67.67, 89.21, 8.7, 42.19, 2.99]\n"
     ]
    }
   ],
   "source": [
    "print(random_floats)"
   ]
  },
  {
   "cell_type": "code",
   "execution_count": 19,
   "id": "4fc15d8e-64ce-4bd6-90a0-429d8e8ecc90",
   "metadata": {},
   "outputs": [
    {
     "name": "stdout",
     "output_type": "stream",
     "text": [
      "Temperature: 50°C - Not boiling yet.\n",
      "Temperature: 60°C - Not boiling yet.\n",
      "Temperature: 70°C - Not boiling yet.\n",
      "Temperature: 80°C - Not boiling yet.\n",
      "Temperature: 90°C - Not boiling yet.\n",
      "Boiling point reached!\n"
     ]
    }
   ],
   "source": [
    "temperature = 50  # Start temperature\n",
    "boiling_point = 100\n",
    "\n",
    "while temperature < boiling_point:  # Boolean condition\n",
    "    print(f\"Temperature: {temperature}°C - Not boiling yet.\")\n",
    "    temperature += 10  # Increase temperature\n",
    "\n",
    "print(\"Boiling point reached!\")"
   ]
  },
  {
   "cell_type": "code",
   "execution_count": 20,
   "id": "4d9d56ed-822a-4584-a754-1f3e62828ebe",
   "metadata": {},
   "outputs": [
    {
     "name": "stdout",
     "output_type": "stream",
     "text": [
      "H is not a metal.\n",
      "He is not a metal.\n",
      "Li is a metal. Stopping search.\n"
     ]
    }
   ],
   "source": [
    "elements = [\"H\", \"He\", \"Li\", \"Be\", \"B\"]\n",
    "\n",
    "for element in elements:\n",
    "    if element in {\"Li\", \"Be\", \"Mg\"}:  # Boolean condition\n",
    "        print(f\"{element} is a metal. Stopping search.\")\n",
    "        break  # Exits loop early\n",
    "    print(f\"{element} is not a metal.\")"
   ]
  },
  {
   "cell_type": "code",
   "execution_count": 21,
   "id": "4077a269-5d48-4cb6-8325-927fb31f0f62",
   "metadata": {},
   "outputs": [
    {
     "name": "stdout",
     "output_type": "stream",
     "text": [
      "Na is a metal.\n",
      "K is a metal.\n",
      "Ca is a metal.\n"
     ]
    }
   ],
   "source": [
    "elements = [\"Na\", \"Cl\", \"K\", \"Br\", \"Ca\", \"I\"]\n",
    "\n",
    "for element in elements:\n",
    "    if element not in {\"Na\", \"K\", \"Ca\"}:  # Boolean condition\n",
    "        continue  # Skip to the next iteration\n",
    "    \n",
    "    print(f\"{element} is a metal.\")"
   ]
  },
  {
   "cell_type": "code",
   "execution_count": 22,
   "id": "c9100d2b-935b-466b-a9e6-c9765dcd75be",
   "metadata": {},
   "outputs": [],
   "source": [
    "pH = 7\n",
    "\n",
    "if pH < 7:\n",
    "    print(\"Acidic solution\")\n",
    "elif pH > 7:\n",
    "    print(\"Basic solution\")\n",
    "else:\n",
    "    pass  # Placeholder for future neutral pH case"
   ]
  },
  {
   "cell_type": "code",
   "execution_count": 23,
   "id": "db9cda4a-85c5-46b7-85e1-04a86409c2ae",
   "metadata": {},
   "outputs": [
    {
     "name": "stdout",
     "output_type": "stream",
     "text": [
      "[0.0, 10.0, 25.0, 40.0]\n"
     ]
    }
   ],
   "source": [
    "# Using a For Loop\n",
    "temps_f = [32, 50, 77, 104]  # Fahrenheit temperatures\n",
    "temps_c = []  # Empty list for Celsius\n",
    "\n",
    "for temp in temps_f:\n",
    "    celsius = (temp - 32) * 5/9  # Convert to Celsius\n",
    "    temps_c.append(celsius)  # Append result to list\n",
    "\n",
    "print(temps_c)  # Output: [0.0, 10.0, 25.0, 40.0]"
   ]
  },
  {
   "cell_type": "code",
   "execution_count": 24,
   "id": "408ecac0-3e25-45e2-b615-233f144cb411",
   "metadata": {},
   "outputs": [
    {
     "name": "stdout",
     "output_type": "stream",
     "text": [
      "[0.0, 10.0, 25.0, 40.0]\n"
     ]
    }
   ],
   "source": [
    "# Using a list comprehension\n",
    "temps_f = [32, 50, 77, 104]\n",
    "temps_c = [(temp - 32) * 5/9 for temp in temps_f]\n",
    "print(temps_c)  # Output: [0.0, 10.0, 25.0, 40.0]"
   ]
  },
  {
   "cell_type": "code",
   "execution_count": 25,
   "id": "2c86dec0-99c6-4a2f-9c2e-12090c27f5bb",
   "metadata": {},
   "outputs": [
    {
     "name": "stdout",
     "output_type": "stream",
     "text": [
      "[0.0, 10.0, 25.0, 40.0]\n"
     ]
    }
   ],
   "source": [
    "temps_tuple = (32, 50, 77, 104)\n",
    "temps_c = [(temp - 32) * 5/9 for temp in temps_tuple]  # Creates a list from a tuple\n",
    "print(temps_c)"
   ]
  },
  {
   "cell_type": "code",
   "execution_count": 26,
   "id": "2d0cdea5-058a-466e-af14-15b0261b81fc",
   "metadata": {},
   "outputs": [
    {
     "name": "stdout",
     "output_type": "stream",
     "text": [
      "['H', 'He', 'Li']\n"
     ]
    }
   ],
   "source": [
    "element_atomic_numbers = {\"H\": 1, \"He\": 2, \"Li\": 3}\n",
    "elements = [key for key in element_atomic_numbers]  # Extracts keys as a list\n",
    "print(elements)  # Output: ['H', 'He', 'Li']"
   ]
  },
  {
   "cell_type": "code",
   "execution_count": 27,
   "id": "a0b64c55-8d38-431b-a715-61fb6acafb75",
   "metadata": {},
   "outputs": [
    {
     "name": "stdout",
     "output_type": "stream",
     "text": [
      "{0.0, 25.0, 10.0, 40.0}\n"
     ]
    }
   ],
   "source": [
    "temps_f = [32, 50, 77, 104, 50]  # Contains duplicate 50\n",
    "temps_c_set = {(temp - 32) * 5/9 for temp in temps_f}  # Creates a set (no duplicates)\n",
    "print(temps_c_set)  # Output: {0.0, 10.0, 25.0, 40.0}"
   ]
  },
  {
   "cell_type": "code",
   "execution_count": 28,
   "id": "c2007cef-40c6-46d7-a365-7a805b1118f2",
   "metadata": {},
   "outputs": [
    {
     "name": "stdout",
     "output_type": "stream",
     "text": [
      "[0.0, -73.33333333333333, 10.0, 25.0, 40.0]\n"
     ]
    }
   ],
   "source": [
    "temps_f = [32, -100, 50, 77, None, 104, \"error\"]\n",
    "temps_c = [(temp - 32) * 5/9 for temp in temps_f if isinstance(temp, (int, float))]\n",
    "print(temps_c)  # Ignores None and \"error\""
   ]
  },
  {
   "cell_type": "code",
   "execution_count": 29,
   "id": "9efd4ce1-2321-474a-9e7a-0bef8edad1e3",
   "metadata": {},
   "outputs": [
    {
     "name": "stdout",
     "output_type": "stream",
     "text": [
      "['Cold', 'Cold', 'Hot', 'Hot']\n"
     ]
    }
   ],
   "source": [
    "temps_f = [32, 50, 77, 104]\n",
    "categories = [\"Hot\" if temp > 75 else \"Cold\" for temp in temps_f]\n",
    "print(categories)  # Output: ['Cold', 'Cold', 'Hot', 'Hot']"
   ]
  }
 ],
 "metadata": {
  "kernelspec": {
   "display_name": "Python (py4sci)",
   "language": "python",
   "name": "py4sci"
  },
  "language_info": {
   "codemirror_mode": {
    "name": "ipython",
    "version": 3
   },
   "file_extension": ".py",
   "mimetype": "text/x-python",
   "name": "python",
   "nbconvert_exporter": "python",
   "pygments_lexer": "ipython3",
   "version": "3.10.17"
  }
 },
 "nbformat": 4,
 "nbformat_minor": 5
}