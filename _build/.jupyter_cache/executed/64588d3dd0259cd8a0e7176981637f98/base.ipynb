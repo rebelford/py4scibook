{
 "cells": [
  {
   "cell_type": "code",
   "execution_count": 1,
   "id": "68e593df-25ca-45f1-8649-fd3028384d56",
   "metadata": {},
   "outputs": [
    {
     "name": "stdout",
     "output_type": "stream",
     "text": [
      "Hello World\n"
     ]
    },
    {
     "data": {
      "text/plain": [
       "5"
      ]
     },
     "execution_count": 1,
     "metadata": {},
     "output_type": "execute_result"
    }
   ],
   "source": [
    "# A \"#\" makes a line a comment line and is not executed\n",
    "print(\"Hello World\") # We will discuss the print function when we get to the python chapter.\n",
    "2+2\n",
    "2+3"
   ]
  },
  {
   "cell_type": "code",
   "execution_count": 2,
   "id": "6c335042-1f01-408a-b246-c35efbe56ffd",
   "metadata": {},
   "outputs": [
    {
     "name": "stdout",
     "output_type": "stream",
     "text": [
      "Hello World\n",
      "4\n"
     ]
    },
    {
     "data": {
      "text/plain": [
       "5"
      ]
     },
     "execution_count": 2,
     "metadata": {},
     "output_type": "execute_result"
    }
   ],
   "source": [
    "# A \"#\" makes a line a comment line and is not executed\n",
    "print(\"Hello World\")\n",
    "print(2+2)\n",
    "2+3"
   ]
  },
  {
   "cell_type": "code",
   "execution_count": 3,
   "id": "7f217a89-917c-4878-9fcd-f73d86abfe15",
   "metadata": {},
   "outputs": [
    {
     "name": "stdout",
     "output_type": "stream",
     "text": [
      "CH₃(CH₂)(CH₂)(CH₂)(CH₂)NH₄⁺\n",
      "CH₃(CH₂)(CH₂)(CH₂)(CH₂)NH₄⁺\n"
     ]
    }
   ],
   "source": [
    "print(\"CH\\u2083\"+4*\"(CH\\u2082)\"+\"NH\\u2084\\u207A\")  # Using unicode character\n",
    "print(\"CH₃\"+4*\"(CH₂)\"+\"NH₄⁺\")  # Copying text that was already subscripted"
   ]
  },
  {
   "cell_type": "code",
   "execution_count": 4,
   "id": "a57454dc-a4f9-46f0-81bf-3cc287497bc1",
   "metadata": {},
   "outputs": [
    {
     "data": {
      "text/plain": [
       "'λ'"
      ]
     },
     "execution_count": 4,
     "metadata": {},
     "output_type": "execute_result"
    }
   ],
   "source": [
    "'\\u03BB'\n"
   ]
  },
  {
   "cell_type": "code",
   "execution_count": 5,
   "id": "02e998b9-0063-4eb4-a9bb-ef4964ba7d69",
   "metadata": {},
   "outputs": [],
   "source": [
    "# uncomment the following line and you will see an error when you run it\n",
    "#'\\u03BB' = 560 # nm"
   ]
  },
  {
   "cell_type": "code",
   "execution_count": 6,
   "id": "1ed87197-da36-4a27-a57f-ce6581e41a0d",
   "metadata": {},
   "outputs": [
    {
     "name": "stdout",
     "output_type": "stream",
     "text": [
      "λ is 560.\n",
      "λ is 560. \n",
      "h = λν\n"
     ]
    }
   ],
   "source": [
    "λ = 560 # nm \n",
    "print(f'λ is {λ}.') \n",
    "print(f'\\u03BB is {λ}. ') # this is using f-string formatting that we will cover later\n",
    "print('h = λν')"
   ]
  }
 ],
 "metadata": {
  "kernelspec": {
   "display_name": "Python (py4sci)",
   "language": "python",
   "name": "py4sci"
  },
  "language_info": {
   "codemirror_mode": {
    "name": "ipython",
    "version": 3
   },
   "file_extension": ".py",
   "mimetype": "text/x-python",
   "name": "python",
   "nbconvert_exporter": "python",
   "pygments_lexer": "ipython3",
   "version": "3.10.17"
  }
 },
 "nbformat": 4,
 "nbformat_minor": 5
}