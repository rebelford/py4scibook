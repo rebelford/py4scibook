{
 "cells": [
  {
   "cell_type": "code",
   "execution_count": 1,
   "id": "106bd05a-b78e-4e26-ab2b-d1f054a9242f",
   "metadata": {},
   "outputs": [
    {
     "name": "stdout",
     "output_type": "stream",
     "text": [
      "3.0\n",
      "<class 'int'>\n",
      "<class 'int'>\n",
      "<class 'float'>\n"
     ]
    }
   ],
   "source": [
    "''' Division return float values\n",
    "Here we use the equal sign to assign a value to the variable x \n",
    "and then pass it to the print function to print the value of x.'''\n",
    "\n",
    "x = 9/3\n",
    "print(x)\n",
    "print(type(9))\n",
    "print(type(3))\n",
    "print(type(x))"
   ]
  },
  {
   "cell_type": "code",
   "execution_count": 2,
   "id": "c6485f95-f790-45f3-bcda-cad348220a4d",
   "metadata": {},
   "outputs": [
    {
     "name": "stdout",
     "output_type": "stream",
     "text": [
      "x = 9/3 = 3.0,\n",
      "you an even operate on a variable, for example \n",
      "x/3 = 1.0 \n",
      "or print out the quotient type, which is <class 'float'>\n"
     ]
    }
   ],
   "source": [
    "# Division return float values\n",
    "#Here we use the f-string to format the output, where the variables are placed in {}.\n",
    "\n",
    "x = 9/3\n",
    "print(f\"x = 9/3 = {x},\\nyou an even operate on a variable, for example \\n\\\n",
    "x/3 = {x/3} \\nor print out the quotient type, which is {type(x)}\")"
   ]
  },
  {
   "cell_type": "code",
   "execution_count": 3,
   "id": "77fb1392-cac5-4e41-95fc-7b2d6c830ce6",
   "metadata": {},
   "outputs": [
    {
     "name": "stdout",
     "output_type": "stream",
     "text": [
      "9%3 = 0, for which the modulus (remainder) is <class 'int'>\n",
      "7%3 = 1, for which the modulus (remainder) is <class 'int'>\n"
     ]
    }
   ],
   "source": [
    "#The modulus (%) returns the remainder, which is an integer\n",
    "z = 9%3\n",
    "print(f\"9%3 = {z}, for which the modulus (remainder) is {type(z)}\")\n",
    "\n",
    "z = 7%3\n",
    "print(f\"7%3 = {z}, for which the modulus (remainder) is {type(z)}\")"
   ]
  },
  {
   "cell_type": "code",
   "execution_count": 4,
   "id": "5ff094f6-166a-4496-b4a7-1dfa31a9f22e",
   "metadata": {},
   "outputs": [
    {
     "name": "stdout",
     "output_type": "stream",
     "text": [
      "2*3 = 6\n",
      "for which the product is <class 'int'>\n",
      "\n",
      "2.0*3 = 6.0\n",
      "for which the product is <class 'float'>\n",
      "\n"
     ]
    }
   ],
   "source": [
    "# multiplication can give integers or floats\n",
    "a = 2*3\n",
    "print(f\"2*3 = {a}\\nfor which the product is {type(a)}\\n\")\n",
    "\n",
    "b = 2.0*3\n",
    "print(f\"2.0*3 = {b}\\nfor which the product is {type(b)}\\n\")"
   ]
  },
  {
   "cell_type": "code",
   "execution_count": 5,
   "id": "e6db2f48-81e2-4d6a-95dd-97ed76f65df8",
   "metadata": {},
   "outputs": [
    {
     "name": "stdout",
     "output_type": "stream",
     "text": [
      "2**3 = 8\n",
      "for which the result is <class 'int'>\n",
      "\n",
      "2.0**3 = 8.0\n",
      "for which the result is <class 'float'>\n",
      "\n",
      "2**3.0 = 8.0\n",
      "for which the result is <class 'float'>\n"
     ]
    }
   ],
   "source": [
    "# Exponentiation can give integers or floats\n",
    "c = 2**3\n",
    "print(f\"2**3 = {c}\\nfor which the result is {type(c)}\\n\")\n",
    "\n",
    "e = 2.0**3\n",
    "print(f\"2.0**3 = {e}\\nfor which the result is {type(e)}\\n\")\n",
    "\n",
    "f = 2**3.0\n",
    "print(f\"2**3.0 = {f}\\nfor which the result is {type(f)}\")"
   ]
  },
  {
   "cell_type": "code",
   "execution_count": 6,
   "id": "707c02e5-2157-4866-b784-2bd16a6c004a",
   "metadata": {},
   "outputs": [
    {
     "name": "stdout",
     "output_type": "stream",
     "text": [
      "7.0\n",
      "7.0\n",
      "7.0\n"
     ]
    }
   ],
   "source": [
    "import math\n",
    "pH = -math.log10(1e-7)\n",
    "print(pH)\n",
    "pH = -math.log10(1E-7)\n",
    "print(pH)\n",
    "pH = -math.log10(10**-7)\n",
    "print(pH)"
   ]
  },
  {
   "cell_type": "code",
   "execution_count": 7,
   "id": "f0fad728-1d24-4728-a9c4-5cd5dc333af2",
   "metadata": {},
   "outputs": [
    {
     "name": "stdout",
     "output_type": "stream",
     "text": [
      "4.0\n"
     ]
    }
   ],
   "source": [
    "c_base=.1\n",
    "c_acid=.1\n",
    "K_a=0.0001\n",
    "# Uncomment the following three lines\n",
    "#c_base=float(input(\"Enter the concentration of conjugate base\"))\n",
    "#c_acid=float(input(\"Enter the concentration of the acid\"))\n",
    "#K_a = float(input(\"Enter acid dissociation constant\"))\n",
    "pH = -math.log10(K_a) + math.log10(c_base/c_acid) \n",
    "print(pH)"
   ]
  },
  {
   "cell_type": "code",
   "execution_count": 8,
   "id": "9d800b01-4e4d-41de-b8e2-5508d3f82141",
   "metadata": {},
   "outputs": [
    {
     "name": "stdout",
     "output_type": "stream",
     "text": [
      "3.141592653589793\n",
      "3.141592653589793\n",
      "1.0\n",
      "1.0\n"
     ]
    }
   ],
   "source": [
    "\n",
    "import math\n",
    "print(math.pi)\n",
    "print(math.radians(180))\n",
    "print(math.sin(math.pi/2))\n",
    "print(math.sin(math.radians(90)))"
   ]
  },
  {
   "cell_type": "code",
   "execution_count": 9,
   "id": "2f2f0214-ac98-4285-adc2-34089a232dd6",
   "metadata": {},
   "outputs": [
    {
     "name": "stdout",
     "output_type": "stream",
     "text": [
      "The sin of 90 degrees is 1.0\n",
      "The cos of 90 degrees is 6.123233995736766e-17 which is <class 'float'>\n"
     ]
    }
   ],
   "source": [
    "import math as m\n",
    "sin_90 = m.sin(m.pi/2)\n",
    "cos_90 = m.cos(m.pi/2)\n",
    "print(f\"The sin of 90 degrees is {sin_90}\")\n",
    "print(f\"The cos of 90 degrees is {cos_90} which is {type(cos_90)}\")"
   ]
  },
  {
   "cell_type": "code",
   "execution_count": 10,
   "id": "999d1bdd-7c75-4236-a4b7-614896996eb3",
   "metadata": {},
   "outputs": [
    {
     "name": "stdout",
     "output_type": "stream",
     "text": [
      "0\n",
      "<class 'int'>\n"
     ]
    }
   ],
   "source": [
    "import math as m\n",
    "def cos_fct(angle):\n",
    "    result = m.cos(angle)\n",
    "    return 0 if abs(result) < 1e-14 else result\n",
    "\n",
    "a= cos_fct(math.pi/2)  # Output: 0\n",
    "print(a)\n",
    "print(type(a))"
   ]
  },
  {
   "cell_type": "code",
   "execution_count": 11,
   "id": "8c0d08c6-9649-46dd-8662-3276a71ecf70",
   "metadata": {},
   "outputs": [
    {
     "name": "stdout",
     "output_type": "stream",
     "text": [
      "0.0\n",
      "<class 'float'>\n"
     ]
    }
   ],
   "source": [
    "def fcos_fct(angle):\n",
    "    result = m.cos(angle)\n",
    "    return 0.0 if abs(result) < 1e-14 else result\n",
    "\n",
    "a= fcos_fct(math.pi/2)  # Output: 0\n",
    "print(a)\n",
    "print(type(a))"
   ]
  },
  {
   "cell_type": "code",
   "execution_count": 12,
   "id": "05087689-f459-4e23-86b4-386ef9ed9102",
   "metadata": {},
   "outputs": [
    {
     "name": "stdout",
     "output_type": "stream",
     "text": [
      "0\n",
      "<class 'sympy.core.numbers.Zero'>\n"
     ]
    }
   ],
   "source": [
    "import sympy\n",
    "\n",
    "angle = sympy.pi/2\n",
    "result = sympy.cos(angle)\n",
    "print(result)\n",
    "print(type(result))"
   ]
  },
  {
   "cell_type": "code",
   "execution_count": 13,
   "id": "1adc604f-e23b-4649-8989-373e7e4e140a",
   "metadata": {},
   "outputs": [
    {
     "name": "stdout",
     "output_type": "stream",
     "text": [
      "2.30000000000000\n",
      "<class 'sympy.core.numbers.Float'>\n"
     ]
    }
   ],
   "source": [
    "new_result = result+2.3\n",
    "print(new_result)\n",
    "print(type(new_result))"
   ]
  },
  {
   "cell_type": "code",
   "execution_count": 14,
   "id": "0dd1f196-710f-4ab6-8946-c95fe8168fc3",
   "metadata": {},
   "outputs": [
    {
     "name": "stdout",
     "output_type": "stream",
     "text": [
      "0.0\n",
      "<class 'float'>\n",
      "2.3\n",
      "<class 'float'>\n"
     ]
    }
   ],
   "source": [
    "as_float=float(result)\n",
    "print(as_float)\n",
    "print(type(as_float))\n",
    "print(as_float + 2.3)\n",
    "print(type(as_float + 2.3))"
   ]
  },
  {
   "cell_type": "code",
   "execution_count": 15,
   "id": "44c96bea-470b-4777-834f-d151e11148ff",
   "metadata": {},
   "outputs": [
    {
     "name": "stdout",
     "output_type": "stream",
     "text": [
      "['False', 'None', 'True', 'and', 'as', 'assert', 'async', 'await', 'break', 'class', 'continue', 'def', 'del', 'elif', 'else', 'except', 'finally', 'for', 'from', 'global', 'if', 'import', 'in', 'is', 'lambda', 'nonlocal', 'not', 'or', 'pass', 'raise', 'return', 'try', 'while', 'with', 'yield']\n"
     ]
    }
   ],
   "source": [
    "# to generate the reserved keywords from the keyword module\n",
    "import keyword\n",
    "print(keyword.kwlist)  # List of reserved keywords\n"
   ]
  },
  {
   "cell_type": "code",
   "execution_count": 16,
   "id": "dfae1da3-8cf3-4965-9a8d-4b51778a087e",
   "metadata": {},
   "outputs": [
    {
     "name": "stdout",
     "output_type": "stream",
     "text": [
      "['ArithmeticError', 'AssertionError', 'AttributeError', 'BaseException', 'BlockingIOError', 'BrokenPipeError', 'BufferError', 'BytesWarning', 'ChildProcessError', 'ConnectionAbortedError', 'ConnectionError', 'ConnectionRefusedError', 'ConnectionResetError', 'DeprecationWarning', 'EOFError', 'EncodingWarning', 'EnvironmentError', 'Exception', 'FileExistsError', 'FileNotFoundError', 'FloatingPointError', 'FutureWarning', 'GeneratorExit', 'IOError', 'ImportError', 'ImportWarning', 'IndentationError', 'IndexError', 'InterruptedError', 'IsADirectoryError', 'KeyError', 'KeyboardInterrupt', 'LookupError', 'MemoryError', 'ModuleNotFoundError', 'NameError', 'NotADirectoryError', 'NotImplementedError', 'OSError', 'OverflowError', 'PendingDeprecationWarning', 'PermissionError', 'ProcessLookupError', 'RecursionError', 'ReferenceError', 'ResourceWarning', 'RuntimeError', 'RuntimeWarning', 'StopAsyncIteration', 'StopIteration', 'SyntaxError', 'SyntaxWarning', 'SystemError', 'SystemExit', 'TabError', 'TimeoutError', 'TypeError', 'UnboundLocalError', 'UnicodeDecodeError', 'UnicodeEncodeError', 'UnicodeError', 'UnicodeTranslateError', 'UnicodeWarning', 'UserWarning', 'ValueError', 'Warning', 'ZeroDivisionError', '__build_class__', '__import__', '__loader__', 'abs', 'aiter', 'all', 'anext', 'any', 'ascii', 'bin', 'bool', 'breakpoint', 'bytearray', 'bytes', 'callable', 'chr', 'classmethod', 'compile', 'complex', 'copyright', 'credits', 'delattr', 'dict', 'dir', 'display', 'divmod', 'enumerate', 'eval', 'exec', 'execfile', 'filter', 'float', 'format', 'frozenset', 'get_ipython', 'getattr', 'globals', 'hasattr', 'hash', 'help', 'hex', 'id', 'input', 'int', 'isinstance', 'issubclass', 'iter', 'len', 'license', 'list', 'locals', 'map', 'max', 'memoryview', 'min', 'next', 'object', 'oct', 'open', 'ord', 'pow', 'print', 'property', 'range', 'repr', 'reversed', 'round', 'runfile', 'set', 'setattr', 'slice', 'sorted', 'staticmethod', 'str', 'sum', 'super', 'tuple', 'type', 'vars', 'zip']\n"
     ]
    }
   ],
   "source": [
    "# to generate a python list of builtin names\n",
    "import builtins\n",
    "\n",
    "# Get all built-in functions\n",
    "builtin_functions = [name for name in dir(builtins) if callable(getattr(builtins, name))]\n",
    "\n",
    "print(builtin_functions)\n"
   ]
  },
  {
   "cell_type": "code",
   "execution_count": 17,
   "id": "6ee6f28f-8562-4abd-b0d7-3e93030b38a1",
   "metadata": {
    "scrolled": true
   },
   "outputs": [
    {
     "name": "stdout",
     "output_type": "stream",
     "text": [
      "Reserved words that cannot be used as variable names:\n",
      "--------------------------------------------------\n",
      "ArithmeticError\n",
      "AssertionError\n",
      "AttributeError\n",
      "BaseException\n",
      "BlockingIOError\n",
      "BrokenPipeError\n",
      "BufferError\n",
      "BytesWarning\n",
      "ChildProcessError\n",
      "ConnectionAbortedError\n",
      "ConnectionError\n",
      "ConnectionRefusedError\n",
      "ConnectionResetError\n",
      "DeprecationWarning\n",
      "EOFError\n",
      "Ellipsis\n",
      "EncodingWarning\n",
      "EnvironmentError\n",
      "Exception\n",
      "False\n",
      "FileExistsError\n",
      "FileNotFoundError\n",
      "FloatingPointError\n",
      "FutureWarning\n",
      "GeneratorExit\n",
      "IOError\n",
      "ImportError\n",
      "ImportWarning\n",
      "IndentationError\n",
      "IndexError\n",
      "InterruptedError\n",
      "IsADirectoryError\n",
      "KeyError\n",
      "KeyboardInterrupt\n",
      "LookupError\n",
      "MemoryError\n",
      "ModuleNotFoundError\n",
      "NameError\n",
      "None\n",
      "NotADirectoryError\n",
      "NotImplemented\n",
      "NotImplementedError\n",
      "OSError\n",
      "OverflowError\n",
      "PendingDeprecationWarning\n",
      "PermissionError\n",
      "ProcessLookupError\n",
      "RecursionError\n",
      "ReferenceError\n",
      "ResourceWarning\n",
      "RuntimeError\n",
      "RuntimeWarning\n",
      "StopAsyncIteration\n",
      "StopIteration\n",
      "SyntaxError\n",
      "SyntaxWarning\n",
      "SystemError\n",
      "SystemExit\n",
      "TabError\n",
      "TimeoutError\n",
      "True\n",
      "TypeError\n",
      "UnboundLocalError\n",
      "UnicodeDecodeError\n",
      "UnicodeEncodeError\n",
      "UnicodeError\n",
      "UnicodeTranslateError\n",
      "UnicodeWarning\n",
      "UserWarning\n",
      "ValueError\n",
      "Warning\n",
      "ZeroDivisionError\n",
      "abs\n",
      "aiter\n",
      "all\n",
      "and\n",
      "anext\n",
      "any\n",
      "as\n",
      "ascii\n",
      "assert\n",
      "async\n",
      "await\n",
      "bin\n",
      "bool\n",
      "break\n",
      "breakpoint\n",
      "bytearray\n",
      "bytes\n",
      "callable\n",
      "chr\n",
      "class\n",
      "classmethod\n",
      "compile\n",
      "complex\n",
      "continue\n",
      "copyright\n",
      "credits\n",
      "def\n",
      "del\n",
      "delattr\n",
      "dict\n",
      "dir\n",
      "display\n",
      "divmod\n",
      "elif\n",
      "else\n",
      "enumerate\n",
      "eval\n",
      "except\n",
      "exec\n",
      "execfile\n",
      "filter\n",
      "finally\n",
      "float\n",
      "for\n",
      "format\n",
      "from\n",
      "frozenset\n",
      "get_ipython\n",
      "getattr\n",
      "global\n",
      "globals\n",
      "hasattr\n",
      "hash\n",
      "help\n",
      "hex\n",
      "id\n",
      "if\n",
      "import\n",
      "in\n",
      "input\n",
      "int\n",
      "is\n",
      "isinstance\n",
      "issubclass\n",
      "iter\n",
      "lambda\n",
      "len\n",
      "license\n",
      "list\n",
      "locals\n",
      "map\n",
      "max\n",
      "memoryview\n",
      "min\n",
      "next\n",
      "nonlocal\n",
      "not\n",
      "object\n",
      "oct\n",
      "open\n",
      "or\n",
      "ord\n",
      "pass\n",
      "pow\n",
      "print\n",
      "property\n",
      "raise\n",
      "range\n",
      "repr\n",
      "return\n",
      "reversed\n",
      "round\n",
      "runfile\n",
      "set\n",
      "setattr\n",
      "slice\n",
      "sorted\n",
      "staticmethod\n",
      "str\n",
      "sum\n",
      "super\n",
      "try\n",
      "tuple\n",
      "type\n",
      "vars\n",
      "while\n",
      "with\n",
      "yield\n",
      "zip\n"
     ]
    }
   ],
   "source": [
    "import keyword\n",
    "import builtins\n",
    "\n",
    "# Get all Python keywords\n",
    "python_keywords = keyword.kwlist\n",
    "\n",
    "# Get all built-in functions and objects\n",
    "builtin_names = dir(builtins)\n",
    "\n",
    "# Filter out private builtins (those starting with '_')\n",
    "builtin_names = [name for name in builtin_names if not name.startswith('_')]\n",
    "\n",
    "# Combine both lists\n",
    "reserved_words = sorted(set(python_keywords + builtin_names))\n",
    "\n",
    "print(\"Reserved words that cannot be used as variable names:\")\n",
    "print(\"--------------------------------------------------\")\n",
    "for word in reserved_words:\n",
    "    print(word)"
   ]
  }
 ],
 "metadata": {
  "kernelspec": {
   "display_name": "Python (py4sci)",
   "language": "python",
   "name": "py4sci"
  },
  "language_info": {
   "codemirror_mode": {
    "name": "ipython",
    "version": 3
   },
   "file_extension": ".py",
   "mimetype": "text/x-python",
   "name": "python",
   "nbconvert_exporter": "python",
   "pygments_lexer": "ipython3",
   "version": "3.10.17"
  }
 },
 "nbformat": 4,
 "nbformat_minor": 5
}